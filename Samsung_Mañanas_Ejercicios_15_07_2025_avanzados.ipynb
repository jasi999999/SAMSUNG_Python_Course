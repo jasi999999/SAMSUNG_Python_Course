{
 "cells": [
  {
   "cell_type": "markdown",
   "metadata": {},
   "source": [
    "# Programación efectiva (Capítulo 3) - Ejercicios difíciles"
   ]
  },
  {
   "cell_type": "markdown",
   "metadata": {},
   "source": [
    "## Sección 1: Funciones"
   ]
  },
  {
   "cell_type": "markdown",
   "metadata": {},
   "source": [
    "**Ejercicio 1:**\n",
    "Escribe una función llamada `mezclar_listas` que reciba dos listas de igual longitud y devuelva una nueva lista intercalando los elementos de ambas listas.\n",
    "\n",
    "Casos de prueba:\n",
    "```python\n",
    "mezclar_listas([1, 3, 5], [2, 4, 6]))       ==> [1, 2, 3, 4, 5, 6]\n",
    "mezclar_listas([4, 2, 1, 8], [3, 5, 9, 6])  ==> [4, 3, 2, 5, 1, 9, 8, 6]\n",
    "print(mezclar_listas([6], [1]))             ==> [6, 1]\n",
    "```"
   ]
  },
  {
   "cell_type": "code",
   "execution_count": 11,
   "metadata": {},
   "outputs": [
    {
     "name": "stdout",
     "output_type": "stream",
     "text": [
      "[1, 2, 3, 4, 5, 6]\n",
      "[4, 3, 2, 5, 1, 9, 8, 6]\n",
      "[6, 1]\n",
      "\n",
      "[1, 2, 3, 4, 5, 6]\n",
      "[4, 3, 2, 5, 1, 9, 8, 6]\n",
      "[6, 1]\n",
      "\n",
      "[1, 2, 3, 4, 5, 6]\n",
      "[4, 3, 2, 5, 1, 9, 8, 6]\n",
      "[6, 1]\n"
     ]
    }
   ],
   "source": [
    "def mezclar_listas(l1: list, l2: list) -> list:\n",
    "    res = []\n",
    "    for i in range(len(l1)):\n",
    "        res.append(l1[i])\n",
    "        res.append(l2[i])\n",
    "    return res\n",
    "\n",
    "print(mezclar_listas([1, 3, 5], [2, 4, 6]))\n",
    "print(mezclar_listas([4, 2, 1, 8], [3, 5, 9, 6]))\n",
    "print(mezclar_listas([6], [1]), end='\\n\\n')\n",
    "\n",
    "def mezclar_listas(l1: list, l2: list) -> list:\n",
    "    res = []\n",
    "    for x, y in zip(l1, l2):\n",
    "        res.append(x)\n",
    "        res.append(y)\n",
    "    return res\n",
    "\n",
    "print(mezclar_listas([1, 3, 5], [2, 4, 6]))\n",
    "print(mezclar_listas([4, 2, 1, 8], [3, 5, 9, 6]))\n",
    "print(mezclar_listas([6], [1]), end='\\n\\n')\n",
    "\n",
    "def mezclar_listas(l1: list, l2: list) -> list:\n",
    "    return [elemento for par in zip(l1, l2) for elemento in par]\n",
    "\n",
    "print(mezclar_listas([1, 3, 5], [2, 4, 6]))\n",
    "print(mezclar_listas([4, 2, 1, 8], [3, 5, 9, 6]))\n",
    "print(mezclar_listas([6], [1]))"
   ]
  },
  {
   "cell_type": "markdown",
   "metadata": {},
   "source": [
    "**Ejercicio 2:**\n",
    "Escribe una función llamada `contar_palabras` que reciba una cadena y devuelva un diccionario con la frecuencia de cada palabra en la cadena.\n",
    "\n",
    "Casos de prueba:\n",
    "```python\n",
    "contar_palabras(\"hola mundo hola\"))                       ==> {'hola': 2, 'mundo': 1}\n",
    "print(contar_palabras(\"\"))                                ==> {}\n",
    "print(contar_palabras(\"esto y lo otro y lo de más allá\")) ==> {'esto': 1, 'y': 2, 'lo': 2, 'otro': 1, 'de': 1, 'más': 1, 'allá': 1}\n",
    "```"
   ]
  },
  {
   "cell_type": "code",
   "execution_count": 10,
   "metadata": {},
   "outputs": [
    {
     "name": "stdout",
     "output_type": "stream",
     "text": [
      "{'hola': 2, 'mundo': 1}\n",
      "{}\n",
      "{'esto': 1, 'y': 2, 'lo': 2, 'otro': 1, 'de': 1, 'más': 1, 'allá': 1}\n",
      "\n",
      "defaultdict(<class 'int'>, {'hola': 2, 'mundo': 1})\n",
      "defaultdict(<class 'int'>, {})\n",
      "defaultdict(<class 'int'>, {'esto': 1, 'y': 2, 'lo': 2, 'otro': 1, 'de': 1, 'más': 1, 'allá': 1})\n",
      "\n",
      "{'hola': 2, 'mundo': 1}\n",
      "{}\n",
      "{'esto': 1, 'y': 2, 'lo': 2, 'otro': 1, 'de': 1, 'más': 1, 'allá': 1}\n"
     ]
    }
   ],
   "source": [
    "def contar_palabras(s: str) -> dict:\n",
    "    d = {}\n",
    "    for word in s.split():\n",
    "        d[word] = d.get(word, 0) + 1\n",
    "    return d\n",
    "\n",
    "print(contar_palabras(\"hola mundo hola\"))\n",
    "print(contar_palabras(\"\"))\n",
    "print(contar_palabras(\"esto y lo otro y lo de más allá\"), end='\\n\\n')\n",
    "\n",
    "from collections import defaultdict\n",
    "\n",
    "def contar_palabras(s: str) -> dict:\n",
    "    d = defaultdict(int)\n",
    "    for word in s.split():\n",
    "        d[word] += 1\n",
    "    return d\n",
    "\n",
    "print(contar_palabras(\"hola mundo hola\"))\n",
    "print(contar_palabras(\"\"))\n",
    "print(contar_palabras(\"esto y lo otro y lo de más allá\"), end='\\n\\n')\n",
    "\n",
    "from collections import Counter\n",
    "\n",
    "def contar_palabras(s: str) -> dict:\n",
    "    return dict(Counter(s.split()))\n",
    "\n",
    "print(contar_palabras(\"hola mundo hola\"))\n",
    "print(contar_palabras(\"\"))\n",
    "print(contar_palabras(\"esto y lo otro y lo de más allá\"))"
   ]
  },
  {
   "cell_type": "markdown",
   "metadata": {},
   "source": [
    "**Ejercicio 3:**\n",
    "Escribe una función llamada `ordenar_diccionario` que reciba un diccionario y lo devuelva ordenado crecientemente por sus valores.\n",
    "\n",
    "Casos de prueba:\n",
    "```python\n",
    "ordenar_diccionario({'a': 3, 'b': 1, 'c': 2}))  ==> {'b': 1, 'c': 2, 'a': 3}\n",
    "ordenar_diccionario({1: 'm', 2: 'z', 3 : 'd'})  ==> {3: 'd', 1: 'm', 2: 'z'}\n",
    "```"
   ]
  },
  {
   "cell_type": "code",
   "execution_count": 7,
   "metadata": {},
   "outputs": [
    {
     "name": "stdout",
     "output_type": "stream",
     "text": [
      "{'b': 1, 'c': 2, 'a': 3}\n",
      "{3: 'd', 1: 'm', 2: 'z'}\n"
     ]
    }
   ],
   "source": [
    "def ordenar_diccionario(d: dict) -> dict:\n",
    "    return dict(sorted(d.items(), key=lambda item: item[1]))\n",
    "\n",
    "print(ordenar_diccionario({'a': 3, 'b': 1, 'c': 2}))\n",
    "print(ordenar_diccionario({1: 'm', 2: 'z', 3 : 'd'}))"
   ]
  },
  {
   "cell_type": "markdown",
   "metadata": {},
   "source": [
    "**Ejercicio 4:**\n",
    "Escribe una función llamada `comprimir` que implemente la denominada compresión RLE (Run Length Encoding) para una cadena de caracteres.\n",
    "\n",
    "**Nota:** La compresión RLE (Run Length Encoding), o codificación por longitud de carrera, es un método simple de compresión de datos que es eficiente para datos que contienen muchas secuencias repetitivas. El método RLE comprime los datos almacenando las secuencias repetitivas como un solo valor y una cuenta de cuántas veces se repite ese valor.\n",
    "\n",
    "Por ejemplo:\n",
    "```\n",
    "AAAAABBBCCCCCCDDDD ==> 5A3B6C4D\n",
    "```\n",
    "* 5A indica que la letra A se repite 5 veces.\n",
    "* 3B indica que la letra B se repite 3 veces.\n",
    "* 6C indica que la letra C se repite 6 veces.\n",
    "* 4D indica que la letra D se repite 4 veces.\n",
    "\n",
    "Casos de prueba:\n",
    "```python\n",
    "comprimir(\"aaabbcccc\")     ==> \"a3b2c4\"\n",
    "comprimir(\"beeerrsbbaaac\") ==> \"b1e3r2s1b2a3c1\"\n",
    "comprimir(\"xyz\")           ==> \"x1y1z1\"\n",
    "comprimir(\"\")              ==> \"\"\n",
    "```"
   ]
  },
  {
   "cell_type": "code",
   "execution_count": 8,
   "metadata": {},
   "outputs": [
    {
     "name": "stdout",
     "output_type": "stream",
     "text": [
      "a3b2c4\n",
      "b1e3r2s1b2a3c1\n",
      "x1y1z1\n",
      "\n",
      "\n",
      "a2b4c8\n",
      "c0e3r5r6b8a11a12\n",
      "z0x1y2\n",
      "\n",
      "\n"
     ]
    }
   ],
   "source": [
    "def comprimir(s: str) -> str:\n",
    "    if s == '':\n",
    "        return '' \n",
    "    prev = s[0]\n",
    "    count = 1\n",
    "    res = ''\n",
    "    for a in s[1:]:\n",
    "        if a != prev:\n",
    "            res += prev + str(count)\n",
    "            prev = a\n",
    "            count = 1\n",
    "        else:\n",
    "            count += 1\n",
    "    res += prev + str(count)\n",
    "    return res\n",
    "\n",
    "print(comprimir(\"aaabbcccc\"))\n",
    "print(comprimir(\"beeerrsbbaaac\"))\n",
    "print(comprimir(\"xyz\"))\n",
    "print(comprimir(\"\"), end='\\n\\n')\n",
    "\n",
    "def comprimir(s: str) -> str:\n",
    "    i = 0\n",
    "    res = ''\n",
    "    while i < len(s):\n",
    "        count = 1\n",
    "        while i + 1 < len(s) and s[i] == s[i + 1]:\n",
    "            count += 1\n",
    "            i += 1\n",
    "        res += s[i - 1] + str(i)\n",
    "        i += 1\n",
    "    return res\n",
    "\n",
    "print(comprimir(\"aaabbcccc\"))\n",
    "print(comprimir(\"beeerrsbbaaac\"))\n",
    "print(comprimir(\"xyz\"))\n",
    "print(comprimir(\"\"), end='\\n\\n')"
   ]
  },
  {
   "cell_type": "markdown",
   "metadata": {},
   "source": [
    "**Ejercicio 5:**\n",
    "Escribe una función llamada `expandir` que decodifique una cadena comprimida usando RLE, es decir, que dada una cadena ya comprimida con esta estrategia, obtenga la cadena original.\n",
    "\n",
    "Casos de prueba:\n",
    "```python\n",
    "expandir(\"a3b2c4\")     ==> \"aaabbcccc\"\n",
    "expandir(\"s3f17n5\")    ==> \"sssfffffffffffffffffnnnnn\"\n",
    "expandir(\"a4g2d8t3\")   ==> \"aaaaggddddddddttt\"\n",
    "expandir(\"a1\")         ==> \"a\"\n",
    "```"
   ]
  },
  {
   "cell_type": "code",
   "execution_count": 7,
   "metadata": {},
   "outputs": [
    {
     "name": "stdout",
     "output_type": "stream",
     "text": [
      "aaabbcccc\n",
      "sssfffffffffffffffffnnnnn\n",
      "aaaaggddddddddttt\n",
      "a\n",
      "\n",
      "aaabbcccc\n",
      "sssfffffffffffffffffnnnnn\n",
      "aaaaggddddddddttt\n",
      "a\n"
     ]
    }
   ],
   "source": [
    "def expandir(s: str) -> str:\n",
    "    res = ''\n",
    "    num = '1234567890'\n",
    "    curr_num = ''\n",
    "    for a in s:\n",
    "        if a in num:\n",
    "            curr_num += a\n",
    "        else:\n",
    "            if curr_num == '':\n",
    "                let = a\n",
    "            else:\n",
    "                res += let * int(curr_num)\n",
    "                let = a\n",
    "                curr_num = ''\n",
    "\n",
    "    res += let * int(curr_num)\n",
    "    return res\n",
    "\n",
    "print(expandir(\"a3b2c4\"))\n",
    "print(expandir(\"s3f17n5\"))\n",
    "print(expandir(\"a4g2d8t3\"))\n",
    "print(expandir(\"a1\"), end='\\n\\n')\n",
    "\n",
    "def expandir(s: str) -> str:\n",
    "    res = ''\n",
    "    i = 0\n",
    "    while i < len(s):\n",
    "        c = s[i]\n",
    "        count = ''\n",
    "        i += 1\n",
    "        while i < len(s) and s[i].isdigit():\n",
    "            count += s[i]\n",
    "            i += 1\n",
    "        res += c * int(count)\n",
    "    return res\n",
    "\n",
    "print(expandir(\"a3b2c4\"))\n",
    "print(expandir(\"s3f17n5\"))\n",
    "print(expandir(\"a4g2d8t3\"))\n",
    "print(expandir(\"a1\"))"
   ]
  },
  {
   "cell_type": "markdown",
   "metadata": {},
   "source": [
    "## Sección 2: Funciones Recursivas"
   ]
  },
  {
   "cell_type": "markdown",
   "metadata": {},
   "source": [
    "**Ejercicio 6:**\n",
    "Escribe una función recursiva llamada `sumar_digitos` que reciba un número y devuelva la suma de sus dígitos.\n",
    "\n",
    "Casos de prueba:\n",
    "```python\n",
    "sumar_digitos(1234)    ==> 10\n",
    "sumar_digitos(4292323) ==> 25\n",
    "sumar_digitos(0)       ==> 0\n",
    "\n",
    "```"
   ]
  },
  {
   "cell_type": "code",
   "execution_count": 12,
   "metadata": {},
   "outputs": [
    {
     "name": "stdout",
     "output_type": "stream",
     "text": [
      "10\n",
      "25\n",
      "0\n"
     ]
    }
   ],
   "source": [
    "def sumar_digitos(i: int) -> int:\n",
    "    if i < 10:\n",
    "        return i\n",
    "    else:\n",
    "        return i % 10 + sumar_digitos(i // 10)\n",
    "\n",
    "print(sumar_digitos(1234))\n",
    "print(sumar_digitos(4292323))\n",
    "print(sumar_digitos(0))"
   ]
  },
  {
   "cell_type": "markdown",
   "metadata": {},
   "source": [
    "**Ejercicio 7:**\n",
    "Escribe una función recursiva llamada `mcd` que reciba dos números y devuelva su máximo común divisor.\n",
    "\n",
    "**Nota:** El máximo común divisor (MCD) de dos números es el mayor número que divide a ambos sin dejar residuo. Uno de los métodos más eficientes para calcular el MCD es el algoritmo de Euclides, que se puede implementar de manera recursiva.\n",
    "\n",
    "*Algoritmo de Euclides*: \n",
    "El algoritmo de Euclides se basa en la siguiente observación: el MCD de dos números a y b es el mismo que el MCD de b y a % b (donde % es el operador de módulo que da el resto de la división de a por b). Este proceso se repite hasta que b se convierte en 0. En ese punto, el MCD es a.\n",
    "\n",
    "*Pasos del algoritmo*\n",
    "1. Si b es 0, entonces el MCD es a.\n",
    "1. Si b no es 0, calcula el MCD de b y a % b.\n",
    "\n",
    "Casos de prueba:\n",
    "```python\n",
    "mcd(48, 18)   ==> 6\n",
    "mcd(76, 24)   ==> 4\n",
    "mcd(100, 50)  ==> 50\n",
    "mcd(39, 17)   ==> 1\n",
    "```"
   ]
  },
  {
   "cell_type": "code",
   "execution_count": 18,
   "metadata": {},
   "outputs": [
    {
     "name": "stdout",
     "output_type": "stream",
     "text": [
      "6\n",
      "4\n",
      "50\n",
      "1\n"
     ]
    }
   ],
   "source": [
    "def mcd(a: int, b: int) -> int:\n",
    "    if a % b == 0 or b == 0:\n",
    "        return b\n",
    "    else:\n",
    "        return mcd(b, a % b)\n",
    "\n",
    "print(mcd(48, 18))\n",
    "print(mcd(76, 24))\n",
    "print(mcd(100, 50))\n",
    "print(mcd(39, 17))"
   ]
  },
  {
   "cell_type": "markdown",
   "metadata": {},
   "source": [
    "**Ejercicio 8:**\n",
    "Escribe una función recursiva llamada `decimal_a_binario` que reciba un número decimal y lo convierta a binario. La función debe devolver un cadena de caracteres que representa dicho número en código binario.\n",
    "\n",
    "Para convertir un número decimal a binario de forma recursiva, seguiremos estos pasos:\n",
    "\n",
    "1. Dividir el número decimal entre 2 y obtener el cociente y el resto.\n",
    "1. El resto será el bit menos significativo (el bit más a la derecha) del número binario.\n",
    "1. Continuar dividiendo el cociente entre 2 de forma recursiva hasta que el cociente sea 0.\n",
    "1. Al reunir todos los residuos en orden inverso se obtiene el número binario.\n",
    "\n",
    "Casos de prueba:\n",
    "```python\n",
    "decimal_a_binario(10)   ==> \"1010\"\n",
    "decimal_a_binario(1)    ==> \"1\"\n",
    "decimal_a_binario(0)    ==> \"0\"\n",
    "decimal_a_binario(7)    ==> \"111\"\n",
    "decimal_a_binario(128)  ==> \"10000000\"\n",
    "```"
   ]
  },
  {
   "cell_type": "code",
   "execution_count": 21,
   "metadata": {},
   "outputs": [
    {
     "name": "stdout",
     "output_type": "stream",
     "text": [
      "1010\n",
      "1\n",
      "0\n",
      "111\n",
      "10000000\n"
     ]
    }
   ],
   "source": [
    "def decimal_a_binario(i: int) -> str:\n",
    "    if i == 0:\n",
    "        return '0'\n",
    "    if i == 1:\n",
    "        return '1'\n",
    "    else:\n",
    "        return decimal_a_binario(i // 2) + str(i % 2)\n",
    "\n",
    "print(decimal_a_binario(10))\n",
    "print(decimal_a_binario(1))\n",
    "print(decimal_a_binario(0))\n",
    "print(decimal_a_binario(7))\n",
    "print(decimal_a_binario(128))"
   ]
  },
  {
   "cell_type": "markdown",
   "metadata": {},
   "source": [
    "**Ejercicio 9:**\n",
    "Escribe una función recursiva llamada `potencia` que reciba dos números, base y exponente, y devuelva la base elevada al exponente.\n",
    "\n",
    "Casos de prueba:\n",
    "```python\n",
    "potencia(2, 3)   ==> 8\n",
    "potencia(5, 0)   ==> 1\n",
    "potencia(7, 1)   ==> 7\n",
    "potencia(10, 3)  ==> 1000\n",
    "```"
   ]
  },
  {
   "cell_type": "code",
   "execution_count": 25,
   "metadata": {},
   "outputs": [
    {
     "name": "stdout",
     "output_type": "stream",
     "text": [
      "8\n",
      "1\n",
      "7\n",
      "1000\n"
     ]
    }
   ],
   "source": [
    "def potencia(base: int, exponente: int) -> int:\n",
    "    if exponente == 0:\n",
    "        return 1\n",
    "    if exponente == 1:\n",
    "        return base\n",
    "    else:\n",
    "        return base * potencia(base, exponente - 1)\n",
    "\n",
    "print(potencia(2, 3))\n",
    "print(potencia(5, 0))\n",
    "print(potencia(7, 1))\n",
    "print(potencia(10, 3))"
   ]
  },
  {
   "cell_type": "markdown",
   "metadata": {},
   "source": [
    "## Sección 3: Funciones Lambda"
   ]
  },
  {
   "cell_type": "markdown",
   "metadata": {},
   "source": [
    "**Ejercicio 10:**\n",
    "Usa una función lambda para convertir una lista de cadenas a mayúsculas.\n",
    "\n",
    "Casos de prueba:\n",
    "```python\n",
    "cadenas = [\"hola\", \"mundo\", \"python\"]   ==> ['HOLA', 'MUNDO', 'PYTHON']\n",
    "cadenas = [\"e\"]                         ==> ['E']\n",
    "cadenas = []                            ==> []\n",
    "```"
   ]
  },
  {
   "cell_type": "code",
   "execution_count": 35,
   "metadata": {},
   "outputs": [
    {
     "name": "stdout",
     "output_type": "stream",
     "text": [
      "['HOLA', 'MUNDO', 'PYTHON']\n",
      "['E']\n",
      "[]\n"
     ]
    }
   ],
   "source": [
    "cadenas = [\"hola\", \"mundo\", \"python\"]\n",
    "print(list(map(lambda x: x.upper(), cadenas)))\n",
    "cadenas = [\"e\"]\n",
    "print(list(map(lambda x: x.upper(), cadenas)))\n",
    "cadenas = []\n",
    "print(list(map(lambda x: x.upper(), cadenas)))"
   ]
  },
  {
   "cell_type": "markdown",
   "metadata": {},
   "source": [
    "**Ejercicio 11:**\n",
    "Usa una función lambda para filtrar una lista de números y quedarte solo con los números impares.\n",
    "\n",
    "Casos de prueba:\n",
    "```python\n",
    "numeros = [1, 2, 3, 4, 5, 6, 7, 8, 9, 10]  ==> [1, 3, 5, 7, 9]\n",
    "numeros = [-5, 0, 1, -4, 2, 8, 10, -3, 1]  ==> [-5, 1, -3, 1]\n",
    "numeros = [6, 2, 8, 2]                     ==> []\n",
    "\n",
    "```"
   ]
  },
  {
   "cell_type": "code",
   "execution_count": 45,
   "metadata": {},
   "outputs": [
    {
     "name": "stdout",
     "output_type": "stream",
     "text": [
      "[1, 3, 5, 7, 9]\n",
      "[-5, 1, -3, 1]\n",
      "[]\n"
     ]
    }
   ],
   "source": [
    "numeros = [1, 2, 3, 4, 5, 6, 7, 8, 9, 10]\n",
    "print(list(filter(lambda x: x % 2 != 0, numeros)))\n",
    "numeros = [-5, 0, 1, -4, 2, 8, 10, -3, 1]\n",
    "print(list(filter(lambda x: x % 2 != 0, numeros)))\n",
    "numeros = [6, 2, 8, 2]\n",
    "print(list(filter(lambda x: x % 2 != 0, numeros)))"
   ]
  },
  {
   "cell_type": "markdown",
   "metadata": {},
   "source": [
    "**Ejercicio 12:**\n",
    "Usa una función lambda para ordenar una lista de diccionarios, cada uno de los cuales representa cierta información de una persona. En particular, considera que cada diccionario tiene dos claves, `nombre` y `edad`. La función debe ordenar la lista según el valor de la clave `edad`.\n",
    "\n",
    "Casos de prueba:\n",
    "```python\n",
    "personas = [{'nombre': 'Juan', 'edad': 30}, {'nombre': 'Ana', 'edad': 25}, {'nombre': 'Luis', 'edad': 35}] \n",
    "            ==> \n",
    "            [{'nombre': 'Ana', 'edad': 25}, {'nombre': 'Juan', 'edad': 30}, {'nombre': 'Luis', 'edad': 35}]\n",
    "```"
   ]
  },
  {
   "cell_type": "code",
   "execution_count": 95,
   "metadata": {},
   "outputs": [
    {
     "name": "stdout",
     "output_type": "stream",
     "text": [
      "[{'nombre': 'Ana', 'edad': 25}, {'nombre': 'Juan', 'edad': 30}, {'nombre': 'Luis', 'edad': 35}]\n"
     ]
    }
   ],
   "source": [
    "personas = [{'nombre': 'Juan', 'edad': 30}, {'nombre': 'Ana', 'edad': 25}, {'nombre': 'Luis', 'edad': 35}]\n",
    "print(sorted(personas, key=lambda x: x['edad']))"
   ]
  },
  {
   "cell_type": "markdown",
   "metadata": {},
   "source": [
    "**Ejercicio 13:**\n",
    "Usa una función lambda para calcular el producto de una lista de números (no vacía).\n",
    "\n",
    "Casos de prueba:\n",
    "```python\n",
    "numeros = [1, 2, 3, 4, 5]    ==> 120\n",
    "numeros = [10, 5, 20, 30]    ==> 30000\n",
    "numeros = [3]                ==> 3\n",
    "\n",
    "```"
   ]
  },
  {
   "cell_type": "code",
   "execution_count": 88,
   "metadata": {},
   "outputs": [
    {
     "name": "stdout",
     "output_type": "stream",
     "text": [
      "120\n",
      "30000\n",
      "3\n"
     ]
    }
   ],
   "source": [
    "from functools import reduce\n",
    "\n",
    "numeros = [1, 2, 3, 4, 5]\n",
    "print(reduce(lambda x, acc: acc * x, numeros))\n",
    "numeros = [10, 5, 20, 30]\n",
    "print(reduce(lambda x, acc: acc * x, numeros))\n",
    "numeros = [3]\n",
    "print(reduce(lambda x, acc: acc * x, numeros))"
   ]
  },
  {
   "cell_type": "markdown",
   "metadata": {},
   "source": [
    "**Ejercicio 14:**\n",
    "Usa una función lambda para crear una función que divida dos números, pero lanza una excepción si el divisor es cero. En este caso, considera que \"lanzar una excepción\" consiste en devolver una cadena informando del error producido, en lugar del resultado de la división.\n",
    "\n",
    "Casos de prueba:\n",
    "```python\n",
    "division(10, 2)   ==> 5.0\n",
    "division(10, 0)   ==> \"División por cero no permitida\"\n",
    "```"
   ]
  },
  {
   "cell_type": "code",
   "execution_count": 90,
   "metadata": {},
   "outputs": [
    {
     "name": "stdout",
     "output_type": "stream",
     "text": [
      "5.0\n",
      "División por cero no permitida\n"
     ]
    }
   ],
   "source": [
    "division = lambda x, y: x / y if y != 0 else 'División por cero no permitida'\n",
    "\n",
    "print(division(10, 2))\n",
    "print(division(10, 0))"
   ]
  },
  {
   "cell_type": "markdown",
   "metadata": {},
   "source": [
    "## Sección 4: Clases y Objetos"
   ]
  },
  {
   "cell_type": "markdown",
   "metadata": {},
   "source": [
    "**Ejercicio 15:**\n",
    "Define una clase `Empleado` con los atributos `nombre`, `puesto` y `salario`. Incluye un método que calcule el salario anual.\n",
    "\n",
    "Casos de prueba:\n",
    "```python\n",
    "empleado = Empleado(\"Ana\", \"Ingeniera Informática\", 3000)\n",
    "print(empleado.salario_anual())                             ==> 36000\n",
    "```"
   ]
  },
  {
   "cell_type": "code",
   "execution_count": 96,
   "metadata": {},
   "outputs": [
    {
     "name": "stdout",
     "output_type": "stream",
     "text": [
      "36000\n"
     ]
    }
   ],
   "source": [
    "class Empleado:\n",
    "    def __init__(self, nombre, puesto, salario):\n",
    "        self.nombre = nombre\n",
    "        self.puesto = puesto\n",
    "        self.salario = salario\n",
    "\n",
    "    def salario_anual(self):\n",
    "        return 12 * self.salario\n",
    "\n",
    "empleado = Empleado(\"Ana\", \"Ingeniera Informática\", 3000)\n",
    "print(empleado.salario_anual())"
   ]
  },
  {
   "cell_type": "markdown",
   "metadata": {},
   "source": [
    "**Ejercicio 16:**\n",
    "Define una clase `Circulo` con el atributo `radio`. Incluye métodos para calcular el área y la circunferencia del círculo.\n",
    "\n",
    "Casos de prueba:\n",
    "```python\n",
    "circulo = Circulo(5)\n",
    "print(circulo.area())               ==> 78.53981633974483\n",
    "print(circulo.circunferencia())     ==> 31.41592653589793\n",
    "```"
   ]
  },
  {
   "cell_type": "code",
   "execution_count": 98,
   "metadata": {},
   "outputs": [
    {
     "name": "stdout",
     "output_type": "stream",
     "text": [
      "78.53981633974483\n",
      "31.41592653589793\n"
     ]
    }
   ],
   "source": [
    "from math import pi\n",
    "\n",
    "class Circulo:\n",
    "    def __init__(self, radio):\n",
    "        self.radio = radio\n",
    "\n",
    "    def area(self):\n",
    "        return pi * self.radio ** 2\n",
    "\n",
    "    def circunferencia(self):\n",
    "        return 2 * pi * self.radio\n",
    "\n",
    "circulo = Circulo(5)\n",
    "print(circulo.area())\n",
    "print(circulo.circunferencia())"
   ]
  },
  {
   "cell_type": "markdown",
   "metadata": {},
   "source": [
    "**Ejercicio 17:**\n",
    "Define una clase `Vector` que represente un vector en un espacio 3D con atributos `x`, `y` y `z` que representen sus coordenadas. Incluye métodos para calcular la magnitud del vector y para sumar y restar dos vectores.\n",
    "\n",
    "**Nota:** la magnitud de un vector de 3 componentes (a, b, c) se calcula como Magnitud = √(a² + b² + c²). La suma y la resta de dos vectores se realiza componente a componente, es decir, (1, 2, 3) + (4, 5, 6) = (5, 7, 9).\n",
    "\n",
    "Casos de prueba:\n",
    "```python\n",
    "vector1 = Vector(1, 2, 3)\n",
    "vector2 = Vector(4, 5, 6)\n",
    "print(vector1.magnitud())          ==> 3.7416573867739413\n",
    "suma = vector1.sumar(vector2)\n",
    "resta = vector1.restar(vector2)\n",
    "print(suma.x, suma.y, suma.z)      ==> 5 7 9\n",
    "print(resta.x, resta.y, resta.z)   ==> -3 -3 -3\n",
    "```"
   ]
  },
  {
   "cell_type": "code",
   "execution_count": 102,
   "metadata": {},
   "outputs": [
    {
     "name": "stdout",
     "output_type": "stream",
     "text": [
      "3.7416573867739413\n",
      "5 7 9\n",
      "-3 -3 -3\n"
     ]
    }
   ],
   "source": [
    "from math import sqrt\n",
    "\n",
    "class Vector:\n",
    "    def __init__(self, x, y, z):\n",
    "        self.x = x\n",
    "        self.y = y\n",
    "        self.z = z\n",
    "\n",
    "    def magnitud(self):\n",
    "        return sqrt(self.x ** 2 + self.y ** 2 + self.z ** 2)\n",
    "\n",
    "    def sumar(self, otro):\n",
    "        aux_x = self.x + otro.x\n",
    "        aux_y = self.y + otro.y\n",
    "        aux_z = self.z + otro.z\n",
    "        return Vector(aux_x, aux_y, aux_z)\n",
    "\n",
    "    def restar(self, otro):\n",
    "        aux_x = self.x - otro.x\n",
    "        aux_y = self.y - otro.y\n",
    "        aux_z = self.z - otro.z\n",
    "        return Vector(aux_x, aux_y, aux_z)\n",
    "\n",
    "vector1 = Vector(1, 2, 3)\n",
    "vector2 = Vector(4, 5, 6)\n",
    "print(vector1.magnitud())\n",
    "suma = vector1.sumar(vector2)\n",
    "resta = vector1.restar(vector2)\n",
    "print(suma.x, suma.y, suma.z)\n",
    "print(resta.x, resta.y, resta.z)"
   ]
  },
  {
   "cell_type": "markdown",
   "metadata": {},
   "source": [
    "**Ejercicio 18:**\n",
    "Define una clase `Banco` que maneje cuentas bancarias. La clase debe tener métodos para abrir una cuenta, depositar dinero, retirar dinero y consultar el saldo.\n",
    "\n",
    "Casos de prueba:\n",
    "```python\n",
    "banco = Banco()\n",
    "banco.abrir_cuenta(\"12345\", 1000)\n",
    "banco.depositar(\"12345\", 500)\n",
    "print(banco.consultar_saldo(\"12345\"))  ==> 1500\n",
    "banco.retirar(\"12345\", 200)\n",
    "print(banco.consultar_saldo(\"12345\"))  ==> 1300\n",
    "```"
   ]
  },
  {
   "cell_type": "code",
   "execution_count": 108,
   "metadata": {},
   "outputs": [
    {
     "name": "stdout",
     "output_type": "stream",
     "text": [
      "1500\n",
      "1300\n"
     ]
    }
   ],
   "source": [
    "class Banco:\n",
    "    def __init__(self):\n",
    "        self.users = {}\n",
    "        \n",
    "    def abrir_cuenta(self, id_cuenta: str, dinero: int):\n",
    "        if id_cuenta not in self.users:\n",
    "            self.users[id_cuenta] = [id_cuenta, dinero]\n",
    "        else:\n",
    "            print('Caballero, ya tiene una cuena con este banco')\n",
    "        \n",
    "    def depositar(self, id_cuenta: str, dinero: int):\n",
    "        if dinero > 0 and id_cuenta in self.users:\n",
    "            curr_user = self.users[id_cuenta]\n",
    "            curr_user[1] += dinero\n",
    "        \n",
    "    def consultar_saldo(self, id_cuenta: str) -> int:\n",
    "        if id_cuenta in self.users:\n",
    "            return self.users[id_cuenta][1]\n",
    "        else:\n",
    "            print('Usuario no registrado en el banco')\n",
    "            \n",
    "    def retirar(self, id_cuenta: str, dinero: int):\n",
    "        if dinero > 0 and id_cuenta in self.users:\n",
    "            curr_user = self.users[id_cuenta]\n",
    "            if curr_user[1] >= dinero:\n",
    "                curr_user[1] -= dinero\n",
    "            else:\n",
    "                print('Op. cancelada. Saldo insuficiente')\n",
    "\n",
    "banco = Banco()\n",
    "banco.abrir_cuenta(\"12345\", 1000)\n",
    "banco.depositar(\"12345\", 500)\n",
    "print(banco.consultar_saldo(\"12345\"))\n",
    "banco.retirar(\"12345\", 200)\n",
    "print(banco.consultar_saldo(\"12345\"))"
   ]
  },
  {
   "cell_type": "code",
   "execution_count": null,
   "metadata": {},
   "outputs": [],
   "source": []
  }
 ],
 "metadata": {
  "kernelspec": {
   "display_name": "Python [conda env:base] *",
   "language": "python",
   "name": "conda-base-py"
  },
  "language_info": {
   "codemirror_mode": {
    "name": "ipython",
    "version": 3
   },
   "file_extension": ".py",
   "mimetype": "text/x-python",
   "name": "python",
   "nbconvert_exporter": "python",
   "pygments_lexer": "ipython3",
   "version": "3.12.7"
  }
 },
 "nbformat": 4,
 "nbformat_minor": 4
}
