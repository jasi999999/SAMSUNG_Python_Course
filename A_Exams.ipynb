{
 "cells": [
  {
   "cell_type": "markdown",
   "id": "896102b1-7f4e-4a9c-92e5-772d65b54b50",
   "metadata": {},
   "source": [
    "# Python Introduction Course (Exams)"
   ]
  },
  {
   "cell_type": "markdown",
   "id": "926e2879-754e-46b0-b72b-48702e65c210",
   "metadata": {
    "jp-MarkdownHeadingCollapsed": true
   },
   "source": [
    "## Chapter 1"
   ]
  },
  {
   "cell_type": "markdown",
   "id": "4a4a5632-33a6-4bb5-a481-62161eb01b54",
   "metadata": {},
   "source": [
    "<center><h3>Control Unidad 1</h1></center>\n",
    "<center><h3>Samsung: Curso de Introducción a la Programación con Python</h3></center>\n",
    "<center><h3>23 de junio de 2025</h3></center>"
   ]
  },
  {
   "cell_type": "markdown",
   "id": "bb2a930f-02ab-45d0-b52e-07fba5497ca8",
   "metadata": {},
   "source": [
    "### 1. Desarrolla un programa que convierta temperaturas de Fahrenheit a Celsius.\n",
    "\n",
    "El programa pedirá al usuario una temperatura en Fahrenheit (número real, `float`) y se mostrará la conversión a Celsius\n",
    "\n",
    "La fórmula para convertir Fahrenheit a Celsius es la siguiente:\n",
    "\n",
    "$$\n",
    "    TempCelsius = \\frac{(TempFahrenheit - 32) * 5}{9}\n",
    "$$\n",
    "\n",
    "Consideraciones:\n",
    "\n",
    "- Se puede asumir que el usuario propociona un número real de forma correcta.\n",
    "- Utilizar la sentencia `round(x, 2)` para redondear a 2 decimales la conversión (`x` son los grados Celsius) a la hora de imprimirla (pero no a la hora de calcularla).\n",
    "\n",
    "Ejemplos de salida:\n",
    "\n",
    "- `1.0 grados Fahrenheit corresponden a -17.22 grados Celsius`\n",
    "\n",
    "- `30.0 grados Fahrenheit corresponden a -1.11 grados Celsius`\n",
    "\n",
    "- `102.5 grados Fahrenheit corresponden a 39.17 grados Celsius`"
   ]
  },
  {
   "cell_type": "code",
   "execution_count": 5,
   "id": "18737e9b-585c-4628-be84-530d62bdf245",
   "metadata": {},
   "outputs": [
    {
     "name": "stdin",
     "output_type": "stream",
     "text": [
      "Por favor, introduzca el número de Temperatura:  102.5\n"
     ]
    },
    {
     "name": "stdout",
     "output_type": "stream",
     "text": [
      "102.5 grados Fahrenheit corresponden a 39.17\n"
     ]
    }
   ],
   "source": [
    "# Precondición: el usuario introduce los números de forma correcta\n",
    "def fahrenheit_celsius():\n",
    "    temp_fahrenheit= float(input(\"Por favor, introduzca el número de Temperatura: \"))\n",
    "    \n",
    "    temp_celsius = (temp_fahrenheit - 32) * 5 / 9\n",
    "    temp_celsius = round(temp_celsius, 2)\n",
    "    \n",
    "    print(f\"{temp_fahrenheit:2} grados Fahrenheit corresponden a {temp_celsius}\")\n",
    "    \n",
    "fahrenheit_celsius()"
   ]
  },
  {
   "cell_type": "markdown",
   "id": "4d3ec5ed-7bc5-46b6-989c-47fac61b0561",
   "metadata": {},
   "source": [
    "### 2. Desarrolla un programa que pida dos números naturales (enteros positivos) al usuario (llamémoslos `x` e `y`), y que utilice únicamente sumas y restas para calcular el cociente y el resto de la división entera de `x` entre `y`. \n",
    "\n",
    "> **ATENCIÓN:** en este ejercicio **SOLAMENTE** se pueden usar **sumas y restas** como operaciones aritméticas aunque resulte ineficiente.\n",
    "\n",
    "Consideraciones:\n",
    "\n",
    "- Se pueden pedir los dos números a la vez o uno a uno\n",
    "- Se puede asumir que el usuario siempre proporciona 2 enteros positivos.\n",
    "\n",
    "Ejemplos de salida:\n",
    "\n",
    "- `5 dividido entre 2 >> cociente: 2, resto: 1`\n",
    "\n",
    "- `5 dividido entre 2 >> cociente: 0, resto: 1`\n",
    "\n",
    "- `50 dividido entre 10 >> cociente: 5, resto: 0`"
   ]
  },
  {
   "cell_type": "code",
   "execution_count": 6,
   "id": "403efd35-8637-48a8-a918-7b4d08126e18",
   "metadata": {},
   "outputs": [
    {
     "name": "stdin",
     "output_type": "stream",
     "text": [
      "Por favor, introduzca el primer número:  5\n",
      "Por favor, introduzca el segundo número:  3\n"
     ]
    },
    {
     "name": "stdout",
     "output_type": "stream",
     "text": [
      "5 dividido entre 3 >> cociente: 1, resto: 2\n"
     ]
    }
   ],
   "source": [
    "# Precondición: el usuario introduce los números de forma correcta\n",
    "def division():\n",
    "    num1 = int(input(\"Por favor, introduzca el primer número: \"))\n",
    "    num2 = int(input(\"Por favor, introduzca el segundo número: \"))\n",
    "    resto = num1\n",
    "    cociente = 0\n",
    "    \n",
    "    while resto >= num2:\n",
    "        cociente += 1\n",
    "        resto = resto - num2\n",
    "        \n",
    "    print(f\"{num1} dividido entre {num2} >> cociente: {cociente}, resto: {resto}\")\n",
    "    \n",
    "division()"
   ]
  },
  {
   "cell_type": "markdown",
   "id": "71017125-5a39-413e-9c09-fe82244ae2c0",
   "metadata": {},
   "source": [
    "### 3. Desarrollar un programa que dado un número `n` que muestre los divisores de `n` (incluidos 1 y él mismo), indicando si el número es primo.\n",
    "\n",
    "Consideraciones:\n",
    "\n",
    "- Recuerda que un número primo es aquel número mayor que 1 y que solo tiene como divisores 1 y él mismo.\n",
    "- Se puede asumir que el usuario pone un número entero positivo.\n",
    "\n",
    "\n",
    "Ejemplos de salida:\n",
    "\n",
    "- Con $n=8$\n",
    "```\n",
    "    Los divisores de 8 son: 1 2 4 8.\n",
    "    8 no es un número primo.\n",
    "```\n",
    "-  Con $n=5$\n",
    "```\n",
    "    Los divisores de 5 son: 1 5.\n",
    "    5 es un número primo.\n",
    "```\n",
    "- Con $n=1$\n",
    "```\n",
    "    Los divisores de 1 son: 1.\n",
    "    1 no es un número primo.\n",
    "```"
   ]
  },
  {
   "cell_type": "code",
   "execution_count": 11,
   "id": "9966c37e-0141-4240-8d2c-1967b93cd424",
   "metadata": {},
   "outputs": [
    {
     "name": "stdin",
     "output_type": "stream",
     "text": [
      "Por favor, introduzca el número:  8\n"
     ]
    },
    {
     "name": "stdout",
     "output_type": "stream",
     "text": [
      "Los divisores de 8 son:  1 2 4 8. \n",
      " 8 no es un número primo.\n"
     ]
    }
   ],
   "source": [
    "# Precondición: el usuario introduce los números de forma correcta\n",
    "def divisores():\n",
    "    num = int(input(\"Por favor, introduzca el número: \"))\n",
    "    divisores = \"\"\n",
    "    \n",
    "    for i in range(1, num + 1):\n",
    "        if num % i == 0:\n",
    "            divisores += \" \" + str(i)\n",
    "    divisores += \".\"\n",
    "    \n",
    "     # divisores_string = \" \".join(divisores)\n",
    "    if len(divisores) == 0 and num != 1:\n",
    "        print(\"Los divisores de\", num, \"son: 1\", num, \"\\n\",num, \"es un número primo.\")\n",
    "    else:\n",
    "        print(\"Los divisores de\", num, \"son:\", divisores, \"\\n\", num, \"no es un número primo.\")\n",
    "        \n",
    "divisores()"
   ]
  },
  {
   "cell_type": "markdown",
   "id": "8c9bbcc8-6034-4b2f-95c5-df4ea81982ee",
   "metadata": {},
   "source": [
    "### 4. Desarrolla un programa que dado un número `n`, imprima por pantalla una pirámide de _impares-pares_ con altura `n`.\n",
    "\n",
    "- La altura es un número entero que se pedirá al usuario.\n",
    "- Por ejemplo, con `n=5` la pirámide resultante sería:\n",
    "\n",
    "```\n",
    "Altura de la pirámide: 5\n",
    "\n",
    "1\n",
    "2 4\n",
    "1 3 5\n",
    "2 4 6 8\n",
    "1 3 5 7 9\n",
    "```\n",
    "\n",
    "Consideraciones:\n",
    "\n",
    "- Se puede asumir que el usuario introduce un entero correctamente\n",
    "- No te preocupes si para `n>5` aparecen números de más de una cifra que hacen la salida menos bonita. "
   ]
  },
  {
   "cell_type": "code",
   "execution_count": 12,
   "id": "0cd13b49-9bf9-474a-aceb-22223d09f674",
   "metadata": {},
   "outputs": [
    {
     "name": "stdin",
     "output_type": "stream",
     "text": [
      "Por favor, introduzca el número:  8\n"
     ]
    },
    {
     "name": "stdout",
     "output_type": "stream",
     "text": [
      "\n",
      "1 \n",
      "2 4 \n",
      "1 3 5 \n",
      "2 4 6 8 \n",
      "1 3 5 7 9 \n",
      "2 4 6 8 10 12 \n",
      "1 3 5 7 9 11 13 \n",
      "2 4 6 8 10 12 14 16 \n"
     ]
    }
   ],
   "source": [
    "# Precondición: el usuario introduce los números de forma correcta\n",
    "def escalera():\n",
    "    num = int(input(\"Por favor, introduzca el número: \"))\n",
    "    \n",
    "    # Primero hacemos dos listas, con los pares y los impares\n",
    "    lista_par = []\n",
    "    lista_impar = []\n",
    "    right = True          # Impar = True, Par = False\n",
    "    escalon = True\n",
    "    for i in range(1, 2 * num + 1):\n",
    "        if right:\n",
    "            lista_impar.append(i)\n",
    "            right = not right\n",
    "        else:\n",
    "            lista_par.append(i)\n",
    "            right = not right\n",
    "            \n",
    "    # Imprimir la lista\n",
    "    for i in range(num + 1):\n",
    "        j = 0\n",
    "        while j < i:\n",
    "            if i % 2 != 0:\n",
    "                print(lista_impar[j], end=\" \")\n",
    "                j += 1\n",
    "            else:\n",
    "                print(lista_par[j], end=\" \")\n",
    "                j += 1\n",
    "        print(\"\\n\", end=\"\")\n",
    "                \n",
    "escalera()"
   ]
  },
  {
   "cell_type": "markdown",
   "id": "468cf9a9-1ffe-4a78-8d8d-3a0662066342",
   "metadata": {},
   "source": [
    "## Chapter 2"
   ]
  },
  {
   "cell_type": "code",
   "execution_count": null,
   "id": "34dc3a7e-1f3e-4dc5-9d58-dbe115330d93",
   "metadata": {},
   "outputs": [],
   "source": []
  }
 ],
 "metadata": {
  "kernelspec": {
   "display_name": "Python [conda env:base] *",
   "language": "python",
   "name": "conda-base-py"
  },
  "language_info": {
   "codemirror_mode": {
    "name": "ipython",
    "version": 3
   },
   "file_extension": ".py",
   "mimetype": "text/x-python",
   "name": "python",
   "nbconvert_exporter": "python",
   "pygments_lexer": "ipython3",
   "version": "3.12.7"
  }
 },
 "nbformat": 4,
 "nbformat_minor": 5
}
