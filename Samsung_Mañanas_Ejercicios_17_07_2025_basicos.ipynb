{
 "cells": [
  {
   "cell_type": "markdown",
   "id": "8346e2ed",
   "metadata": {},
   "source": [
    "# Estructuras de Datos (Capítulo 4) - Ejercicios básicos"
   ]
  },
  {
   "cell_type": "code",
   "execution_count": 2,
   "id": "5e1ec93d-8661-422a-96d7-220c8285f99a",
   "metadata": {},
   "outputs": [],
   "source": [
    "class Stack:\n",
    "    def __init__(self):\n",
    "        self.stack = []\n",
    "        \n",
    "    def push(self, obj):\n",
    "        self.stack.append(obj)\n",
    "    \n",
    "    def pop(self):\n",
    "        return self.stack.pop() if not self.is_empty() else None\n",
    "    \n",
    "    def is_empty(self):\n",
    "        return len(self.stack) == 0\n",
    "\n",
    "    def to_string(self):\n",
    "        return [x for x in self.stack]"
   ]
  },
  {
   "cell_type": "markdown",
   "id": "3b1df425-fab1-4d82-86a1-94f864e4c844",
   "metadata": {},
   "source": [
    "## Sección 1: Pilas"
   ]
  },
  {
   "cell_type": "markdown",
   "id": "2ea9978a",
   "metadata": {},
   "source": [
    "***\n",
    "**Ejercicio 1:** Escribe una función `invertir_cadena(cadena)` que reciba una cadena y devuelva la cadena invertida, utilizando para ello una pila.\n",
    "\n",
    "Casos de prueba:\n",
    "```Python\n",
    "print(invertir_cadena(\"hola\"))         ==>  aloh\n",
    "print(invertir_cadena(\"experimento\"))  ==> otnemirepxe\n",
    "```"
   ]
  },
  {
   "cell_type": "code",
   "execution_count": 3,
   "id": "e3889651",
   "metadata": {},
   "outputs": [
    {
     "name": "stdout",
     "output_type": "stream",
     "text": [
      "aloh\n",
      "otnemirepxe\n"
     ]
    }
   ],
   "source": [
    "def invertir_cadena(cadena: str) -> str:\n",
    "    st = Stack()\n",
    "\n",
    "    for c in cadena:\n",
    "        st.push(c)\n",
    "\n",
    "    res = ''\n",
    "    while not st.is_empty():\n",
    "        res += st.pop()\n",
    "        \n",
    "    return res\n",
    "\n",
    "print(invertir_cadena(\"hola\"))            # aloh\n",
    "print(invertir_cadena(\"experimento\"))     # otnemirepxe"
   ]
  },
  {
   "cell_type": "markdown",
   "id": "5fba1c79",
   "metadata": {},
   "source": [
    "***\n",
    "**Ejercicio 2:** Implementa una función booleana `parentesis_balanceados(cadena)` que verifique si los paréntesis de una expresión matemática están correctamente balanceados (devuelve True en ese caso). La expresión matemática puede contener exclusivamente operadores artitméticos, operandos (números o letras) y paréntesis. Utiliza una pila como estructura auxiliar en dicha función.\n",
    "\n",
    "Casos de prueba:\n",
    "```Python\n",
    "print(parentesis_balanceados(\"((a+b)*c)\"))                                ==> False\n",
    "print(parentesis_balanceados(\"(-b + ((b**2) - (4*a*c)) ** 0.5) / (2*a)\")) ==> True\n",
    "```"
   ]
  },
  {
   "cell_type": "code",
   "execution_count": 4,
   "id": "94bec8b0",
   "metadata": {},
   "outputs": [
    {
     "name": "stdout",
     "output_type": "stream",
     "text": [
      "True\n",
      "True\n"
     ]
    }
   ],
   "source": [
    "def parentesis_balanceados(cadena: str) -> bool:\n",
    "    st = Stack()\n",
    "\n",
    "    for c in cadena:\n",
    "        if c == '(':\n",
    "            st.push(c)\n",
    "        elif c == ')':\n",
    "            if st.is_empty():\n",
    "                return False\n",
    "            st.pop()\n",
    "            \n",
    "    return st.is_empty()\n",
    "    \n",
    "\n",
    "print(parentesis_balanceados(\"((a+b)*c)\"))                                 # True\n",
    "print(parentesis_balanceados(\"(-b + ((b**2) - (4*a*c)) ** 0.5) / (2*a)\"))  # True"
   ]
  },
  {
   "cell_type": "markdown",
   "id": "77770f19",
   "metadata": {},
   "source": [
    "***\n",
    "**Ejercicio 3:** Implementa una funcion de tipo cadena `decimal_a_binario(entero)` que dado un número entero, lo convierta a una cadena que represente dicho número en binario. Utiliza para ello una pila como estructura auxiliar.\n",
    "\n",
    "Casos de prueba:\n",
    "```Python\n",
    "print(decimal_a_binario(27))  ==>  11011\n",
    "print(decimal_a_binario(128)) ==>  10000000\n",
    "```\n"
   ]
  },
  {
   "cell_type": "code",
   "execution_count": 13,
   "id": "1354389e",
   "metadata": {},
   "outputs": [
    {
     "name": "stdout",
     "output_type": "stream",
     "text": [
      "11011\n",
      "10000000\n",
      "0\n"
     ]
    }
   ],
   "source": [
    "def decimal_a_binario(entero: int) -> str:\n",
    "    st = Stack()\n",
    "\n",
    "    if entero == 0:\n",
    "        return 0\n",
    "        \n",
    "    while entero >= 1:\n",
    "        m = entero // 2\n",
    "        resto = entero % 2\n",
    "        if resto == 0:\n",
    "            st.push('0')\n",
    "        else:\n",
    "            st.push('1')\n",
    "        entero = m\n",
    "\n",
    "    res = ''\n",
    "    while not st.is_empty():\n",
    "        res += st.pop()\n",
    "\n",
    "    return res\n",
    "\n",
    "print(decimal_a_binario(27))      #  11011\n",
    "print(decimal_a_binario(128))     # 10000000\n",
    "print(decimal_a_binario(0))"
   ]
  },
  {
   "cell_type": "markdown",
   "id": "fe419611",
   "metadata": {},
   "source": [
    "***\n",
    "**Ejercicio 4:** Implementa una función booleana `parentesis_duplicados(cadena)` que verifique si una expresión matemática contiene paréntesis innecesarios o duplicados (devuelve True en ese caso). La expresión matemática puede contener exclusivamente operadores artitméticos, operandos (números o letras) y paréntesis. Utiliza una pila como estructura auxiliar en dicha función.\n",
    "\n",
    "Casos de prueba:\n",
    "```Python\n",
    "print(parentesis_duplicados(\"((a+b))\"))                                  ==> True\n",
    "print(parentesis_duplicados(\"(-b + ((b**2) - (4*a*c)) ** 0.5) / (2*a)\")) ==> False\n",
    "```\n"
   ]
  },
  {
   "cell_type": "code",
   "execution_count": 79,
   "id": "b83887b8",
   "metadata": {},
   "outputs": [
    {
     "name": "stdout",
     "output_type": "stream",
     "text": [
      "True\n",
      "False\n"
     ]
    }
   ],
   "source": [
    "def parentesis_duplicados(cadena: str) -> bool:\n",
    "    st = Stack()\n",
    "\n",
    "    for c in cadena:\n",
    "        if c == ')':\n",
    "            if st.is_empty():\n",
    "                return False\n",
    "\n",
    "            top = st.pop()\n",
    "            elementos_entre = 0\n",
    "\n",
    "            while top != '(':\n",
    "                elementos_entre += 1\n",
    "                # Ayuda a prevenir que no vaciemos el stack sin encontrar '('\n",
    "                # Caso '(a+b))'\n",
    "                if st.is_empty():\n",
    "                    return False\n",
    "                top = st.pop()\n",
    "\n",
    "            if elementos_entre == 0:\n",
    "                return True  # Duplicado: () \n",
    "        else:\n",
    "            st.push(c)\n",
    "            \n",
    "    return False\n",
    "\n",
    "print(parentesis_duplicados(\"((a+b))\"))                                  # True\n",
    "print(parentesis_duplicados(\"(-b + ((b**2) - (4*a*c)) ** 0.5) / (2*a)\")) # False"
   ]
  },
  {
   "cell_type": "code",
   "execution_count": 78,
   "id": "facb64c9-08e1-40d8-b812-b9742d74c0d2",
   "metadata": {},
   "outputs": [
    {
     "name": "stdout",
     "output_type": "stream",
     "text": [
      "True\n",
      "False\n"
     ]
    }
   ],
   "source": [
    "def parentesis_duplicados2(cadena: str) -> bool:\n",
    "    st = []\n",
    "\n",
    "    for c in cadena:\n",
    "        if c == ')':\n",
    "            if st[-1] == '(':\n",
    "                return True\n",
    "            while st and st[-1] != '(':\n",
    "                st.pop()\n",
    "            st.pop()\n",
    "        else:\n",
    "            st.append(c)\n",
    "            \n",
    "    return False\n",
    "\n",
    "print(parentesis_duplicados2(\"((a+b))\"))                                  # True\n",
    "print(parentesis_duplicados2(\"(-b + ((b**2) - (4*a*c)) ** 0.5) / (2*a)\")) # False"
   ]
  },
  {
   "cell_type": "markdown",
   "id": "b0ea50c1",
   "metadata": {},
   "source": [
    "***\n",
    "**Ejercicio 5:** Crea una clase \"Navegador\" que simule un navegador web con capacidad de ir \"atrás\" y \"adelante\". Además del constructor, la clase debe tener tres métodos: `visitar_direccion`, `volver` y `avanzar`. Los métodos deben funcionar así:\n",
    "- `visitar_direccion(self, sitio)`: cambia la página actual del navegador por la URL (`sitio`) que se le pasa como argumento.\n",
    "- `volver(self)`: vuelve a la página anterior del historial (si existe), convirtiéndola en la página actual del navegador, y la devuelve.\n",
    "- `avanzar(self)`: avanza a la siguiente página del historial (si existe), convirtiéndola en la página actual del navegador, y la devuelve\n",
    "\n",
    "NOTA: Se recomienda utilizar 2 pilas para implementar las páginas anteriores y siguientes del historial.\n",
    "\n",
    "Casos de prueba:\n",
    "```Python\n",
    "nav = Navegador()\n",
    "nav.visitar_direccion(\"www.python.org\")\n",
    "nav.visitar_direccion(\"www.upv.es\")\n",
    "print(\"Volver:\", nav.volver())\n",
    "nav.visitar_direccion(\"www.samsung.com\")\n",
    "print(\"Avanzar:\", nav.avanzar())\n",
    "print(\"Volver:\", nav.volver())\n",
    "print(\"Avanzar:\", nav.avanzar())\n",
    "print(\"Volver:\", nav.volver())\n",
    "print(\"Volver:\", nav.volver())\n",
    "\n",
    "==>\n",
    "\n",
    "Volver: www.python.org\n",
    "Avanzar: \n",
    "Volver: www.python.org\n",
    "Avanzar: www.samsung.com\n",
    "Volver: www.python.org\n",
    "Volver: \n",
    "```\n"
   ]
  },
  {
   "cell_type": "code",
   "execution_count": 131,
   "id": "58bb90f4",
   "metadata": {},
   "outputs": [
    {
     "name": "stdout",
     "output_type": "stream",
     "text": [
      "Volver: www.python.org\n",
      "Avanzar: \n",
      "Volver: www.python.org\n",
      "Avanzar: www.samsung.com\n",
      "Volver: www.python.org\n",
      "Volver: \n"
     ]
    }
   ],
   "source": [
    "class Navegador:\n",
    "    def __init__(self, actual = ''):\n",
    "        self.actual = actual\n",
    "        self.visitados = Stack()\n",
    "        self.siguientes = Stack()\n",
    "\n",
    "    def visitar_direccion(self, sitio):\n",
    "        self.siguientes = Stack()\n",
    "        self.visitados.push(self.actual)\n",
    "        self.actual = sitio\n",
    "        return self.actual\n",
    "\n",
    "    def volver(self):\n",
    "        if not self.visitados.is_empty():\n",
    "            self.siguientes.push(self.actual)\n",
    "            self.actual = self.visitados.pop()\n",
    "            return self.actual\n",
    "        return ''\n",
    "\n",
    "    def avanzar(self):\n",
    "        if not self.siguientes.is_empty():\n",
    "            self.visitados.push(self.actual)\n",
    "            self.actual = self.siguientes.pop()\n",
    "            return self.actual\n",
    "        return ''\n",
    "\n",
    "nav = Navegador()\n",
    "nav.visitar_direccion(\"www.python.org\")\n",
    "nav.visitar_direccion(\"www.upv.es\")\n",
    "print(\"Volver:\", nav.volver())                    # Volver: www.python.org\n",
    "nav.visitar_direccion(\"www.samsung.com\")\n",
    "print(\"Avanzar:\", nav.avanzar())                  # Avanzar:\n",
    "print(\"Volver:\", nav.volver())                    # Volver: www.python.org\n",
    "print(\"Avanzar:\", nav.avanzar())                  # Avanzar: www.samsung.com\n",
    "print(\"Volver:\", nav.volver())                    # Volver: www.python.org\n",
    "print(\"Volver:\", nav.volver())                    # Volver: "
   ]
  },
  {
   "cell_type": "markdown",
   "id": "b35f25c4-a214-4db6-bd6a-016aa80dd984",
   "metadata": {},
   "source": [
    "## Sección 2: Colas"
   ]
  },
  {
   "cell_type": "code",
   "execution_count": 16,
   "id": "8d47133f-4944-41ea-8888-441b89af63ec",
   "metadata": {},
   "outputs": [],
   "source": [
    "class Queue:\n",
    "    def __init__(self):\n",
    "        self.queue = []\n",
    "        self.count = 0\n",
    "\n",
    "    def is_empty(self):\n",
    "        return self.count == 0\n",
    "    \n",
    "    def enqueue(self, item):\n",
    "        self.queue.append(item)\n",
    "        self.count += 1\n",
    "\n",
    "    def dequeue(self):\n",
    "        if self.count > 0:\n",
    "            self.count -= 1\n",
    "            return self.queue.pop(0)\n",
    "        return None\n",
    "\n",
    "    def to_string(self):\n",
    "        return ' '.join([str(x) for x in self.queue])\n",
    "\n",
    "    def size(self):\n",
    "        return self.count"
   ]
  },
  {
   "cell_type": "markdown",
   "id": "cb199a3e",
   "metadata": {},
   "source": [
    "***\n",
    "**Ejercicio 6:** Implementar una función `mover_ceros` que acepte como parámetro una lista `numeros` que contiene números enteros y devuelva otra lista, en la que los ceros de la lista original se ubiquen al final y se mantenga el orden del resto de los elementos. Utiliza una cola como estructura auxiliar. \n",
    "\n",
    "Casos de prueba:\n",
    "```Python\n",
    "print(mover_ceros(([0, 0, 7])))           ==> [7, 0, 0]\n",
    "print(mover_ceros(([0, 1, 0, 3, 0, 5])))  ==> [1, 3, 5, 0, 0, 0]\n",
    "```\n"
   ]
  },
  {
   "cell_type": "code",
   "execution_count": 17,
   "id": "af6a9f82",
   "metadata": {},
   "outputs": [
    {
     "name": "stdout",
     "output_type": "stream",
     "text": [
      "[7, 0, 0]\n",
      "[1, 3, 5, 0, 0, 0]\n"
     ]
    }
   ],
   "source": [
    "def mover_ceros(lista: list) -> list:\n",
    "    q = Queue()\n",
    "\n",
    "    for num in lista:\n",
    "        if num != 0:\n",
    "            q.enqueue(num)\n",
    "    for num in lista:\n",
    "        if num == 0:\n",
    "            q.enqueue(num)\n",
    "            \n",
    "    return q.queue\n",
    "\n",
    "print(mover_ceros(([0, 0, 7])))           # [7, 0, 0]\n",
    "print(mover_ceros(([0, 1, 0, 3, 0, 5])))  # [1, 3, 5, 0, 0, 0]"
   ]
  },
  {
   "cell_type": "markdown",
   "id": "d1e3a11b",
   "metadata": {},
   "source": [
    "***\n",
    "**Ejercicio 7:** Implementa una clase que defina una \"cola con prioridades\", que devuelva los elementos encolados según su prioridad, teniendo en cuenta que un número de prioridad menor supone tener mayor prioridad. Para ello, la clase `ColaPrioridad` debe incorporar los siguientes métodos:\n",
    "- `__init__(self)`: constructor de la clase.\n",
    "- `encolar(self, elemento, prioridad)`: inserta un elemento en la cola con la prioridad indicada.\n",
    "- `desencolar(self)`: desencola y devuelve el elemento más prioritario (menor número de prioridad). Si hay varios elementos de máxima prioridad, puede devolver cualquiera de ellos. Si la cola está vacía, devuelve `None`.\n",
    "\n",
    "Casos de prueba:\n",
    "```Python\n",
    "cp = ColaPrioridad()\n",
    "cp.encolar(\"Tarea1\", 2)\n",
    "cp.encolar(\"Tarea2\", 1)\n",
    "print(cp.desencolar())\n",
    "\n",
    "==>\n",
    "\n",
    "Tarea2\n",
    "```\n"
   ]
  },
  {
   "cell_type": "code",
   "execution_count": 18,
   "id": "0b844d65",
   "metadata": {},
   "outputs": [
    {
     "name": "stdout",
     "output_type": "stream",
     "text": [
      "Tarea2\n"
     ]
    }
   ],
   "source": [
    "class Deque:\n",
    "    def __init__(self):\n",
    "        self.queue = []\n",
    "        self.count = 0\n",
    "\n",
    "    def add_first(self, item):\n",
    "        # Add item to front of queue\n",
    "        self.queue.insert(0, item)\n",
    "        self.count += 1\n",
    "\n",
    "    def add(self, item):\n",
    "        self.queue.append(item)\n",
    "        self.count += 1\n",
    "\n",
    "    def remove_first(self):\n",
    "        if self.count > 0:\n",
    "            self.count -= 1\n",
    "            return self.queue.pop(0)\n",
    "        return None\n",
    "\n",
    "    def remove(self):\n",
    "        if self.count > 0:\n",
    "            self.count -= 1\n",
    "            return self.queue.pop()\n",
    "        return None\n",
    "\n",
    "    def is_empty(self):\n",
    "        return self.count == 0\n",
    "\n",
    "    def size(self):\n",
    "        return self.count\n",
    "\n",
    "    def to_string(self):\n",
    "        return ' '.join(map(lambda x: str(x), self.queue))\n",
    "        \n",
    "class ColaPrioridad:\n",
    "    def __init__(self):\n",
    "        self.q = Deque()\n",
    "\n",
    "    def encolar(self, name, priority):\n",
    "        for nombre, prioridad in self.q.queue:\n",
    "            if priority < prioridad:\n",
    "                self.q.add_first((name, priority))\n",
    "                return\n",
    "        self.q.add((name, priority))\n",
    "        return\n",
    "\n",
    "    def desencolar(self):\n",
    "        elemento = self.q.remove_first()\n",
    "        return elemento[0]\n",
    "\n",
    "    def is_empty(self):\n",
    "        return self.q.is_empty()\n",
    "\n",
    "\n",
    "cp = ColaPrioridad()\n",
    "cp.encolar(\"Tarea1\", 2)\n",
    "cp.encolar(\"Tarea2\", 1)\n",
    "print(cp.desencolar())          # Tarea2"
   ]
  },
  {
   "cell_type": "markdown",
   "id": "6e9293ae",
   "metadata": {},
   "source": [
    "***\n",
    "**Ejercicio 8:** Implementa una clase que defina una cola circular de tamaño fijo, en la que los elementos se encolen uno detrás de otro de forma que, cuando esté llena, siga siendo posible insertar elementos, sobreescribiendo los que ya había (en orden FIFO). Para ello, la clase `ColaCircular` debe incorporar los siguientes métodos:\n",
    "- `__init__(self, tamaño)`: donde `tamaño` es la cantidad de elementos que caben en la cola como máximo.\n",
    "- `encolar(self, elemento)`: inserta un elemento en la cola circular en la posición siguiente a la última ocupada (orden FIFO).\n",
    "- `desencolar(self)`: desencola el elemento más antiguo de la cola circular (orden FIFO) y lo devuelve. Si la cola está vacía, devuelve `None`.\n",
    "\n",
    "Casos de prueba:\n",
    "```Python\n",
    "c = ColaCircular(3)\n",
    "c.encolar(1); c.encolar(2); c.encolar(3); c.encolar(4); c.encolar(5)\n",
    "print(\"Extraer:\", c.desencolar())\n",
    "print(\"Extraer:\", c.desencolar())\n",
    "print(\"Extraer:\", c.desencolar())\n",
    "print(\"Extraer:\", c.desencolar())\n",
    "c.encolar(10); c.encolar(20); c.encolar(30); c.encolar(40)\n",
    "print(\"Extraer:\", c.desencolar())\n",
    "print(\"Extraer:\", c.desencolar())\n",
    "print(\"Extraer:\", c.desencolar())\n",
    "print(\"Extraer:\", c.desencolar())\n",
    "\n",
    "==> \n",
    "\n",
    "Extraer: 3\n",
    "Extraer: 4\n",
    "Extraer: 5\n",
    "Extraer: None\n",
    "Extraer: 20\n",
    "Extraer: 30\n",
    "Extraer: 40\n",
    "Extraer: None\n",
    "```\n"
   ]
  },
  {
   "cell_type": "code",
   "execution_count": 19,
   "id": "ad1ef5d9",
   "metadata": {},
   "outputs": [
    {
     "name": "stdout",
     "output_type": "stream",
     "text": [
      "Extraer: 3\n",
      "Extraer: 4\n",
      "Extraer: 5\n",
      "Extraer: None\n",
      "Extraer: 20\n",
      "Extraer: 30\n",
      "Extraer: 40\n",
      "Extraer: None\n"
     ]
    }
   ],
   "source": [
    "class ColaCircular:\n",
    "    def __init__(self, tamaño):\n",
    "        self.queue = Deque()\n",
    "        self.max = tamaño\n",
    "        self.curr = 0\n",
    "\n",
    "    def encolar(self, elem):\n",
    "        if self.curr < self.max:\n",
    "            self.queue.add(elem)\n",
    "            self.curr += 1\n",
    "        else:\n",
    "            self.queue.add(elem)\n",
    "            self.queue.remove_first()\n",
    "\n",
    "    def desencolar(self):\n",
    "        if self.queue.size() > 0:\n",
    "            self.curr -= 1\n",
    "            return self.queue.remove_first()\n",
    "        return None\n",
    "\n",
    "\n",
    "c = ColaCircular(3)\n",
    "c.encolar(1); c.encolar(2); c.encolar(3); c.encolar(4); c.encolar(5)\n",
    "print(\"Extraer:\", c.desencolar())                                  # Extraer: 3\n",
    "print(\"Extraer:\", c.desencolar())                                  # Extraer: 4\n",
    "print(\"Extraer:\", c.desencolar())                                  # Extraer: 5\n",
    "print(\"Extraer:\", c.desencolar())                                  # Extraer: None\n",
    "c.encolar(10); c.encolar(20); c.encolar(30); c.encolar(40)\n",
    "print(\"Extraer:\", c.desencolar())                                  # Extraer: 20\n",
    "print(\"Extraer:\", c.desencolar())                                  # Extraer: 30\n",
    "print(\"Extraer:\", c.desencolar())                                  # Extraer: 40\n",
    "print(\"Extraer:\", c.desencolar())                                  # Extraer: None"
   ]
  },
  {
   "cell_type": "markdown",
   "id": "62386c09",
   "metadata": {},
   "source": [
    "***\n",
    "**Ejercicio 9:** Implementa una función `simular_supermercado(clientes, num_cajas)` que simule la atención de las cajas de un supermercado. El supermercado tiene tantas cajas como indique el parámetro `num_cajas` (cuyo valor por defecto es 3), y recibe en `clientes` una lista con los nombres de los clientes. La función debe repartir los clientes en orden de llegada de manera equitativa entre las cajas, e imprimir por pantalla a qué clientes se atendería en cada una. Se sugiere utilizar una cola para almacenar los clientes que se atenderían en cada caja, antes de imprimir el resultado.\n",
    "\n",
    "Ejemplo de resultado: \n",
    "```Python\n",
    "simular_supermercado([\"Ana\", \"Luis\", \"Pedro\", \"Clara\", \"Juan\", \"Marta\", \"Carlos\"], 3)\n",
    "\n",
    "==>\n",
    "\n",
    "Caja 1:\n",
    "  Atendiendo a Ana\n",
    "  Atendiendo a Clara\n",
    "  Atendiendo a Carlos\n",
    "Caja 2:\n",
    "  Atendiendo a Luis\n",
    "  Atendiendo a Juan\n",
    "Caja 3:\n",
    "  Atendiendo a Pedro\n",
    "  Atendiendo a Marta\n",
    "```\n"
   ]
  },
  {
   "cell_type": "code",
   "execution_count": 48,
   "id": "3624a67d",
   "metadata": {},
   "outputs": [
    {
     "name": "stdout",
     "output_type": "stream",
     "text": [
      "Caja 1\n",
      "  Atendiendo a Ana\n",
      "  Atendiendo a Clara\n",
      "  Atendiendo a Carlos\n",
      "Caja 2\n",
      "  Atendiendo a Luis\n",
      "  Atendiendo a Juan\n",
      "Caja 3\n",
      "  Atendiendo a Pedro\n",
      "  Atendiendo a Marta\n"
     ]
    }
   ],
   "source": [
    "def simular_supermercado(clientes: list, num_cajas=3):\n",
    "    q = []\n",
    "    \n",
    "    for i, cliente in enumerate(clientes):\n",
    "        q.append((i % num_cajas, cliente))\n",
    "\n",
    "    q = sorted(q, key=lambda x: x[0])\n",
    "\n",
    "    prev = -1\n",
    "    for p, name in q:\n",
    "        if prev != p:\n",
    "            print(f'Caja {p + 1}')\n",
    "            prev = p\n",
    "        print(f'  Atendiendo a {name}')\n",
    "    \n",
    "simular_supermercado([\"Ana\", \"Luis\", \"Pedro\", \"Clara\", \"Juan\", \"Marta\", \"Carlos\"], 3)"
   ]
  },
  {
   "cell_type": "markdown",
   "id": "a1c19a27-2be9-4b5d-a80b-ea9901c69cbb",
   "metadata": {},
   "source": [
    "***\n",
    "**Ejercicio 10**: Implementa una función `cola_prioridad(clientes)` que acepte una lista de clientes, en la que cada cliente es un par `(nombre_cliente, prioridad)` y donde la `prioridad` puede ser \"normal\" o \"urgente\". La función debe devolver otra lista solo con los nombres de los clientes, de manera que todos los clientes urgentes se ubiquen primero y los no urgentes detrás, manteniendo el orden relativo (FIFO) entre ellos de la lista original.\n",
    "\n",
    "Ejemplo de resultado: \n",
    "```Python\n",
    "print(cola_prioridad([(\"Ana\", \"normal\"), (\"Luis\", \"urgente\"), \n",
    "                      (\"Eva\", \"normal\"), (\"Pedro\", \"urgente\")])) \n",
    "\n",
    "==> \n",
    "\n",
    "['Luis', 'Pedro', 'Ana', 'Eva']\n",
    "```"
   ]
  },
  {
   "cell_type": "code",
   "execution_count": 52,
   "id": "816f7173-06cb-4bc0-9528-6d7281d4bb5f",
   "metadata": {},
   "outputs": [
    {
     "name": "stdout",
     "output_type": "stream",
     "text": [
      "['Luis', 'Pedro', 'Ana', 'Eva']\n"
     ]
    }
   ],
   "source": [
    "def cola_prioridad(clientes: list) -> list:\n",
    "    q = []\n",
    "    u = -1\n",
    "    for name, prioridad in clientes:\n",
    "        if prioridad == 'urgente':\n",
    "            u += 1 \n",
    "            q.insert(u, name)\n",
    "        else:\n",
    "            q.append(name)\n",
    "\n",
    "    return q\n",
    "\n",
    "print(cola_prioridad([(\"Ana\", \"normal\"), (\"Luis\", \"urgente\"), (\"Eva\", \"normal\"), (\"Pedro\", \"urgente\")]))"
   ]
  },
  {
   "cell_type": "markdown",
   "id": "cbf527ff-cc0c-469e-9ac2-48d68b6346f3",
   "metadata": {},
   "source": [
    "## Sección 3: Recorridos secuenciales"
   ]
  },
  {
   "cell_type": "markdown",
   "id": "77311dc9-3f45-4007-90f1-19cf863d7929",
   "metadata": {},
   "source": [
    "***\n",
    "**Ejercicio 11**: Implementa una función `mas_frecuente(secuencia)` que acepte una secuencia de valores, y devuelva el elemento más frecuente. Si varios elementos tienen la misma frecuencia máxima, puede devolver cualquiera de ellos.\n",
    "\n",
    "Ejemplo de resultado: \n",
    "```Python\n",
    "print(mas_frecuente([1, 3, 1, 3, 2, 1, 4, 3, 3])) ==> 3\n",
    "print(mas_frecuente([1, 2, 3, 2, 1, 3, 3, 2, 1])) ==> 1\n",
    "\n",
    "```"
   ]
  },
  {
   "cell_type": "code",
   "execution_count": 65,
   "id": "3a982b6e-af02-4753-a8d5-735cc12a0ad8",
   "metadata": {},
   "outputs": [
    {
     "name": "stdout",
     "output_type": "stream",
     "text": [
      "3\n",
      "1\n"
     ]
    }
   ],
   "source": [
    "def mas_frecuente(secuencia: list) -> int:\n",
    "    i = 0\n",
    "    d = {}\n",
    "    for a in secuencia:\n",
    "        d[a] = d.get(a, 0) + 1\n",
    "    \n",
    "    return max(d.items(), key=lambda x: x[1])[0]\n",
    "\n",
    "print(mas_frecuente([1, 3, 1, 3, 2, 1, 4, 3, 3]))     # 3\n",
    "print(mas_frecuente([1, 2, 3, 2, 1, 3, 3, 2, 1]))     # 1"
   ]
  },
  {
   "cell_type": "markdown",
   "id": "275ddc85-4081-4fc7-9435-3e97b541c05d",
   "metadata": {},
   "source": [
    "***\n",
    "**Ejercicio 12**: Implementa una función booleana `tiene_duplicados(secuencia)` que acepte una secuencia de valores, y devuelva True si existen elementos duplicados, y False en caso contrario.\n",
    "\n",
    "Ejemplo de resultado: \n",
    "```Python\n",
    "print(tiene_duplicados([1, 2, 3, 4, 5])) ==> False\n",
    "print(tiene_duplicados([1, 2, 3, 2, 5])) ==> True\n",
    "```"
   ]
  },
  {
   "cell_type": "code",
   "execution_count": 70,
   "id": "c57ce498-dd4f-4566-a4a8-8c5769dcdcf7",
   "metadata": {},
   "outputs": [
    {
     "name": "stdout",
     "output_type": "stream",
     "text": [
      "False\n",
      "True\n"
     ]
    }
   ],
   "source": [
    "def tiene_duplicados(secuencia: list) -> bool:\n",
    "    i = 0\n",
    "    d = {}\n",
    "    while i < len(secuencia):\n",
    "        e = secuencia[i]\n",
    "        if e in d:\n",
    "            return True\n",
    "        else:\n",
    "            d[e] = 1\n",
    "        i += 1\n",
    "    return False\n",
    "\n",
    "print(tiene_duplicados([1, 2, 3, 4, 5])) # False\n",
    "print(tiene_duplicados([1, 2, 3, 2, 5])) # True"
   ]
  },
  {
   "cell_type": "markdown",
   "id": "29be81af-6c2b-4804-832a-b7c444786421",
   "metadata": {},
   "source": [
    "***\n",
    "**Ejercicio 13**: Implementa una función `encontrar_picos(secuencia)` que acepte una secuencia de valores numéricos, y devuelva una lista con los **índices** de los \"picos locales\" encontrados en la secuencia. Un \"pico local\" es aquel valor que es estrictamente superior a sus \"vecinos\" (los valores anterior y/o posterior) en la secuencia.\n",
    "\n",
    "Ejemplo de resultado: \n",
    "```Python\n",
    "print(encontrar_picos([1, 3, 2, 4, 1, 0, 5]))  ==> [1, 3, 6]\n",
    "print(encontrar_picos([5, 3, 2, 4, 7, 2, 1]))  ==> [0, 4]\n",
    "```"
   ]
  },
  {
   "cell_type": "code",
   "execution_count": 74,
   "id": "8cdb9ce0-7dd8-4065-b66d-cdecd43abb84",
   "metadata": {},
   "outputs": [
    {
     "name": "stdout",
     "output_type": "stream",
     "text": [
      "[1, 3, 6]\n",
      "[0, 4]\n"
     ]
    }
   ],
   "source": [
    "def encontrar_picos(secuencia: list) -> list:\n",
    "    res = []\n",
    "    for i, e in enumerate(secuencia):\n",
    "        if i == 0:\n",
    "            prev = True\n",
    "            pos = e > secuencia[i + 1]\n",
    "        elif i == len(secuencia) - 1:\n",
    "            prev = e > secuencia[i - 1]\n",
    "            pos = True\n",
    "        else:\n",
    "            prev = e > secuencia[i - 1]\n",
    "            pos = e > secuencia[i + 1]\n",
    "        if prev and pos:\n",
    "            res.append(i)\n",
    "\n",
    "    return res\n",
    "\n",
    "print(encontrar_picos([1, 3, 2, 4, 1, 0, 5]))  # [1, 3, 6]\n",
    "print(encontrar_picos([5, 3, 2, 4, 7, 2, 1]))  # [0, 4]"
   ]
  },
  {
   "cell_type": "markdown",
   "id": "211126b2-b9ef-4104-baab-0f2b950972f2",
   "metadata": {},
   "source": [
    "***\n",
    "**Ejercicio 14**: Implementa una función `suma_sublistas(secuencia)` que acepte una secuencia de listas que contienen valores numéricos, y devuelva una lista con la **suma** de los valores de cada sublista.\n",
    "\n",
    "Ejemplo de resultado: \n",
    "```Python\n",
    "print(suma_sublistas([[1,2,3], [4,5], [6]]))         ==> [6, 9, 6]\n",
    "print(suma_sublistas([[], [1,11,23,7], [2], [0,4]])) ==> [0, 42, 2, 4]\n",
    "```"
   ]
  },
  {
   "cell_type": "code",
   "execution_count": 76,
   "id": "334289cd-27cb-4543-849a-2d8fd5a89751",
   "metadata": {},
   "outputs": [
    {
     "name": "stdout",
     "output_type": "stream",
     "text": [
      "[6, 9, 6]\n",
      "[0, 42, 2, 4]\n"
     ]
    }
   ],
   "source": [
    "def suma_sublistas(secuencia: list) -> list:\n",
    "    return list(map(lambda x: sum(x), secuencia))\n",
    "\n",
    "\n",
    "print(suma_sublistas([[1,2,3], [4,5], [6]]))         # [6, 9, 6]\n",
    "print(suma_sublistas([[], [1,11,23,7], [2], [0,4]])) # [0, 42, 2, 4]"
   ]
  },
  {
   "cell_type": "markdown",
   "id": "fa933b51-193f-4fbe-a31f-64ea4064b98c",
   "metadata": {},
   "source": [
    "***\n",
    "**Ejercicio 15**: Implementa una función `contar_unicos(secuencia)` que acepte una secuencia de valores y devuelva la cantidad de valores únicos que contiene.\n",
    "\n",
    "Ejemplo de resultado: \n",
    "```Python\n",
    "print(contar_unicos([1, 2, 2, 3, 4, 4, 4, 5, 1]))  ==> 5\n",
    "print(contar_unicos([8, 12, 8, 12, 8, 8, 12, 12])) ==> 2\n",
    "```"
   ]
  },
  {
   "cell_type": "code",
   "execution_count": 87,
   "id": "77ce5567-2100-4d6e-a345-a0b5aa0102fe",
   "metadata": {},
   "outputs": [
    {
     "name": "stdout",
     "output_type": "stream",
     "text": [
      "5\n",
      "2\n",
      "5\n",
      "2\n"
     ]
    }
   ],
   "source": [
    "from functools import reduce\n",
    "\n",
    "def contar_unicos(secuencia: list) -> int:\n",
    "    return len(set(secuencia))\n",
    "\n",
    "def contar_unicos2(secuencia: list) -> int:\n",
    "    d = {}\n",
    "    for e in secuencia:\n",
    "        if e not in d:\n",
    "            d[e] = 1\n",
    "    return len(d)\n",
    "\n",
    "print(contar_unicos([1, 2, 2, 3, 4, 4, 4, 5, 1]))  # 5\n",
    "print(contar_unicos([8, 12, 8, 12, 8, 8, 12, 12])) # 2\n",
    "print(contar_unicos2([1, 2, 2, 3, 4, 4, 4, 5, 1]))  # 5\n",
    "print(contar_unicos2([8, 12, 8, 12, 8, 8, 12, 12])) # 2"
   ]
  },
  {
   "cell_type": "markdown",
   "id": "f6e9658d-6a10-45ca-b2e3-42b315a3e993",
   "metadata": {},
   "source": [
    "## Sección 4: Recorridos Binarios"
   ]
  },
  {
   "cell_type": "markdown",
   "id": "229609ca-2f69-4316-a4fc-add6d5c277c5",
   "metadata": {},
   "source": [
    "***\n",
    "**Ejercicio 16**: Implementa una función `busqueda_binaria(secuencia, objetivo)` que acepte una secuencia de valores ordenada y un valor `objetivo` a buscar, y devuelva el índice de este valor en la secuencia, o `-1` si no lo encuentra.\n",
    "\n",
    "Ejemplo de resultado: \n",
    "```Python\n",
    "print(busqueda_binaria([1, 3, 5, 7, 9, 11], 7))  ==> 3\n",
    "print(busqueda_binaria([1, 3, 5, 7, 9, 11], 23)) ==> -1\n",
    "```"
   ]
  },
  {
   "cell_type": "code",
   "execution_count": 127,
   "id": "da4b36ef-b3a8-4fcc-a37a-a1d4229031db",
   "metadata": {},
   "outputs": [
    {
     "name": "stdout",
     "output_type": "stream",
     "text": [
      "3\n",
      "-1\n",
      "5\n",
      "0\n"
     ]
    }
   ],
   "source": [
    "def busqueda_binaria(secuencia: list, objetivo: int) -> int:\n",
    "    if not secuencia:\n",
    "        return -1\n",
    "\n",
    "    m = len(secuencia) // 2\n",
    "    if secuencia[m] == objetivo:\n",
    "        return m\n",
    "    if secuencia[m] < objetivo:\n",
    "        resultado = busqueda_binaria(secuencia[m + 1:], objetivo)\n",
    "        return -1 if resultado == -1 else m + 1 + resultado\n",
    "    if secuencia[m] > objetivo:\n",
    "        return busqueda_binaria(secuencia[:m], objetivo)\n",
    "    return -1\n",
    "\n",
    "print(busqueda_binaria([1, 3, 5, 7, 9, 11], 7))  # 3\n",
    "print(busqueda_binaria([1, 3, 5, 7, 9, 11], 23)) # -1\n",
    "print(busqueda_binaria([1, 3, 5, 7, 9, 11], 11)) # 5\n",
    "print(busqueda_binaria([1, 3, 5, 7, 9, 11], 1)) # 0"
   ]
  },
  {
   "cell_type": "markdown",
   "id": "5f160feb-5e8f-41a8-a2cd-acfaad2237c0",
   "metadata": {},
   "source": [
    "***\n",
    "**Ejercicio 17**: Implementa una función `posicion_insercion(lista, valor)` que acepte una lista ordenada de valores numéricos y un `valor` adicional, y devuelva la posición de la secuencia en la que se debería insertar el valor para mantenera el orden en la lista.\n",
    "\n",
    "Ejemplo de resultado: \n",
    "```Python\n",
    "print(posicion_insercion([12, 33, 54, 61], 10)) ==> 0\n",
    "print(posicion_insercion([12, 33, 54, 61], 40)) ==> 2\n",
    "print(posicion_insercion([12, 33, 54, 61], 73)) ==> 4\n",
    "```"
   ]
  },
  {
   "cell_type": "code",
   "execution_count": 126,
   "id": "79b0a42b-6eb5-42ad-b2ff-d1508bcea49b",
   "metadata": {},
   "outputs": [
    {
     "name": "stdout",
     "output_type": "stream",
     "text": [
      "0\n",
      "2\n",
      "4\n"
     ]
    }
   ],
   "source": [
    "def posicion_insercion(secuencia: list, objetivo: int) -> int:\n",
    "    if not secuencia:\n",
    "        return 0\n",
    "\n",
    "    m = len(secuencia) // 2\n",
    "    if secuencia[m] == objetivo:\n",
    "        return m\n",
    "    elif secuencia[m] < objetivo:\n",
    "        return m + 1 + posicion_insercion(secuencia[m + 1:], objetivo)\n",
    "    else:\n",
    "        return posicion_insercion(secuencia[:m], objetivo) \n",
    "\n",
    "print(posicion_insercion([12, 33, 54, 61], 10)) # 0\n",
    "print(posicion_insercion([12, 33, 54, 61], 40)) # 2\n",
    "print(posicion_insercion([12, 33, 54, 61], 73)) # 4"
   ]
  },
  {
   "cell_type": "markdown",
   "id": "2dbe140e-5f4b-4998-beea-705773f02293",
   "metadata": {},
   "source": [
    "***\n",
    "**Ejercicio 18**: Implementa una función `primera_aparicion(lista, objetivo)` que acepte una lista ordenada de valores numéricos en la que puede haber repetidos y un valor `objetivo`, y devuelva la primera posición de la lista en la que aparece dicho valor, o `-1` si este no aparece.\n",
    "\n",
    "Ejemplo de resultado: \n",
    "```Python\n",
    "print(primera_aparicion([1, 1, 1, 2, 2, 3, 3, 4], 3))  ==> 5\n",
    "print(primera_aparicion([1, 1, 1, 2, 2, 3, 3, 4], 1))  ==> 0\n",
    "print(primera_aparicion([1, 1, 1, 2, 2, 3, 3, 4], 0))  ==> -1\n",
    "```"
   ]
  },
  {
   "cell_type": "code",
   "execution_count": 143,
   "id": "055aea62-ee5c-4b13-b633-64f7c73ab6ca",
   "metadata": {},
   "outputs": [
    {
     "name": "stdout",
     "output_type": "stream",
     "text": [
      "5\n",
      "0\n",
      "-1\n"
     ]
    }
   ],
   "source": [
    "def primera_aparicion(secuencia: list, objetivo: int) -> int:\n",
    "    i = 0\n",
    "    f = len(secuencia) - 1\n",
    "    res = -1\n",
    "\n",
    "    while i <= f:\n",
    "        m = (i + f) // 2\n",
    "        if secuencia[m] == objetivo:\n",
    "            res = m\n",
    "            # Pero seguimos buscando a la izquierda por si hay una aparición anterior\n",
    "            f = m - 1\n",
    "        elif secuencia[m] < objetivo:\n",
    "            i = m + 1\n",
    "        else:\n",
    "            f = m - 1\n",
    "\n",
    "    return res\n",
    "\n",
    "print(primera_aparicion([1, 1, 1, 2, 2, 3, 3, 4], 3))  # 5\n",
    "print(primera_aparicion([1, 1, 1, 2, 2, 3, 3, 4], 1))  # 0\n",
    "print(primera_aparicion([1, 1, 1, 2, 2, 3, 3, 4], 0))  # -1"
   ]
  },
  {
   "cell_type": "markdown",
   "id": "2a218d22-1a40-44d0-8c12-cba19336c9d2",
   "metadata": {},
   "source": [
    "***\n",
    "**Ejercicio 19**: Implementa una función `raiz_entera(numero)` que acepte un número entero y devuelva su raíz cuadrada entera (sin utilizar el operador `**` o la función `math.sqrt(n)`de Python).\n",
    "\n",
    "Sugerencia: Para ello, se puede considerar que buscamos un número entero `x` tal que: `x * x <= n < (x+1) * (x+1)`, donde `x` estará en el rango `[0, n]`. Desde ese punto de vista, podemos usar la búsqueda binaria para localizar ese número `x` en el espacio ordenado `[0, 1, 2, ...., n]`.\n",
    "\n",
    "Ejemplo de resultado: \n",
    "```Python\n",
    "print(raiz_entera(9))   ==> 3\n",
    "print(raiz_entera(10))  ==> 3\n",
    "print(raiz_entera(100)) ==> 10\n",
    "```"
   ]
  },
  {
   "cell_type": "code",
   "execution_count": 147,
   "id": "baed642d-1937-41ca-aba8-53d6e0dbb2dc",
   "metadata": {},
   "outputs": [
    {
     "name": "stdout",
     "output_type": "stream",
     "text": [
      "3\n",
      "3\n",
      "10\n"
     ]
    }
   ],
   "source": [
    "def raiz_entera(numero: int) -> int:\n",
    "    i = 0\n",
    "    f = numero\n",
    "    res = 0\n",
    "\n",
    "    while  i < f:\n",
    "        m = (i + f) // 2\n",
    "\n",
    "        if m * m <= numero:\n",
    "            res = m\n",
    "            i = m + 1\n",
    "        else:\n",
    "            f = m\n",
    "    return res\n",
    "\n",
    "print(raiz_entera(9))   # 3\n",
    "print(raiz_entera(10))  # 3\n",
    "print(raiz_entera(100)) # 10"
   ]
  },
  {
   "cell_type": "markdown",
   "id": "1ccc9528-2a33-4fd1-8057-a05847737d1a",
   "metadata": {},
   "source": [
    "***\n",
    "**Ejercicio 20**: Implementa una función `buscar_pico(lista)` que acepte una lista \"montañosa\" de valores numéricos y devuelva la **posición** que ocupa \"pico\" de dicha lista. Una lista \"montañosa\" es aquella que primero crece estrictamente (valores cada vez mayores) y luego disminuye estrictamente (valores cada vez menores). En ese tipo de lista, el \"pico\" es el valor máximo, que establece el punto de inflexión entre la \"subida\" y \"bajada\" de valores.\n",
    "\n",
    "Sugerencia: se puede usar búsqueda binaria, considerando que en cada paso, la comparación entre el valor `medio` y el siguiente (`medio+1`) nos dirá si estamos en la parte \"creciente\" o \"decreciente\" de la lista.\n",
    "\n",
    "\n",
    "Ejemplo de resultado: \n",
    "```Python\n",
    "print(buscar_pico([1, 3, 13, 12, 9, 4, 2, 1]))    ==> 2\n",
    "print(buscar_pico([2, 4, 5, 9, 11, 18, 7, 3]))    ==> 5\n",
    "print(buscar_pico([1, 5, 7, 10, 11, 13, 18, 19])) ==> 7\n",
    "```"
   ]
  },
  {
   "cell_type": "code",
   "execution_count": 139,
   "id": "4a574f7e-2b00-4b11-9a33-ecb27abb9843",
   "metadata": {},
   "outputs": [
    {
     "name": "stdout",
     "output_type": "stream",
     "text": [
      "2\n",
      "5\n",
      "7\n"
     ]
    }
   ],
   "source": [
    "def buscar_pico(lista: list) -> int:\n",
    "    i = 0\n",
    "    f = len(lista) - 1\n",
    "    \n",
    "    while i < f:\n",
    "        m = (i + f) // 2\n",
    "\n",
    "        #Compara el punto medio con el siguiente\n",
    "        if lista[m] < lista[m + 1]:\n",
    "            # Como aún es creciente, incrementa la i\n",
    "            i = m + 1\n",
    "        else:\n",
    "            # No crece, por lo que incrementa la f\n",
    "            f = m\n",
    "            \n",
    "    # i == f, en el pico\n",
    "    return i\n",
    "\n",
    "print(buscar_pico([1, 3, 13, 12, 9, 4, 2, 1]))    # 2\n",
    "print(buscar_pico([2, 4, 5, 9, 11, 18, 7, 3]))    # 5\n",
    "print(buscar_pico([1, 5, 7, 10, 11, 13, 18, 19])) # 7"
   ]
  },
  {
   "cell_type": "code",
   "execution_count": null,
   "id": "cd365f9c-3113-4c38-a1ae-4b29c61dd070",
   "metadata": {},
   "outputs": [],
   "source": []
  }
 ],
 "metadata": {
  "kernelspec": {
   "display_name": "Python [conda env:base] *",
   "language": "python",
   "name": "conda-base-py"
  },
  "language_info": {
   "codemirror_mode": {
    "name": "ipython",
    "version": 3
   },
   "file_extension": ".py",
   "mimetype": "text/x-python",
   "name": "python",
   "nbconvert_exporter": "python",
   "pygments_lexer": "ipython3",
   "version": "3.12.7"
  }
 },
 "nbformat": 4,
 "nbformat_minor": 5
}
