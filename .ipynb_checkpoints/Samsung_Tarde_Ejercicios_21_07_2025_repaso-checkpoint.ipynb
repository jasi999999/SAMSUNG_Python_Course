{
 "cells": [
  {
   "cell_type": "markdown",
   "id": "a58e43ae",
   "metadata": {},
   "source": [
    "# Ejercicios de repaso 21 de julio 2025"
   ]
  },
  {
   "cell_type": "markdown",
   "id": "33071305",
   "metadata": {},
   "source": [
    "### 1. Implementar la función `text_stats` que lee un archivo de texto y cuenta cuántas veces aparece cada palabra. Ignora mayúsculas y signos de puntuación.\n",
    "\n",
    "**Requisitos:**\n",
    "- Usar un diccionario para almacenar las frecuencias\n",
    "- Filtrar palabras vacías o muy cortas\n",
    "- Mostrar las 10 palabras más frecuentes\n",
    "- Utilizar expresiones regulares para hacer el `split`"
   ]
  },
  {
   "cell_type": "code",
   "execution_count": 1,
   "id": "d5b0f373",
   "metadata": {},
   "outputs": [],
   "source": [
    "import re\n",
    "\n",
    "def text_stats(path: str):\n",
    "    d = {}\n",
    "    \n",
    "    with open(path, 'r', encoding='utf-8') as f:\n",
    "        lines = f.read()\n",
    "        \n",
    "    # Split con regex\n",
    "    s = re.findall(r\"\\w+\", lines.lower())\n",
    "    #Filtrar palabras más cortas\n",
    "    s = [word for word in s if len(word) > 2]\n",
    "    \n",
    "    for word in s:\n",
    "        d[word] = d.get(word, 0) + 1\n",
    "\n",
    "    # Imprimir las palabras más frecuentes\n",
    "    aux = sorted(d.items(), key=lambda x: x[1], reverse=True)\n",
    "    for i in range(0, 10):\n",
    "        print(aux[i][0])\n",
    "\n",
    "    return d"
   ]
  },
  {
   "cell_type": "markdown",
   "id": "acef0feb",
   "metadata": {},
   "source": [
    "### 2. Crea un sistema de inventario para una tienda.\n",
    "\n",
    "**Pasos sugeridos:**\n",
    "\n",
    "- Define una clase Producto con atributos como nombre, precio, y stock.\n",
    "- Usa un diccionario con los nombres como claves y objetos Producto como valores.\n",
    "\n",
    "**Permite:**\n",
    "\n",
    "- Añadir productos nuevos\n",
    "\n",
    "- Vender productos (disminuir stock)\n",
    "\n",
    "- Listar productos con poco stock (< 5 unidades)"
   ]
  },
  {
   "cell_type": "code",
   "execution_count": 9,
   "id": "cdc4c06e",
   "metadata": {},
   "outputs": [
    {
     "name": "stdout",
     "output_type": "stream",
     "text": [
      "Not enough items\n",
      "Low stock for leche\n"
     ]
    }
   ],
   "source": [
    "class Producto:\n",
    "    _dic = {}\n",
    "    \n",
    "    def __init__(self, name, price, stock):\n",
    "        self.name = name\n",
    "        self.price = price\n",
    "        self.stock = stock\n",
    "\n",
    "    @classmethod\n",
    "    def añadir_nuevo(cls, producto):\n",
    "        if producto.name not in cls._dic:\n",
    "            cls._dic[producto.name] = producto\n",
    "        else:\n",
    "            print('Product already in inventory')\n",
    "        \n",
    "    @classmethod\n",
    "    def vender(cls, producto, unidades):\n",
    "        if producto.name not in cls._dic:\n",
    "            print('Product not in inventory')\n",
    "        else:\n",
    "            prod = cls._dic[producto.name]\n",
    "            if prod.stock < unidades:\n",
    "                print('Not enough items')\n",
    "            else:\n",
    "                prod.stock -= unidades\n",
    "        \n",
    "    @classmethod\n",
    "    def listar_bajo_stock(cls):\n",
    "        for clave, valor in cls._dic.items():\n",
    "            if valor.stock < 5:\n",
    "                print(f'Low stock for {clave}')\n",
    "\n",
    "# Ejemplo de prueba\n",
    "p1 = Producto('arroz', 1.5, 40)\n",
    "p2 = Producto('leche', 0.9, 3)\n",
    "\n",
    "Producto.añadir_nuevo(p1)\n",
    "Producto.añadir_nuevo(p2)\n",
    "\n",
    "Producto.vender(p2, 2)         # Vende 2 leches (quedará 1)\n",
    "Producto.vender(p2, 2)         # Intento fallido: solo queda 1\n",
    "\n",
    "Producto.listar_bajo_stock()   # Mostrará \"leche\" porque tiene stock 1"
   ]
  },
  {
   "cell_type": "markdown",
   "id": "ff473ed0",
   "metadata": {},
   "source": [
    "### 3. Dado un listado de precios de productos, calcula:\n",
    "\n",
    "- El precio promedio\n",
    "\n",
    "- El precio más alto y más bajo\n",
    "\n",
    "- La suma total\n",
    "\n",
    "**Usa `map()`, `reduce()` y funciones lambda.**"
   ]
  },
  {
   "cell_type": "code",
   "execution_count": 12,
   "id": "acf29b69",
   "metadata": {},
   "outputs": [
    {
     "name": "stdout",
     "output_type": "stream",
     "text": [
      "Precio promedio: 85.55555555555556\n",
      "Precio más bajo: 9\n",
      "Precio más alto: 345\n",
      "Suma total: 770\n"
     ]
    }
   ],
   "source": [
    "from functools import reduce\n",
    "\n",
    "precios = [13, 35, 45, 345, 67, 78, 9, 89, 89]\n",
    "\n",
    "suma_total = reduce(lambda acc, y: acc + y, precios)\n",
    "precio_max = reduce(lambda acc, y: acc if acc > y else y, precios)\n",
    "precio_min = reduce(lambda acc, y: acc if acc < y else y, precios)\n",
    "promedio = suma_total / len(precios)\n",
    "\n",
    "print(f\"Precio promedio: {promedio}\")\n",
    "print(f\"Precio más bajo: {precio_min}\")\n",
    "print(f\"Precio más alto: {precio_max}\")\n",
    "print(f\"Suma total: {suma_total}\")"
   ]
  },
  {
   "cell_type": "markdown",
   "id": "36f7108c",
   "metadata": {},
   "source": [
    "### 4. Escribe una función que reciba una lista de temperaturas en Fahrenheit (puede contener valores repetidos) y devuelva un conjunto de temperaturas únicas convertidas a Celsius. Usa `map` con funciones lambda.\n",
    "\n",
    "Recuerda que la conversión se hacía de la siguiente forma:\n",
    "\n",
    "$$\n",
    "Celsius = \\frac{Farenheit - 32}{9/5}\n",
    "$$"
   ]
  },
  {
   "cell_type": "code",
   "execution_count": 14,
   "id": "09a8d378",
   "metadata": {},
   "outputs": [],
   "source": [
    "def conversor(lista: list) -> set:\n",
    "    return set(map(lambda x: (x - 32) / (9 / 5), lista))"
   ]
  },
  {
   "cell_type": "markdown",
   "id": "b3637a00",
   "metadata": {},
   "source": [
    "### 5. Escribe la funcón `agrupar_elementos`, que dado un listado de tuplas (nombre, categoría), agrupa los nombres por categoría en un diccionario y lo devuelve\n",
    "\n",
    "**Ejemplo:**\n",
    "\n",
    "```python\n",
    "agrupar_elementos([(\"Manzana\", \"Fruta\"), (\"Lechuga\", \"Verdura\"), (\"Pera\", \"Fruta\")])\n",
    "```\n",
    "\n",
    "Devolvería:\n",
    "\n",
    "```python\n",
    "{\n",
    "  \"Fruta\": [\"Manzana\", \"Pera\"],\n",
    "  \"Verdura\": [\"Lechuga\"]\n",
    "}\n",
    "```\n"
   ]
  },
  {
   "cell_type": "code",
   "execution_count": 17,
   "id": "05292c00",
   "metadata": {},
   "outputs": [
    {
     "data": {
      "text/plain": [
       "defaultdict(list, {'Fruta': ['Manzana', 'Pera'], 'Verdura': ['Lechuga']})"
      ]
     },
     "execution_count": 17,
     "metadata": {},
     "output_type": "execute_result"
    }
   ],
   "source": [
    "from collections import defaultdict\n",
    "\n",
    "def agrupar_elementos(lista: list) -> dict:\n",
    "    d = defaultdict(list)\n",
    "    for alimento, categoria in lista:\n",
    "        d[categoria].append(alimento)\n",
    "    return d\n",
    "\n",
    "agrupar_elementos([(\"Manzana\", \"Fruta\"), (\"Lechuga\", \"Verdura\"), (\"Pera\", \"Fruta\")])"
   ]
  },
  {
   "cell_type": "markdown",
   "id": "9aed5a83",
   "metadata": {},
   "source": [
    "### 6. Crea una función `histograma_longitud` que tome un fichero de texto y genere un histograma que indique cuántas palabras tienen determinada longitud.\n",
    "\n",
    "**Ejemplo de salida:**\n",
    "\n",
    "```python\n",
    "{\n",
    "  2: 3,  # 3 palabras de 2 letras\n",
    "  4: 5,  # 5 palabras de 4 letras\n",
    "  ...\n",
    "}\n",
    "```"
   ]
  },
  {
   "cell_type": "code",
   "execution_count": 18,
   "id": "3da17853",
   "metadata": {},
   "outputs": [],
   "source": [
    "import re\n",
    "\n",
    "def histograma_longitud(path):\n",
    "    with open(path, 'r', encoding='utf-8') as f:\n",
    "        lines = f.read()\n",
    "        \n",
    "    s = re.findall(r'\\w+', lines.lower())\n",
    "\n",
    "    d = {}\n",
    "    for word in s:\n",
    "        n_letras = len(word)\n",
    "        d[n_letras] = d.get(n_letras, 0) + 1\n",
    "\n",
    "    return d"
   ]
  },
  {
   "cell_type": "markdown",
   "id": "9890e8c0",
   "metadata": {},
   "source": [
    "### 7. Crear una función `elementos_unicos`, que dada una lista de números enteros, devuelve una nueva lista con únicamente los elementos que aparecen una sola vez.\n",
    "\n",
    "Ejemplo:\n",
    "\n",
    "```python\n",
    "elementos_unicos([1, 2, 2, 3, 4, 4, 5])\n",
    "```\n",
    "\n",
    "Devolverá:\n",
    "\n",
    "```python\n",
    "[1, 3, 5]\n",
    "```\n",
    "\n",
    "**La salida estará ordenada por orden de aparición**"
   ]
  },
  {
   "cell_type": "code",
   "execution_count": 22,
   "id": "ddb8bb43",
   "metadata": {},
   "outputs": [
    {
     "data": {
      "text/plain": [
       "[1, 3, 5]"
      ]
     },
     "execution_count": 22,
     "metadata": {},
     "output_type": "execute_result"
    }
   ],
   "source": [
    "def elementos_unicos(lista: list) -> list:\n",
    "    vistos = set()\n",
    "    duplicados = set()\n",
    "    \n",
    "    for num in lista:\n",
    "        if num in vistos:\n",
    "            duplicados.add(num)\n",
    "        else:\n",
    "            vistos.add(num)\n",
    "    \n",
    "    return [num for num in lista if num not in duplicados]\n",
    "\n",
    "elementos_unicos([1, 2, 2, 3, 4, 4, 5])"
   ]
  },
  {
   "cell_type": "markdown",
   "id": "16a4cf17",
   "metadata": {},
   "source": [
    "### 8. Escribe la función `validar_contrasenya`, que dada una contraseña, devuelva si cumple los requisitos (`True` o `False`):\n",
    "\n",
    "- Mínimo 8 caracteres\n",
    "- Al menos una letra mayúscula\n",
    "- Al menos un número\n",
    "- No debe contener espacios\n",
    "- El mismo caracter no puede aparecer más de 2 veces"
   ]
  },
  {
   "cell_type": "code",
   "execution_count": null,
   "id": "a2b30d60",
   "metadata": {},
   "outputs": [],
   "source": [
    "from collections import Counter\n",
    "\n",
    "def validar_contrasenya2(contrasenya: str) -> bool:\n",
    "    # 1. Mínimo 8 caracteres\n",
    "    if len(contrasenya) < 8:\n",
    "        return False\n",
    "    # 2. Al menos una letra mayúscula\n",
    "    if not re.search(r'[A-Z]', contrasenya):\n",
    "        return False\n",
    "    # 3. Al menos un número\n",
    "    if not re.search(r'\\d', contrasenya):\n",
    "        return False\n",
    "    # 4. No debe contener espacios\n",
    "    if ' ' in contrasenya:\n",
    "        return False\n",
    "    # 5. El mismo carácter no puede aparecer más de 2 veces\n",
    "    conteo = Counter(contrasenya)\n",
    "    if any(c > 2 for c in conteo.values()):\n",
    "        return False\n",
    "    return True\n",
    "\n",
    "import re\n",
    "\n",
    "def validar_contrasenya2(contrasenya: str) -> bool:\n",
    "    patron = r'^(?=.*[A-Z])(?=.*\\d)[^\\s]{8,}$'\n",
    "    # Explicación:\n",
    "    # ^                   inicio de cadena\n",
    "    # (?=.*[A-Z])         al menos una mayúscula\n",
    "    # (?=.*\\d)            al menos un dígito\n",
    "    # [^\\s]{8,}           mínimo 8 caracteres sin espacios\n",
    "    # $                   fin de cadena\n",
    "\n",
    "    if not re.match(patron, contrasenya):\n",
    "        return False\n",
    "\n",
    "    # Validar que ningún carácter aparezca más de 2 veces\n",
    "    conteo = Counter(contrasenya)\n",
    "    if any(c > 2 for c in conteo.values()):\n",
    "        return False\n",
    "\n",
    "    return True"
   ]
  },
  {
   "cell_type": "markdown",
   "id": "70aecbae",
   "metadata": {},
   "source": [
    "### 9. Escribe una función `generar_usuarios`, que a partir de una lista de nombres completos, genera automáticamente nombres de usuario únicos usando una función map.\n",
    "\n",
    "**Reglas:**\n",
    "\n",
    "- Primera letra del nombre + primer apellido en minúsculas\n",
    "\n",
    "- Se quitan los acentos\n",
    "\n",
    "- Si se repite, añade un número incremental al final\n",
    "\n",
    "**Ejemplo:**\n",
    "\n",
    "```python\n",
    "generar_usuarios([\"Marc Rodríguez\", \"Ana Rodríguez\", \"Aurora Rodríguez\", \"Ángel Gutierrez\"])\n",
    "```\n",
    "\n",
    "Devolverá:\n",
    "\n",
    "```python\n",
    "[\"mrodriguez\", \"arodriguez\", \"arodriguez1\", \"agutierrez\"]\n",
    "```"
   ]
  },
  {
   "cell_type": "code",
   "execution_count": 30,
   "id": "d6899702",
   "metadata": {},
   "outputs": [
    {
     "data": {
      "text/plain": [
       "['marc rogrígez', 'ana rodríguez', 'aurora rodrígez', 'ángel gutierrez']"
      ]
     },
     "execution_count": 30,
     "metadata": {},
     "output_type": "execute_result"
    }
   ],
   "source": [
    "def generar_usuarios(lista: list) -> list:\n",
    "    return "
   ]
  },
  {
   "cell_type": "markdown",
   "id": "ef4db0cf",
   "metadata": {},
   "source": [
    "### 10. Escribe una función recursiva `num_elementos_atomicos` que cuente cuántos elementos atómicos (no listas) hay en una estructura anidada.\n",
    "\n",
    "**Ejemplo:**\n",
    "\n",
    "```python\n",
    "num_elementos_atomicos([1, [2, [3, 4]], 5])\n",
    "```\n",
    "\n",
    "Devolverá `5`"
   ]
  },
  {
   "cell_type": "code",
   "execution_count": 31,
   "id": "410562f5",
   "metadata": {},
   "outputs": [],
   "source": [
    "def num_elementos_atomicos(lista: list) -> int:\n",
    "    return"
   ]
  },
  {
   "cell_type": "code",
   "execution_count": null,
   "id": "d390d722-f7e1-49bb-97a4-0b692a55e4a9",
   "metadata": {},
   "outputs": [],
   "source": []
  }
 ],
 "metadata": {
  "kernelspec": {
   "display_name": "Python [conda env:base] *",
   "language": "python",
   "name": "conda-base-py"
  },
  "language_info": {
   "codemirror_mode": {
    "name": "ipython",
    "version": 3
   },
   "file_extension": ".py",
   "mimetype": "text/x-python",
   "name": "python",
   "nbconvert_exporter": "python",
   "pygments_lexer": "ipython3",
   "version": "3.12.7"
  }
 },
 "nbformat": 4,
 "nbformat_minor": 5
}
