{
 "cells": [
  {
   "cell_type": "markdown",
   "id": "d98dc9e3-182a-46c4-af2f-ade6187a58dc",
   "metadata": {},
   "source": [
    "# Python Introduction Course (Exercises)\n",
    "- sespana@dsic.upv.es (Salvador España)\n",
    "- vahuir@dsic.upv.es (Vicent Ahuir)"
   ]
  },
  {
   "cell_type": "markdown",
   "id": "3971161a-bf23-49d5-8c5f-6aa942b5035a",
   "metadata": {
    "jp-MarkdownHeadingCollapsed": true
   },
   "source": [
    "# Chapter 1. Basic concepts and starting with Python"
   ]
  },
  {
   "cell_type": "markdown",
   "id": "98ffccc1-b261-4ce6-bc8b-de09982f159f",
   "metadata": {},
   "source": [
    "## Unit 3. Basic Numeric Data Types and Arithmetic Operations"
   ]
  },
  {
   "cell_type": "markdown",
   "id": "3adba34f-fe0f-4966-bc5e-5ff0d3e62dff",
   "metadata": {},
   "source": [
    "### Q1. (p. 88)  \n",
    "Make a program to:\n",
    "- Use int() to convert a \"50\" to number and add to number 50, print it later.\n",
    "- Also use str() and obtain '5050' has a result."
   ]
  },
  {
   "cell_type": "code",
   "execution_count": null,
   "id": "25eff5bc-824e-4e10-8937-86b65616042c",
   "metadata": {},
   "outputs": [],
   "source": [
    "def u3_q1():\n",
    "    a = 50\n",
    "    b = \"50\"\n",
    "\n",
    "    print(int(b) + 50 )\n",
    "    print(str(a + 5000))\n",
    "\n",
    "u3_q1()"
   ]
  },
  {
   "cell_type": "markdown",
   "id": "7936c339-8fff-4f0d-8170-5666f82b5312",
   "metadata": {},
   "source": [
    "### Q2. (p. 89)  \n",
    "Make a program to:\n",
    "- One letter '1' and three '0' to make a number 1000."
   ]
  },
  {
   "cell_type": "code",
   "execution_count": null,
   "id": "a436ad19-af48-4436-8f77-a100f30c6c88",
   "metadata": {},
   "outputs": [],
   "source": [
    "def u30_q2():\n",
    "    a = '1'\n",
    "    b = '0'\n",
    "\n",
    "    print(int(a + 3 * b))\n",
    "\n",
    "u30_q2()"
   ]
  },
  {
   "cell_type": "markdown",
   "id": "354a86f2-899d-4328-853c-0de2129d5596",
   "metadata": {},
   "source": [
    "## Unit 4. Variables and Input"
   ]
  },
  {
   "cell_type": "markdown",
   "id": "7929ed55-1072-4366-ab00-893116bc4915",
   "metadata": {},
   "source": [
    "### Q1. (p. 156)\n",
    "Make a program to:\n",
    "\n",
    "- Asign to variables 30, 60 as width and height.\n",
    "- Print the area of the rectangle."
   ]
  },
  {
   "cell_type": "code",
   "execution_count": null,
   "id": "1bc67394-7a2d-45d2-8502-a011d1768e6d",
   "metadata": {},
   "outputs": [],
   "source": [
    "def area(height, width):\n",
    "    print(height * width)\n",
    "\n",
    "def u40_q1():\n",
    "    height = 30\n",
    "    width = 60\n",
    "    area(height, width)\n",
    "\n",
    "u40_q1()"
   ]
  },
  {
   "cell_type": "markdown",
   "id": "d2576761-5cee-497d-934f-f4176136cba6",
   "metadata": {},
   "source": [
    "### Q2. (p. 157)\n",
    "Make a program to:\n",
    "\n",
    "- Asign to variables 30, 60 as width and height.\n",
    "- Print the hypotenuse."
   ]
  },
  {
   "cell_type": "code",
   "execution_count": null,
   "id": "7836a1a7-6bd6-492d-89e8-06fcd5c1eefb",
   "metadata": {},
   "outputs": [],
   "source": [
    "import math\n",
    "\n",
    "def area(height, width):\n",
    "    print(math.sqrt(height ** 2 + width ** 2))\n",
    "\n",
    "def u40_q1():\n",
    "    height = int(input(\"Introduce alto:\"))\n",
    "    width = int(input(\"Introduce ancho:\"))\n",
    "    area(height, width)\n",
    "\n",
    "u40_q1()"
   ]
  },
  {
   "cell_type": "markdown",
   "id": "7ac88330-1c9a-489f-8d21-6b39d120848c",
   "metadata": {},
   "source": [
    "### Q1'. (p. 172)\n",
    "Make a program to:\n",
    "\n",
    "- Receive a radius from user and print a circumference and area.\n",
    "- Use the PI value given."
   ]
  },
  {
   "cell_type": "code",
   "execution_count": null,
   "id": "488a6af0-8bb9-4e87-baa2-6f454841cd82",
   "metadata": {},
   "outputs": [],
   "source": [
    "import math\n",
    "\n",
    "PI = 3.141592\n",
    "\n",
    "def area(radius):\n",
    "    print(PI * radius * radius)\n",
    "\n",
    "def circumference(radius):\n",
    "    print(2 * PI * radius)\n",
    "\n",
    "def u41_q1():\n",
    "    radius = input(\"Introduce radio:\")\n",
    "    if (radius.isdigit()):\n",
    "        radius = int(radius)\n",
    "        circumference(radius)\n",
    "        area(radius)\n",
    "    else:\n",
    "        pass\n",
    "        \n",
    "u41_q1()"
   ]
  },
  {
   "cell_type": "markdown",
   "id": "ea5ed258-bfba-49f7-8344-46fe6e8ba5b3",
   "metadata": {},
   "source": [
    "### Q2'. (p. 172)\n",
    "Make a program to:\n",
    "\n",
    "- Display squared values from 2 to 6 in a table as shown."
   ]
  },
  {
   "cell_type": "code",
   "execution_count": null,
   "id": "5a43f373-b89c-4a23-9509-604dddc05a19",
   "metadata": {},
   "outputs": [],
   "source": [
    "def power_of(num, pow):\n",
    "    return num ** pow\n",
    "\n",
    "def u41_q2():\n",
    "    pow = 2\n",
    "    print(\"a\", \"b\", \"a ** n\", sep = \"\\t\") \n",
    "    for i in range (2, 7):\n",
    "        print(i, pow, power_of(i, pow), sep = \"\\t\")\n",
    "\n",
    "u41_q2()"
   ]
  },
  {
   "cell_type": "markdown",
   "id": "125751e8-61c1-4fb0-bbdd-c4255022890a",
   "metadata": {},
   "source": [
    "## Unit 5. Boolean Datatypes, Comparison and Logical Operators"
   ]
  },
  {
   "cell_type": "markdown",
   "id": "6398a426-a9da-4183-b9bc-542357bb6f79",
   "metadata": {},
   "source": [
    "### Q1. (p. 204)\n",
    "Make a program to:\n",
    "\n",
    "- Check if an integer is odd or even."
   ]
  },
  {
   "cell_type": "code",
   "execution_count": null,
   "id": "552bc751-6bad-48f0-bb9b-58618c9871c3",
   "metadata": {},
   "outputs": [],
   "source": [
    "def is_odd(num):\n",
    "    return num % 2 == 0\n",
    "\n",
    "def u50_q1():\n",
    "    number = input(\"Introduzca número:\")\n",
    "    if (number.isdigit()):\n",
    "        number = int(number)\n",
    "        isOdd = is_odd(number)\n",
    "        if (isOdd):\n",
    "            print(\"The integer is even\")\n",
    "        else:\n",
    "            print(\"The integer is odd\")\n",
    "\n",
    "u50_q1()"
   ]
  },
  {
   "cell_type": "markdown",
   "id": "12198b65-27aa-4002-a826-412b6087a654",
   "metadata": {},
   "source": [
    "### Q2. (p. 205)\n",
    "Make a program to:\n",
    "\n",
    "- Return true if the given number is even and between 0 and 100."
   ]
  },
  {
   "cell_type": "code",
   "execution_count": null,
   "id": "f0879215-017a-40d0-8ee5-990bba4b59e7",
   "metadata": {},
   "outputs": [],
   "source": [
    "def u50_q2():\n",
    "    number = input(\"Introduzca número:\")\n",
    "    if (number.isdigit()):\n",
    "        number = int(number)\n",
    "        print(\"Is even and between 0 and 100?:\", number % 2 == 0 and 0 <= number <= 100)\n",
    "\n",
    "u50_q2()"
   ]
  },
  {
   "cell_type": "markdown",
   "id": "bdf4aab5-8b13-46d5-8a5a-1f3ea35e2fbf",
   "metadata": {},
   "source": [
    "### Q1'. (p. 218)\n",
    "Make a program to:\n",
    "\n",
    "- Return true if the given number is between 100 and 1000 and has 3 in the hundreds."
   ]
  },
  {
   "cell_type": "code",
   "execution_count": null,
   "id": "e07a19c4-b636-4af4-949f-65010a23bfdd",
   "metadata": {},
   "outputs": [],
   "source": [
    "def u51_q1():\n",
    "    number = input(\"Introduzca numero:\")\n",
    "    if (number.isdigit()):\n",
    "        number = int(number)\n",
    "        return 100 <= number < 1000 and number // 100 == 3\n",
    "\n",
    "u51_q1()"
   ]
  },
  {
   "cell_type": "markdown",
   "id": "76274f59-7123-4f1d-8d19-7190acb78b5a",
   "metadata": {},
   "source": [
    "### Q2'. (p. 219)\n",
    "Make a program to:\n",
    "\n",
    "- Return true if the given number is multiple of 5."
   ]
  },
  {
   "cell_type": "code",
   "execution_count": null,
   "id": "742e884c-041f-4d0a-a68a-d84a8c225f1a",
   "metadata": {},
   "outputs": [],
   "source": [
    "def u51_q2():\n",
    "    number = input(\"Introduzca numero:\")\n",
    "    if (number.isdigit()):\n",
    "        number = int(number)\n",
    "        return number % 5 == 0\n",
    "\n",
    "u51_q2()"
   ]
  },
  {
   "cell_type": "markdown",
   "id": "5599fd0a-0571-440b-82cb-98993deb4ae2",
   "metadata": {},
   "source": [
    "## Unit 6. Conditional statements-1"
   ]
  },
  {
   "cell_type": "markdown",
   "id": "da312dc3-db70-4a3a-b13f-354214e4fa3d",
   "metadata": {},
   "source": [
    "### Q1. (p. 259)\n",
    "Make a program to:\n",
    "\n",
    "- Return \"You are a master\" if the score is bigger than 1000."
   ]
  },
  {
   "cell_type": "code",
   "execution_count": null,
   "id": "0234baa5-0a09-4e8a-9eaa-14ab8c430b38",
   "metadata": {},
   "outputs": [],
   "source": [
    "def u60_q1():\n",
    "    number = input(\"Enter game score:\")\n",
    "    if number.isdigit():\n",
    "        number = int(number)\n",
    "        print(\"game_score =\", number)\n",
    "        if number > 1000:\n",
    "            print(\"You are a master.\")\n",
    "\n",
    "u60_q1()"
   ]
  },
  {
   "cell_type": "markdown",
   "id": "558fa8d3-f9ba-4237-830f-e57c5e981b20",
   "metadata": {},
   "source": [
    "### Q2. (p. 260)\n",
    "Make a program to:\n",
    "\n",
    "- Return \"x is a natural number\" if it is between -100 and 100."
   ]
  },
  {
   "cell_type": "code",
   "execution_count": null,
   "id": "8f90f135-cf77-476a-b339-68321b72a5aa",
   "metadata": {},
   "outputs": [],
   "source": [
    "def u60_q2():\n",
    "    number = input(\"Enter integer:\")\n",
    "    number = int(number)\n",
    "    print(\"x =\", number)\n",
    "    if 0 <= number <= 1000:\n",
    "        print(number, \"is a natural number.\")\n",
    "\n",
    "u60_q2()"
   ]
  },
  {
   "cell_type": "markdown",
   "id": "01408e57-d77d-4b10-b6e7-564372ca7a9f",
   "metadata": {},
   "source": [
    "### Q1'. (p. 273)\n",
    "Make a program to:\n",
    "\n",
    "- Return \"Adult\" if age is 20 or over, if between 10 and under 20, \"Youth, if below 10, \"Kid\"."
   ]
  },
  {
   "cell_type": "code",
   "execution_count": null,
   "id": "caa8a940-3206-4848-bad5-dcb04cf49463",
   "metadata": {},
   "outputs": [],
   "source": [
    "def u61_q1():\n",
    "    age = input(\"Enter age:\")\n",
    "    if (not age.isdigit()):\n",
    "        return\n",
    "    age = int(age)\n",
    "    if age >= 20:\n",
    "        print(\"Adult\")\n",
    "    elif age >= 10:\n",
    "        print(\"Youth\")\n",
    "    else:\n",
    "        print(\"Kid\")\n",
    "\n",
    "u61_q1()"
   ]
  },
  {
   "cell_type": "markdown",
   "id": "8fe18bca-76c4-4e1b-bc96-7b453815d227",
   "metadata": {},
   "source": [
    "### Q2'. (p. 274)\n",
    "Make a program to:\n",
    "\n",
    "- Return \"You can enter\" if it's adult or Youth and over 170cm of height."
   ]
  },
  {
   "cell_type": "code",
   "execution_count": null,
   "id": "d0fe63d4-5b5d-45fd-ba1a-290994b25bb6",
   "metadata": {},
   "outputs": [],
   "source": [
    "def u61_q2():\n",
    "    min_height = 120\n",
    "    min_age = 10\n",
    "    \n",
    "    age = input(\"Enter age:\")\n",
    "    if (not age.isdigit()):\n",
    "        return\n",
    "    age = int(age)\n",
    "    \n",
    "    height = input(\"Enter height in cm:\")\n",
    "    if (not height.isdigit()):\n",
    "        return\n",
    "    height = int(height)\n",
    "    \n",
    "    if (age >= min_age and height >= min_height):\n",
    "        print(\"You can enter.\")\n",
    "    else:\n",
    "        print(\"Sorry kiddo / short man. Plenty of other things to do.\")\n",
    "\n",
    "u61_q2()"
   ]
  },
  {
   "cell_type": "markdown",
   "id": "0e6f593e-7de2-4a42-a83b-322f840b4529",
   "metadata": {},
   "source": [
    "## Unit 7. Conditional statements-2"
   ]
  },
  {
   "cell_type": "markdown",
   "id": "ad565a38-8610-4ec2-8693-635d0998ca7a",
   "metadata": {},
   "source": [
    "### Q1. (p. 316)\n",
    "Make a program to:\n",
    "\n",
    "- Gets a letter from the alphabet and print if it's vowel or consonant."
   ]
  },
  {
   "cell_type": "code",
   "execution_count": null,
   "id": "e83594f8-0f40-4770-9acc-c9ee83e7def7",
   "metadata": {},
   "outputs": [],
   "source": [
    "def u70_q1():\n",
    "    vowels = ['a', 'e', 'i', 'o', 'u']\n",
    "    \n",
    "    letter = input(\"Enter the alphabet:\")\n",
    "    if letter in vowels:                    # 5 is excluded\n",
    "        print(letter, \"is a vocal\")\n",
    "    # No funciona porque lee 'e' como string no vacía y pone True, por tanto siemopre entra en el if.\n",
    "    # if letter == 'a' or 'e' or 'i' or 'o' or 'u':\n",
    "    # No funciona porque compara todas las letras contra 'a':\n",
    "    # if letter == ('a' or 'e' or 'i' or 'o' or 'u')\n",
    "    else:\n",
    "        print(letter, \"is a consonant\")\n",
    "\n",
    "u70_q1()"
   ]
  },
  {
   "cell_type": "markdown",
   "id": "5fec80e9-bf3d-4d40-989f-59b790d7bcb1",
   "metadata": {},
   "source": [
    "### Q2. (p. 317)\n",
    "Make a program to:\n",
    "\n",
    "- Gets 2 numbers as input. Determine if the first one is a multiple of the second one."
   ]
  },
  {
   "cell_type": "code",
   "execution_count": null,
   "id": "343b4783-f9f2-4951-ab6e-8a7b176afefc",
   "metadata": {},
   "outputs": [],
   "source": [
    "# Precondition: the input is a number, not a letter or other thing\n",
    "def u70_q2():\n",
    "    a = input(\"Write two integers:\")\n",
    "    a, b = a.split()\n",
    "    a, b = int(a), int(b)\n",
    "    \n",
    "    if a % b == 0:\n",
    "        print(a, \"is a multiple of\", b)\n",
    "    else: \n",
    "        print(a, \"is not a multiple of\", b)\n",
    "        \n",
    "    \n",
    "u70_q2()"
   ]
  },
  {
   "cell_type": "markdown",
   "id": "382ab742-ca72-4ca8-b2e1-92ded35c5c97",
   "metadata": {},
   "source": [
    "### Q1'. (p. 333)\n",
    "Make a program to:\n",
    "\n",
    "- Choose an operation from +, -, *, /. Gets the 2 numbers to operate and does it."
   ]
  },
  {
   "cell_type": "code",
   "execution_count": null,
   "id": "ed6a4d50-90e7-421c-a241-68880524b373",
   "metadata": {},
   "outputs": [],
   "source": [
    "# Precondition: user introduces numbers only and not division on 0.\n",
    "def u71_q1():\n",
    "    print(\"1) Addition\\t2) Substraction\\t3) Multiplication\\t4) Division\")\n",
    "    operation = int(input(\"Enter the desired number of operation:\"))\n",
    "\n",
    "    if (operation == 1 or operation == 2 or operation == 3 or operation == 4): \n",
    "        print(\"Enter two numbers for operation.\")\n",
    "        a = int(input())\n",
    "        b = int(input())\n",
    "    \n",
    "    if (operation == 1):\n",
    "        print(a, \"+\", b, \"=\", a + b)\n",
    "    elif (operation == 2):\n",
    "        print(a, \"-\", b, \"=\", a - b)\n",
    "    elif (operation == 3):\n",
    "        print(a, \"*\", b, \"=\", a * b)\n",
    "    elif (operation == 4):\n",
    "        print(a, \"/\", b, \"=\", a / b)\n",
    "    else: \n",
    "        print(\"Entered an incorrect number.\")\n",
    "\n",
    "u71_q1()"
   ]
  },
  {
   "cell_type": "markdown",
   "id": "98395ed9-1da8-4136-be98-252e32f28488",
   "metadata": {},
   "source": [
    "### Q2'. (p. 334)\n",
    "Make a program to:\n",
    "\n",
    "- Given x and y, return which quadrant the user is in."
   ]
  },
  {
   "cell_type": "code",
   "execution_count": null,
   "id": "feab79a6-68d0-4e95-8274-6460eb565583",
   "metadata": {},
   "outputs": [],
   "source": [
    "# Precondición, se presupone que no se utilizarán los valores del eje (0)\n",
    "def u71_q2():\n",
    "    string = input(\"Enter x, y coordinates:\")\n",
    "    a, b = string.split()\n",
    "    a, b = int(a), int(b)\n",
    "    \n",
    "    if a > 0 and b > 0:\n",
    "        print(\"In the first quadrant\")\n",
    "    elif a > 0 and b < 0:\n",
    "        print(\"In the fourth quadrant\")\n",
    "    elif a < 0 and b > 0:\n",
    "        print(\"In the second quadrant\")\n",
    "    elif a < 0 and b < 0:\n",
    "        print(\"In the third quadrant\")\n",
    "    else:\n",
    "        print(\"Please, move out of the axis.\")\n",
    "\n",
    "u71_q2()"
   ]
  },
  {
   "cell_type": "markdown",
   "id": "51d11a61-5fa7-40ef-b075-740ef5ad5578",
   "metadata": {},
   "source": [
    "### Q3'. (p. 335)\n",
    "Make a program to:\n",
    "\n",
    "- Given a menu, give the selected item or repeeat the show menu."
   ]
  },
  {
   "cell_type": "code",
   "execution_count": null,
   "id": "cac69568-372d-41d0-8d6f-c16283f137e6",
   "metadata": {},
   "outputs": [],
   "source": [
    "def u71_q3():\n",
    "    print(\"Welcome to yummy restaurant. Here is the menu.\\n\"\n",
    "         \"- Burger (enter b)\\n\"\n",
    "         \"- Chicken (enter c)\\n\"\n",
    "         \"- Pizza (enter p)\\n\")\n",
    "    chosen = input(\"Choose a menu (enter b, c, p):\")\n",
    "\n",
    "    if chosen == 'b':\n",
    "        print(\"You chose burguer.\")\n",
    "    elif chosen == 'c':\n",
    "        print(\"You chose chicken.\")\n",
    "    elif chosen == 'p':\n",
    "        print(\"You chose pizza.\")\n",
    "    else:\n",
    "        print(\"Not possible.\\n\")\n",
    "        u71_q3()\n",
    "\n",
    "u71_q3()"
   ]
  },
  {
   "cell_type": "markdown",
   "id": "b7d42b19-43f8-460b-9d0d-2ebdcdf22c72",
   "metadata": {},
   "source": [
    "## Unit 8. Loop-1"
   ]
  },
  {
   "cell_type": "markdown",
   "id": "40e650de-05d7-4400-bdf1-3874b6f2def6",
   "metadata": {},
   "source": [
    "### Q1. (p. 372)\n",
    "Make a program to:\n",
    "\n",
    "- Print all elements of the list."
   ]
  },
  {
   "cell_type": "code",
   "execution_count": null,
   "id": "f2f27132-049f-41d3-a8b1-07e095c8caee",
   "metadata": {},
   "outputs": [],
   "source": [
    "def u70_q1():\n",
    "    list = [\"V\", \"J-Hope\", \"RM\", \"Jungkook\", \"Jin\", \"Jimin\", \"Suga\"]\n",
    "\n",
    "    for i in list:\n",
    "        print(i)\n",
    "\n",
    "u70_q1()"
   ]
  },
  {
   "cell_type": "markdown",
   "id": "ea8fe080-633b-41fb-8e1e-9ba20e22301c",
   "metadata": {},
   "source": [
    "### Q2. (p. 373)\n",
    "Make a program to:\n",
    "\n",
    "- Use cumulative adittion to sum all numbes from 1 to 100."
   ]
  },
  {
   "cell_type": "code",
   "execution_count": null,
   "id": "dea7e189-c3a6-41a4-83b5-dfbe21a71d3e",
   "metadata": {},
   "outputs": [],
   "source": [
    "def u70_q2():\n",
    "    s = 0\n",
    "    for i in range(1, 101):\n",
    "        s += i\n",
    "    print(\"Sum of integers from 1 to 100:\", s)\n",
    "\n",
    "u70_q2()"
   ]
  },
  {
   "cell_type": "markdown",
   "id": "f7ae8fbb-9ae0-4010-94d9-2231a9abaeae",
   "metadata": {},
   "source": [
    "### Q3. (p. 374)\n",
    "Make a program to:\n",
    "\n",
    "- Use cumulative adittion to sum all even numbes from 1 to 100."
   ]
  },
  {
   "cell_type": "code",
   "execution_count": null,
   "id": "41879d68-cc3c-44ac-85c7-fe1f5381591b",
   "metadata": {},
   "outputs": [],
   "source": [
    "def u70_q3():\n",
    "    s = 0\n",
    "    for i in range(2, 101, 2):\n",
    "        s += i\n",
    "    print(\"Sum of even numbers from 1 to 100:\", s)\n",
    "\n",
    "u70_q3()"
   ]
  },
  {
   "cell_type": "markdown",
   "id": "cfe804bf-b582-48e2-aec4-ba615c9a6e0c",
   "metadata": {},
   "source": [
    "### Q4. (p. 375)\n",
    "Make a program to:\n",
    "\n",
    "- Use cumulative adittion to sum all odd numbes from 1 to 100."
   ]
  },
  {
   "cell_type": "code",
   "execution_count": null,
   "id": "0cc76afb-81a2-49e0-ab10-67314e601882",
   "metadata": {},
   "outputs": [],
   "source": [
    "def u70_q3():\n",
    "    s = 0\n",
    "    for i in range(1, 100, 2):\n",
    "        s += i\n",
    "    print(\"Sum of odd numbers from 1 to 100:\", s)\n",
    "\n",
    "u70_q3()"
   ]
  },
  {
   "cell_type": "markdown",
   "id": "76f28c2e-1d42-42c0-bca2-2c5f26ca6937",
   "metadata": {},
   "source": [
    "### Q1'. (p. 393)\n",
    "Make a program to:\n",
    "\n",
    "- Print all sits of a user-given n * n concert hall in \"snake\" style."
   ]
  },
  {
   "cell_type": "code",
   "execution_count": null,
   "id": "6e136c01-59af-4742-9f77-c7cf16bb5776",
   "metadata": {},
   "outputs": [],
   "source": [
    "# Precondition: input is a number\n",
    "def u81_q1():\n",
    "    side = int(input(\"Enter n:\"))\n",
    "    \n",
    "    right = True\n",
    "    for i in range(1, side * side, side):\n",
    "        if right:\n",
    "            for j in range(i, i + side, 1):\n",
    "                print(f\"{j : 4d}\", end = \"\")\n",
    "        else:     \n",
    "            for j in range(i + side - 1, i - 1, -1):\n",
    "                print(f\"{j : 4d}\", end = \"\")\n",
    "        print(\"\")\n",
    "        right = not right\n",
    "\n",
    "u81_q1()"
   ]
  },
  {
   "cell_type": "markdown",
   "id": "b4e546ee-8fae-4394-b1d1-b846b25513b6",
   "metadata": {},
   "source": [
    "## Unit 9. Loop-2"
   ]
  },
  {
   "cell_type": "markdown",
   "id": "76037915-dc8d-4188-8f91-59377d6db9f0",
   "metadata": {},
   "source": [
    "### Q1. (p. 430)\n",
    "Make a program to:\n",
    "\n",
    "- Print the table of 2."
   ]
  },
  {
   "cell_type": "code",
   "execution_count": null,
   "id": "e13b0c72-9ce1-41b9-b75f-4d5740ead4e1",
   "metadata": {},
   "outputs": [],
   "source": [
    "def u80_q1():\n",
    "    i = 0\n",
    "    \n",
    "    while i < 10 :\n",
    "        print(\"2 *\", i, \"=\",  2 * i)\n",
    "        i += 1\n",
    "\n",
    "u80_q1()"
   ]
  },
  {
   "cell_type": "markdown",
   "id": "cd6f302c-6dd7-4d80-aaee-6946aa95321a",
   "metadata": {},
   "source": [
    "### Q2. (p. 431)\n",
    "Make a program to:\n",
    "\n",
    "- Print all multiplication tables from 1 to 9."
   ]
  },
  {
   "cell_type": "code",
   "execution_count": null,
   "id": "c90269f4-ac02-436f-bb0e-b30deeff7150",
   "metadata": {},
   "outputs": [],
   "source": [
    "def u80_q2():\n",
    "    i = 1\n",
    "    j = 0\n",
    "    \n",
    "    while i < 10 :\n",
    "        j = 1\n",
    "        while j < 10:\n",
    "            print(i, \"*\", j, \"=\", i * j, sep = \"\")\n",
    "            j += 1\n",
    "            if (i == 2 and j == 5): break              # Make it look like the example\n",
    "        if (i == 2 and j == 5): break                  # Make it look like the example\n",
    "        i += 1\n",
    "\n",
    "u80_q2()"
   ]
  },
  {
   "cell_type": "markdown",
   "id": "4f414ed3-55b0-4d9c-b9de-e591900fc321",
   "metadata": {},
   "source": [
    "### Q1'. (p. 443)\n",
    "Make a program to:\n",
    "\n",
    "- Print if it's a palindrome number or not."
   ]
  },
  {
   "cell_type": "code",
   "execution_count": null,
   "id": "ca6b33e5-7aed-4ed8-b105-67e437c25062",
   "metadata": {},
   "outputs": [],
   "source": [
    "# Precondition: user given string is a number\n",
    "def u81_q1():\n",
    "    number0 = input(\"Enter an integer:\")\n",
    "    return number0 == number0[::-1]\n",
    "\n",
    "u81_q1()"
   ]
  },
  {
   "cell_type": "markdown",
   "id": "7abdb9cb-d663-49e4-a4a6-1b18e7ba3938",
   "metadata": {},
   "source": [
    "### Q2'. (p. 444)\n",
    "Make a program to:\n",
    "\n",
    "- Print all multiplication tables from 1 to 9."
   ]
  },
  {
   "cell_type": "code",
   "execution_count": null,
   "id": "c8873757-6cdd-4df3-a2e0-bff7eea913b7",
   "metadata": {},
   "outputs": [],
   "source": [
    "# Precondition: user inputs a number only\n",
    "import random\n",
    "\n",
    "def u81_q2():\n",
    "    print(\"Guess a number between 1 to 100\")\n",
    "    curr_number = int(input(\"Enter a number:\"))\n",
    "    chosen_number = random.randint(1, 100)\n",
    "    count = 1\n",
    "    \n",
    "    if curr_number == chosen_number:\n",
    "        print(\"Congratulations! First try\")\n",
    "        return\n",
    "        \n",
    "    while curr_number != chosen_number:\n",
    "        if curr_number > chosen_number:\n",
    "            print(\"Lower!\")\n",
    "        else:\n",
    "            print(\"Higher!\")\n",
    "        count+= 1\n",
    "        curr_number = int(input(\"Enter a number:\"))\n",
    "\n",
    "    print(\"Congratulations. Total try =\", count)\n",
    "\n",
    "u81_q2()"
   ]
  },
  {
   "cell_type": "markdown",
   "id": "08f9eba2-72a6-46ef-954e-7d91fd3767de",
   "metadata": {},
   "source": [
    "### Ejercicio Salva 1. Piedra, papel o tijera"
   ]
  },
  {
   "cell_type": "code",
   "execution_count": null,
   "id": "e5e09f09-b8a3-4acd-98db-b63159c222b5",
   "metadata": {},
   "outputs": [],
   "source": [
    "def pedir_ppt(usuario):\n",
    "    selected = None\n",
    "\n",
    "    while selected not in ['piedra', 'papel', 'tijera']:\n",
    "        selected = input(f\"(usuario {usuario}), Elige piedra, papel o tijera:\")\n",
    "    \n",
    "    return selected\n",
    "\n",
    "def quien_gana_ppt(user1, user2):\n",
    "    if user1 == user2:\n",
    "        print('Empate')\n",
    "    elif (user1, user2) in [('piedra', 'tijera'),\n",
    "                            ('papel', 'piedra'),\n",
    "                            ('tijera', 'papel')]:\n",
    "        print('Gana A')\n",
    "    else:\n",
    "        print('Gana B')\n",
    "    \n",
    "usuarioA = pedir_ppt('A')\n",
    "usuarioB = pedir_ppt('B')\n",
    "quien_gana_ppt(usuarioA, usuarioB)"
   ]
  },
  {
   "cell_type": "markdown",
   "id": "08ba8a9a-2cd7-496f-893a-d9f3b2521777",
   "metadata": {},
   "source": [
    "### Ejercicio Salva 2. Dar los números separados por espacio"
   ]
  },
  {
   "cell_type": "code",
   "execution_count": null,
   "id": "136ce7b5-d1bf-44b0-8fea-c37078fefb64",
   "metadata": {},
   "outputs": [],
   "source": [
    "tokens = input(\"Dame los números separados por un espacio:\").split()\n",
    "total = 0\n",
    "for token in tokens:\n",
    "    total += int(token)\n",
    "print(total)"
   ]
  },
  {
   "cell_type": "markdown",
   "id": "ac49520b-9785-4f49-8623-a537ee52130d",
   "metadata": {},
   "source": [
    "### Ejercicio Salva 3. Number master (1 al 9999)"
   ]
  },
  {
   "cell_type": "code",
   "execution_count": null,
   "id": "8689d321-694c-4b01-941a-9ec1500d1e6e",
   "metadata": {},
   "outputs": [],
   "source": [
    "# Precondition: given user number is only between 1 and 9999 everytime\n",
    "import random\n",
    "\n",
    "def number_master():\n",
    "    numero = str(random.randint(1, 9999))\n",
    "\n",
    "    curr_num = input(\"Adivina el number master (1 to 9999):\")\n",
    "    \n",
    "    if curr_num == numero: \n",
    "        print(\"First try! Congratulations\")\n",
    "        return\n",
    "        111\n",
    "    while curr_num != numero:\n",
    "        fully_ok = 0\n",
    "        half_ok = 0\n",
    "        for i in range(4):\n",
    "            if curr_num[i] == numero[i]:\n",
    "                fully_ok += 1\n",
    "        for j in range(4):\n",
    "            if curr_num[j] == numero[j]:\n",
    "                continue\n",
    "            for k in range(4):\n",
    "                if curr_num[k] == numero[j]:\n",
    "                    half_ok += 1\n",
    "        print(fully_ok,\"correct and well located, \", half_ok, \"correct and wrongly located.\")\n",
    "        curr_num = input(\"Adivina el number master (1 to 9999):\")\n",
    "\n",
    "    print(\"You found the number\", numero,\"!\")\n",
    "\n",
    "number_master()"
   ]
  },
  {
   "cell_type": "markdown",
   "id": "847300e4-09f2-4363-bc38-750478e858e5",
   "metadata": {},
   "source": [
    "### Ejercicio Salva 3'. Number master (*Sin repetir digitos*)"
   ]
  },
  {
   "cell_type": "code",
   "execution_count": null,
   "id": "8ce91d09-178a-4f08-a3df-8495ae0ed156",
   "metadata": {},
   "outputs": [],
   "source": [
    "# Precondition: given user number is only between 1 and 9999 everytime\n",
    "import random\n",
    "\n",
    "def number_master():\n",
    "    digits = '0 1 2 3 4 5 6 7 8 9'.split()                        # Lista con todos los números\n",
    "    numero = ''                                                   # String con el número a \"descubrir\"\n",
    "\n",
    "    for i in range(4):                                            # Find 4 digits\n",
    "        addable = digits.pop(random.randint(0, len(digits) - 1))  # Assures no repeated digits (as choses only digits)\n",
    "        numero += str(addable)                                    # Adds tu \"findable\" number\n",
    "\n",
    "    curr_num = input(\"Adivina el number master (1 to 9999):\")\n",
    "    \n",
    "    if curr_num == numero: \n",
    "        print(\"First try! Congratulations\")\n",
    "        return\n",
    "    \n",
    "    while curr_num != numero:\n",
    "        fully_ok = 0\n",
    "        half_ok  = 0\n",
    "        for i in range(4):\n",
    "            if curr_num[i] == numero[i]:\n",
    "                fully_ok += 1\n",
    "            for j in range(4):\n",
    "                if curr_num[i] == numero[j] and j != i:\n",
    "                    half_ok += 1\n",
    "        print(fully_ok,\"correct and well located, \", half_ok, \"correct and wrongly located.\")\n",
    "        curr_num = input(\"Adivina el number master (1 to 9999):\")\n",
    "\n",
    "    print(\"You found the number\", numero,\"!\")\n",
    "\n",
    "number_master()"
   ]
  },
  {
   "cell_type": "markdown",
   "id": "c4b081e5-2224-4eba-9a5b-7834a4418760",
   "metadata": {
    "jp-MarkdownHeadingCollapsed": true
   },
   "source": [
    "# Chapter 2. Python basics and sequence Data Types"
   ]
  },
  {
   "cell_type": "markdown",
   "id": "07a2c111-2ce3-4c59-8590-607e37eb72df",
   "metadata": {},
   "source": [
    "## Unit 10. List and Tuple Data Types"
   ]
  },
  {
   "cell_type": "markdown",
   "id": "73719b79-c1b3-4f30-a020-38ffbb90eb11",
   "metadata": {},
   "source": [
    "### Q1. (p. 73)  \n",
    "Make a program to:\n",
    "- Not using **min()**, print the shortest string."
   ]
  },
  {
   "cell_type": "code",
   "execution_count": null,
   "id": "6b3a9149-caa0-4734-a18d-a1dd9c45c2d0",
   "metadata": {},
   "outputs": [],
   "source": [
    "def u100_q1():\n",
    "    s_list = ['abc', 'bcd', 'bcdefg', 'abba', 'cddc', 'opq']\n",
    "\n",
    "    prev = '99999999999999999999999999'\n",
    "    for word in s_list:\n",
    "        if len(word) < len(prev):\n",
    "            prev = word\n",
    "\n",
    "    print(f\"The shortest string: {prev}\")\n",
    "\n",
    "u100_q1()"
   ]
  },
  {
   "cell_type": "markdown",
   "id": "d5d3a6e3-c424-43da-b6fd-bed33d73d32a",
   "metadata": {},
   "source": [
    "### Q2. (p. 74)  \n",
    "Make a program to:\n",
    "- Not using **max()**, print the longest string."
   ]
  },
  {
   "cell_type": "code",
   "execution_count": null,
   "id": "1e450f86-b3a0-4414-a872-df489e6ebed9",
   "metadata": {},
   "outputs": [],
   "source": [
    "def u100_q2():\n",
    "    s_list = ['abc', 'bcd', 'bcdefg', 'abba', 'cddc', 'opq']\n",
    "\n",
    "    prev = ''\n",
    "    for word in s_list:\n",
    "        if len(word) > len(prev):\n",
    "            prev = word\n",
    "\n",
    "    print(f\"The longest string: {prev}\")\n",
    "\n",
    "u100_q2()"
   ]
  },
  {
   "cell_type": "markdown",
   "id": "3928dfeb-510c-4ee2-bf69-4329632abfb9",
   "metadata": {},
   "source": [
    "### Q3. (p. 75)  \n",
    "Make a program to:\n",
    "- Not using **min()**, print all the shortest strings (if there's more than one with min value)."
   ]
  },
  {
   "cell_type": "code",
   "execution_count": null,
   "id": "6d545cde-84e8-43c4-854f-8081fe0fcb2a",
   "metadata": {},
   "outputs": [],
   "source": [
    "def u100_q3():\n",
    "    s_list = ['abc', 'bcd', 'bcdefg', 'abba', 'cddc', 'opq']\n",
    "\n",
    "    prev = '99999999999999999999999999'\n",
    "    res = []\n",
    "    for word in s_list:\n",
    "        if len(word) < len(prev):\n",
    "            res.clear()\n",
    "            res.append(word)\n",
    "            prev = word\n",
    "        elif len(word) == len(prev):\n",
    "            res.append(word)\n",
    "\n",
    "    print(f\"The shortest strings: {res}\")\n",
    "\n",
    "u100_q3()"
   ]
  },
  {
   "cell_type": "markdown",
   "id": "9dc948dc-9395-4cdc-ba4b-af82a23c954d",
   "metadata": {},
   "source": [
    "### Ejercicio Salva 1. Comprueba que palabras comparten ambas cadenas"
   ]
  },
  {
   "cell_type": "code",
   "execution_count": null,
   "id": "692a8651-de0c-477f-a420-deff6be95b77",
   "metadata": {},
   "outputs": [],
   "source": [
    "frase1 = 'asdc erwvew wer'.split()\n",
    "frase2 = 'asd adv erv asdc wdwr'.split()\n",
    "\n",
    "for palabra in frase1:\n",
    "    if palabra in frase2:\n",
    "    print(palabra)"
   ]
  },
  {
   "cell_type": "markdown",
   "id": "1ad9f4ba-6a70-4c0c-8c83-c12be88681e4",
   "metadata": {},
   "source": [
    "### Ejercicio Salva 2. Contador de numeros según en que acaban"
   ]
  },
  {
   "cell_type": "code",
   "execution_count": null,
   "id": "a82bfffc-b085-49d4-8559-9af5ccf320a8",
   "metadata": {},
   "outputs": [],
   "source": [
    "num_given = ''\n",
    "\n",
    "count = [0, 0, 0, 0, 0, 0, 0, 0, 0, 0, 0]\n",
    "while num_given != 'end':\n",
    "    num_given = input(\"Dame un dato: \")\n",
    "    if (num_given.isdigit()):\n",
    "        num_given = int(num_given)\n",
    "        count[num_given % 10] += 1\n",
    "\n",
    "for i in range(10):\n",
    "    print(f\"Hay {count[i]} números terminados en {i}\")"
   ]
  },
  {
   "cell_type": "markdown",
   "id": "2e2a2e0c-1108-43f1-998b-91fba6e4abd8",
   "metadata": {},
   "source": [
    "### Ejercicio Salva 2. Guardar los números"
   ]
  },
  {
   "cell_type": "code",
   "execution_count": null,
   "id": "91d9c0f6-5f8c-4bdb-b809-c0a8d39acdf4",
   "metadata": {},
   "outputs": [],
   "source": [
    "num_given = ''\n",
    "\n",
    "count = [[], [], [], [], [], [], [], [], [], []]\n",
    "while num_given != 'end':\n",
    "    num_given = input(\"Dame un dato: \")\n",
    "    if (num_given.isdigit()):\n",
    "        num_given = int(num_given)\n",
    "        cifra = num_given % 10\n",
    "        if num_given not in count[cifra]:\n",
    "            count[cifra].append(num_given)\n",
    "\n",
    "for i in range(10):\n",
    "    print(f\"Los números terminados en {i} son: {count[i]}\")\n",
    "\n",
    "\n",
    "count2 = []\n",
    "for j in range(10):\n",
    "    count2.append([])\n",
    "    \n",
    "print(count2)"
   ]
  },
  {
   "cell_type": "markdown",
   "id": "38c6cfe2-4919-49d9-9b07-0aaeaa4324dd",
   "metadata": {},
   "source": [
    "## Unit 11. Dictionary Data Type"
   ]
  },
  {
   "cell_type": "markdown",
   "id": "19fd2414-e6d0-4171-9ca1-bdf39c1431ca",
   "metadata": {},
   "source": [
    "### Q1. (p. 106)  \n",
    "Make a program to:\n",
    "- Create a basic capital city dictionary and print the results for Korea."
   ]
  },
  {
   "cell_type": "code",
   "execution_count": null,
   "id": "808fa802-7c1f-485f-b03a-8ef74393c6fb",
   "metadata": {},
   "outputs": [],
   "source": [
    "def u110_q1():\n",
    "    d = {'Korea' : 'Seoul', 'China' : 'Beijing',  'USA' : 'Washington DC'}\n",
    "    print(d['Korea'])\n",
    "    \n",
    "u110_q1()"
   ]
  },
  {
   "cell_type": "markdown",
   "id": "d6ab4e69-7744-4bd5-88d8-5effa28c5ca5",
   "metadata": {},
   "source": [
    "### Q2. (p. 107)  \n",
    "Make a program to:\n",
    "- Print the prices of grapes."
   ]
  },
  {
   "cell_type": "code",
   "execution_count": null,
   "id": "5ececf4c-57a3-41c4-884d-1dd13a0d450e",
   "metadata": {},
   "outputs": [],
   "source": [
    "def u110_q2():\n",
    "    d = {'apple' : 5000, 'banana' : 4000,  'grape' : 5300, 'melon' : 6500}\n",
    "    \n",
    "    for fruit, price in d.items():\n",
    "        print(f\"The price of a {fruit} is {price}, KRW.\")\n",
    "\n",
    "u110_q2()"
   ]
  },
  {
   "cell_type": "markdown",
   "id": "da174409-503b-446b-bceb-8c166d07934d",
   "metadata": {},
   "source": [
    "### Q1'. (p. 125)  \n",
    "Make a program to:\n",
    "- Print all keys, prove if mango and apples are in the keys and print as follows."
   ]
  },
  {
   "cell_type": "code",
   "execution_count": null,
   "id": "1e562391-6d47-4801-bc03-0a8a2b55ee5d",
   "metadata": {},
   "outputs": [],
   "source": [
    "def u111_q1():\n",
    "    d = {'apple' : 6000, 'melon' : 3000, 'banana' : 5000, 'orange' : 4000}\n",
    "    fruits_dict = d.keys()\n",
    "    print(fruits_dict)\n",
    "    \n",
    "    words = ['apple', 'mango']\n",
    "    for word in words:\n",
    "        if word not in d:\n",
    "            print(f\"{word} is not in fruits_dic.\")\n",
    "        else:\n",
    "            print(f\"{word} is in fruits_dic.\")\n",
    "    \n",
    "u111_q1()"
   ]
  },
  {
   "cell_type": "markdown",
   "id": "6623a7cd-4ccb-46b7-a8e6-660cecb4ccd7",
   "metadata": {},
   "source": [
    "### Ejercicio Salva 1. Texto Don Quijote"
   ]
  },
  {
   "cell_type": "code",
   "execution_count": null,
   "id": "efd2dbcf-3177-421a-87ff-f53ba1ef386f",
   "metadata": {},
   "outputs": [],
   "source": [
    "txt = \"\"\"CAPÍTULO 1: Que trata de la condición y ejercicio del famoso hidalgo D. Quijote de la Mancha\n",
    "En un lugar de la Mancha, de cuyo nombre no quiero acordarme, no ha mucho tiempo que vivía un hidalgo de los de lanza en astillero, adarga antigua, rocín flaco y galgo corredor. Una olla de algo más vaca que carnero, salpicón las más noches, duelos y quebrantos los sábados, lentejas los viernes, algún palomino de añadidura los domingos, consumían las tres partes de su hacienda. El resto della concluían sayo de velarte, calzas de velludo para las fiestas con sus pantuflos de lo mismo, los días de entre semana se honraba con su vellori de lo más fino. Tenía en su casa una ama que pasaba de los cuarenta, y una sobrina que no llegaba a los veinte, y un mozo de campo y plaza, que así ensillaba el rocín como tomaba la podadera. Frisaba la edad de nuestro hidalgo con los cincuenta años, era de complexión recia, seco de carnes, enjuto de rostro; gran madrugador y amigo de la caza. Quieren decir que tenía el sobrenombre de Quijada o Quesada (que en esto hay alguna diferencia en los autores que deste caso escriben), aunque por conjeturas verosímiles se deja entender que se llama Quijana; pero esto importa poco a nuestro cuento; basta que en la narración dél no se salga un punto de la verdad. Es, pues, de saber, que este sobredicho hidalgo, los ratos que estaba ocioso (que eran los más del año) se daba a leer libros de caballerías con tanta afición y gusto, que olvidó casi de todo punto el ejercicio de la caza, y aun la administración de su hacienda; y llegó a tanto su curiosidad y desatino en esto, que vendió muchas hanegas de tierra de sembradura, para comprar libros de caballerías en que leer; y así llevó a su casa todos cuantos pudo haber dellos; y de todos ningunos le parecían tan bien como los que compuso el famoso Feliciano de Silva: porque la claridad de su prosa, y aquellas intrincadas razones suyas, le parecían de perlas; y más cuando llegaba a leer aquellos requiebros y cartas de desafío, donde en muchas partes hallaba escrito: la razón de la sinrazón que a mi razón se hace, de tal manera mi razón enflaquece, que con razón me quejo de la vuestra fermosura, y también cuando leía: los altos cielos que de vuestra divinidad divinamente con las estrellas se fortifican, y os hacen merecedora del merecimiento que merece la vuestra grandeza. Con estas y semejantes razones perdía el pobre caballero el juicio, y desvelábase por entenderlas, y desentrañarles el sentido, que no se lo sacara, ni las entendiera el mismo Aristóteles, si resucitara para sólo ello. No estaba muy bien con las heridas que don Belianis daba y recibía, porque se imaginaba que por grandes maestros que le hubiesen curado, no dejaría de tener el rostro y todo el cuerpo lleno de cicatrices y señales; pero con todo alababa en su autor aquel acabar su libro con la promesa de aquella inacabable aventura, y muchas veces le vino deseo de tomar la pluma, y darle fin al pie de la letra como allí se promete; y sin duda alguna lo hiciera, y aun saliera con ello, si otros mayores y continuos pensamientos no se lo estorbaran.\n",
    "Tuvo muchas veces competencia con el cura de su lugar (que era hombre docto graduado en Sigüenza), sobre cuál había sido mejor caballero, Palmerín de Inglaterra o Amadís de Gaula; mas maese Nicolás, barbero del mismo pueblo, decía que ninguno llegaba al caballero del Febo, y que si alguno se le podía comparar, era don Galaor, hermano de Amadís de Gaula, porque tenía muy acomodada condición para todo; que no era caballero melindroso, ni tan llorón como su hermano, y que en lo de la valentía no le iba en zaga.\n",
    "En resolución, él se enfrascó tanto en su lectura, que se le pasaban las noches leyendo de claro en claro, y los días de turbio en turbio, y así, del poco dormir y del mucho leer, se le secó el cerebro, de manera que vino a perder el juicio. Llenósele la fantasía de todo aquello que leía en los libros, así de encantamientos, como de pendencias, batallas, desafíos, heridas, requiebros, amores, tormentas y disparates imposibles, y asentósele de tal modo en la imaginación que era verdad toda aquella máquina de aquellas soñadas invenciones que leía, que para él no había otra\n",
    "historia más cierta en el mundo.\n",
    "Decía él, que el Cid Ruy Díaz había sido muy buen caballero; pero que no tenía que ver con el caballero de la ardiente espada, que de sólo un revés había partido por medio dos fieros y descomunales gigantes. Mejor estaba con Bernardo del Carpio, porque en Roncesvalle había muerto a Roldán el encantado, valiéndose de la industria de Hércules, cuando ahogó a Anteo, el hijo de la Tierra, entre los brazos. Decía mucho bien del gigante Morgante, porque con ser de aquella generación gigantesca, que todos son soberbios y descomedidos, él solo era afable y bien criado; pero sobre todos estaba bien con Reinaldos de Montalbán, y más cuando le veía salir de su castillo y robar cuantos topaba, y cuando en Allende robó aquel ídolo de Mahoma, que era todo de oro, según dice su historia. Diera él, por dar una mano de coces al traidor de Galalón, al ama que tenía y aun a su sobrina de añadidura.\n",
    "En efecto, rematado ya su juicio, vino a dar en el más extraño pensamiento que jamás dio loco en el mundo, y fue que le pareció convenible y necesario, así para el aumento de su honra, como para el servicio de su república, hacerse caballero andante, e irse por todo el mundo con sus armas y caballo a buscar las aventuras, y a ejercitarse en todo aquello que él había leído, que los caballeros andantes se ejercitaban, deshaciendo todo género de agravio, y poniéndose en ocasiones y peligros, donde acabándolos, cobrase eterno nombre y fama.\n",
    "Imaginábase el pobre ya coronado por el valor de su brazo por lo menos del imperio de Trapisonda: y así con estos tan agradables pensamientos, llevado del estraño gusto que en ellos sentía, se dió priesa a poner en efecto lo que deseaba. Y lo primero que hizo, fue limpiar unas armas, que habían sido de sus bisabuelos, que, tomadas de orín y llenas de moho, luengos siglos había que estaban puestas y olvidadas en un rincón. Limpiólas y aderezólas lo mejor que pudo; pero vió que tenían una gran falta, y era que no tenía celada de encaje, sino morrión simple; mas a esto suplió su industria, porque de cartones hizo un modo de media celada, que encajada con el morrión, hacía una apariencia de celada entera. Es verdad que para probar si era fuerte, y podía estar al riesgo de una cuchillada, sacó su espada, y le dió dos golpes, y con el primero y en un punto deshizo lo que había hecho en una semana: y no dejó de parecerle mal la facilidad con que la había hecho pedazos, y por asegurarse de este peligro, lo tornó a hacer de nuevo, poniéndole unas barras de hierro por de dentro de tal manera, que él quedó satisfecho de su fortaleza; y, sin querer hacer nueva experiencia de ella, la diputó y tuvo por celada finísima de encaje. Fue luego a ver a su rocín, y aunque tenía más cuartos que un real, y más tachas que el caballo de Gonela, que tantum pellis, et ossa fuit, le pareció que ni el Bucéfalo de Alejandro, ni Babieca el del Cid con él se igualaban. Cuatro días se le pasaron en imaginar qué nombre le podría: porque, según se decía él a sí mismo, no era razón que caballo de caballero tan famoso, y tan bueno él por sí, estuviese sin nombre conocido; y así procuraba acomodársele, de manera que declarase quien había sido, antes que fuese de caballero andante, y lo que era entones: pues estaba muy puesto en razón, que mudando su señor estado, mudase él también el nombre; y le cobrase famoso y de estruendo, como convenía a la nueva orden y al nuevo ejercicio que ya profesaba: y así después de muchos nombres que formó, borró y quitó, añadió, deshizo y tornó a hacer en su memoria e imaginación, al fin le vino a llamar Rocinante, nombre a su parecer alto, sonoro y significativo de lo que había sido cuando fue rocín, antes de lo que ahora era, que era antes y primero de todos los rocines del mundo. Puesto nombre y tan a su gusto a su caballo, quiso ponérsele a sí mismo, y en este pensamiento, duró otros ocho días, y al cabo se vino a llamar don Quijote, de donde como queda dicho, tomaron ocasión los autores de esta tan verdadera historia, que sin duda se debía llamar Quijada, y no Quesada como otros quisieron decir. Pero acordándose que el valeroso Amadís, no sólo se había contentado con llamarse Amadís a secas, sino que añadió el nombre de su reino y patria, por hacerla famosa, y se llamó Amadís de Gaula, así quiso, como buen caballero, añadir al suyo el nombre de la suya, y llamarse don Quijote de la Mancha, con que a su parecer declaraba muy al vivo su\n",
    "linaje y patria, y la honraba con tomar el sobrenombre della.\n",
    "\"\"\"\n",
    "d = {}\n",
    "quijote_list = txt.lower().replace(\",\", \" \")\n",
    "quijote_list = quijote_list.replace(\";\", \" \")\n",
    "quijote_list = quijote_list.replace(\".\", \" \")\n",
    "quijote_list = quijote_list.replace(\")\", \" \")\n",
    "quijote_list = quijote_list.replace(\"(\", \" \")\n",
    "quijote_list = quijote_list.replace(\":\", \" \")\n",
    "quijote_list = quijote_list.split()\n",
    "\n",
    "for palabra in quijote_list:\n",
    "    if palabra not in d:\n",
    "        d[palabra] = palabra\n",
    "\n",
    "res = 0\n",
    "d_ordered = dict(sorted(d.items()))\n",
    "d_keys = list(d.keys())\n",
    "# print(d, d_ordered)\n",
    "for i in range(len(d)):\n",
    "    if d_keys[i] in d_ordered:\n",
    "        res += 1\n",
    "print(res == len(d_ordered))\n",
    "print(len(quijote_list))\n",
    "print(quijote_list)"
   ]
  },
  {
   "cell_type": "markdown",
   "id": "2c1a99f7-452f-4179-9b2b-fc31aee0ed3a",
   "metadata": {},
   "source": [
    "### Ejercicio Salva 1 (modificado 1). Texto Don Quijote, separar palabras en dos diccionarios (vocales o consonantes) y dentro de cada uno, listas de palabras para cada letra."
   ]
  },
  {
   "cell_type": "code",
   "execution_count": null,
   "id": "2938b9cd-a339-4dca-b0f7-0665867ae562",
   "metadata": {},
   "outputs": [],
   "source": [
    "d_vowel = {'a' : [], 'e' : [], 'i' : [], 'o' : [], 'u' : []}\n",
    "consonant = \" b c d f g h j k l m n ñ o p q r s t v y z \".split()\n",
    "d_consonant = {clave: [] for clave in consonant}\n",
    "\n",
    "for word in d:\n",
    "    if word[0] in d_vowel:\n",
    "        d_vowel[word[0]].append(word)\n",
    "    else:\n",
    "        d_consonant[word[0]].append(word)\n",
    "\n",
    "print(d_vowel)\n",
    "print(d_consonant)"
   ]
  },
  {
   "cell_type": "markdown",
   "id": "22def3f6-7cf8-42a7-b9ff-3520594b1227",
   "metadata": {},
   "source": [
    "### Ejercicio Salva 1 (modificado 1). Texto Don Quijote, obtén cuantas veces aparece la palabra en un texto"
   ]
  },
  {
   "cell_type": "code",
   "execution_count": null,
   "id": "dec9fb6f-4a3d-41b2-815a-2bab4e420c41",
   "metadata": {},
   "outputs": [],
   "source": [
    "txt = \"\"\"CAPÍTULO 1: Que trata de la condición y ejercicio del famoso hidalgo D. Quijote de la Mancha\n",
    "En un lugar de la Mancha, de cuyo nombre no quiero acordarme, no ha mucho tiempo que vivía un hidalgo de los de lanza en astillero, adarga antigua, rocín flaco y galgo corredor. Una olla de algo más vaca que carnero, salpicón las más noches, duelos y quebrantos los sábados, lentejas los viernes, algún palomino de añadidura los domingos, consumían las tres partes de su hacienda. El resto della concluían sayo de velarte, calzas de velludo para las fiestas con sus pantuflos de lo mismo, los días de entre semana se honraba con su vellori de lo más fino. Tenía en su casa una ama que pasaba de los cuarenta, y una sobrina que no llegaba a los veinte, y un mozo de campo y plaza, que así ensillaba el rocín como tomaba la podadera. Frisaba la edad de nuestro hidalgo con los cincuenta años, era de complexión recia, seco de carnes, enjuto de rostro; gran madrugador y amigo de la caza. Quieren decir que tenía el sobrenombre de Quijada o Quesada (que en esto hay alguna diferencia en los autores que deste caso escriben), aunque por conjeturas verosímiles se deja entender que se llama Quijana; pero esto importa poco a nuestro cuento; basta que en la narración dél no se salga un punto de la verdad. Es, pues, de saber, que este sobredicho hidalgo, los ratos que estaba ocioso (que eran los más del año) se daba a leer libros de caballerías con tanta afición y gusto, que olvidó casi de todo punto el ejercicio de la caza, y aun la administración de su hacienda; y llegó a tanto su curiosidad y desatino en esto, que vendió muchas hanegas de tierra de sembradura, para comprar libros de caballerías en que leer; y así llevó a su casa todos cuantos pudo haber dellos; y de todos ningunos le parecían tan bien como los que compuso el famoso Feliciano de Silva: porque la claridad de su prosa, y aquellas intrincadas razones suyas, le parecían de perlas; y más cuando llegaba a leer aquellos requiebros y cartas de desafío, donde en muchas partes hallaba escrito: la razón de la sinrazón que a mi razón se hace, de tal manera mi razón enflaquece, que con razón me quejo de la vuestra fermosura, y también cuando leía: los altos cielos que de vuestra divinidad divinamente con las estrellas se fortifican, y os hacen merecedora del merecimiento que merece la vuestra grandeza. Con estas y semejantes razones perdía el pobre caballero el juicio, y desvelábase por entenderlas, y desentrañarles el sentido, que no se lo sacara, ni las entendiera el mismo Aristóteles, si resucitara para sólo ello. No estaba muy bien con las heridas que don Belianis daba y recibía, porque se imaginaba que por grandes maestros que le hubiesen curado, no dejaría de tener el rostro y todo el cuerpo lleno de cicatrices y señales; pero con todo alababa en su autor aquel acabar su libro con la promesa de aquella inacabable aventura, y muchas veces le vino deseo de tomar la pluma, y darle fin al pie de la letra como allí se promete; y sin duda alguna lo hiciera, y aun saliera con ello, si otros mayores y continuos pensamientos no se lo estorbaran.\n",
    "Tuvo muchas veces competencia con el cura de su lugar (que era hombre docto graduado en Sigüenza), sobre cuál había sido mejor caballero, Palmerín de Inglaterra o Amadís de Gaula; mas maese Nicolás, barbero del mismo pueblo, decía que ninguno llegaba al caballero del Febo, y que si alguno se le podía comparar, era don Galaor, hermano de Amadís de Gaula, porque tenía muy acomodada condición para todo; que no era caballero melindroso, ni tan llorón como su hermano, y que en lo de la valentía no le iba en zaga.\n",
    "En resolución, él se enfrascó tanto en su lectura, que se le pasaban las noches leyendo de claro en claro, y los días de turbio en turbio, y así, del poco dormir y del mucho leer, se le secó el cerebro, de manera que vino a perder el juicio. Llenósele la fantasía de todo aquello que leía en los libros, así de encantamientos, como de pendencias, batallas, desafíos, heridas, requiebros, amores, tormentas y disparates imposibles, y asentósele de tal modo en la imaginación que era verdad toda aquella máquina de aquellas soñadas invenciones que leía, que para él no había otra\n",
    "historia más cierta en el mundo.\n",
    "Decía él, que el Cid Ruy Díaz había sido muy buen caballero; pero que no tenía que ver con el caballero de la ardiente espada, que de sólo un revés había partido por medio dos fieros y descomunales gigantes. Mejor estaba con Bernardo del Carpio, porque en Roncesvalle había muerto a Roldán el encantado, valiéndose de la industria de Hércules, cuando ahogó a Anteo, el hijo de la Tierra, entre los brazos. Decía mucho bien del gigante Morgante, porque con ser de aquella generación gigantesca, que todos son soberbios y descomedidos, él solo era afable y bien criado; pero sobre todos estaba bien con Reinaldos de Montalbán, y más cuando le veía salir de su castillo y robar cuantos topaba, y cuando en Allende robó aquel ídolo de Mahoma, que era todo de oro, según dice su historia. Diera él, por dar una mano de coces al traidor de Galalón, al ama que tenía y aun a su sobrina de añadidura.\n",
    "En efecto, rematado ya su juicio, vino a dar en el más extraño pensamiento que jamás dio loco en el mundo, y fue que le pareció convenible y necesario, así para el aumento de su honra, como para el servicio de su república, hacerse caballero andante, e irse por todo el mundo con sus armas y caballo a buscar las aventuras, y a ejercitarse en todo aquello que él había leído, que los caballeros andantes se ejercitaban, deshaciendo todo género de agravio, y poniéndose en ocasiones y peligros, donde acabándolos, cobrase eterno nombre y fama.\n",
    "Imaginábase el pobre ya coronado por el valor de su brazo por lo menos del imperio de Trapisonda: y así con estos tan agradables pensamientos, llevado del estraño gusto que en ellos sentía, se dió priesa a poner en efecto lo que deseaba. Y lo primero que hizo, fue limpiar unas armas, que habían sido de sus bisabuelos, que, tomadas de orín y llenas de moho, luengos siglos había que estaban puestas y olvidadas en un rincón. Limpiólas y aderezólas lo mejor que pudo; pero vió que tenían una gran falta, y era que no tenía celada de encaje, sino morrión simple; mas a esto suplió su industria, porque de cartones hizo un modo de media celada, que encajada con el morrión, hacía una apariencia de celada entera. Es verdad que para probar si era fuerte, y podía estar al riesgo de una cuchillada, sacó su espada, y le dió dos golpes, y con el primero y en un punto deshizo lo que había hecho en una semana: y no dejó de parecerle mal la facilidad con que la había hecho pedazos, y por asegurarse de este peligro, lo tornó a hacer de nuevo, poniéndole unas barras de hierro por de dentro de tal manera, que él quedó satisfecho de su fortaleza; y, sin querer hacer nueva experiencia de ella, la diputó y tuvo por celada finísima de encaje. Fue luego a ver a su rocín, y aunque tenía más cuartos que un real, y más tachas que el caballo de Gonela, que tantum pellis, et ossa fuit, le pareció que ni el Bucéfalo de Alejandro, ni Babieca el del Cid con él se igualaban. Cuatro días se le pasaron en imaginar qué nombre le podría: porque, según se decía él a sí mismo, no era razón que caballo de caballero tan famoso, y tan bueno él por sí, estuviese sin nombre conocido; y así procuraba acomodársele, de manera que declarase quien había sido, antes que fuese de caballero andante, y lo que era entones: pues estaba muy puesto en razón, que mudando su señor estado, mudase él también el nombre; y le cobrase famoso y de estruendo, como convenía a la nueva orden y al nuevo ejercicio que ya profesaba: y así después de muchos nombres que formó, borró y quitó, añadió, deshizo y tornó a hacer en su memoria e imaginación, al fin le vino a llamar Rocinante, nombre a su parecer alto, sonoro y significativo de lo que había sido cuando fue rocín, antes de lo que ahora era, que era antes y primero de todos los rocines del mundo. Puesto nombre y tan a su gusto a su caballo, quiso ponérsele a sí mismo, y en este pensamiento, duró otros ocho días, y al cabo se vino a llamar don Quijote, de donde como queda dicho, tomaron ocasión los autores de esta tan verdadera historia, que sin duda se debía llamar Quijada, y no Quesada como otros quisieron decir. Pero acordándose que el valeroso Amadís, no sólo se había contentado con llamarse Amadís a secas, sino que añadió el nombre de su reino y patria, por hacerla famosa, y se llamó Amadís de Gaula, así quiso, como buen caballero, añadir al suyo el nombre de la suya, y llamarse don Quijote de la Mancha, con que a su parecer declaraba muy al vivo su\n",
    "linaje y patria, y la honraba con tomar el sobrenombre della.\n",
    "\"\"\"\n",
    "d = {}\n",
    "quijote_list = txt.lower().replace(\",\", \" \")\n",
    "quijote_list = quijote_list.replace(\";\", \" \")\n",
    "quijote_list = quijote_list.replace(\".\", \" \")\n",
    "quijote_list = quijote_list.replace(\")\", \" \")\n",
    "quijote_list = quijote_list.replace(\"(\", \" \")\n",
    "quijote_list = quijote_list.replace(\":\", \" \")\n",
    "quijote_list = quijote_list.split()\n",
    "\n",
    "for palabra in quijote_list:\n",
    "    if palabra not in d:\n",
    "        d[palabra] = 1\n",
    "    else:\n",
    "        d[palabra] += 1\n",
    "\n",
    "len(d)\n",
    "\n",
    "# Comprobar que la suma de todos los valores del diccionario, efectivamente iguala al número de palabras que hay en el texto.\n",
    "count = 0\n",
    "for clave in d:\n",
    "    count += d[clave]\n",
    "    \n",
    "print(count)"
   ]
  },
  {
   "cell_type": "markdown",
   "id": "d482efa8-b445-4128-b75a-732f6ff9a05f",
   "metadata": {},
   "source": [
    "## Unit 12. Sequence Data Type"
   ]
  },
  {
   "cell_type": "markdown",
   "id": "11ac639a-3288-4ee0-923e-bca4c44dd0f2",
   "metadata": {},
   "source": [
    "### Q1. (p. 162)  \n",
    "Make a program to:\n",
    "- Predict the execution result and the reasons why."
   ]
  },
  {
   "cell_type": "code",
   "execution_count": null,
   "id": "5f42c536-167f-4c70-bf50-4ce20cd25c83",
   "metadata": {},
   "outputs": [],
   "source": [
    "def u120_q1():\n",
    "    t1 = 'a', 'b', 'c'\n",
    "    t2 = ('a', 'b', 'c')\n",
    "    t3 = ('d', 'e')\n",
    "\n",
    "    print(t1 == t3)         # \n",
    "    print(t1 > t3)\n",
    "    print(t1 < t3)\n",
    "    print(t1 + t2)\n",
    "    print([t2 + t3])\n",
    "    print(t1)\n",
    "\n",
    "u120_q1()"
   ]
  },
  {
   "cell_type": "markdown",
   "id": "deee1f41-d6b2-440f-bc08-e8041da948ef",
   "metadata": {},
   "source": [
    "### Q2. (p. 163)  \n",
    "Make a program to:\n",
    "- Return the number of times the sales have reduced compared to the previous day."
   ]
  },
  {
   "cell_type": "code",
   "execution_count": null,
   "id": "d0cf01b4-2c43-4fca-857c-4cd22bed3aa2",
   "metadata": {},
   "outputs": [],
   "source": [
    "def u120_q2():\n",
    "    daily_sales = (100, 121, 120, 130, 140, 120, 122, 123, 190, 125)\n",
    "    print(f\"Daily sales record: {daily_sales}\")\n",
    "    count = 0\n",
    "\n",
    "    for i in range(1, len(daily_sales)):\n",
    "        if (daily_sales[i] < daily_sales[i - 1]):            # Ojo con el *indexing*, puesto que no hará error\n",
    "            count += 1  \n",
    "    print(f\"In the past {len(daily_sales)} days, {count} days had reduced sales compared to the previous\")\n",
    "\n",
    "u120_q2()"
   ]
  },
  {
   "cell_type": "markdown",
   "id": "08b9c948-99b5-41fa-b969-30bfc54af5d6",
   "metadata": {},
   "source": [
    "### Q1'. (p. 178)  \n",
    "Make a program to:\n",
    "- Return the element with the most number of ocurrences. If two most frequent, return the highest."
   ]
  },
  {
   "cell_type": "code",
   "execution_count": null,
   "id": "78954046-b68b-41db-a8a3-0ba43d602b0c",
   "metadata": {},
   "outputs": [],
   "source": [
    "def u120_q1():\n",
    "    tupla = (1, 2, 5, 4, 3, 2, 1, 4, 7, 8, 9, 9, 3, 7, 3, 9)\n",
    "    print(f\"Given tuples: {tupla}\")\n",
    "\n",
    "    # Classify the elements with a map\n",
    "    d = {}\n",
    "    for i in tupla:\n",
    "        d[i] = d.get(i, 0)\n",
    "        \n",
    "    # Select the highest from map\n",
    "    \"\"\"\n",
    "    prev = 0\n",
    "    for i, j in d.items():\n",
    "        if j >= prev:\n",
    "            num = i\n",
    "    \"\"\"\n",
    "    # Solution with comprehension lists and unpacking tuple\n",
    "    n_veces, num = max((j, i) for i, j in d.items())\n",
    "    \n",
    "    print(f\"The most frequent element: {num}\")\n",
    "    \n",
    "u120_q1()"
   ]
  },
  {
   "cell_type": "markdown",
   "id": "2dc3f107-6600-4b27-95dc-ed1e0a6282ce",
   "metadata": {},
   "source": [
    "### Q2'. (p. 179)  \n",
    "Make a program to:\n",
    "- Remove all the empty lists, tuples and strings. **Careful with empty tuples and one-element tuples**."
   ]
  },
  {
   "cell_type": "code",
   "execution_count": null,
   "id": "fc35e5a4-172b-4530-b93f-1d8a7c11820a",
   "metadata": {},
   "outputs": [],
   "source": [
    "def u120_q2():\n",
    "    tuples =  [(), (1,), [], 'abc', (), (), (1,), ('a',), ('a', 'b'), ((),), '']\n",
    "    print(f\"Given tuples: {tuples}\")\n",
    "\n",
    "    res = [elem for elem in tuples if elem not in ('', [], ())]\n",
    "    print(f\"{res}\")\n",
    "    \n",
    "u120_q2()"
   ]
  },
  {
   "cell_type": "markdown",
   "id": "3ad4a9bf-ce03-42f5-8a70-6e139ff5b674",
   "metadata": {},
   "source": [
    "### Ejercicio Salva 1. Dada cadena, devolver palabras mayores que 2"
   ]
  },
  {
   "cell_type": "code",
   "execution_count": null,
   "id": "fef9df8f-01c1-4824-b6ed-3ac8578cbf01",
   "metadata": {},
   "outputs": [],
   "source": [
    "texto = 'esto es un ejemplo de frase'\n",
    "\n",
    "# Se quitan los paréntesis porque join sólo necesita iterable (object generator is fine)\n",
    "print(\" \".join(pal.capitalize() for pal in texto.split() if len(pal) > 2)) "
   ]
  },
  {
   "cell_type": "markdown",
   "id": "f5669e2f-ca2d-4643-8cea-d066d232f530",
   "metadata": {},
   "source": [
    "## Unit 13. Two-Dimensional Lists"
   ]
  },
  {
   "cell_type": "markdown",
   "id": "c482b5c8-b41e-415e-a95e-52e4dd811ecc",
   "metadata": {},
   "source": [
    "### Q1. (p. 205)  \n",
    "Make a program to:\n",
    "- Given the list, select the correct index to obtain 30."
   ]
  },
  {
   "cell_type": "code",
   "execution_count": null,
   "id": "cc8cee40-5c58-41e4-879e-05465baa33d4",
   "metadata": {},
   "outputs": [],
   "source": [
    "def u130_q1():\n",
    "    lista = [[10, 20], [30, 40], [50, 60]]\n",
    "    print(lista[1][0])\n",
    "\n",
    "u130_q1()"
   ]
  },
  {
   "cell_type": "markdown",
   "id": "74dde221-74de-4f10-89f6-881b871f8ca0",
   "metadata": {},
   "source": [
    "### Q2. (p. 206)  \n",
    "Make a program to:\n",
    "- Create a 2D list of 4 x 4 from 1 to 16, printing the values with a loop."
   ]
  },
  {
   "cell_type": "code",
   "execution_count": null,
   "id": "1a998a44-3568-4566-92bc-c59e0283c20e",
   "metadata": {},
   "outputs": [],
   "source": [
    "def u130_q2():\n",
    "    lista = list(range(1, 16 + 1))\n",
    "\n",
    "    [print(f\"{x:5}\", end=\"\") if (x - 1) % 4 != 0 else print(f\"\\n {x:5}\", end=\"\") for x in lista]\n",
    "    \n",
    "u130_q2()"
   ]
  },
  {
   "cell_type": "markdown",
   "id": "2e6c0af3-d0e3-4ded-bc3f-157b13d8598e",
   "metadata": {},
   "source": [
    "### Q1'. (p. 242)  \n",
    "Make a program to:\n",
    "- Given a number n, show a checkered n x n."
   ]
  },
  {
   "cell_type": "code",
   "execution_count": null,
   "id": "30c52e9d-c9ca-4203-8ccc-f812bc45e7ba",
   "metadata": {},
   "outputs": [],
   "source": [
    "def create_matrix(n):\n",
    "    return [[(i+j+1)%2 for j in range(n)] for i in range(n)]\n",
    "\n",
    "# Precondition: user gives the correct number\n",
    "def u131_q1():\n",
    "    n = int(input(\"Enter n: \"))\n",
    "    [print(f'{n}') for n in create_matrix(n)]\n",
    "    \n",
    "\n",
    "u131_q1()"
   ]
  },
  {
   "cell_type": "markdown",
   "id": "5ca6fabd-249c-4329-803c-5a1761eb0882",
   "metadata": {},
   "source": [
    "## Unit 14. Dictionary Method-1"
   ]
  },
  {
   "cell_type": "markdown",
   "id": "277cc138-bbf8-469f-9ea1-2e3a9dcf6b5f",
   "metadata": {},
   "source": [
    "### Q1. (p. 271)  \n",
    "Make a program to:\n",
    "- Create a dictionary to show information. "
   ]
  },
  {
   "cell_type": "code",
   "execution_count": 125,
   "id": "cc8b41e4-132c-4969-8284-90c0b59dc6cf",
   "metadata": {},
   "outputs": [
    {
     "name": "stdout",
     "output_type": "stream",
     "text": [
      "Last Name : Doe\n",
      "First Name: David\n",
      "Company   : Samsung\n"
     ]
    }
   ],
   "source": [
    "def u140_q1():\n",
    "    d ={'Last Name': 'Doe', 'First Name': 'David', 'Company': 'Samsung'}\n",
    "\n",
    "    for key, val in d.items():\n",
    "        print(f\"{key:10}: {val}\")\n",
    "              \n",
    "u140_q1()"
   ]
  },
  {
   "cell_type": "markdown",
   "id": "9dacbe61-c13a-42c0-8ea7-6136f6484b78",
   "metadata": {},
   "source": [
    "### Q2. (p. 272)  \n",
    "Make a program to:\n",
    "- Show an inventory."
   ]
  },
  {
   "cell_type": "code",
   "execution_count": 122,
   "id": "34d46fca-d822-4926-81fb-15cb2fed5465",
   "metadata": {},
   "outputs": [
    {
     "name": "stdin",
     "output_type": "stream",
     "text": [
      "Enter name of the item:  Milk\n"
     ]
    },
    {
     "name": "stdout",
     "output_type": "stream",
     "text": [
      "1\n"
     ]
    }
   ],
   "source": [
    "def u140_q2():\n",
    "    items = {\"Coffee\": 7, \"Pen\":3, \"Paper cup\": 2, \"Milk\": 1, \"Coke\": 4, \"Book\":5}\n",
    "\n",
    "    selected = input(\"Enter name of the item: \")\n",
    "    if selected in items:\n",
    "        print(items[selected])\n",
    "\n",
    "u140_q2()"
   ]
  },
  {
   "cell_type": "markdown",
   "id": "cc293883-1800-4fe3-9009-55f2fed0ba33",
   "metadata": {},
   "source": [
    "### Q1'. (p. 294)  \n",
    "Make a program to:\n",
    "- Add code to increase or decrease inventory."
   ]
  },
  {
   "cell_type": "code",
   "execution_count": 144,
   "id": "b3d19f4f-bf18-4889-821f-0d6120fc0c71",
   "metadata": {},
   "outputs": [
    {
     "name": "stdin",
     "output_type": "stream",
     "text": [
      "Select menu 1)check stock 2)warehousing 3) release 4) exit :  1\n",
      "[check stock] Enter item:  Coke\n"
     ]
    },
    {
     "name": "stdout",
     "output_type": "stream",
     "text": [
      "4\n"
     ]
    },
    {
     "name": "stdin",
     "output_type": "stream",
     "text": [
      "Select menu 1)check stock 2)warehousing 3) release 4) exit :  4\n"
     ]
    },
    {
     "name": "stdout",
     "output_type": "stream",
     "text": [
      "Program exited.\n"
     ]
    }
   ],
   "source": [
    "def u141_q1():\n",
    "    items = {\"Coffee\": 7, \"Pen\":3, \"Paper cup\": 2, \"Milk\": 1, \"Coke\": 4, \"Book\":5}\n",
    "    operations = {'1': 'check stock', '2': 'warehousing', '3':'release', '4': 'exit'}\n",
    "    operation = ''\n",
    "    \n",
    "    while operation != 'exit':\n",
    "        operation_num = input(f\"Select menu 1)check stock 2)warehousing 3) release 4) exit : \" )\n",
    "        operation = operations[operation_num]\n",
    "        match operation:\n",
    "            case 'check stock':\n",
    "                action = input(f\"[{operation}] Enter item: \")\n",
    "                print(items[action])\n",
    "            case 'warehousing':\n",
    "                action, num = input(f\"[{operation}] Enter item and quantity (separated with coma): \").replace(\",\", \" \").split()\n",
    "                items[action] = items.get(action, 0) + int(num)\n",
    "            case 'release':\n",
    "                action, num = input(f\"[{operation}] Enter item and quantity (separated with coma): \").replace(\",\", \" \").split()\n",
    "                if items.get(action, 0) != 0:\n",
    "                    items[action] = items.get(action, 0) - int(num)\n",
    "                else:\n",
    "                    print(f'Not enough {action}, sorry.')\n",
    "            \n",
    "    print('Program exited.')\n",
    "    \n",
    "u141_q1()"
   ]
  },
  {
   "cell_type": "markdown",
   "id": "bfa13463-3806-4746-9e65-a0acfe16d187",
   "metadata": {},
   "source": [
    "### Ejercicio Salva 1. Contar con diccionario"
   ]
  },
  {
   "cell_type": "markdown",
   "id": "37017145-a162-4713-956a-40bfafcfe2b2",
   "metadata": {},
   "source": [
    "Para todas las palabras de un string, si aparecen en el diccionario:\n",
    "- la palabra está en minúscula\n",
    "- la palabra está en mayúscula\n",
    "- la palabra está capitalized (primera en mayúscula, resto en minúscula)\n",
    "- en cualquier otr caso la deja en minúscula\n",
    "\n",
    "Ejemplo:  \n",
    " - ```d = {'casa':'house', 'gato':'cat', 'perro':'dog'}  ```\n",
    " - ```texto = \"La caSa tiene un GATO y un Perro\"  ```\n",
    " - ```resultado = \"La house tiene un CAT y un Dog\"```"
   ]
  },
  {
   "cell_type": "code",
   "execution_count": 31,
   "id": "8c2300ca-4a5e-4573-af52-7147b396ee5a",
   "metadata": {},
   "outputs": [
    {
     "name": "stdout",
     "output_type": "stream",
     "text": [
      "La caSa tiene un GATO y un Perro\n",
      "La house tiene un CAT y un Dog\n"
     ]
    }
   ],
   "source": [
    "def transformar(texto):\n",
    "    d = {'casa':'house', 'gato':'cat', 'perro':'dog'}\n",
    "    lista = texto.split()\n",
    "    for i, word in enumerate(lista):\n",
    "        minusc = word.lower()\n",
    "        if minusc in d:\n",
    "            sust = d[minusc]\n",
    "            if word.isupper():\n",
    "                sust = sust.upper()\n",
    "            elif word.istitle():\n",
    "                sust = sust.capitalize()\n",
    "            lista[i] = sust\n",
    "    return \" \".join(lista)\n",
    "    \n",
    "texto = \"La caSa tiene un GATO y un Perro\"\n",
    "print(texto)\n",
    "texto = transformar(texto)\n",
    "print(texto)"
   ]
  },
  {
   "cell_type": "markdown",
   "id": "c9761b83-db34-4272-be0c-88e038bd18e6",
   "metadata": {},
   "source": [
    "## Unit 15. Dictionary Method-2"
   ]
  },
  {
   "cell_type": "markdown",
   "id": "bcd2f4a5-84fc-4b46-b1c1-7f01f4713301",
   "metadata": {},
   "source": [
    "### Q1. (p. 322)  \n",
    "Make a program to:\n",
    "- Modify the tuple and create a dictionary."
   ]
  },
  {
   "cell_type": "code",
   "execution_count": 147,
   "id": "be5f3f5b-33bc-464b-8c7a-3d7d0b2e1c76",
   "metadata": {},
   "outputs": [
    {
     "name": "stdout",
     "output_type": "stream",
     "text": [
      "{'211101': ['David Doe', '010-1234-4500']}\n",
      "{'211102': ['John Smith', '010-2230-6540']}\n",
      "{'211103': ['Jane Carter', '010-3232-7788']}\n"
     ]
    }
   ],
   "source": [
    "def u150_q1():\n",
    "    student_tup = (('211101', 'David Doe', '010-1234-4500'),('211102', 'John Smith', '010-2230-6540'),('211103', 'Jane Carter', '010-3232-7788'))\n",
    "    d = {}\n",
    "    \n",
    "    for id_stud, name, num in student_tup:\n",
    "        print({id_stud: [name, num]})\n",
    "    \n",
    "u150_q1()"
   ]
  },
  {
   "cell_type": "markdown",
   "id": "12a8d1d5-7664-45b6-9947-483900632791",
   "metadata": {},
   "source": [
    "### Q2. (p. 323)  \n",
    "Make a program to:\n",
    "- Enter id and return name and phone number."
   ]
  },
  {
   "cell_type": "code",
   "execution_count": 151,
   "id": "32898b6e-38d4-456b-8632-b0fbc693b777",
   "metadata": {},
   "outputs": [
    {
     "name": "stdin",
     "output_type": "stream",
     "text": [
      "Enter student ID number :  211101\n"
     ]
    },
    {
     "name": "stdout",
     "output_type": "stream",
     "text": [
      "Name : David Doe\n",
      "Phone number : 010-1234-4500\n"
     ]
    }
   ],
   "source": [
    "def u150_q2():\n",
    "    student_tup = (('211101', 'David Doe', '010-1234-4500'),('211102', 'John Smith', '010-2230-6540'),('211103', 'Jane Carter', '010-3232-7788'))\n",
    "    d = {}  \n",
    "    \n",
    "    for id_stud, name, num in student_tup:\n",
    "        d[id_stud] = [name, num]\n",
    "        \n",
    "    id_stud = input(\"Enter student ID number : \")\n",
    "    print(f\"Name : {d[id_stud][0]}\")\n",
    "    print(f\"Phone number : {d[id_stud][1]}\")\n",
    "\n",
    "u150_q2()"
   ]
  },
  {
   "cell_type": "markdown",
   "id": "5b25d28d-ef10-412a-91f7-3e50beb7f670",
   "metadata": {},
   "source": [
    "### Q1'. (p. 347)  \n",
    "Make a program to:\n",
    "- Create a dictionary ID:number, then print as follows."
   ]
  },
  {
   "cell_type": "code",
   "execution_count": 169,
   "id": "e6509e11-92bf-4239-99dc-275a58b2acea",
   "metadata": {},
   "outputs": [
    {
     "name": "stdout",
     "output_type": "stream",
     "text": [
      "211101 : David Doe\n",
      "211102 : John Smith\n",
      "211103 : Jane Carter\n"
     ]
    },
    {
     "name": "stdin",
     "output_type": "stream",
     "text": [
      "Enter student ID number : 211101\n"
     ]
    },
    {
     "name": "stdout",
     "output_type": "stream",
     "text": [
      "211101 student is David Doe and phone number is 010-1234-4500\n"
     ]
    }
   ],
   "source": [
    "def u151_q1():\n",
    "    student_tup = [('211101', 'David Doe', '010-1234-4500'),('211102', 'John Smith', '010-2230-6540'),('211103', 'Jane Carter', '010-3232-7788')]\n",
    "    d = {}\n",
    "    \n",
    "    for id_stud, name, num in student_tup:\n",
    "        d[id_stud] = name\n",
    "        print(f\"{id_stud} : {d[id_stud]}\")\n",
    "        \n",
    "    id_given = input(\"Enter student ID number :\")\n",
    "    for id_stud, name, num in student_tup:\n",
    "        if id_given == id_stud:\n",
    "            print(f\"{id_stud} student is {name} and phone number is {num}\")\n",
    "    \n",
    "u151_q1()"
   ]
  },
  {
   "cell_type": "markdown",
   "id": "b6f1fcf7-1194-4fa9-9f75-85d721de974d",
   "metadata": {},
   "source": [
    "## Unit 16. Set Data Types"
   ]
  },
  {
   "cell_type": "markdown",
   "id": "666c4018-2058-430b-9542-2891240572cf",
   "metadata": {},
   "source": [
    "### Q1. (p. 380)  \n",
    "Make a program to:\n",
    "- From this list, create a sequence."
   ]
  },
  {
   "cell_type": "code",
   "execution_count": 174,
   "id": "94e7250f-87d3-442c-a1af-1de2baad091b",
   "metadata": {},
   "outputs": [
    {
     "name": "stdout",
     "output_type": "stream",
     "text": [
      "{'mango', 'banana', 'apple'}\n"
     ]
    }
   ],
   "source": [
    "def u160_q1():\n",
    "    lst = ['apple', 'mango', 'banana']\n",
    "    print(set(lst))\n",
    "    \n",
    "u160_q1()"
   ]
  },
  {
   "cell_type": "markdown",
   "id": "de4d53c2-7315-4633-a44c-0ca69d6c9f9d",
   "metadata": {},
   "source": [
    "### Q2. (p. 381)  \n",
    "Make a program to:\n",
    "- Write down the results of this operations."
   ]
  },
  {
   "cell_type": "code",
   "execution_count": 179,
   "id": "99d5d9dd-941b-4af7-aba9-91e6fe40a58d",
   "metadata": {},
   "outputs": [
    {
     "name": "stdout",
     "output_type": "stream",
     "text": [
      "{70, 40, 10, 50, 20, 60, 30} {40, 30} {10, 20}\n",
      "{50, 20, 70, 10, 60} False False False\n"
     ]
    }
   ],
   "source": [
    "def u160_q2():\n",
    "    s1 = {10, 20, 30, 40}\n",
    "    s2 = {30, 40, 50, 60, 70}\n",
    "    # Union, intersection, difference\n",
    "    print(s1 | s2, s1 & s2, s1 - s2)\n",
    "    # Symmetric difference, subset, superset, disjoint\n",
    "    print(s1 ^ s2, s1.issubset(s2), s1.issuperset(s2), s1.isdisjoint(s2))\n",
    "\n",
    "u160_q2()"
   ]
  },
  {
   "cell_type": "markdown",
   "id": "bc2cd8c3-d0ae-4a7d-aa72-7bd1314b53fe",
   "metadata": {},
   "source": [
    "### Q1'. (p. 398)  \n",
    "Make a program to:\n",
    "- Find if given tuple is in tuple list in normal or inverse order."
   ]
  },
  {
   "cell_type": "code",
   "execution_count": 189,
   "id": "86366664-7fee-43b8-a715-0bc5c54f2d1a",
   "metadata": {},
   "outputs": [
    {
     "name": "stdin",
     "output_type": "stream",
     "text": [
      "Enter two integers:  10 1\n"
     ]
    },
    {
     "name": "stdout",
     "output_type": "stream",
     "text": [
      "There is no (10, 1) nor (1, 10)\n"
     ]
    }
   ],
   "source": [
    "# Precondition: user enters numbers correctly\n",
    "def u161_q1():\n",
    "    my_list = [(1, 2), (4, 5), (4, 2), (3, 1), (9, 4)]\n",
    "\n",
    "    tup = input(\"Enter two integers: \").split()\n",
    "    tup[0] = int(tup[0])\n",
    "    tup[1] = int(tup[1])\n",
    "    tup = tuple(tup)\n",
    "    reverse_tup = tup[::-1]\n",
    "    if tup in my_list:\n",
    "        print(f\"There is {tup} at the first.\")\n",
    "    elif reverse_tup in my_list:\n",
    "        print(f\"There is no {tup} but there is {reverse_tup} at the second.\")\n",
    "    else:\n",
    "        print(f\"There is no {tup} nor {reverse_tup}.\")\n",
    "\n",
    "u161_q1()"
   ]
  },
  {
   "cell_type": "markdown",
   "id": "1ff9c243-009c-4f6c-b317-a7fb944e0fb0",
   "metadata": {
    "jp-MarkdownHeadingCollapsed": true
   },
   "source": [
    "# Chapter 3. Function, closure and class"
   ]
  },
  {
   "cell_type": "markdown",
   "id": "ca759800-080d-4dd3-83fe-3ccad8825466",
   "metadata": {},
   "source": [
    "## Unit 17. Function"
   ]
  },
  {
   "cell_type": "markdown",
   "id": "938edfff-fa8c-4600-8874-e0d612b1ba69",
   "metadata": {},
   "source": [
    "### Q1. (p. 41)  \n",
    "Make a program to:\n",
    "- Print a function 2 times."
   ]
  },
  {
   "cell_type": "code",
   "execution_count": 190,
   "id": "3068a684-cfb2-4c5c-b35b-ffdff80ca39b",
   "metadata": {},
   "outputs": [
    {
     "name": "stdout",
     "output_type": "stream",
     "text": [
      "Welcome.\n",
      "Welcome.\n"
     ]
    }
   ],
   "source": [
    "def my_greet():\n",
    "    print(\"Welcome.\")\n",
    "    \n",
    "def u170_q1():\n",
    "    my_greet()\n",
    "    my_greet()\n",
    "\n",
    "u170_q1()"
   ]
  },
  {
   "cell_type": "markdown",
   "id": "ccec2066-14de-40f4-bcee-e748b3dc328a",
   "metadata": {},
   "source": [
    "### Q2. (p. 42)  \n",
    "Make a program to:\n",
    "- Repeat the function max."
   ]
  },
  {
   "cell_type": "code",
   "execution_count": 195,
   "id": "92887906-baa6-47d0-b388-81d2042ef195",
   "metadata": {},
   "outputs": [
    {
     "name": "stdout",
     "output_type": "stream",
     "text": [
      "The greater of 100 or 200 is: 200\n",
      "200\n"
     ]
    }
   ],
   "source": [
    "# Precondition, both numbers cannot be equals\n",
    "def max2(m, n):\n",
    "    if m > n:\n",
    "        print(f\"The greater of {m} or {n} is: {m}\")\n",
    "    else:\n",
    "        print(f\"The greater of {m} or {n} is: {n}\")\n",
    "\n",
    "def u170_q2():\n",
    "    max2(100, 200)\n",
    "    print(max(100, 200))\n",
    "\n",
    "u170_q2()"
   ]
  },
  {
   "cell_type": "markdown",
   "id": "e513c8d9-5037-423e-93f6-bad365c8a98d",
   "metadata": {},
   "source": [
    "### Q3. (p. 43)  \n",
    "Make a program to:\n",
    "- Change the value of miles to km."
   ]
  },
  {
   "cell_type": "code",
   "execution_count": 198,
   "id": "67b57674-870c-42db-8a9d-aa6ee5e0f7dd",
   "metadata": {},
   "outputs": [
    {
     "name": "stdout",
     "output_type": "stream",
     "text": [
      "1 mile = 1.61 kilometers\n",
      "2 mile = 3.22 kilometers\n",
      "3 mile = 4.83 kilometers\n",
      "4 mile = 6.44 kilometers\n",
      "5 mile = 8.05 kilometers\n"
     ]
    }
   ],
   "source": [
    "MILE = 1.61\n",
    "\n",
    "def change_mile_to_km(mile):\n",
    "    return mile * MILE \n",
    "    \n",
    "def u170_q3():\n",
    "    for i in range(1, 6):\n",
    "        print(f\"{i} mile = {change_mile_to_km(i):.2f} kilometers\")\n",
    "\n",
    "u170_q3()"
   ]
  },
  {
   "cell_type": "markdown",
   "id": "50b7cc4a-9ebe-4d9c-9ae7-462a7c8f6d62",
   "metadata": {},
   "source": [
    "### Q4. (p. 44)  \n",
    "Make a program to:\n",
    "- Change degrees from Celsius to Fahrenheit."
   ]
  },
  {
   "cell_type": "code",
   "execution_count": 202,
   "id": "d86671f1-ea79-4089-96af-88e737d382fd",
   "metadata": {},
   "outputs": [
    {
     "name": "stdout",
     "output_type": "stream",
     "text": [
      "10 degrees Celsius = 50.0 degrees Fahrenheit\n",
      "20 degrees Celsius = 68.0 degrees Fahrenheit\n",
      "30 degrees Celsius = 86.0 degrees Fahrenheit\n",
      "40 degrees Celsius = 104.0 degrees Fahrenheit\n",
      "50 degrees Celsius = 122.0 degrees Fahrenheit\n"
     ]
    }
   ],
   "source": [
    "def convert(celsius):\n",
    "    return celsius * 9 / 5 +32\n",
    "\n",
    "def u170_q4():\n",
    "    for i in range(10, 51, 10):\n",
    "        print(f\"{i} degrees Celsius = {convert(i):.1f} degrees Fahrenheit\")\n",
    "\n",
    "u170_q4()"
   ]
  },
  {
   "cell_type": "markdown",
   "id": "3ed51636-bfcf-4269-ba25-e7038d16c05e",
   "metadata": {},
   "source": [
    "### Q1'. (p. 76)  \n",
    "Make a program to:\n",
    "- Given 3 numbers, print the average, max, min values defining each one as a function."
   ]
  },
  {
   "cell_type": "code",
   "execution_count": 27,
   "id": "1e41fe76-086b-40ae-807a-530de3838928",
   "metadata": {},
   "outputs": [
    {
     "name": "stdin",
     "output_type": "stream",
     "text": [
      "Enter three numbers:  9 2 6\n"
     ]
    },
    {
     "name": "stdout",
     "output_type": "stream",
     "text": [
      "The average value of 9, 2, 6 is 5.666666666666667\n",
      "The average value of 9, 2, 6 is 5.666666666666667\n",
      "The maximum value of 9, 2, 6 is 9\n",
      "The minimum value of 9, 2, 6 is 2\n"
     ]
    }
   ],
   "source": [
    "# Precondition: user enters the numbers correctly\n",
    "def mean3(a, b, c):\n",
    "    return (a + b + c) / 3\n",
    "\n",
    "def mean33(a, *args):\n",
    "    args = [a] + list(args)\n",
    "    suma = 0\n",
    "    for a in args:\n",
    "        suma += int(a)\n",
    "    return suma / len(args)\n",
    "\n",
    "def max3(a, b, c):\n",
    "    if a > b:\n",
    "        if a > c:\n",
    "            return a\n",
    "        else:\n",
    "            return c\n",
    "    else:\n",
    "        if b > c:\n",
    "            return b\n",
    "        else:\n",
    "            return c\n",
    "\n",
    "def min3(a, b, c):\n",
    "    if a < b:\n",
    "        if a < c:\n",
    "            return a\n",
    "        else:\n",
    "            return c\n",
    "    else:\n",
    "        if b < c:\n",
    "            return b\n",
    "        else:\n",
    "            return c\n",
    "\n",
    "def u171_q1():\n",
    "    nums = input(\"Enter three numbers: \").split()\n",
    "    for i in range(3):\n",
    "        nums[i] = int(nums[i])\n",
    "\n",
    "    print(f\"The average value of {nums[0]}, {nums[1]}, {nums[2]} is {mean3(*nums)}\")\n",
    "    print(f\"The average value of {nums[0]}, {nums[1]}, {nums[2]} is {mean33(*nums)}\")\n",
    "    print(f\"The maximum value of {nums[0]}, {nums[1]}, {nums[2]} is {max3(*nums)}\")\n",
    "    print(f\"The minimum value of {nums[0]}, {nums[1]}, {nums[2]} is {min3(*nums)}\")\n",
    "\n",
    "u171_q1()"
   ]
  },
  {
   "cell_type": "markdown",
   "id": "778bfcfe-b61a-497d-b807-af8923f625b2",
   "metadata": {},
   "source": [
    "### Ejercicio Salva 1. Juego del ahorcado"
   ]
  },
  {
   "cell_type": "code",
   "execution_count": 108,
   "id": "7777a6a5-fc84-493a-8b37-180029b76045",
   "metadata": {},
   "outputs": [
    {
     "name": "stdout",
     "output_type": "stream",
     "text": [
      "\n",
      "Vamos a jugar al ahorcado\n",
      "Tienes 5 vidas\n",
      "\n"
     ]
    },
    {
     "name": "stdin",
     "output_type": "stream",
     "text": [
      "Tienes 5 vidas y la palabra oculta es *****\n",
      "Introduce una letra:  a\n",
      "Tienes 4 vidas y la palabra oculta es *****\n",
      "Introduce una letra:  o\n",
      "Tienes 4 vidas y la palabra oculta es *o***\n",
      "Introduce una letra:  c\n",
      "Tienes 4 vidas y la palabra oculta es coc**\n",
      "Introduce una letra:  h\n",
      "Tienes 4 vidas y la palabra oculta es coch*\n",
      "Introduce una letra:  e\n"
     ]
    },
    {
     "name": "stdout",
     "output_type": "stream",
     "text": [
      "\n",
      "¡Enhorabuena! Descubriste que la palabra es coche\n"
     ]
    }
   ],
   "source": [
    "def intentar(palabra, known, intento, vidas):\n",
    "    esta = False\n",
    "    for i, letra in enumerate(palabra):\n",
    "        if letra == intento:\n",
    "            known[i] = intento\n",
    "            esta = True\n",
    "    if not esta:\n",
    "        vidas -= 1\n",
    "    return palabra, known, intento, vidas\n",
    "\n",
    "# Precondición: el usuario introduce solamente un caracter cada vez\n",
    "import random\n",
    "\n",
    "palabras = 'gato perro coche boli cama casa ratón'.split()\n",
    "palabra = random.choice(palabras)\n",
    "vidas = len(palabra)\n",
    "known = []\n",
    "[known.append(\"*\") for _ in range(vidas)]\n",
    "\n",
    "print(f\"\"\"\n",
    "Vamos a jugar al ahorcado\n",
    "Tienes {vidas} vidas\n",
    "\"\"\")\n",
    "\n",
    "while vidas > 0 or not found:\n",
    "    intento = input(f\"Tienes {vidas} vidas y la palabra oculta es {\"\".join(known)}\\nIntroduce una letra: \")\n",
    "    palabra, known, intento, vidas = intentar(palabra, known, intento, vidas)\n",
    "    if \"*\" not in \"\".join(known):\n",
    "        break\n",
    "    \n",
    "if \"*\" not in known:\n",
    "    print(f\"\\n¡Enhorabuena! Descubriste que la palabra es {\"\".join(known)}\" )\n",
    "else:\n",
    "    print(f\"\\n¡Fallaste! Tu palabra tuya fue {\"\".join(known)} y la respuesta era {palabra}.\")"
   ]
  },
  {
   "cell_type": "markdown",
   "id": "c205985c-fb03-40e6-b037-4a73393e4baa",
   "metadata": {},
   "source": [
    "### Ejercicio Salva 2. Imprimir todas las combinaciones del menú (que es desconocido)"
   ]
  },
  {
   "cell_type": "code",
   "execution_count": 118,
   "id": "a39f34e5-ced2-4c4f-82f3-cb2f018acac6",
   "metadata": {},
   "outputs": [
    {
     "name": "stdout",
     "output_type": "stream",
     "text": [
      "Ensalada 200.0 2.5\n",
      "Paella 400.0 4.0\n",
      "Pollo 350.0 4.5\n",
      "Fruta 200.0 1.75\n",
      "Gazpacho 180.0 3.1\n",
      "Paella 400.0 4.0\n",
      "Pollo 350.0 4.5\n",
      "Fruta 200.0 1.75\n",
      "Ensalada 200.0 2.5\n",
      "Sopa 250.0 3.0\n",
      "Pollo 350.0 4.5\n",
      "Fruta 200.0 1.75\n",
      "Gazpacho 180.0 3.1\n",
      "Sopa 250.0 3.0\n",
      "Pollo 350.0 4.5\n",
      "Fruta 200.0 1.75\n",
      "Ensalada 200.0 2.5\n",
      "Paella 400.0 4.0\n",
      "Pescado 250.0 4.5\n",
      "Fruta 200.0 1.75\n",
      "Gazpacho 180.0 3.1\n",
      "Paella 400.0 4.0\n",
      "Pescado 250.0 4.5\n",
      "Fruta 200.0 1.75\n",
      "Ensalada 200.0 2.5\n",
      "Sopa 250.0 3.0\n",
      "Pescado 250.0 4.5\n",
      "Fruta 200.0 1.75\n",
      "Gazpacho 180.0 3.1\n",
      "Sopa 250.0 3.0\n",
      "Pescado 250.0 4.5\n",
      "Fruta 200.0 1.75\n",
      "Ensalada 200.0 2.5\n",
      "Paella 400.0 4.0\n",
      "Pollo 350.0 4.5\n",
      "Flan 300.0 2.0\n",
      "Gazpacho 180.0 3.1\n",
      "Paella 400.0 4.0\n",
      "Pollo 350.0 4.5\n",
      "Flan 300.0 2.0\n",
      "Ensalada 200.0 2.5\n",
      "Sopa 250.0 3.0\n",
      "Pollo 350.0 4.5\n",
      "Flan 300.0 2.0\n",
      "Gazpacho 180.0 3.1\n",
      "Sopa 250.0 3.0\n",
      "Pollo 350.0 4.5\n",
      "Flan 300.0 2.0\n",
      "Ensalada 200.0 2.5\n",
      "Paella 400.0 4.0\n",
      "Pescado 250.0 4.5\n",
      "Flan 300.0 2.0\n",
      "Gazpacho 180.0 3.1\n",
      "Paella 400.0 4.0\n",
      "Pescado 250.0 4.5\n",
      "Flan 300.0 2.0\n",
      "Ensalada 200.0 2.5\n",
      "Sopa 250.0 3.0\n",
      "Pescado 250.0 4.5\n",
      "Flan 300.0 2.0\n",
      "Gazpacho 180.0 3.1\n",
      "Sopa 250.0 3.0\n",
      "Pescado 250.0 4.5\n",
      "Flan 300.0 2.0\n",
      "Ensalada 200.0 2.5\n",
      "Paella 400.0 4.0\n",
      "Pollo 350.0 4.5\n",
      "Helado 400.0 2.5\n",
      "Gazpacho 180.0 3.1\n",
      "Paella 400.0 4.0\n",
      "Pollo 350.0 4.5\n",
      "Helado 400.0 2.5\n",
      "Ensalada 200.0 2.5\n",
      "Sopa 250.0 3.0\n",
      "Pollo 350.0 4.5\n",
      "Helado 400.0 2.5\n",
      "Gazpacho 180.0 3.1\n",
      "Sopa 250.0 3.0\n",
      "Pollo 350.0 4.5\n",
      "Helado 400.0 2.5\n",
      "Ensalada 200.0 2.5\n",
      "Paella 400.0 4.0\n",
      "Pescado 250.0 4.5\n",
      "Helado 400.0 2.5\n",
      "Gazpacho 180.0 3.1\n",
      "Paella 400.0 4.0\n",
      "Pescado 250.0 4.5\n",
      "Helado 400.0 2.5\n",
      "Ensalada 200.0 2.5\n",
      "Sopa 250.0 3.0\n",
      "Pescado 250.0 4.5\n",
      "Helado 400.0 2.5\n",
      "Gazpacho 180.0 3.1\n",
      "Sopa 250.0 3.0\n",
      "Pescado 250.0 4.5\n",
      "Helado 400.0 2.5\n"
     ]
    }
   ],
   "source": [
    "with open(\"menu.txt\", \"r\", encoding=\"utf-8\") as f:\n",
    "    menu = {}\n",
    "    for line in f:\n",
    "        if '-' in line:\n",
    "            curr = line.replace(\"\\n\", \" \")\n",
    "            menu[curr] = []\n",
    "        else:\n",
    "            nombre, cal, precio = line.replace(\"\\n\", \" \").replace(\",\", \" \").strip().split()\n",
    "            menu[curr].append([nombre, float(cal), float(precio)])\n",
    "\n",
    "resultado = [()]\n",
    "for tipo in menu:\n",
    "    platos = menu[tipo]\n",
    "    nuevo = []\n",
    "    [nuevo.append((*tupla, plato)) for plato in platos for tupla in resultado]\n",
    "    resultado = nuevo\n",
    "        \n",
    "for i in nuevo:\n",
    "    for j in i:\n",
    "        name, cal, precio = j\n",
    "    precio_t += precio\n",
    "    name_t += name\n",
    "    pvp += "
   ]
  },
  {
   "cell_type": "markdown",
   "id": "8abee04e-12e6-4f1a-9d56-c91d732f90a8",
   "metadata": {},
   "source": [
    "## Unit 18. Recursion Function Call"
   ]
  },
  {
   "cell_type": "markdown",
   "id": "b9286e06-97b7-4a09-9c65-38aa1aae2d32",
   "metadata": {},
   "source": [
    "### Q1. (p. 98)  \n",
    "Make a program to:\n",
    "- Receive a number and write the sum from 1 to n."
   ]
  },
  {
   "cell_type": "code",
   "execution_count": 20,
   "id": "cd61b003-afd6-402d-b4e9-1964f67dc1c7",
   "metadata": {},
   "outputs": [
    {
     "name": "stdout",
     "output_type": "stream",
     "text": [
      "55\n"
     ]
    }
   ],
   "source": [
    "# Precondition: user enters numbers correctly\n",
    "def sum_num(n: int) -> int:\n",
    "    if n == 1:\n",
    "        return 1\n",
    "    else:\n",
    "        return n + sum_num(n - 1)\n",
    "\n",
    "def u180_q1():\n",
    "    print(sum_num(10))\n",
    "\n",
    "u180_q1()"
   ]
  },
  {
   "cell_type": "markdown",
   "id": "327cd7e3-9588-41cd-b45b-0699ddadf6be",
   "metadata": {},
   "source": [
    "### Q2. (p. 99)  \n",
    "Make a program to:\n",
    "- Write a function power_of."
   ]
  },
  {
   "cell_type": "code",
   "execution_count": 19,
   "id": "a9d86266-14c4-4d65-9759-456c297983cb",
   "metadata": {},
   "outputs": [
    {
     "name": "stdin",
     "output_type": "stream",
     "text": [
      "Enter x:  10\n",
      "Enter n:  2\n"
     ]
    },
    {
     "name": "stdout",
     "output_type": "stream",
     "text": [
      "1024\n"
     ]
    }
   ],
   "source": [
    "# Precondition: user enters numbers correctly\n",
    "def power_of(num: int, pow_num: int) -> int:\n",
    "    if pow_num == 1:\n",
    "        return num * 1\n",
    "    else:\n",
    "        return num * power_of(num, pow_num - 1)\n",
    "    \n",
    "def u180_q2():\n",
    "    pow_num = int(input('Enter x: '))\n",
    "    num = int(input('Enter n: '))\n",
    "    print(power_of(num, pow_num))\n",
    "    \n",
    "\n",
    "u180_q2()"
   ]
  },
  {
   "cell_type": "markdown",
   "id": "f35d5110-7157-4674-919d-ca3506683022",
   "metadata": {},
   "source": [
    "## Unit 19. Lambda"
   ]
  },
  {
   "cell_type": "markdown",
   "id": "6b584f94-c032-440d-92b9-2683a9464794",
   "metadata": {},
   "source": [
    "### Q1. (p. 138)  \n",
    "Make a program to:\n",
    "- Return even numbers with **for()**"
   ]
  },
  {
   "cell_type": "code",
   "execution_count": 16,
   "id": "b9c27974-7836-4871-af31-1123b99d92f1",
   "metadata": {},
   "outputs": [
    {
     "name": "stdout",
     "output_type": "stream",
     "text": [
      "[2, 4, 6, 8, 10]\n"
     ]
    }
   ],
   "source": [
    "n_list = list(range(1, 11))\n",
    "\n",
    "def u190_q1():\n",
    "    even_list = [x for x in filter(lambda y: y % 2 == 0, n_list)]\n",
    "    print(even_list)\n",
    "    \n",
    "u190_q1()"
   ]
  },
  {
   "cell_type": "markdown",
   "id": "d5c3448d-501b-4b9f-a24b-837d41709b00",
   "metadata": {},
   "source": [
    "### Q2. (p. 139)  \n",
    "Make a program to:\n",
    "- Return even numbers with **list()**."
   ]
  },
  {
   "cell_type": "code",
   "execution_count": 11,
   "id": "52503dbb-4f9b-4447-bcda-af7597126fe5",
   "metadata": {},
   "outputs": [
    {
     "name": "stdout",
     "output_type": "stream",
     "text": [
      "[2, 4, 6, 8, 10]\n"
     ]
    }
   ],
   "source": [
    "n_list = list(range(1, 11))\n",
    "\n",
    "def u190_q2():\n",
    "    even_list = list(filter(lambda x: x % 2 == 0, n_list))\n",
    "    print(even_list)\n",
    "\n",
    "u190_q2()"
   ]
  },
  {
   "cell_type": "markdown",
   "id": "dfdd9727-aafa-4b0f-83be-5b775cb282d1",
   "metadata": {},
   "source": [
    "### Q3. (p. 140)  \n",
    "Make a program to:\n",
    "- Change letters from lower to upper using a defined by yourself function.."
   ]
  },
  {
   "cell_type": "code",
   "execution_count": 21,
   "id": "30c631c2-04c4-4c08-b102-0eb0c66ebab2",
   "metadata": {},
   "outputs": [
    {
     "name": "stdout",
     "output_type": "stream",
     "text": [
      "['A', 'B', 'C', 'D']\n"
     ]
    }
   ],
   "source": [
    "a_list = ['a', 'b', 'c', 'd']\n",
    "\n",
    "def to_upper(lett: str) -> str:\n",
    "    return lett.upper()\n",
    "    \n",
    "def u190_q3():\n",
    "    upper_a_list = list(map(lambda x: to_upper(x), a_list))\n",
    "    print(upper_a_list)\n",
    "\n",
    "u190_q3()"
   ]
  },
  {
   "cell_type": "markdown",
   "id": "7e5b95de-89c7-49d5-9845-4af5b53afb74",
   "metadata": {},
   "source": [
    "### Q4. (p. 141)  \n",
    "Make a program to:\n",
    "- Compute the sum of all numbers with a reduce and lambda expression, use a range from 1 to 101."
   ]
  },
  {
   "cell_type": "code",
   "execution_count": 23,
   "id": "48e4c9b3-052f-4ed6-8462-461ed9289da4",
   "metadata": {},
   "outputs": [
    {
     "name": "stdout",
     "output_type": "stream",
     "text": [
      "Sum of 1 to 100: 5050\n"
     ]
    }
   ],
   "source": [
    "from functools import reduce\n",
    "\n",
    "def u190_q4():\n",
    "    res = reduce(lambda acc, x: acc + x, range(1, 101))\n",
    "    print('Sum of 1 to 100:', res)\n",
    "\n",
    "u190_q4()"
   ]
  },
  {
   "cell_type": "markdown",
   "id": "f58dd320-4f8a-49e7-b26a-3d3bb47bd0d6",
   "metadata": {},
   "source": [
    "### Q1'. (p. 174)  \n",
    "Make a program to:\n",
    "- Given a list, group in 3-score tuples the alumni and say how many alumni there are and how many are valid (have no 0s)."
   ]
  },
  {
   "cell_type": "code",
   "execution_count": 29,
   "id": "18da5fc7-0c2c-4dd7-907a-b7e1c1ab3860",
   "metadata": {},
   "outputs": [
    {
     "name": "stdout",
     "output_type": "stream",
     "text": [
      "scores = [[100, 90, 95], [90, 80, 70], [0, 80, 90], [90, 0, 90], [100, 75, 20], [30, 50, 90]]\n",
      "The number of total students is 6.\n",
      "The number students with valid scores is 4.\n",
      "[[100, 90, 95], [90, 80, 70], [100, 75, 20], [30, 50, 90]]\n"
     ]
    }
   ],
   "source": [
    "def u191_q1():\n",
    "    scores = [100, 90, 95, 90, 80, 70, 0, 80, 90, 90, 0, 90, 100, 75, 20, 30, 50, 90]\n",
    "    aux = []\n",
    "\n",
    "    i = iter(scores)\n",
    "    for x in i:\n",
    "        try:\n",
    "            aux.append([x, next(i), next(i)])\n",
    "        except:\n",
    "            break\n",
    "\n",
    "    scores = aux\n",
    "    students_tot = len(scores)\n",
    "    filtered_scores = list(filter(lambda a: a[0] != 0 and a[1] != 0 and a[2] != 0, scores))\n",
    "    students_valid = len(filtered_scores)\n",
    "    print(f\"scores = {scores}\")\n",
    "    print(f\"The number of total students is {students_tot}.\")\n",
    "    print(f\"The number students with valid scores is {students_valid}.\")\n",
    "    print(f\"{filtered_scores}\")\n",
    "    \n",
    "u191_q1()"
   ]
  },
  {
   "cell_type": "markdown",
   "id": "2c6bc40b-5c8e-4565-8006-feadb2cf600d",
   "metadata": {},
   "source": [
    "### Ejercicio Salva 1. Try-except para leer fichero y sumar los que sean float."
   ]
  },
  {
   "cell_type": "code",
   "execution_count": 41,
   "id": "d02b170a-2e60-4609-88ef-9cf68957e935",
   "metadata": {},
   "outputs": [
    {
     "name": "stdout",
     "output_type": "stream",
     "text": [
      "135.35000000000002\n"
     ]
    }
   ],
   "source": [
    "with open('valores.txt', 'r') as f:\n",
    "    valores = f.read().split()\n",
    "\n",
    "suma = 0\n",
    "for v in valores:\n",
    "    try:\n",
    "        suma += float(v)\n",
    "    except Exception:\n",
    "        pass\n",
    "        \n",
    "print(f\"{suma}\")          # Example of how hard it is to exactly represent decimal points"
   ]
  },
  {
   "cell_type": "markdown",
   "id": "39cf5a40-c4a1-4b77-be8f-309b56b23145",
   "metadata": {},
   "source": [
    "### Ejercicio Salva 2. Fichero Quijote y obtener palabra mayor longitud de linea, si empate, devolver la mayor alfabéticamente. Añadir a diccionario con lista de líneas en que aparece e imprimir las que aparezcan en 3 líneas o mas."
   ]
  },
  {
   "cell_type": "code",
   "execution_count": 2,
   "id": "d9018885-6db5-47bc-ac77-87fc14ab551d",
   "metadata": {},
   "outputs": [
    {
     "name": "stdout",
     "output_type": "stream",
     "text": [
      "La palabra quijote aparece en 848 lineas\n",
      "La palabra cervantes aparece en 3 lineas\n",
      "La palabra primera aparece en 39 lineas\n",
      "La palabra ejercicio aparece en 22 lineas\n",
      "La palabra encantamientos aparece en 6 lineas\n",
      "La palabra historia aparece en 97 lineas\n",
      "La palabra pensamiento aparece en 44 lineas\n",
      "La palabra significativo aparece en 3 lineas\n",
      "La palabra sobrenombre aparece en 3 lineas\n",
      "La palabra ingenioso aparece en 3 lineas\n",
      "La palabra prevenciones aparece en 5 lineas\n",
      "La palabra verdaderamente aparece en 22 lineas\n",
      "La palabra experiencia aparece en 26 lineas\n",
      "La palabra averiguar aparece en 7 lineas\n",
      "La palabra semejantes aparece en 42 lineas\n",
      "La palabra descubriendo aparece en 3 lineas\n",
      "La palabra estudiante aparece en 14 lineas\n",
      "La palabra princesas aparece en 5 lineas\n",
      "La palabra determinacio aparece en 21 lineas\n",
      "La palabra caballero aparece en 352 lineas\n",
      "La palabra magnificencia aparece en 3 lineas\n",
      "La palabra desenvoltura aparece en 13 lineas\n",
      "La palabra mandamiento aparece en 13 lineas\n",
      "La palabra encrucijadas aparece en 4 lineas\n",
      "La palabra continente aparece en 12 lineas\n",
      "La palabra emperatriz aparece en 4 lineas\n",
      "La palabra intencionado aparece en 4 lineas\n",
      "La palabra desgracia aparece en 43 lineas\n",
      "La palabra sentimiento aparece en 12 lineas\n",
      "La palabra duele aparece en 3 lineas\n",
      "La palabra sabes aparece en 22 lineas\n",
      "La palabra prosiguiendo aparece en 8 lineas\n",
      "La palabra entendimiento aparece en 56 lineas\n",
      "La palabra enfermedad aparece en 8 lineas\n",
      "La palabra desaforados aparece en 6 lineas\n",
      "La palabra licenciado aparece en 31 lineas\n",
      "La palabra escrutinio aparece en 4 lineas\n",
      "La palabra ignorancia aparece en 6 lineas\n",
      "La palabra roncesvalles aparece en 4 lineas\n",
      "La palabra entretenimiento aparece en 6 lineas\n",
      "La palabra disparatado aparece en 3 lineas\n",
      "La palabra levantadas aparece en 4 lineas\n",
      "La palabra misericordia aparece en 7 lineas\n",
      "La palabra encantador aparece en 13 lineas\n",
      "La palabra caballeros aparece en 155 lineas\n",
      "La palabra descubrieron aparece en 5 lineas\n",
      "La palabra encantadores aparece en 6 lineas\n",
      "La palabra endiablada aparece en 4 lineas\n",
      "La palabra ofrecimientos aparece en 15 lineas\n",
      "La palabra historiador aparece en 4 lineas\n",
      "La palabra razonamientos aparece en 3 lineas\n",
      "La palabra atrevimientos aparece en 3 lineas\n",
      "La palabra bonitamente aparece en 4 lineas\n",
      "La palabra inconvenientes aparece en 6 lineas\n",
      "La palabra despoblados aparece en 4 lineas\n",
      "La palabra conocimiento aparece en 14 lineas\n",
      "La palabra determinaron aparece en 8 lineas\n",
      "La palabra cabreros aparece en 17 lineas\n",
      "La palabra venturosa aparece en 4 lineas\n",
      "La palabra antonio aparece en 3 lineas\n",
      "La palabra siquiera aparece en 17 lineas\n",
      "La palabra sabida aparece en 3 lineas\n",
      "La palabra desdichado aparece en 29 lineas\n",
      "La palabra indicio aparece en 8 lineas\n",
      "La palabra esperanza aparece en 30 lineas\n",
      "La palabra escogido aparece en 6 lineas\n",
      "La palabra cortesi aparece en 21 lineas\n",
      "La palabra tienes aparece en 28 lineas\n",
      "La palabra esperanzas aparece en 17 lineas\n",
      "La palabra servicios aparece en 12 lineas\n",
      "La palabra vestido aparece en 27 lineas\n",
      "La palabra sicas aparece en 3 lineas\n",
      "La palabra escuchado aparece en 8 lineas\n",
      "La palabra alabanzas aparece en 13 lineas\n",
      "La palabra verdaderas aparece en 18 lineas\n",
      "La palabra ndote aparece en 4 lineas\n",
      "La palabra piensa aparece en 11 lineas\n",
      "La palabra hermosuras aparece en 3 lineas\n",
      "La palabra hizo aparece en 145 lineas\n",
      "La palabra quiero aparece en 111 lineas\n",
      "La palabra designio aparece en 5 lineas\n",
      "La palabra recompensa aparece en 3 lineas\n",
      "La palabra principalmente aparece en 8 lineas\n",
      "La palabra demasiadamente aparece en 4 lineas\n",
      "La palabra sucesos aparece en 28 lineas\n",
      "La palabra lanzarote aparece en 5 lineas\n",
      "La palabra menesterosos aparece en 14 lineas\n",
      "La palabra encomendarse aparece en 7 lineas\n",
      "La palabra innumerables aparece en 3 lineas\n",
      "La palabra nadie aparece en 67 lineas\n",
      "La palabra prueba aparece en 12 lineas\n",
      "La palabra nacimiento aparece en 5 lineas\n",
      "La palabra puntualmente aparece en 4 lineas\n",
      "La palabra circunstantes aparece en 7 lineas\n",
      "La palabra desesperados aparece en 3 lineas\n",
      "La palabra lengua aparece en 52 lineas\n",
      "La palabra comunique aparece en 4 lineas\n",
      "La palabra doliente aparece en 3 lineas\n",
      "La palabra espantable aparece en 6 lineas\n",
      "La palabra mezclados aparece en 3 lineas\n",
      "La palabra concertado aparece en 9 lineas\n",
      "La palabra despecho aparece en 13 lineas\n",
      "La palabra confusio aparece en 15 lineas\n",
      "La palabra tristes aparece en 6 lineas\n",
      "La palabra profundos aparece en 4 lineas\n",
      "La palabra verdadera aparece en 32 lineas\n",
      "La palabra sospechas aparece en 9 lineas\n",
      "La palabra desesperado aparece en 10 lineas\n",
      "La palabra eternamente aparece en 3 lineas\n",
      "La palabra cerrar aparece en 6 lineas\n",
      "La palabra sufrimiento aparece en 4 lineas\n",
      "La palabra acertado aparece en 12 lineas\n",
      "La palabra siempre aparece en 69 lineas\n",
      "La palabra conducido aparece en 5 lineas\n",
      "La palabra sinrazones aparece en 4 lineas\n",
      "La palabra aborrezco aparece en 3 lineas\n",
      "La palabra ofrezco aparece en 4 lineas\n",
      "La palabra presto aparece en 50 lineas\n",
      "La palabra tiempo aparece en 171 lineas\n",
      "La palabra terrible aparece en 12 lineas\n",
      "La palabra difunto aparece en 8 lineas\n",
      "La palabra desesperada aparece en 3 lineas\n",
      "La palabra recogimiento aparece en 5 lineas\n",
      "La palabra respuesta aparece en 19 lineas\n",
      "La palabra amador aparece en 4 lineas\n",
      "La palabra perdido aparece en 15 lineas\n",
      "La palabra rigor aparece en 12 lineas\n",
      "La palabra ingrata aparece en 12 lineas\n",
      "La palabra experiencias aparece en 3 lineas\n",
      "La palabra acontecimiento aparece en 4 lineas\n",
      "La palabra naturalmente aparece en 4 lineas\n",
      "La palabra menesterosa aparece en 7 lineas\n",
      "La palabra pensamientos aparece en 44 lineas\n",
      "La palabra honestidad aparece en 27 lineas\n",
      "La palabra imposibilidad aparece en 5 lineas\n",
      "La palabra maritornes aparece en 31 lineas\n",
      "La palabra cuadrillero aparece en 15 lineas\n",
      "La palabra pesadumbre aparece en 32 lineas\n",
      "La palabra cuatrocientos aparece en 4 lineas\n",
      "La palabra encantados aparece en 12 lineas\n",
      "La palabra encomendarme aparece en 4 lineas\n",
      "La palabra contravenir aparece en 4 lineas\n",
      "La palabra inclemencias aparece en 3 lineas\n",
      "La palabra quebrantado aparece en 6 lineas\n",
      "La palabra aventuras aparece en 56 lineas\n",
      "La palabra malandrines aparece en 5 lineas\n",
      "La palabra manteamiento aparece en 4 lineas\n",
      "La palabra principales aparece en 10 lineas\n",
      "La palabra rocinante aparece en 120 lineas\n",
      "La palabra maldiciendo aparece en 4 lineas\n",
      "La palabra respondio aparece en 455 lineas\n",
      "La palabra vuestra aparece en 459 lineas\n",
      "La palabra distintamente aparece en 3 lineas\n",
      "La palabra forzosamente aparece en 4 lineas\n",
      "La palabra especialmente aparece en 27 lineas\n",
      "La palabra desaguisado aparece en 8 lineas\n",
      "La palabra aprovecharse aparece en 5 lineas\n",
      "La palabra verdadero aparece en 21 lineas\n",
      "La palabra diligencias aparece en 6 lineas\n",
      "La palabra desventuras aparece en 15 lineas\n",
      "La palabra acostumbrados aparece en 3 lineas\n",
      "La palabra advirtieron aparece en 3 lineas\n",
      "La palabra inclinada aparece en 4 lineas\n",
      "La palabra repitiendo aparece en 3 lineas\n",
      "La palabra quisie aparece en 8 lineas\n",
      "La palabra movimientos aparece en 6 lineas\n",
      "La palabra invencible aparece en 3 lineas\n",
      "La palabra replico aparece en 83 lineas\n",
      "La palabra mambrino aparece en 17 lineas\n",
      "La palabra apartarme aparece en 3 lineas\n",
      "La palabra cumpliese aparece en 4 lineas\n",
      "La palabra voluntad aparece en 112 lineas\n",
      "La palabra maravedi aparece en 5 lineas\n",
      "La palabra ndosela aparece en 4 lineas\n",
      "La palabra primero aparece en 97 lineas\n",
      "La palabra mientes aparece en 8 lineas\n",
      "La palabra pasatiempo aparece en 7 lineas\n",
      "La palabra desamparado aparece en 3 lineas\n",
      "La palabra dondequiera aparece en 8 lineas\n",
      "La palabra caminando aparece en 5 lineas\n",
      "La palabra sentimientos aparece en 8 lineas\n",
      "La palabra principal aparece en 30 lineas\n",
      "La palabra emperadores aparece en 4 lineas\n",
      "La palabra cristiano aparece en 44 lineas\n",
      "La palabra inventaron aparece en 4 lineas\n",
      "La palabra procurar aparece en 9 lineas\n",
      "La palabra siguiente aparece en 8 lineas\n",
      "La palabra galeotes aparece en 19 lineas\n",
      "La palabra pregunto aparece en 62 lineas\n",
      "La palabra sancho aparece en 691 lineas\n",
      "La palabra miserables aparece en 3 lineas\n",
      "La palabra semejante aparece en 17 lineas\n",
      "La palabra particular aparece en 12 lineas\n",
      "La palabra enamorados aparece en 11 lineas\n",
      "La palabra fuertemente aparece en 9 lineas\n",
      "La palabra guardas aparece en 9 lineas\n",
      "La palabra hechicero aparece en 3 lineas\n",
      "La palabra pendencias aparece en 13 lineas\n",
      "La palabra compasio aparece en 11 lineas\n",
      "La palabra merecido aparece en 7 lineas\n",
      "La palabra pasamonte aparece en 16 lineas\n",
      "La palabra comisario aparece en 10 lineas\n",
      "La palabra embustero aparece en 3 lineas\n",
      "La palabra docientos aparece en 4 lineas\n",
      "La palabra persiguen aparece en 3 lineas\n",
      "La palabra tuviese aparece en 39 lineas\n",
      "La palabra persuadiendo aparece en 3 lineas\n",
      "La palabra desembarazado aparece en 4 lineas\n",
      "La palabra delincuentes aparece en 3 lineas\n",
      "La palabra conviene aparece en 9 lineas\n",
      "La palabra esconderse aparece en 3 lineas\n",
      "La palabra acaecimientos aparece en 4 lineas\n",
      "La palabra procurando aparece en 5 lineas\n",
      "La palabra provecho aparece en 36 lineas\n",
      "La palabra crueldad aparece en 9 lineas\n",
      "La palabra tormento aparece en 7 lineas\n",
      "La palabra acierto aparece en 4 lineas\n",
      "La palabra tanto aparece en 248 lineas\n",
      "La palabra viene aparece en 51 lineas\n",
      "La palabra medicina aparece en 4 lineas\n",
      "La palabra entiende aparece en 7 lineas\n",
      "La palabra satisfaga aparece en 4 lineas\n",
      "La palabra parece aparece en 117 lineas\n",
      "La palabra encubiertos aparece en 3 lineas\n",
      "La palabra acabando aparece en 6 lineas\n",
      "La palabra escribio aparece en 8 lineas\n",
      "La palabra diligencia aparece en 26 lineas\n",
      "La palabra sobresaltos aparece en 4 lineas\n",
      "La palabra acostumbrado aparece en 5 lineas\n",
      "La palabra parecieron aparece en 4 lineas\n",
      "La palabra estrechamente aparece en 5 lineas\n",
      "La palabra prosigue aparece en 9 lineas\n",
      "La palabra determinado aparece en 13 lineas\n",
      "La palabra agradecimiento aparece en 5 lineas\n",
      "La palabra acomodado aparece en 9 lineas\n",
      "La palabra volviendo aparece en 10 lineas\n",
      "La palabra importancia aparece en 14 lineas\n",
      "La palabra prometio aparece en 13 lineas\n",
      "La palabra caballeri aparece en 140 lineas\n",
      "La palabra respondi aparece en 29 lineas\n",
      "La palabra sucedido aparece en 24 lineas\n",
      "La palabra preguntar aparece en 15 lineas\n",
      "La palabra blasfemias aparece en 5 lineas\n",
      "La palabra amancebados aparece en 3 lineas\n",
      "La palabra descubierto aparece en 18 lineas\n",
      "La palabra desagradecido aparece en 5 lineas\n",
      "La palabra quienquiera aparece en 10 lineas\n",
      "La palabra viendo aparece en 96 lineas\n",
      "La palabra calabazadas aparece en 4 lineas\n",
      "La palabra contrahecha aparece en 3 lineas\n",
      "La palabra purgatorio aparece en 3 lineas\n",
      "La palabra escribir aparece en 18 lineas\n",
      "La palabra dificultoso aparece en 5 lineas\n",
      "La palabra encerramiento aparece en 3 lineas\n",
      "La palabra corchuelo aparece en 3 lineas\n",
      "La palabra universo aparece en 4 lineas\n",
      "La palabra disparate aparece en 8 lineas\n",
      "La palabra soberana aparece en 4 lineas\n",
      "La palabra afincamiento aparece en 3 lineas\n",
      "La palabra muerte aparece en 69 lineas\n",
      "La palabra pollinos aparece en 8 lineas\n",
      "La palabra escrito aparece en 30 lineas\n",
      "La palabra quisieres aparece en 21 lineas\n",
      "La palabra escondido aparece en 9 lineas\n",
      "La palabra procurare aparece en 3 lineas\n",
      "La palabra conciencia aparece en 16 lineas\n",
      "La palabra prosiguen aparece en 3 lineas\n",
      "La palabra plantas aparece en 4 lineas\n",
      "La palabra ausencias aparece en 3 lineas\n",
      "La palabra toboso aparece en 60 lineas\n",
      "La palabra adonde aparece en 46 lineas\n",
      "La palabra esconde aparece en 3 lineas\n",
      "La palabra venido aparece en 24 lineas\n",
      "La palabra ralea aparece en 4 lineas\n",
      "La palabra conocieron aparece en 7 lineas\n",
      "La palabra vuestro aparece en 80 lineas\n",
      "La palabra penitencia aparece en 15 lineas\n",
      "La palabra entrambos aparece en 21 lineas\n",
      "La palabra trasladar aparece en 5 lineas\n",
      "La palabra suspensos aparece en 9 lineas\n",
      "La palabra considerando aparece en 6 lineas\n",
      "La palabra salieron aparece en 11 lineas\n",
      "La palabra desdenes aparece en 10 lineas\n",
      "La palabra celos aparece en 16 lineas\n",
      "La palabra paciencia aparece en 24 lineas\n",
      "La palabra fortuna aparece en 43 lineas\n",
      "La palabra consiente aparece en 6 lineas\n",
      "La palabra cielo aparece en 137 lineas\n",
      "La palabra recelo aparece en 5 lineas\n",
      "La palabra extran aparece en 53 lineas\n",
      "La palabra mudanza aparece en 7 lineas\n",
      "La palabra locura aparece en 43 lineas\n",
      "La palabra cordura aparece en 4 lineas\n",
      "La palabra querer aparece en 49 lineas\n",
      "La palabra remedios aparece en 4 lineas\n",
      "La palabra soneto aparece en 16 lineas\n",
      "La palabra ligeras aparece en 3 lineas\n",
      "La palabra apariencia aparece en 6 lineas\n",
      "La palabra cubierta aparece en 7 lineas\n",
      "La palabra trasluce aparece en 3 lineas\n",
      "La palabra permitas aparece en 3 lineas\n",
      "La palabra soledades aparece en 8 lineas\n",
      "La palabra puntualidad aparece en 7 lineas\n",
      "La palabra luscinda aparece en 99 lineas\n",
      "La palabra inconveniente aparece en 7 lineas\n",
      "La palabra sobrescrito aparece en 3 lineas\n",
      "La palabra menudencias aparece en 4 lineas\n",
      "La palabra confirmacio aparece en 7 lineas\n",
      "La palabra imposibilitado aparece en 4 lineas\n",
      "La palabra entretenido aparece en 3 lineas\n",
      "La palabra agradable aparece en 12 lineas\n",
      "La palabra desdichada aparece en 12 lineas\n",
      "La palabra incomparable aparece en 8 lineas\n",
      "La palabra impertinente aparece en 14 lineas\n",
      "La palabra prosiguio aparece en 28 lineas\n",
      "La palabra sobresalto aparece en 23 lineas\n",
      "La palabra particularmente aparece en 4 lineas\n",
      "La palabra demostraciones aparece en 3 lineas\n",
      "La palabra desdichas aparece en 11 lineas\n",
      "La palabra extraordinarios aparece en 3 lineas\n",
      "La palabra maldiciones aparece en 9 lineas\n",
      "La palabra imaginaciones aparece en 4 lineas\n",
      "La palabra impedimento aparece en 4 lineas\n",
      "La palabra nombraba aparece en 3 lineas\n",
      "La palabra nombrado aparece en 4 lineas\n",
      "La palabra representar aparece en 5 lineas\n",
      "La palabra micomicona aparece en 16 lineas\n",
      "La palabra simplicidad aparece en 6 lineas\n",
      "La palabra respondere aparece en 6 lineas\n",
      "La palabra doncella aparece en 77 lineas\n",
      "La palabra estando aparece en 47 lineas\n",
      "La palabra fermosura aparece en 12 lineas\n",
      "La palabra comedimiento aparece en 7 lineas\n",
      "La palabra favorecer aparece en 11 lineas\n",
      "La palabra izquierda aparece en 3 lineas\n",
      "La palabra consentire aparece en 4 lineas\n",
      "La palabra derribado aparece en 5 lineas\n",
      "La palabra sobremanera aparece en 3 lineas\n",
      "La palabra princesa aparece en 44 lineas\n",
      "La palabra grandeza aparece en 19 lineas\n",
      "La palabra respondiese aparece en 11 lineas\n",
      "La palabra micomico aparece en 9 lineas\n",
      "La palabra responder aparece en 21 lineas\n",
      "La palabra libertador aparece en 4 lineas\n",
      "La palabra acabado aparece en 18 lineas\n",
      "La palabra tratamiento aparece en 3 lineas\n",
      "La palabra menguado aparece en 3 lineas\n",
      "La palabra entremeterse aparece en 3 lineas\n",
      "La palabra quitado aparece en 15 lineas\n",
      "La palabra satisfecha aparece en 4 lineas\n",
      "La palabra desgracias aparece en 17 lineas\n",
      "La palabra vuestras aparece en 42 lineas\n",
      "La palabra pusieron aparece en 24 lineas\n",
      "La palabra reparaba aparece en 4 lineas\n",
      "La palabra izquierdo aparece en 7 lineas\n",
      "La palabra escudero aparece en 106 lineas\n",
      "La palabra profetizado aparece en 4 lineas\n",
      "La palabra desnudarse aparece en 4 lineas\n",
      "La palabra desembarco aparece en 4 lineas\n",
      "La palabra dorotea aparece en 131 lineas\n",
      "La palabra majestad aparece en 4 lineas\n",
      "La palabra tenemos aparece en 13 lineas\n",
      "La palabra prometido aparece en 28 lineas\n",
      "La palabra ltimamente aparece en 3 lineas\n",
      "La palabra adelantado aparece en 4 lineas\n",
      "La palabra maltrecho aparece en 7 lineas\n",
      "La palabra movimiento aparece en 6 lineas\n",
      "La palabra vituperios aparece en 5 lineas\n",
      "La palabra vengativo aparece en 4 lineas\n",
      "La palabra ginesillo aparece en 6 lineas\n",
      "La palabra palabras aparece en 75 lineas\n",
      "La palabra estado aparece en 62 lineas\n",
      "La palabra desembarcado aparece en 4 lineas\n",
      "La palabra desventurado aparece en 4 lineas\n",
      "La palabra simplicidades aparece en 4 lineas\n",
      "La palabra conversacio aparece en 8 lineas\n",
      "La palabra trescientas aparece en 3 lineas\n",
      "La palabra descontenta aparece en 3 lineas\n",
      "La palabra maravillado aparece en 3 lineas\n",
      "La palabra necesarias aparece en 4 lineas\n",
      "La palabra arremetio aparece en 19 lineas\n",
      "La palabra villano aparece en 22 lineas\n",
      "La palabra aprovecho aparece en 5 lineas\n",
      "La palabra juramentos aparece en 9 lineas\n",
      "La palabra repuesto aparece en 8 lineas\n",
      "La palabra partirse aparece en 5 lineas\n",
      "La palabra cuadrilla aparece en 4 lineas\n",
      "La palabra encerrado aparece en 5 lineas\n",
      "La palabra furibundos aparece en 3 lineas\n",
      "La palabra escuchando aparece en 17 lineas\n",
      "La palabra hablando aparece en 15 lineas\n",
      "La palabra doncellas aparece en 22 lineas\n",
      "La palabra respondelle aparece en 5 lineas\n",
      "La palabra cirongilio aparece en 4 lineas\n",
      "La palabra sobrina aparece en 19 lineas\n",
      "La palabra ventura aparece en 67 lineas\n",
      "La palabra barbero aparece en 138 lineas\n",
      "La palabra cardenio aparece en 104 lineas\n",
      "La palabra segunda aparece en 11 lineas\n",
      "La palabra encantamentos aparece en 9 lineas\n",
      "La palabra ventero aparece en 98 lineas\n",
      "La palabra escritos aparece en 10 lineas\n",
      "La palabra reverencia aparece en 3 lineas\n",
      "La palabra comenzado aparece en 15 lineas\n",
      "La palabra entretener aparece en 11 lineas\n",
      "La palabra curiosidad aparece en 12 lineas\n",
      "La palabra entendiendo aparece en 3 lineas\n",
      "La palabra comienza aparece en 3 lineas\n",
      "La palabra advertimiento aparece en 4 lineas\n",
      "La palabra admiracio aparece en 16 lineas\n",
      "La palabra consintiera aparece en 3 lineas\n",
      "La palabra vergu aparece en 10 lineas\n",
      "La palabra mostrado aparece en 10 lineas\n",
      "La palabra pecado aparece en 15 lineas\n",
      "La palabra cuando aparece en 387 lineas\n",
      "La palabra tierra aparece en 150 lineas\n",
      "La palabra probar aparece en 12 lineas\n",
      "La palabra laberinto aparece en 9 lineas\n",
      "La palabra atrevimiento aparece en 10 lineas\n",
      "La palabra levantaron aparece en 5 lineas\n",
      "La palabra sobresaltada aparece en 3 lineas\n",
      "La palabra libertad aparece en 56 lineas\n",
      "La palabra cerrado aparece en 9 lineas\n",
      "La palabra imposible aparece en 16 lineas\n",
      "La palabra juntamente aparece en 14 lineas\n",
      "La palabra muestra aparece en 25 lineas\n",
      "La palabra seguramente aparece en 6 lineas\n",
      "La palabra ingratitud aparece en 4 lineas\n",
      "La palabra silencio aparece en 41 lineas\n",
      "La palabra mortales aparece en 4 lineas\n",
      "La palabra cuenta aparece en 103 lineas\n",
      "La palabra estoy aparece en 43 lineas\n",
      "La palabra desiguales aparece en 3 lineas\n",
      "La palabra verdaderos aparece en 10 lineas\n",
      "La palabra encaminaban aparece en 6 lineas\n",
      "La palabra muero aparece en 3 lineas\n",
      "La palabra arrepentido aparece en 4 lineas\n",
      "La palabra olvido aparece en 14 lineas\n",
      "La palabra abierto aparece en 7 lineas\n",
      "La palabra reliquia aparece en 3 lineas\n",
      "La palabra amenaza aparece en 5 lineas\n",
      "La palabra peligrosa aparece en 6 lineas\n",
      "La palabra puerto aparece en 17 lineas\n",
      "La palabra menosprecio aparece en 3 lineas\n",
      "La palabra tambie aparece en 126 lineas\n",
      "La palabra vencimiento aparece en 6 lineas\n",
      "La palabra poderlo aparece en 3 lineas\n",
      "La palabra responderme aparece en 3 lineas\n",
      "La palabra estorbarlo aparece en 4 lineas\n",
      "La palabra llamarle aparece en 3 lineas\n",
      "La palabra diciendo aparece en 103 lineas\n",
      "La palabra dificultades aparece en 6 lineas\n",
      "La palabra satisfacer aparece en 8 lineas\n",
      "La palabra sustentar aparece en 8 lineas\n",
      "La palabra caramancho aparece en 3 lineas\n",
      "La palabra quedaba aparece en 22 lineas\n",
      "La palabra aposento aparece en 54 lineas\n",
      "La palabra cuchilladas aparece en 7 lineas\n",
      "La palabra cuchillada aparece en 7 lineas\n",
      "La palabra buscando aparece en 25 lineas\n",
      "La palabra encantamento aparece en 13 lineas\n",
      "La palabra aventureros aparece en 6 lineas\n",
      "La palabra sosegados aparece en 4 lineas\n",
      "La palabra leonela aparece en 44 lineas\n",
      "La palabra anselmo aparece en 137 lineas\n",
      "La palabra satisfecho aparece en 16 lineas\n",
      "La palabra desventura aparece en 19 lineas\n",
      "La palabra gobernador aparece en 9 lineas\n",
      "La palabra sucedieron aparece en 3 lineas\n",
      "La palabra caballeriza aparece en 8 lineas\n",
      "La palabra podri aparece en 65 lineas\n",
      "La palabra suspirar aparece en 5 lineas\n",
      "La palabra costumbre aparece en 16 lineas\n",
      "La palabra mentirosas aparece en 3 lineas\n",
      "La palabra llegado aparece en 20 lineas\n",
      "La palabra desmayada aparece en 10 lineas\n",
      "La palabra despavorido aparece en 3 lineas\n",
      "La palabra verdades aparece en 14 lineas\n",
      "La palabra recibieron aparece en 4 lineas\n",
      "La palabra arrepentimiento aparece en 3 lineas\n",
      "La palabra descomunal aparece en 8 lineas\n",
      "La palabra jornadas aparece en 4 lineas\n",
      "La palabra muestras aparece en 42 lineas\n",
      "La palabra mentirosos aparece en 7 lineas\n",
      "La palabra respondido aparece en 4 lineas\n",
      "La palabra cristiana aparece en 19 lineas\n",
      "La palabra ceremonias aparece en 6 lineas\n",
      "La palabra preguntado aparece en 7 lineas\n",
      "La palabra entender aparece en 83 lineas\n",
      "La palabra maria aparece en 3 lineas\n",
      "La palabra zoraida aparece en 78 lineas\n",
      "La palabra discurso aparece en 40 lineas\n",
      "La palabra incomodidades aparece en 4 lineas\n",
      "La palabra consideracio aparece en 8 lineas\n",
      "La palabra lamentable aparece en 3 lineas\n",
      "La palabra constantinopla aparece en 11 lineas\n",
      "La palabra castellano aparece en 15 lineas\n",
      "La palabra adelante aparece en 87 lineas\n",
      "La palabra mercedes aparece en 39 lineas\n",
      "La palabra mejor aparece en 153 lineas\n",
      "La palabra gloria aparece en 25 lineas\n",
      "La palabra cautivo aparece en 42 lineas\n",
      "La palabra derribada aparece en 3 lineas\n",
      "La palabra soldados aparece en 16 lineas\n",
      "La palabra subieron aparece en 8 lineas\n",
      "La palabra cansados aparece en 4 lineas\n",
      "La palabra espada aparece en 61 lineas\n",
      "La palabra continuo aparece en 3 lineas\n",
      "La palabra presentes aparece en 12 lineas\n",
      "La palabra justas aparece en 9 lineas\n",
      "La palabra subido aparece en 4 lineas\n",
      "La palabra valientes aparece en 16 lineas\n",
      "La palabra dificultad aparece en 4 lineas\n",
      "La palabra contiene aparece en 6 lineas\n",
      "La palabra representaba aparece en 3 lineas\n",
      "La palabra cristianos aparece en 52 lineas\n",
      "La palabra respuestas aparece en 4 lineas\n",
      "La palabra francia aparece en 12 lineas\n",
      "La palabra vuestros aparece en 18 lineas\n",
      "La palabra comodidad aparece en 15 lineas\n",
      "La palabra veras aparece en 25 lineas\n",
      "La palabra suspiro aparece en 12 lineas\n",
      "La palabra ensalada aparece en 4 lineas\n",
      "La palabra vosotros aparece en 28 lineas\n",
      "La palabra descubriese aparece en 5 lineas\n",
      "La palabra cautiverio aparece en 3 lineas\n",
      "La palabra hecho aparece en 154 lineas\n",
      "La palabra desierta aparece en 4 lineas\n",
      "La palabra franceses aparece en 7 lineas\n",
      "La palabra determinamos aparece en 3 lineas\n",
      "La palabra sucedio aparece en 32 lineas\n",
      "La palabra fernando aparece en 118 lineas\n",
      "La palabra entrado aparece en 12 lineas\n",
      "La palabra nombre aparece en 88 lineas\n",
      "La palabra mostraron aparece en 3 lineas\n",
      "La palabra descubrirse aparece en 5 lineas\n",
      "La palabra improviso aparece en 10 lineas\n",
      "La palabra satisfechos aparece en 3 lineas\n",
      "La palabra aderezada aparece en 3 lineas\n",
      "La palabra liberalidad aparece en 11 lineas\n",
      "La palabra escuche aparece en 3 lineas\n",
      "La palabra poniendo aparece en 10 lineas\n",
      "La palabra nde aparece en 45 lineas\n",
      "La palabra confuso aparece en 17 lineas\n",
      "La palabra luciente aparece en 4 lineas\n",
      "La palabra lumbre aparece en 4 lineas\n",
      "La palabra llegando aparece en 23 lineas\n",
      "La palabra despierto aparece en 4 lineas\n",
      "La palabra mulas aparece en 17 lineas\n",
      "La palabra imposibles aparece en 5 lineas\n",
      "La palabra perezosos aparece en 3 lineas\n",
      "La palabra victoria aparece en 5 lineas\n",
      "La palabra sentidos aparece en 11 lineas\n",
      "La palabra prenda aparece en 7 lineas\n",
      "La palabra manifiesta aparece en 3 lineas\n",
      "La palabra amorosas aparece en 6 lineas\n",
      "La palabra aunque aparece en 270 lineas\n",
      "La palabra dificultosas aparece en 3 lineas\n",
      "La palabra alcanzar aparece en 28 lineas\n",
      "La palabra principios aparece en 5 lineas\n",
      "La palabra aprovechar aparece en 6 lineas\n",
      "La palabra vendra aparece en 13 lineas\n",
      "La palabra hablaba aparece en 10 lineas\n",
      "La palabra razonamiento aparece en 3 lineas\n",
      "La palabra desastrado aparece en 3 lineas\n",
      "La palabra aderezados aparece en 3 lineas\n",
      "La palabra cabalgaduras aparece en 3 lineas\n",
      "La palabra disparates aparece en 28 lineas\n",
      "La palabra provincia aparece en 3 lineas\n",
      "La palabra representantes aparece en 4 lineas\n",
      "La palabra caminantes aparece en 10 lineas\n",
      "La palabra nosotros aparece en 65 lineas\n",
      "La palabra responde aparece en 10 lineas\n",
      "La palabra camino aparece en 121 lineas\n",
      "La palabra volviesen aparece en 6 lineas\n",
      "La palabra cualquiera aparece en 21 lineas\n",
      "La palabra luis aparece en 39 lineas\n",
      "La palabra sepamos aparece en 3 lineas\n",
      "La palabra atentamente aparece en 9 lineas\n",
      "La palabra medianamente aparece en 3 lineas\n",
      "La palabra embrazando aparece en 3 lineas\n",
      "La palabra socorriese aparece en 4 lineas\n",
      "La palabra salteador aparece en 6 lineas\n",
      "La palabra pendencia aparece en 18 lineas\n",
      "La palabra encadenados aparece en 4 lineas\n",
      "La palabra sucedidas aparece en 3 lineas\n",
      "La palabra contrario aparece en 19 lineas\n",
      "La palabra presente aparece en 18 lineas\n",
      "La palabra entendido aparece en 8 lineas\n",
      "La palabra pensativo aparece en 13 lineas\n",
      "La palabra entremeto aparece en 5 lineas\n",
      "La palabra desesperaba aparece en 5 lineas\n",
      "La palabra cuatro aparece en 68 lineas\n",
      "La palabra cuadrilleros aparece en 23 lineas\n",
      "La palabra albarda aparece en 28 lineas\n",
      "La palabra encantos aparece en 4 lineas\n",
      "La palabra menoscabo aparece en 7 lineas\n",
      "La palabra realmente aparece en 3 lineas\n",
      "La palabra temerosa aparece en 13 lineas\n",
      "La palabra estuvieron aparece en 8 lineas\n",
      "La palabra acomodaron aparece en 3 lineas\n",
      "La palabra encantado aparece en 49 lineas\n",
      "La palabra enjaulado aparece en 5 lineas\n",
      "La palabra escrituras aparece en 4 lineas\n",
      "La palabra propiedad aparece en 3 lineas\n",
      "La palabra proseguir aparece en 10 lineas\n",
      "La palabra acontecido aparece en 7 lineas\n",
      "La palabra peregrina aparece en 3 lineas\n",
      "La palabra reprehensio aparece en 3 lineas\n",
      "La palabra representan aparece en 6 lineas\n",
      "La palabra llegaban aparece en 6 lineas\n",
      "La palabra determinaba aparece en 5 lineas\n",
      "La palabra muchachos aparece en 4 lineas\n",
      "La palabra entiendo aparece en 20 lineas\n",
      "La palabra discreto aparece en 24 lineas\n",
      "La palabra ejercitando aparece en 3 lineas\n",
      "La palabra nigo aparece en 47 lineas\n",
      "La palabra gentes aparece en 14 lineas\n",
      "La palabra extranjeros aparece en 4 lineas\n",
      "La palabra concernientes aparece en 3 lineas\n",
      "La palabra filosofi aparece en 3 lineas\n",
      "La palabra agradecio aparece en 12 lineas\n",
      "La palabra nuestras aparece en 24 lineas\n",
      "La palabra manchada aparece en 4 lineas\n",
      "La palabra llevaban aparece en 17 lineas\n",
      "La palabra circunvecinas aparece en 3 lineas\n",
      "La palabra escritura aparece en 8 lineas\n",
      "La palabra manera aparece en 208 lineas\n",
      "La palabra trompeta aparece en 3 lineas\n",
      "La palabra diciplinantes aparece en 5 lineas\n",
      "La palabra detuvieron aparece en 3 lineas\n",
      "La palabra menester aparece en 89 lineas\n",
      "La palabra pergamino aparece en 3 lineas\n",
      "La palabra argamasilla aparece en 6 lineas\n",
      "La palabra epitafio aparece en 4 lineas\n",
      "La palabra despojos aparece en 9 lineas\n",
      "La palabra llego aparece en 99 lineas\n",
      "La palabra amadises aparece en 7 lineas\n",
      "La palabra debajo aparece en 40 lineas\n",
      "La palabra pechos aparece en 8 lineas\n",
      "La palabra dulcinea aparece en 90 lineas\n",
      "La palabra aficionado aparece en 4 lineas\n",
      "La palabra sierra aparece en 22 lineas\n",
      "La palabra montiel aparece en 3 lineas\n",
      "La palabra muriendo aparece en 6 lineas\n",
      "La palabra engan aparece en 59 lineas\n",
      "La palabra precia aparece en 3 lineas\n",
      "La palabra mancha aparece en 50 lineas\n",
      "La palabra milagro aparece en 14 lineas\n",
      "La palabra insolencias aparece en 3 lineas\n",
      "La palabra miente aparece en 9 lineas\n",
      "La palabra prometer aparece en 6 lineas\n",
      "La palabra sombra aparece en 14 lineas\n"
     ]
    }
   ],
   "source": [
    "import re\n",
    "\n",
    "with open('el_quijote.txt', 'r', encoding='utf-8') as f:\n",
    "    d = {}\n",
    "    for line in f:\n",
    "        s = re.findall(r\"\\w+\", line.lower())\n",
    "        if s != []:\n",
    "            ganadora = max(s, key=lambda x:(len(x), x))\n",
    "            d[ganadora] = 0\n",
    "\n",
    "with open('el_quijote.txt', 'r', encoding='utf-8') as f:\n",
    "    for line in f:\n",
    "        s = re.findall(r\"\\w+\", line.lower())\n",
    "        if s != []:\n",
    "            for w in s:\n",
    "                if w in d:\n",
    "                    d[w] = d.get(w, 0) + 1\n",
    "\n",
    "for k, v in d.items():\n",
    "    if v >= 3:\n",
    "        print(f\"La palabra {k} aparece en {v} lineas\")"
   ]
  },
  {
   "cell_type": "markdown",
   "id": "486e1b62-abea-47b7-9150-71a7bdf5e608",
   "metadata": {},
   "source": [
    "## Unit 20. Closure"
   ]
  },
  {
   "cell_type": "markdown",
   "id": "44e5d95e-bc9d-4769-babf-f6e1d28e98aa",
   "metadata": {},
   "source": [
    "### Q1. (p. 209)  \n",
    "Make a program to:\n",
    "- Make a nested function greetings and inside a sa_hi function."
   ]
  },
  {
   "cell_type": "code",
   "execution_count": 28,
   "id": "423f5f8b-57af-4eba-bc05-bb32f775ce2f",
   "metadata": {},
   "outputs": [
    {
     "name": "stdout",
     "output_type": "stream",
     "text": [
      "hello\n"
     ]
    }
   ],
   "source": [
    "def u200_q1():\n",
    "    def greetings():\n",
    "        def say_hi():\n",
    "            print('hello')\n",
    "        say_hi()\n",
    "    greetings()\n",
    "    \n",
    "u200_q1()"
   ]
  },
  {
   "cell_type": "markdown",
   "id": "c1699ad8-e537-4e45-8a56-5de7e199989d",
   "metadata": {},
   "source": [
    "### Q2. (p. 210)  \n",
    "Make a program to:\n",
    "- Make nested functions with the predefined **calc()** so that to obtain a 14 as result."
   ]
  },
  {
   "cell_type": "code",
   "execution_count": 39,
   "id": "cf1339d9-47ac-4342-baf4-5766ee2a6a7a",
   "metadata": {},
   "outputs": [
    {
     "name": "stdout",
     "output_type": "stream",
     "text": [
      "14\n"
     ]
    }
   ],
   "source": [
    "def u200_q2():\n",
    "    def calc():\n",
    "        a = 3\n",
    "        b = 5\n",
    "        def mul_add(x):\n",
    "            return a * x + b\n",
    "        return mul_add\n",
    "    \n",
    "    num = calc()\n",
    "    print(num(3))\n",
    "    \n",
    "u200_q2()"
   ]
  },
  {
   "cell_type": "markdown",
   "id": "4eb3d25e-4ee4-41e2-a0a7-e28ff07fa38f",
   "metadata": {},
   "source": [
    "### Q3. (p. 211)  \n",
    "Make a program to:\n",
    "- Ret"
   ]
  },
  {
   "cell_type": "code",
   "execution_count": 43,
   "id": "09eb5249-538f-4fbf-9024-116657bebe84",
   "metadata": {},
   "outputs": [
    {
     "name": "stdout",
     "output_type": "stream",
     "text": [
      "14\n"
     ]
    }
   ],
   "source": [
    "def u200_q3():\n",
    "    def calc():\n",
    "        a = 3\n",
    "        b = 5\n",
    "        return lambda x: a * x + b\n",
    "    \n",
    "    num = calc()\n",
    "    print(num(3))\n",
    "    \n",
    "u200_q3()"
   ]
  },
  {
   "cell_type": "markdown",
   "id": "26ff851b-d526-47d1-852b-15426d2a6a63",
   "metadata": {},
   "source": [
    "### Q1'. (p. 236)  \n",
    "Make a program to:\n",
    "- Extract a list from **lst** with values from 1 to 100 that are divisible by 5 or 7. Declare a func1() and nested func2() and func3(). Execute func2() and func3() in func1()."
   ]
  },
  {
   "cell_type": "code",
   "execution_count": 12,
   "id": "1bf86fdd-2b84-4455-bd29-2ffc22f8df72",
   "metadata": {},
   "outputs": [
    {
     "name": "stdout",
     "output_type": "stream",
     "text": [
      "lst = [1, 2, 3, 4, 6, 8, 9, 11, 12, 13, 16, 17, 18, 19, 22, 23, 24, 26, 27, 29, 31, 32, 33, 34, 36, 37, 38, 39, 41, 43, 44, 46, 47, 48, 51, 52, 53, 54, 57, 58, 59, 61, 62, 64, 66, 67, 68, 69, 71, 72, 73, 74, 76, 78, 79, 81, 82, 83, 86, 87, 88, 89, 92, 93, 94, 96, 97, 99]\n",
      "result = [5, 7, 10, 14, 15, 20, 21, 25, 28, 30, 35, 35, 40, 42, 45, 49, 50, 55, 56, 60, 63, 65, 70, 70, 75, 77, 80, 84, 85, 90, 91, 95, 98]\n"
     ]
    }
   ],
   "source": [
    "def u201_q1():\n",
    "    def func1(lst):\n",
    "        def func2(a):\n",
    "            result1 = []\n",
    "            for i in a:\n",
    "                if i % 5 == 0:\n",
    "                    result1.append(i)\n",
    "            return result1\n",
    "\n",
    "        def func3(a):\n",
    "            result2 = []\n",
    "            for i in a:\n",
    "                if i % 7 == 0:\n",
    "                    result2.append(i)\n",
    "            return result2\n",
    "\n",
    "        mul_5 = func2(lst)\n",
    "        mul_7 = func3(lst)\n",
    "        \n",
    "        result_mul = sorted(mul_5 + mul_7)\n",
    "        result_no_mul = [x for x in lst if x not in result_mul]\n",
    "        \n",
    "        return result_no_mul, result_mul\n",
    "        \n",
    "    lst = list(range(1, 100))\n",
    "    result_no_mul, result_mul = func1(lst)\n",
    "    print('lst =', result_no_mul)\n",
    "    print('result =', result_mul)\n",
    "    \n",
    "u201_q1()"
   ]
  },
  {
   "cell_type": "markdown",
   "id": "198e2603-d762-46dd-8e71-9c4d943d1364",
   "metadata": {},
   "source": [
    "## Unit 21. Class"
   ]
  },
  {
   "cell_type": "markdown",
   "id": "03d3c859-c8fd-4e6e-b15f-95d2b30d6cdc",
   "metadata": {},
   "source": [
    "### Q1. (p. 283)  \n",
    "Make a program to:\n",
    "- Create a class Dog and the following objects and funcitonalities:\n",
    "  - Method bar().\n",
    "  - Instance Dog called *my_dog*=Dog.\n",
    "  - Print the barking sound with *my_dog.bark()*."
   ]
  },
  {
   "cell_type": "code",
   "execution_count": 110,
   "id": "24e30faf-6471-45c9-90e0-ecc4aad312a9",
   "metadata": {},
   "outputs": [
    {
     "name": "stdout",
     "output_type": "stream",
     "text": [
      "woof woof\n"
     ]
    }
   ],
   "source": [
    "class Dog:\n",
    "    def bark(self):\n",
    "        return 'woof woof'\n",
    "\n",
    "def u210_q1():\n",
    "    my_dog = Dog()\n",
    "    print(my_dog.bark())\n",
    "    \n",
    "u210_q1()"
   ]
  },
  {
   "cell_type": "markdown",
   "id": "10dd5413-64e7-447a-a05b-54bc5227cbfb",
   "metadata": {},
   "source": [
    "### Q2. (p. 284)  \n",
    "Make a program to:\n",
    "- Create a class Dog and the following objects and functionalities:\n",
    "  - Has a name and `__init__()`.\n",
    "  - Generate a Dog instance name Bingo."
   ]
  },
  {
   "cell_type": "code",
   "execution_count": 112,
   "id": "755c157d-29d3-48df-ad67-4c4a2264e3f9",
   "metadata": {},
   "outputs": [
    {
     "name": "stdout",
     "output_type": "stream",
     "text": [
      "Bingo : woof woof\n"
     ]
    }
   ],
   "source": [
    "class Dog:\n",
    "    def __init__(self, name):\n",
    "        self.name = name\n",
    "\n",
    "    def bark(self):\n",
    "        return 'woof woof'\n",
    "        \n",
    "def u210_q2():\n",
    "    my_dog = Dog('Bingo')\n",
    "    print(f'{my_dog.name} : {my_dog.bark()}')\n",
    "    \n",
    "u210_q2()"
   ]
  },
  {
   "cell_type": "markdown",
   "id": "734e01e5-3519-4fde-9d61-8720cf70e5c8",
   "metadata": {},
   "source": [
    "### Q1'. (p. 316)  \n",
    "Make a program to:\n",
    "- Class Student with the following functionalities. Student took quizzes in English, Maths and Sciencies; scores are given as input. Generate instances by using class.\n",
    "  - Attributes: name, student_id (8-digit integer), eng_quiz, math_quiz, sciencie quiz (all quizs in list format).\n",
    "  - Methods: init, str, set_eng_quiz, set_math_quiz, set_sciencie_quiz, get_name, get_student_id, get_all_quiz, get_total_score, get_avg_score."
   ]
  },
  {
   "cell_type": "code",
   "execution_count": 120,
   "id": "7b30a3ca-e496-487e-a337-9f427ad37ae6",
   "metadata": {},
   "outputs": [
    {
     "name": "stdin",
     "output_type": "stream",
     "text": [
      "Enter the student’s name : David Doe David Doe\n",
      "Enter the student’s ID : 20213093 20213093\n",
      "Enter the student’s English quiz score : 90 90\n",
      "Enter the student’s mathematics quiz score : 95 95\n",
      "Enter the student’s science quiz score : 100 100\n"
     ]
    },
    {
     "name": "stdout",
     "output_type": "stream",
     "text": [
      "'Name : David Doe, ID : 20213093\n",
      "    English quiz score : [90], Mathematics quiz score : [95]\n",
      "    Science quiz score : [100],\n",
      "    Total : 285, Average : 95.0\n"
     ]
    }
   ],
   "source": [
    "class Student:\n",
    "    def __init__(self, name, student_id):\n",
    "        self.name = name\n",
    "        self.student_id = int(student_id)\n",
    "        self.eng = []\n",
    "        self.math = []\n",
    "        self.science = []\n",
    "\n",
    "    def __str__(self):\n",
    "        return str(self.name) + \" \" + str(self.student_id) + \" \" + str(self.eng) + \" \" + str(self.math) + \" \" + str(self.science)\n",
    "\n",
    "    def set_eng_quiz(self, num):\n",
    "        self.eng.append(int(num))\n",
    "\n",
    "    def set_math_quiz(self, num):\n",
    "        self.math.append(int(num))\n",
    "\n",
    "    def set_science_quiz(self, num):\n",
    "        self.science.append(int(num))\n",
    "\n",
    "    def get_name(self):\n",
    "        return self.name\n",
    "\n",
    "    def get_student_id(self):\n",
    "        return self.student_id\n",
    "\n",
    "    def get_eng_quiz(self):\n",
    "        return str(self.eng)\n",
    "\n",
    "    def get_math_quiz(self):\n",
    "        return str(self.math)\n",
    "\n",
    "    def get_science_quiz(self):\n",
    "        return str(self.science)\n",
    "\n",
    "    def get_total_score(self):\n",
    "        return sum(self.eng) + sum(self.math) + sum(self.science)\n",
    "    \n",
    "    def get_avg_score(self):\n",
    "        return (sum(self.eng) / len(self.eng) + sum(self.math) / len(self.math) + sum(self.science) / len(self.science)) / 3\n",
    "        \n",
    "def u211_q1():\n",
    "    n = input('Enter the student’s name : David Doe')\n",
    "    s_id = input('Enter the student’s ID : 20213093')\n",
    "    eng_s = input('Enter the student’s English quiz score : 90')\n",
    "    math_s = input('Enter the student’s mathematics quiz score : 95')\n",
    "    science_s = input('Enter the student’s science quiz score : 100')\n",
    "    \n",
    "    s = Student(n, s_id)\n",
    "    s.set_eng_quiz(eng_s)\n",
    "    s.set_math_quiz(math_s)\n",
    "    s.set_science_quiz(science_s)\n",
    "    \n",
    "    print(f''''Name : {s.get_name()}, ID : {s.get_student_id()}\n",
    "    English quiz score : {s.get_eng_quiz()}, Mathematics quiz score : {s.get_math_quiz()}\n",
    "    Science quiz score : {s.get_science_quiz()},\n",
    "    Total : {s.get_total_score()}, Average : {s.get_avg_score()}''')\n",
    "    \n",
    "u211_q1()"
   ]
  },
  {
   "cell_type": "markdown",
   "id": "5ba56a51-617b-47bc-b65e-74ea7b168387",
   "metadata": {},
   "source": [
    "# Chapter 4. Algorithms 1 - Data Structures"
   ]
  },
  {
   "cell_type": "markdown",
   "id": "fa9a58e1-d0d3-42d9-9bb4-0ccac0868f23",
   "metadata": {
    "jp-MarkdownHeadingCollapsed": true
   },
   "source": [
    "## Unit 22. Stack"
   ]
  },
  {
   "cell_type": "code",
   "execution_count": 15,
   "id": "536e7df1-9d4f-45df-9356-f128aace8743",
   "metadata": {},
   "outputs": [],
   "source": [
    "class Stack:\n",
    "    def __init__(self):\n",
    "        self.stack = []\n",
    "        \n",
    "    def push(self, obj):\n",
    "        self.stack.append(obj)\n",
    "    \n",
    "    def pop(self):\n",
    "        return self.stack.pop() if not self.is_empty() else None\n",
    "    \n",
    "    def is_empty(self):\n",
    "        return True if len(self.stack) == 0 else False\n",
    "\n",
    "    def peek(self):\n",
    "        return self.stack[-1] if self.is_empty() else None\n",
    "\n",
    "    def to_string(self):\n",
    "        return [x for x in self.stack]"
   ]
  },
  {
   "cell_type": "markdown",
   "id": "76710fc4-65b4-4926-9549-d6a4ff605ce5",
   "metadata": {},
   "source": [
    "### Q1. (p. 60)  \n",
    "Make a program to:\n",
    "- Represent a stack as follows."
   ]
  },
  {
   "cell_type": "code",
   "execution_count": 16,
   "id": "64d30c71-7f4a-49e3-8098-695f8ff11c05",
   "metadata": {},
   "outputs": [
    {
     "name": "stdout",
     "output_type": "stream",
     "text": [
      "['banana', 'apple', 'strawberries']\n"
     ]
    }
   ],
   "source": [
    "def u220_q1():\n",
    "    s = Stack()\n",
    "    s.push('banana')\n",
    "    s.push('apple')\n",
    "    s.push('tomato')\n",
    "    s.pop()\n",
    "    s.push('strawberries')\n",
    "    s.push('grapes')\n",
    "    s.pop()\n",
    "    print(s.to_string())\n",
    "    \n",
    "u220_q1()"
   ]
  },
  {
   "cell_type": "markdown",
   "id": "467d8638-a4c0-41ea-942d-8b3e4492cebd",
   "metadata": {},
   "source": [
    "### Q2. (p. 61)  \n",
    "Make a program to:\n",
    "- Guess what does the following code do."
   ]
  },
  {
   "cell_type": "code",
   "execution_count": 19,
   "id": "58aa28ec-5c24-4b4e-88fa-b9df8ea7b5fc",
   "metadata": {},
   "outputs": [
    {
     "name": "stdout",
     "output_type": "stream",
     "text": [
      "[10, 30, 50, 70, 90]\n"
     ]
    }
   ],
   "source": [
    "def u220_q2():\n",
    "    s = Stack()\n",
    "    items = [10 * i for i in range(1, 10)]\n",
    "    for item in items:\n",
    "        s.push(item)\n",
    "        if (item // 10) % 2 == 0:\n",
    "            s.pop()\n",
    "    print(s.to_string())\n",
    "    \n",
    "u220_q2()"
   ]
  },
  {
   "cell_type": "markdown",
   "id": "7acbe149-bd75-4bfc-a468-9ec6e0e7259a",
   "metadata": {},
   "source": [
    "### Q1'. (p. 65)  \n",
    "Make a program to:\n",
    "- Write a program that matches the HTML tags of all the document."
   ]
  },
  {
   "cell_type": "code",
   "execution_count": 62,
   "id": "efb00320-a728-4010-b350-29ed800ff8fc",
   "metadata": {},
   "outputs": [
    {
     "name": "stdout",
     "output_type": "stream",
     "text": [
      "True\n"
     ]
    }
   ],
   "source": [
    "def u221_q1():\n",
    "    def check_parentheses_mod(expr) -> bool:\n",
    "        op = ['<html>', '<body>', '<h1>', '<p>', '<ul>', '<li>']\n",
    "        cl = ['</html>', '</body>', '</h1>', '</p>', '</ul>', '</li>']\n",
    "        s = Stack()\n",
    "\n",
    "        expr = expr.replace('<', ' <').replace('>', '> ').replace('\\n', ' ')\n",
    "        for c in expr.split():\n",
    "            if c in op:\n",
    "                s.push(c)\n",
    "            elif c in cl:\n",
    "                if s.is_empty():\n",
    "                    return False\n",
    "                stacked = s.pop()\n",
    "                if op.index(stacked) != cl.index(c):\n",
    "                    return False\n",
    "        return s.is_empty()\n",
    "        \n",
    "    with open('html_ej_file.txt', 'r', encoding='utf-8') as f:\n",
    "        expr = f.read()\n",
    "\n",
    "    print(check_parentheses_mod(expr))\n",
    "    \n",
    "u221_q1()"
   ]
  },
  {
   "cell_type": "code",
   "execution_count": 73,
   "id": "226c45ee-984d-4433-ab24-004cc1ca6d6e",
   "metadata": {},
   "outputs": [
    {
     "name": "stdout",
     "output_type": "stream",
     "text": [
      "True\n",
      "False\n"
     ]
    }
   ],
   "source": [
    "import re\n",
    "\n",
    "def u222_q1():\n",
    "    def check_parentheses_mod2(expr) -> bool:\n",
    "        op = sorted(list(set(re.findall(r'<\\w+>', expr))))\n",
    "        cl = sorted(list(set(re.findall(r'</\\w+>', expr))))\n",
    "        s = Stack()\n",
    "    \n",
    "        expr = expr.replace('<', ' <').replace('>', '> ').replace('\\n', ' ')\n",
    "        for c in expr.split():\n",
    "            if c in op:\n",
    "                s.push(c)\n",
    "            elif c in cl:\n",
    "                if s.is_empty():\n",
    "                    return False\n",
    "                stacked = s.pop()\n",
    "                if op.index(stacked) != cl.index(c):\n",
    "                    return False\n",
    "        return s.is_empty()\n",
    "        \n",
    "    with open('html_ej_file.txt', 'r') as f:\n",
    "        expr = f.read()\n",
    "    print(check_parentheses_mod2(expr))\n",
    "    with open('html_ej_file2.txt', 'r') as f:\n",
    "        expr = f.read()\n",
    "    print(check_parentheses_mod2(expr))\n",
    "    \n",
    "u222_q1()"
   ]
  },
  {
   "cell_type": "code",
   "execution_count": 80,
   "id": "0de55d23-60ac-4507-a848-ddbe9733f199",
   "metadata": {},
   "outputs": [
    {
     "name": "stdout",
     "output_type": "stream",
     "text": [
      "True\n",
      "False\n"
     ]
    }
   ],
   "source": [
    "import re\n",
    "\n",
    "def u222_q1():\n",
    "    def check_parentheses_mod2(expr) -> bool:\n",
    "        op = sorted(list(set(re.findall(r'<\\s*(\\w+)[^>]*>', expr))))\n",
    "        op = [rf'<{x}>' for x in op]\n",
    "        cl = sorted(list(set(re.findall(r'</\\w+>', expr))))\n",
    "        s = Stack()\n",
    "    \n",
    "        expr = expr.replace('<', ' <').replace('>', '> ').replace('\\n', ' ')\n",
    "        for c in expr.split():\n",
    "            if c in op:\n",
    "                s.push(c)\n",
    "            elif c in cl:\n",
    "                if s.is_empty():\n",
    "                    return False\n",
    "                stacked = s.pop()\n",
    "                if op.index(stacked) != cl.index(c):\n",
    "                    return False\n",
    "        return s.is_empty()\n",
    "        \n",
    "    with open('html_ej_file.txt', 'r') as f:\n",
    "        expr = f.read()\n",
    "    print(check_parentheses_mod2(expr))\n",
    "    with open('html_ej_file2.txt', 'r') as f:\n",
    "        expr = f.read()\n",
    "    print(check_parentheses_mod2(expr))\n",
    "    \n",
    "u222_q1()"
   ]
  },
  {
   "cell_type": "code",
   "execution_count": 81,
   "id": "f71a619c-0cad-4bda-a6d8-d8ba3f51877d",
   "metadata": {},
   "outputs": [
    {
     "name": "stdout",
     "output_type": "stream",
     "text": [
      "True\n",
      "False\n"
     ]
    }
   ],
   "source": [
    "import re\n",
    "\n",
    "def u222_q1():\n",
    "    def check_tags_with_regex(expr):\n",
    "        # Encuentra todas las etiquetas de apertura y cierre, en orden\n",
    "        tags = re.findall(r'</?\\s*(\\w+)[^>]*>', expr)\n",
    "\n",
    "        # Contador por etiqueta\n",
    "        from collections import Counter\n",
    "        counts = Counter()\n",
    "\n",
    "        for tag in tags:\n",
    "            if expr.find(f'</{tag}') > expr.find(f'<{tag}'):  # cierre aparece después\n",
    "                counts[tag] += 0  # balanceado hasta ahora\n",
    "            else:\n",
    "                return False  # cierre antes que apertura = error\n",
    "\n",
    "        # Contamos aperturas y cierres por separado\n",
    "        opens = re.findall(r'<\\s*(\\w+)[^>/]*>', expr)\n",
    "        closes = re.findall(r'</\\s*(\\w+)\\s*>', expr)\n",
    "\n",
    "        return Counter(opens) == Counter(closes)\n",
    "\n",
    "    with open('html_ej_file.txt', 'r') as f:\n",
    "        expr = f.read()\n",
    "    print(check_tags_with_regex(expr))\n",
    "\n",
    "    with open('html_ej_file2.txt', 'r') as f:\n",
    "        expr = f.read()\n",
    "    print(check_tags_with_regex(expr))\n",
    "\n",
    "u222_q1()"
   ]
  },
  {
   "cell_type": "markdown",
   "id": "c9f095a8-6a50-4ab6-953a-5980880593f8",
   "metadata": {
    "jp-MarkdownHeadingCollapsed": true
   },
   "source": [
    "## Unit 23. Queue"
   ]
  },
  {
   "cell_type": "code",
   "execution_count": 89,
   "id": "5c46634e-4400-4402-9fe2-5e40072a65eb",
   "metadata": {},
   "outputs": [],
   "source": [
    "class Queue:\n",
    "    def __init__(self):\n",
    "        self.queue = []\n",
    "        self.count = 0\n",
    "\n",
    "    def is_empty(self):\n",
    "        return self.count == 0\n",
    "    \n",
    "    def enqueue(self, item):\n",
    "        self.queue.append(item)\n",
    "        self.count += 1\n",
    "\n",
    "    def dequeue(self):\n",
    "        if self.count > 0:\n",
    "            self.count -= 1\n",
    "            return self.queue.pop(0)\n",
    "        return None\n",
    "\n",
    "    def to_string(self):\n",
    "        return ' '.join([str(x) for x in self.queue])\n",
    "\n",
    "    def size(self):\n",
    "        return self.count"
   ]
  },
  {
   "cell_type": "markdown",
   "id": "4d2c622e-8506-4685-9886-3c80aeff8e7c",
   "metadata": {},
   "source": [
    "### Q1. (p. 120)  \n",
    "Make a program to:\n",
    "- Predict the output."
   ]
  },
  {
   "cell_type": "code",
   "execution_count": 99,
   "id": "64239898-87dd-4fcf-a105-d909028b02e8",
   "metadata": {},
   "outputs": [
    {
     "name": "stdout",
     "output_type": "stream",
     "text": [
      "tomato strawberries grapes\n"
     ]
    }
   ],
   "source": [
    "def u230_q1():\n",
    "    s = Queue()\n",
    "    s.enqueue('banana')\n",
    "    s.enqueue('apple')\n",
    "    s.enqueue('tomato')\n",
    "    s.dequeue()\n",
    "    s.enqueue('strawberries')\n",
    "    s.enqueue('grapes')\n",
    "    s.dequeue()\n",
    "    print(s.to_string())\n",
    "    \n",
    "u230_q1()"
   ]
  },
  {
   "cell_type": "markdown",
   "id": "ff47ce83-ea01-4afc-9fed-0cadf737e9c4",
   "metadata": {},
   "source": [
    "### Q2. (p. 121)  \n",
    "Make a program to:\n",
    "- Predict the output."
   ]
  },
  {
   "cell_type": "code",
   "execution_count": 86,
   "id": "9efc3542-76f8-4eeb-b608-3f2050a6c9e7",
   "metadata": {},
   "outputs": [
    {
     "name": "stdout",
     "output_type": "stream",
     "text": [
      "60 70 80 90 100\n"
     ]
    }
   ],
   "source": [
    "def u230_q2():\n",
    "    q = Queue()\n",
    "    items = [10 * i for i in range(1, 11)]\n",
    "    for item in items:\n",
    "        q.enqueue(item)\n",
    "        if (item // 10) % 2 == 0:\n",
    "            q.dequeue()\n",
    "    print(q.to_string())\n",
    "    \n",
    "u230_q2()"
   ]
  },
  {
   "cell_type": "markdown",
   "id": "446a09b1-593f-4e7a-b4a6-983798a60369",
   "metadata": {},
   "source": [
    "### Q1'. (p. 125)  \n",
    "Make a program to:\n",
    "- Create a Deque class to add and remove elements from both ends of the queue."
   ]
  },
  {
   "cell_type": "code",
   "execution_count": 97,
   "id": "c61a7681-b9e4-42c8-a50e-e941539aa638",
   "metadata": {},
   "outputs": [
    {
     "name": "stdout",
     "output_type": "stream",
     "text": [
      "F D B A C E\n",
      "D B A C E G\n",
      "Hay 6 elementos en la cola.\n",
      "D B A C E\n",
      "Hay 5 elementos en la cola.\n",
      "B A C E\n",
      "Hay 4 elementos en la cola.\n"
     ]
    }
   ],
   "source": [
    "class Deque:\n",
    "    def __init__(self):\n",
    "        self.queue = []\n",
    "        self.count = 0\n",
    "\n",
    "    def add_first(self, item):\n",
    "        # Add item to front of queue\n",
    "        self.queue.insert(0, item)\n",
    "        self.count += 1\n",
    "\n",
    "    def add(self, item):\n",
    "        self.queue.append(item)\n",
    "        self.count += 1\n",
    "\n",
    "    def remove_first(self):\n",
    "        if self.count > 0:\n",
    "            self.count -= 1\n",
    "            return self.queue.pop(0)\n",
    "        return None\n",
    "\n",
    "    def remove(self):\n",
    "        if self.count > 0:\n",
    "            self.count -= 1\n",
    "            return self.queue.pop()\n",
    "        return None\n",
    "\n",
    "    def is_empty(self):\n",
    "        return self.count == 0\n",
    "\n",
    "    def size(self):\n",
    "        return self.count\n",
    "\n",
    "    def to_string(self):\n",
    "        return ' '.join(map(lambda x: str(x), self.queue))\n",
    "\n",
    "def u231_q1():\n",
    "    dq = Deque()\n",
    "\n",
    "    dq.add('A')\n",
    "    dq.add_first('B')\n",
    "    dq.add('C')\n",
    "    dq.add_first('D')\n",
    "    dq.add('E')\n",
    "    dq.add_first('F')\n",
    "    print(dq.to_string())\n",
    "    dq.add('G')\n",
    "    dq.remove_first()\n",
    "    print(dq.to_string())\n",
    "    print(f'Hay {dq.size()} elementos en la cola.')\n",
    "    dq.remove()\n",
    "    print(dq.to_string())\n",
    "    print(f'Hay {dq.size()} elementos en la cola.')\n",
    "    dq.remove_first()\n",
    "    print(dq.to_string())\n",
    "    print(f'Hay {dq.size()} elementos en la cola.')\n",
    "    \n",
    "u231_q1()"
   ]
  },
  {
   "cell_type": "markdown",
   "id": "4c2ddc0b-3e45-4b3a-91e2-cae49d53d3ca",
   "metadata": {
    "jp-MarkdownHeadingCollapsed": true
   },
   "source": [
    "## Unit 24. Sequential Search"
   ]
  },
  {
   "cell_type": "markdown",
   "id": "c91ec419-3b39-4f93-904b-0626790ab838",
   "metadata": {},
   "source": [
    "### Q1. (p. 172)  \n",
    "Make a program to:\n",
    "- Predict the output: it will return the highest (x) and lowest(y) index numbers."
   ]
  },
  {
   "cell_type": "code",
   "execution_count": 100,
   "id": "b726dd23-b522-4c0d-97e4-ddbcb58993b3",
   "metadata": {},
   "outputs": [
    {
     "name": "stdout",
     "output_type": "stream",
     "text": [
      "tomato strawberries grapes\n"
     ]
    }
   ],
   "source": [
    "def u240_q1():\n",
    "    return\n",
    "    \n",
    "u240_q1()"
   ]
  },
  {
   "cell_type": "markdown",
   "id": "2cdf8810-ec16-4489-89cb-cdeb66d6b454",
   "metadata": {},
   "source": [
    "### Q2. (p. 173)  \n",
    "Make a program to:\n",
    "- Predict the output: the worst case for this example is O(n) = 2n. In the case a list has all the exact same numbers through it."
   ]
  },
  {
   "cell_type": "code",
   "execution_count": null,
   "id": "011dda10-5fa4-4307-9d10-0ce630a94268",
   "metadata": {},
   "outputs": [],
   "source": [
    "def u240_q2():\n",
    "    return\n",
    "    \n",
    "u240_q2()"
   ]
  },
  {
   "cell_type": "markdown",
   "id": "0a11eb78-f7ea-4235-8a01-f610f6b20801",
   "metadata": {},
   "source": [
    "### Q1'. (p. 177)  \n",
    "Make a program to:\n",
    "- Predict the output."
   ]
  },
  {
   "cell_type": "code",
   "execution_count": 107,
   "id": "0b2db3c6-5626-449b-babe-b25a24f7f2c7",
   "metadata": {},
   "outputs": [
    {
     "name": "stdin",
     "output_type": "stream",
     "text": [
      "Input a sentence:  the quick brown fox jumps over the lazy dog\n",
      "Input a word to search:  the\n"
     ]
    },
    {
     "name": "stdout",
     "output_type": "stream",
     "text": [
      "In S, \"the\" is appeared in 2 times.\n"
     ]
    }
   ],
   "source": [
    "def word_count(S, x):\n",
    "    count = 0\n",
    "    for i in S:\n",
    "        if i == x:\n",
    "            count += 1\n",
    "    return count\n",
    "\n",
    "def u241_q1():\n",
    "    S = list(input('Input a sentence: ').split())\n",
    "    x = input('Input a word to search: ')\n",
    "    count = word_count(S, x)\n",
    "    print(f'In S, \"{x}\" is appeared in {count} times.')\n",
    "    \n",
    "u241_q1()"
   ]
  },
  {
   "cell_type": "markdown",
   "id": "b3f61da5-6b86-4644-bb72-fbd488719535",
   "metadata": {},
   "source": [
    "## Unit 25. Binary Search"
   ]
  },
  {
   "cell_type": "markdown",
   "id": "91730bc9-f2df-4753-92b3-f7054e402624",
   "metadata": {},
   "source": [
    "### Q1. (p. 222)  \n",
    "Make a program to:\n",
    "- Predict the output."
   ]
  },
  {
   "cell_type": "code",
   "execution_count": 104,
   "id": "76e23f89-b561-405b-8dc6-f0a37d352f61",
   "metadata": {},
   "outputs": [],
   "source": [
    "def u250_q1():\n",
    "    return\n",
    "    \n",
    "u250_q1()"
   ]
  },
  {
   "cell_type": "markdown",
   "id": "2a1d8030-d41f-4fbf-9367-356e36c11edf",
   "metadata": {},
   "source": [
    "### Q2. (p. 223)  \n",
    "Make a program to:\n",
    "- Predict the output."
   ]
  },
  {
   "cell_type": "code",
   "execution_count": null,
   "id": "989c146f-1959-4d08-9347-7129c53ea42b",
   "metadata": {},
   "outputs": [],
   "source": [
    "def u260_q2():\n",
    "    return\n",
    "    \n",
    "u260_q2()"
   ]
  },
  {
   "cell_type": "markdown",
   "id": "6343463c-cc7a-4649-a28e-3884c0384d2d",
   "metadata": {},
   "source": [
    "### Q1'. (p. 227)  \n",
    "Make a program to:\n",
    "- Predict the output."
   ]
  },
  {
   "cell_type": "code",
   "execution_count": null,
   "id": "55a5bd89-163d-40d6-881b-458abd3823a4",
   "metadata": {},
   "outputs": [],
   "source": [
    "def u261_q1():\n",
    "    return\n",
    "    \n",
    "u261_q1()"
   ]
  },
  {
   "cell_type": "markdown",
   "id": "fad60ae5-dd68-42bb-b819-828001ab219e",
   "metadata": {
    "jp-MarkdownHeadingCollapsed": true
   },
   "source": [
    "## Unit 26. Hash Table"
   ]
  },
  {
   "cell_type": "markdown",
   "id": "1d49ef31-c95e-44b4-980d-eb26f5e67777",
   "metadata": {},
   "source": [
    "### Q1. (p. 262)  \n",
    "Make a program to:\n",
    "- Predict the output."
   ]
  },
  {
   "cell_type": "code",
   "execution_count": 101,
   "id": "6fd0ed05-633f-4161-a416-442e392b9ffb",
   "metadata": {},
   "outputs": [],
   "source": [
    "def u260_q1():\n",
    "    return\n",
    "    \n",
    "u260_q1()"
   ]
  },
  {
   "cell_type": "markdown",
   "id": "7be07d7c-5a3b-40f4-af0d-cfabb342498f",
   "metadata": {},
   "source": [
    "### Q2. (p. 263)  \n",
    "Make a program to:\n",
    "- Predict the output."
   ]
  },
  {
   "cell_type": "code",
   "execution_count": 103,
   "id": "0f78579d-6eac-4438-9777-60febabf4235",
   "metadata": {},
   "outputs": [],
   "source": [
    "def u260_q2():\n",
    "    return\n",
    "    \n",
    "u260_q2()"
   ]
  },
  {
   "cell_type": "markdown",
   "id": "ca38ad24-0428-4c8f-b8e0-dd6bd13f953e",
   "metadata": {},
   "source": [
    "### Q1'. (p. 267)  \n",
    "Make a program to:\n",
    "- Predict the output."
   ]
  },
  {
   "cell_type": "code",
   "execution_count": null,
   "id": "3ba412e7-aeae-476b-87d1-2bd767daa697",
   "metadata": {},
   "outputs": [],
   "source": [
    "def u261_q1():\n",
    "    return\n",
    "    \n",
    "u261_q1()"
   ]
  },
  {
   "cell_type": "markdown",
   "id": "f268eb38-afa6-4170-b4b0-0690dbe3d02d",
   "metadata": {
    "jp-MarkdownHeadingCollapsed": true
   },
   "source": [
    "# Chapter 5. Algorithms 2 - Sorting Algorithms"
   ]
  },
  {
   "cell_type": "markdown",
   "id": "0563b1dd-c092-47ae-b7ff-82ce105b8227",
   "metadata": {
    "jp-MarkdownHeadingCollapsed": true
   },
   "source": [
    "## Unit 27. Bubble, Selection and Insertion Sort"
   ]
  },
  {
   "cell_type": "markdown",
   "id": "00e4b7aa-1edb-4781-9b00-0e8a5e935645",
   "metadata": {},
   "source": [
    "### Q1. (p. )  \n",
    "Make a program to:\n",
    "- Predict the output."
   ]
  },
  {
   "cell_type": "code",
   "execution_count": null,
   "id": "86226cd0-65d1-4c49-a7a2-73de87ac751b",
   "metadata": {},
   "outputs": [],
   "source": [
    "def u270_q1():\n",
    "    return\n",
    "    \n",
    "u270_q1()"
   ]
  },
  {
   "cell_type": "markdown",
   "id": "2ae0bec3-2ed0-44e5-b183-f0e80af63cc6",
   "metadata": {},
   "source": [
    "### Q2. (p. )  \n",
    "Make a program to:\n",
    "- Predict the output."
   ]
  },
  {
   "cell_type": "code",
   "execution_count": null,
   "id": "03974f26-fa6d-4818-8ef2-598b61d4f1ae",
   "metadata": {},
   "outputs": [],
   "source": [
    "def u270_q2():\n",
    "    return\n",
    "    \n",
    "u270_q2()"
   ]
  },
  {
   "cell_type": "markdown",
   "id": "78056af0-c36f-4056-ac49-330283eac4f1",
   "metadata": {},
   "source": [
    "### Q1'. (p. )  \n",
    "Make a program to:\n",
    "- Predict the output."
   ]
  },
  {
   "cell_type": "code",
   "execution_count": null,
   "id": "0feb4717-c20d-4008-b8ca-b04cf48b69c0",
   "metadata": {},
   "outputs": [],
   "source": [
    "def u271_q1():\n",
    "    return\n",
    "    \n",
    "u271_q1()"
   ]
  },
  {
   "cell_type": "code",
   "execution_count": null,
   "id": "fcbbef7d-c912-497f-9d24-d62e60fb2474",
   "metadata": {},
   "outputs": [],
   "source": []
  },
  {
   "cell_type": "markdown",
   "id": "aa374c63-2333-4b7e-9c62-0f12e3f93d65",
   "metadata": {
    "jp-MarkdownHeadingCollapsed": true
   },
   "source": [
    "## Unit 28. Merge Sort"
   ]
  },
  {
   "cell_type": "markdown",
   "id": "cb3dd872-587e-4ec2-b42d-a2a9531c2bc4",
   "metadata": {},
   "source": [
    "### Q1. (p. )  \n",
    "Make a program to:\n",
    "- Predict the output."
   ]
  },
  {
   "cell_type": "code",
   "execution_count": null,
   "id": "25a1b1c9-ec24-409e-ac1d-39953e568f02",
   "metadata": {},
   "outputs": [],
   "source": [
    "def u280_q1():\n",
    "    return\n",
    "    \n",
    "u280_q1()"
   ]
  },
  {
   "cell_type": "markdown",
   "id": "caca2216-b561-48b3-a1dc-c66c302efa67",
   "metadata": {},
   "source": [
    "### Q2. (p. )  \n",
    "Make a program to:\n",
    "- Predict the output."
   ]
  },
  {
   "cell_type": "code",
   "execution_count": null,
   "id": "b5f03db7-c15e-46b3-b47d-8c675c2873f4",
   "metadata": {},
   "outputs": [],
   "source": [
    "def u280_q2():\n",
    "    return\n",
    "    \n",
    "u280_q2()"
   ]
  },
  {
   "cell_type": "markdown",
   "id": "4b694450-b112-4df2-acec-a2d0c651cddb",
   "metadata": {},
   "source": [
    "### Q1'. (p. )  \n",
    "Make a program to:\n",
    "- Predict the output."
   ]
  },
  {
   "cell_type": "code",
   "execution_count": null,
   "id": "22486ebe-17d8-43d7-8945-6f05646179b7",
   "metadata": {},
   "outputs": [],
   "source": [
    "def u281_q1():\n",
    "    return\n",
    "    \n",
    "u281_q1()"
   ]
  },
  {
   "cell_type": "code",
   "execution_count": null,
   "id": "745fae82-c2de-4471-a8e6-193a95fdf257",
   "metadata": {},
   "outputs": [],
   "source": []
  },
  {
   "cell_type": "markdown",
   "id": "cfba8266-2aaa-4c6a-9e84-a52e033b6cab",
   "metadata": {
    "jp-MarkdownHeadingCollapsed": true
   },
   "source": [
    "## Unit 29. Quick Sort"
   ]
  },
  {
   "cell_type": "markdown",
   "id": "30311d7e-d2bd-4010-877e-7165bdaf759e",
   "metadata": {},
   "source": [
    "### Q1. (p. )  \n",
    "Make a program to:\n",
    "- Predict the output."
   ]
  },
  {
   "cell_type": "code",
   "execution_count": null,
   "id": "81f7bb56-e873-4e8a-b629-4d900ff45633",
   "metadata": {},
   "outputs": [],
   "source": [
    "def u290_q1():\n",
    "    return\n",
    "    \n",
    "u290_q1()"
   ]
  },
  {
   "cell_type": "markdown",
   "id": "b2fc7a9b-b727-497a-a17a-16ff00ac8b87",
   "metadata": {},
   "source": [
    "### Q2. (p. )  \n",
    "Make a program to:\n",
    "- Predict the output."
   ]
  },
  {
   "cell_type": "code",
   "execution_count": null,
   "id": "cdc0b80a-0918-4f99-a2b6-544a65eee6f3",
   "metadata": {},
   "outputs": [],
   "source": [
    "def u290_q2():\n",
    "    return\n",
    "    \n",
    "u290_q2()"
   ]
  },
  {
   "cell_type": "markdown",
   "id": "53ba4994-81ea-4cba-aa49-e87c6c986eaa",
   "metadata": {},
   "source": [
    "### Q1'. (p. )  \n",
    "Make a program to:\n",
    "- Predict the output."
   ]
  },
  {
   "cell_type": "code",
   "execution_count": null,
   "id": "1664110f-c6fd-4134-bab4-87c46fe66141",
   "metadata": {},
   "outputs": [],
   "source": [
    "def u291_q1():\n",
    "    return\n",
    "    \n",
    "u291_q1()"
   ]
  },
  {
   "cell_type": "markdown",
   "id": "2bcfedff-6dc2-4be8-b81d-cf9ccd624113",
   "metadata": {
    "jp-MarkdownHeadingCollapsed": true
   },
   "source": [
    "# Chapter 6. "
   ]
  },
  {
   "cell_type": "markdown",
   "id": "66161fa5-b02e-40e7-973c-3b93c8984ab9",
   "metadata": {
    "jp-MarkdownHeadingCollapsed": true
   },
   "source": [
    "## Unit 30."
   ]
  },
  {
   "cell_type": "markdown",
   "id": "a283276c-0707-4f51-b0a6-299d09213bd6",
   "metadata": {},
   "source": [
    "### Q1. (p. )  \n",
    "Make a program to:\n",
    "- Predict the output."
   ]
  },
  {
   "cell_type": "code",
   "execution_count": null,
   "id": "60c2557b-b805-47b4-a879-f3a45ed55796",
   "metadata": {},
   "outputs": [],
   "source": [
    "def u300_q1():\n",
    "    return\n",
    "    \n",
    "u300_q1()"
   ]
  },
  {
   "cell_type": "markdown",
   "id": "099913a8-7409-4ed2-a806-a0b4005d8c49",
   "metadata": {},
   "source": [
    "### Q2. (p. )  \n",
    "Make a program to:\n",
    "- Predict the output."
   ]
  },
  {
   "cell_type": "code",
   "execution_count": null,
   "id": "90bf7135-5567-4d17-8c51-45615d7b88d6",
   "metadata": {},
   "outputs": [],
   "source": [
    "def u300_q2():\n",
    "    return\n",
    "    \n",
    "u300_q2()"
   ]
  },
  {
   "cell_type": "markdown",
   "id": "d0e37cad-718c-4220-aeb1-090a580dbc10",
   "metadata": {},
   "source": [
    "### Q1'. (p. )  \n",
    "Make a program to:\n",
    "- Predict the output."
   ]
  },
  {
   "cell_type": "code",
   "execution_count": null,
   "id": "eddde449-0524-4271-92f8-523a49632998",
   "metadata": {},
   "outputs": [],
   "source": [
    "def u301_q1():\n",
    "    return\n",
    "    \n",
    "u301_q1()"
   ]
  },
  {
   "cell_type": "code",
   "execution_count": null,
   "id": "308fb027-3087-4d5e-9b85-af585d3a2fa9",
   "metadata": {},
   "outputs": [],
   "source": []
  }
 ],
 "metadata": {
  "kernelspec": {
   "display_name": "Python [conda env:base] *",
   "language": "python",
   "name": "conda-base-py"
  },
  "language_info": {
   "codemirror_mode": {
    "name": "ipython",
    "version": 3
   },
   "file_extension": ".py",
   "mimetype": "text/x-python",
   "name": "python",
   "nbconvert_exporter": "python",
   "pygments_lexer": "ipython3",
   "version": "3.12.7"
  }
 },
 "nbformat": 4,
 "nbformat_minor": 5
}
