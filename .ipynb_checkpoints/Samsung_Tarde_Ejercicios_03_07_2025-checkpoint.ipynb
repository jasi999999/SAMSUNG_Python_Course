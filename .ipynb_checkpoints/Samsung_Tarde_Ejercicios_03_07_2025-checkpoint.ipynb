{
 "cells": [
  {
   "cell_type": "markdown",
   "id": "3136e566",
   "metadata": {},
   "source": [
    "# Algunos ejercicios para practicar. 3 julio 2025"
   ]
  },
  {
   "cell_type": "markdown",
   "id": "cbd7b44b-004e-49a4-a7a3-dfa41cb2d582",
   "metadata": {},
   "source": [
    "## Evaluar TODAS las celdas en orden (pues algunas celdas utilizan variables obtenidas en la anterior)"
   ]
  },
  {
   "cell_type": "markdown",
   "id": "bd947039",
   "metadata": {},
   "source": [
    "# Ejercicio 1\n",
    "\n",
    "En algunos contextos es habitual abreviar las palabras muy largas dejando la primera letra, la última y reemplazando las letras del medio por un número que indica las letras reemplazas. Esto se suele llamar [Numeronym (ver enlace wikipedia)](https://en.wikipedia.org/wiki/Numeronym).\n",
    "\n",
    "Por ejemplo, `\"internationalization\"` se sustituye por `\"i18n\"`\n",
    "\n",
    "En este primer ejercicio debes crear una función llamada `resumir` que reciba una cadena (que supuestamente contiene una sola palabra) y que la devuelva *tal cual* si la longitud de la misma es inferior a 4. En otro caso devolverá la cadena correspondiente a reemplazar las letras interiores (las que no son la primera ni la última) por su longitud.\n",
    "\n",
    "Ejemplos:\n",
    "\n",
    "```python\n",
    "resumir(\"de\") # devuelve \"de\"\n",
    "resumir(\"con\") # devuelve \"con\"\n",
    "resumir(\"casa\") # devuelve \"c2a\"\n",
    "resumir(\"internacionalización\") # devuelve \"i18n\"\n",
    "```"
   ]
  },
  {
   "cell_type": "code",
   "execution_count": 1,
   "id": "c5b8e84c",
   "metadata": {},
   "outputs": [
    {
     "name": "stdout",
     "output_type": "stream",
     "text": [
      "i18n\n",
      "c2a\n",
      "de\n"
     ]
    }
   ],
   "source": [
    "def resumir(word):\n",
    "    if len(word) > 3:\n",
    "        word_lista = list(word)\n",
    "        word_fin = []\n",
    "        word_fin.append(word_lista[0])\n",
    "        word_fin.append(str(len(word_lista[1:-1])))\n",
    "        word_fin.append(word_lista[len(word_lista) - 1])\n",
    "        word = \"\".join(word_fin)\n",
    "    return word\n",
    "\n",
    "print(resumir(\"internacionalización\"))\n",
    "print(resumir(\"casa\"))\n",
    "print(resumir(\"de\"))"
   ]
  },
  {
   "cell_type": "markdown",
   "id": "4f91cfe3",
   "metadata": {},
   "source": [
    "# Ejercicio 2\n",
    "\n",
    "Queremos determinar si se crean muchas ambigüedades cuando se cambian las palabras de un texto por el resultado de la función `resumir` del ejercicio anterior.\n",
    "\n",
    "En este ejercicio debes resumir todas las palabras de \"El Quijote\" (utilizando el fichero `\"el_quijote.txt\"` de ejercicios anteriores) y agrupar todas aquellas palabras que den lugar a un mismo resultado al resumirlas. Utilizaremos las palabras pasadas a minúscula.\n",
    "\n",
    "Para ello debes crear un diccionario que utilice las palabras resumidas como claves y que les asocie un conjunto de palabras como valor.\n",
    "\n",
    "Por ejemplo, el resultado para la clave `'l3r'` es el conjunto `{'labor', 'lavar', 'licor', 'lugar', 'lunar'}`.\n",
    "\n",
    "Hay 1857 claves diferentes."
   ]
  },
  {
   "cell_type": "code",
   "execution_count": 3,
   "id": "d4cdc064",
   "metadata": {},
   "outputs": [
    {
     "name": "stdout",
     "output_type": "stream",
     "text": [
      "1857\n"
     ]
    }
   ],
   "source": [
    "import re\n",
    "\n",
    "d = {}\n",
    "with open('el_quijote.txt', 'r', encoding=\"utf-8\") as f:\n",
    "    for line in f:\n",
    "        # s = line.replace(',', ' ').replace('.', ' ').replace(';', ' ').replace(':', ' ').replace('(', ' ').replace(')', ' ').replace('-', ' ')\n",
    "        # s = s.replace('[', ' ').replace(']', ' ').lower().split()\n",
    "        s = re.findall(r\"\\w+\",line.lower())      # Las palabras con guiones bajos las lee todas de una (hola_mundo es 1 palabra)\n",
    "        for word in s:\n",
    "            w_resumed = resumir(word)\n",
    "            d.setdefault(w_resumed, set())\n",
    "            d[w_resumed].add(word)\n",
    "\n",
    "print(len(d.keys()))"
   ]
  },
  {
   "cell_type": "markdown",
   "id": "465693a9",
   "metadata": {},
   "source": [
    "# Ejercicio 3\n",
    "\n",
    "Con el diccionario del ejercicio queremos saber cuántos numerónimos tienen asociada 1 palabra, 2 palabras, etc.\n",
    "\n",
    "Muestra esta información ordenada en forma de tabla de texto.\n",
    "\n",
    "Con ello puedes obtener una tabla como la siguiente:\n",
    "\n",
    "```\n",
    "Hay 807 numeronimos que corresponden a grupos de  1 palabras\n",
    "Hay 171 numeronimos que corresponden a grupos de  2 palabras\n",
    "Hay 112 numeronimos que corresponden a grupos de  3 palabras\n",
    "...\n",
    "Hay   1 numeronimos que corresponden a grupos de 67 palabras\n",
    "Hay   1 numeronimos que corresponden a grupos de 73 palabras\n",
    "Hay   1 numeronimos que corresponden a grupos de 83 palabras\n",
    "```\n"
   ]
  },
  {
   "cell_type": "code",
   "execution_count": 4,
   "id": "0bee2aac-d846-4662-af16-3654010e072e",
   "metadata": {},
   "outputs": [
    {
     "name": "stdout",
     "output_type": "stream",
     "text": [
      "Hay 807 numerónimos que corresponden a grupos de  1 palabras\n",
      "Hay 171 numerónimos que corresponden a grupos de  2 palabras\n",
      "Hay 112 numerónimos que corresponden a grupos de  3 palabras\n",
      "Hay  72 numerónimos que corresponden a grupos de  4 palabras\n",
      "Hay  69 numerónimos que corresponden a grupos de  5 palabras\n",
      "Hay  37 numerónimos que corresponden a grupos de  6 palabras\n",
      "Hay  49 numerónimos que corresponden a grupos de  7 palabras\n",
      "Hay  54 numerónimos que corresponden a grupos de  8 palabras\n",
      "Hay  37 numerónimos que corresponden a grupos de  9 palabras\n",
      "Hay  37 numerónimos que corresponden a grupos de 10 palabras\n",
      "Hay  31 numerónimos que corresponden a grupos de 11 palabras\n",
      "Hay  23 numerónimos que corresponden a grupos de 12 palabras\n",
      "Hay  33 numerónimos que corresponden a grupos de 13 palabras\n",
      "Hay  22 numerónimos que corresponden a grupos de 14 palabras\n",
      "Hay  28 numerónimos que corresponden a grupos de 15 palabras\n",
      "Hay  17 numerónimos que corresponden a grupos de 16 palabras\n",
      "Hay  18 numerónimos que corresponden a grupos de 17 palabras\n",
      "Hay  10 numerónimos que corresponden a grupos de 18 palabras\n",
      "Hay  18 numerónimos que corresponden a grupos de 19 palabras\n",
      "Hay  16 numerónimos que corresponden a grupos de 20 palabras\n",
      "Hay  16 numerónimos que corresponden a grupos de 21 palabras\n",
      "Hay  15 numerónimos que corresponden a grupos de 22 palabras\n",
      "Hay  13 numerónimos que corresponden a grupos de 23 palabras\n",
      "Hay  10 numerónimos que corresponden a grupos de 24 palabras\n",
      "Hay  11 numerónimos que corresponden a grupos de 25 palabras\n",
      "Hay   7 numerónimos que corresponden a grupos de 26 palabras\n",
      "Hay  10 numerónimos que corresponden a grupos de 27 palabras\n",
      "Hay   8 numerónimos que corresponden a grupos de 28 palabras\n",
      "Hay   9 numerónimos que corresponden a grupos de 29 palabras\n",
      "Hay   6 numerónimos que corresponden a grupos de 30 palabras\n",
      "Hay   7 numerónimos que corresponden a grupos de 31 palabras\n",
      "Hay   9 numerónimos que corresponden a grupos de 32 palabras\n",
      "Hay   7 numerónimos que corresponden a grupos de 33 palabras\n",
      "Hay   8 numerónimos que corresponden a grupos de 34 palabras\n",
      "Hay   5 numerónimos que corresponden a grupos de 35 palabras\n",
      "Hay   4 numerónimos que corresponden a grupos de 36 palabras\n",
      "Hay   4 numerónimos que corresponden a grupos de 37 palabras\n",
      "Hay   2 numerónimos que corresponden a grupos de 38 palabras\n",
      "Hay   3 numerónimos que corresponden a grupos de 39 palabras\n",
      "Hay   6 numerónimos que corresponden a grupos de 40 palabras\n",
      "Hay   2 numerónimos que corresponden a grupos de 41 palabras\n",
      "Hay   3 numerónimos que corresponden a grupos de 42 palabras\n",
      "Hay   5 numerónimos que corresponden a grupos de 43 palabras\n",
      "Hay   4 numerónimos que corresponden a grupos de 44 palabras\n",
      "Hay   1 numerónimos que corresponden a grupos de 45 palabras\n",
      "Hay   3 numerónimos que corresponden a grupos de 47 palabras\n",
      "Hay   2 numerónimos que corresponden a grupos de 49 palabras\n",
      "Hay   3 numerónimos que corresponden a grupos de 50 palabras\n",
      "Hay   1 numerónimos que corresponden a grupos de 52 palabras\n",
      "Hay   1 numerónimos que corresponden a grupos de 58 palabras\n",
      "Hay   3 numerónimos que corresponden a grupos de 59 palabras\n",
      "Hay   3 numerónimos que corresponden a grupos de 60 palabras\n",
      "Hay   1 numerónimos que corresponden a grupos de 63 palabras\n",
      "Hay   1 numerónimos que corresponden a grupos de 66 palabras\n",
      "Hay   1 numerónimos que corresponden a grupos de 67 palabras\n",
      "Hay   1 numerónimos que corresponden a grupos de 73 palabras\n",
      "Hay   1 numerónimos que corresponden a grupos de 83 palabras\n"
     ]
    }
   ],
   "source": [
    "d2 = {}\n",
    "for num, pals in sorted(d.items()):\n",
    "    d2[len(pals)] = d2.get(len(pals), 0) + 1\n",
    "\n",
    "for pals, nums in sorted(d2.items()):\n",
    "    print(f\"Hay {nums:3} numerónimos que corresponden a grupos de {pals:2} palabras\")"
   ]
  },
  {
   "cell_type": "markdown",
   "id": "78bd527c",
   "metadata": {},
   "source": [
    "# Ejercicio 4\n",
    "\n",
    "Elimina del diccionario todas las entradas de palabras que no se confundan con ninguna otra (el conjunto de palabras originales solamente tiene una entrada).\n",
    "\n",
    "El diccionario quedará con 1050 entradas tras la eliminación."
   ]
  },
  {
   "cell_type": "code",
   "execution_count": 6,
   "id": "68679b7c",
   "metadata": {},
   "outputs": [
    {
     "data": {
      "text/plain": [
       "1050"
      ]
     },
     "execution_count": 6,
     "metadata": {},
     "output_type": "execute_result"
    }
   ],
   "source": [
    "lista = []\n",
    "[lista.append(clave) for clave, valor in d.items() if len(valor) == 1]    \n",
    "\n",
    "for i in lista:\n",
    "    del d[i]\n",
    "\n",
    "len(d.keys())"
   ]
  },
  {
   "cell_type": "markdown",
   "id": "68971fa7",
   "metadata": {},
   "source": [
    "# Ejercicio 5\n",
    "\n",
    "Nos dan un fichero `\"numeros.txt\"` donde cada línea tiene una serie de números enteros separados por una coma.\n",
    "\n",
    "Cada línea puede tener un nº diferente de números (pero al menos hay uno).\n",
    "\n",
    "Nos piden contar y mostrar por pantalla:\n",
    "\n",
    "- El nº de líneas.\n",
    "- El nº total de números en todas las líneas.\n",
    "- La suma de todos los números.\n",
    "- El nº líneas tienen al menos un número repetido.\n",
    "- El nº líneas contienen únicamente valores pares.\n",
    "- El nº líneas que son secuencias estrictamente crecientes (cada número es estrictamente mayor que el anterior).\n",
    "\n",
    "Y también nos piden:\n",
    "\n",
    "- Crear un fichero `\"sumas.txt\"` que contenga, en cada línea, la suma de los números correspondientes a la misma línea."
   ]
  },
  {
   "cell_type": "code",
   "execution_count": 7,
   "id": "1dcba54a",
   "metadata": {},
   "outputs": [
    {
     "name": "stdout",
     "output_type": "stream",
     "text": [
      "\n",
      "El nº de líneas es 91\n",
      "El nº total de números en todas las líneas es 674\n",
      "La suma de todos los números es 69608\n",
      "El nº líneas que tienen al menos un número repetido es 16\n",
      "El nº líneas que contienen únicamente valores pares es 10\n",
      "El nº líneas que son secuencias estrictamente crecientes (cada número es estrictamente mayor que el anterior) es 10\n",
      "\n"
     ]
    }
   ],
   "source": [
    "lineas = 0\n",
    "num_lineas = 0\n",
    "suma = 0\n",
    "linea_con_rep = 0\n",
    "linea_con_par = 0\n",
    "linea_creciente = 0\n",
    "with open('numeros.txt', 'r') as f:\n",
    "    for line in f:\n",
    "        aux = set()\n",
    "        numeros = line.replace(',', ' ').split()\n",
    "        # Count lines\n",
    "        lineas += 1\n",
    "        # Convert to num\n",
    "        for i, num in enumerate(numeros):\n",
    "            numeros[i] = int(num)\n",
    "        # Count all nums\n",
    "        num_lineas += len(numeros)\n",
    "        # Count num sum\n",
    "        suma += sum(numeros)\n",
    "        # Count lines with repeated vals\n",
    "        if len(numeros) != len(set(numeros)):\n",
    "            linea_con_rep += 1\n",
    "        # Count lines with par\n",
    "        for num in numeros:\n",
    "            if num % 2 == 0:\n",
    "                aux.add(True)\n",
    "            else:\n",
    "                aux.add(False)\n",
    "        if all(aux):\n",
    "            linea_con_par += 1\n",
    "        # Count crescendos\n",
    "        prev = numeros[0] - 1\n",
    "        aux = set()\n",
    "        for num in numeros:\n",
    "            if num > prev:\n",
    "                aux.add(False)\n",
    "            else:\n",
    "                aux.add(True)\n",
    "            prev = num\n",
    "        if not any(aux):\n",
    "            linea_creciente += 1\n",
    "        \n",
    "print(f\"\"\"\n",
    "El nº de líneas es {lineas}\n",
    "El nº total de números en todas las líneas es {num_lineas}\n",
    "La suma de todos los números es {suma}\n",
    "El nº líneas que tienen al menos un número repetido es {linea_con_rep}\n",
    "El nº líneas que contienen únicamente valores pares es {linea_con_par}\n",
    "El nº líneas que son secuencias estrictamente crecientes (cada número es estrictamente mayor que el anterior) es {linea_creciente}\n",
    "\"\"\")"
   ]
  },
  {
   "cell_type": "code",
   "execution_count": null,
   "id": "f988c183-cdd9-4f04-bf12-e1de1ed6dc76",
   "metadata": {},
   "outputs": [],
   "source": []
  }
 ],
 "metadata": {
  "kernelspec": {
   "display_name": "Python [conda env:base] *",
   "language": "python",
   "name": "conda-base-py"
  },
  "language_info": {
   "codemirror_mode": {
    "name": "ipython",
    "version": 3
   },
   "file_extension": ".py",
   "mimetype": "text/x-python",
   "name": "python",
   "nbconvert_exporter": "python",
   "pygments_lexer": "ipython3",
   "version": "3.12.7"
  }
 },
 "nbformat": 4,
 "nbformat_minor": 5
}
