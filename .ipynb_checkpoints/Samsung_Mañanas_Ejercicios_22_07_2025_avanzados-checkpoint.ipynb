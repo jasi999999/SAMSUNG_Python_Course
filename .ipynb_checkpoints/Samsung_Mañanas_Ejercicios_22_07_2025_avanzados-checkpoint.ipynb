{
 "cells": [
  {
   "cell_type": "markdown",
   "id": "004ac52a",
   "metadata": {},
   "source": [
    "# Estructuras de Datos (Capítulo 4) - Ejercicios Avanzados"
   ]
  },
  {
   "cell_type": "markdown",
   "id": "f7bc5a6e",
   "metadata": {},
   "source": [
    "## Ejercicio 1: Análisis de dependencias en compilación"
   ]
  },
  {
   "cell_type": "markdown",
   "id": "189e255a",
   "metadata": {},
   "source": [
    "En un sistema de compilación, algunos archivos fuente dependen de otros. Estas dependencias se expresan como un diccionario donde la clave es el archivo principal y el valor es una lista de archivos de los que depende directamente.\n",
    "\n",
    "Implementa una función `orden_compilacion(dependencias)` que, dado un diccionario de dependencias, devuelva una lista con el orden correcto en que deben compilarse los archivos. Si existe una dependencia cíclica, la función debe lanzar una excepción. Utiliza una pila para implementar una búsqueda en profundidad (DFS).\n",
    "\n",
    "**Ejemplo:**\n",
    "```python\n",
    "dependencias = {\n",
    "    \"main.c\": [\"defs.h\", \"utils.c\"],\n",
    "    \"utils.c\": [\"defs.h\", \"math.h\"],\n",
    "    \"defs.h\": [],\n",
    "    \"math.h\": []\n",
    "}\n",
    "print(orden_compilacion(dependencias))\n",
    "# Salida esperada: ['defs.h', 'math.h', 'utils.c', 'main.c']\n",
    "```"
   ]
  },
  {
   "cell_type": "code",
   "execution_count": null,
   "id": "1c21a91a",
   "metadata": {},
   "outputs": [],
   "source": []
  },
  {
   "cell_type": "markdown",
   "id": "6ede22c4",
   "metadata": {},
   "source": [
    "## Ejercicio 2: Reversión de operaciones matemáticas"
   ]
  },
  {
   "cell_type": "markdown",
   "id": "ddd932d4",
   "metadata": {},
   "source": [
    "Dada una expresión matemática en formato texto como \"5 + 3 * 2 - 1\", se pide implementar una función `revertir_operaciones(expr)` que genere una nueva expresión que invierta el orden de los operandos y operadores, de forma que el último operando pase a ser el primero y viceversa, manteniendo la misma estructura operativa pero en orden invertido.\n",
    "\n",
    "Para evitar una solución trivial basada en `split()` seguido de `reverse()`, las expresiones podrán incluir paréntesis y funciones como `sin`, `log`, etc. El objetivo es reconstruir correctamente la expresión respetando la estructura y agrupaciones.\n",
    "\n",
    "Este ejercicio tiene como objetivo practicar el uso de pilas para manipular tokens estructurados y construir expresiones bien formadas.\n",
    "\n",
    "**Ejemplo:**\n",
    "```python\n",
    "print(revertir_operaciones(\"5 + 3 * 2 - 1\"))\n",
    "# Salida esperada: \"1 - 2 * 3 + 5\"\n",
    "\n",
    "print(revertir_operaciones(\"log(3 + x) * (y - 2)\"))\n",
    "# Salida esperada: \"(2 - y) * log(x + 3)\"\n",
    "```"
   ]
  },
  {
   "cell_type": "code",
   "execution_count": null,
   "id": "c7b025ca",
   "metadata": {},
   "outputs": [],
   "source": []
  },
  {
   "cell_type": "markdown",
   "id": "4ace101f",
   "metadata": {},
   "source": [
    "## Ejercicio 3: Reconstrucción de expresiones infijas desde árbol binario"
   ]
  },
  {
   "cell_type": "markdown",
   "id": "9b082db5",
   "metadata": {},
   "source": [
    "Se tiene un árbol binario representado mediante un diccionario. Cada nodo contiene un operador y tiene dos hijos que pueden ser otros nodos o directamente operandos.\n",
    "\n",
    "Implementa una función `reconstruir(arbol, nodo_raiz)` que reconstruya la expresión infija completa con los paréntesis correctos, partiendo del nodo raíz. Utiliza llamadas recursivas y concatena las expresiones de los subárboles.\n",
    "\n",
    "**Ejemplo:**\n",
    "```python\n",
    "arbol = {\n",
    "    \"raiz\": (\"*\", \"izq\", \"der\"),\n",
    "    \"izq\": (\"+\", \"a\", \"b\"),\n",
    "    \"der\": (\"-\", \"c\", \"d\")\n",
    "}\n",
    "print(reconstruir(arbol, \"raiz\"))\n",
    "# Salida esperada: \"((a + b) * (c - d))\"\n",
    "```"
   ]
  },
  {
   "cell_type": "code",
   "execution_count": null,
   "id": "251bb9c2",
   "metadata": {},
   "outputs": [],
   "source": []
  },
  {
   "cell_type": "markdown",
   "id": "05a8f95e",
   "metadata": {},
   "source": [
    "## Ejercicio 4: Simulación de colas multinivel con envejecimiento"
   ]
  },
  {
   "cell_type": "markdown",
   "id": "ee8c07b4",
   "metadata": {},
   "source": [
    "Implementa un sistema de planificación de procesos que utiliza múltiples colas con diferentes prioridades (por ejemplo, 0 = alta, 1 = media, 2 = baja). Los procesos que permanezcan demasiado tiempo en una cola baja deben ascender a una prioridad más alta.\n",
    "\n",
    "Escribe una función `simular_cola(procesos, max_espera)` que reciba una lista de procesos (cada uno con nombre y prioridad inicial) y simule su atención durante varios ciclos. La atención se hace siempre desde la cola de mayor prioridad que no esté vacía. En cada ciclo, un proceso es atendido, y los demás incrementan su tiempo de espera. Si un proceso supera `max_espera`, su prioridad se incrementa (si es posible).\n",
    "\n",
    "**Ejemplo:**\n",
    "```python\n",
    "class Proceso:\n",
    "    def __init__(self, nombre, prioridad):\n",
    "        self.nombre = nombre\n",
    "        self.prioridad = prioridad\n",
    "        self.tiempo_espera = 0\n",
    "\n",
    "procesos = [Proceso(\"p1\", 2), Proceso(\"p2\", 2), Proceso(\"p3\", 1), Proceso(\"p4\", 0)]\n",
    "simular_cola(procesos, max_espera=3)\n",
    "# Salida esperada:\n",
    "# Atendiendo a p4 de prioridad 0\n",
    "# Atendiendo a p3 de prioridad 1\n",
    "# Atendiendo a p1 de prioridad 2\n",
    "# Atendiendo a p2 de prioridad 2\n",
    "```"
   ]
  },
  {
   "cell_type": "code",
   "execution_count": null,
   "id": "2ef5acfc",
   "metadata": {},
   "outputs": [],
   "source": []
  },
  {
   "cell_type": "markdown",
   "id": "1aac9b1a",
   "metadata": {},
   "source": [
    "## Ejercicio 5: Gestión de turnos con prioridades y tiempo de atención"
   ]
  },
  {
   "cell_type": "markdown",
   "id": "ce5beb2f",
   "metadata": {},
   "source": [
    "Se desea simular un sistema de turnos con atención circular. Cada cliente tiene un nombre, una prioridad (siendo mayor mejor), y un tiempo de atención necesario. Los clientes son atendidos en orden de prioridad (de mayor a menor). Si un cliente no ha agotado su tiempo de atención tras ser atendido un turno, vuelve al final de la cola con el tiempo restante.\n",
    "\n",
    "Escribe una función `simular_turnos(clientes)` que imprima el orden de atención en cada ciclo y gestione correctamente el tiempo restante de cada cliente.\n",
    "\n",
    "**Ejemplo:**\n",
    "```python\n",
    "class Cliente:\n",
    "    def __init__(self, nombre, prioridad, tiempo):\n",
    "        self.nombre = nombre\n",
    "        self.prioridad = prioridad\n",
    "        self.tiempo = tiempo\n",
    "\n",
    "clientes = [Cliente(\"A\", 2, 2), Cliente(\"B\", 1, 3), Cliente(\"C\", 3, 1)]\n",
    "simular_turnos(clientes)\n",
    "# Salida esperada:\n",
    "# Atendiendo a C (prioridad 3) - tiempo restante: 0\n",
    "# Atendiendo a A (prioridad 2) - tiempo restante: 1\n",
    "# Atendiendo a A (prioridad 2) - tiempo restante: 0\n",
    "# Atendiendo a B (prioridad 1) - tiempo restante: 2\n",
    "# Atendiendo a B (prioridad 1) - tiempo restante: 1\n",
    "# Atendiendo a B (prioridad 1) - tiempo restante: 0\n",
    "```"
   ]
  },
  {
   "cell_type": "code",
   "execution_count": null,
   "id": "6640537f",
   "metadata": {},
   "outputs": [],
   "source": []
  },
  {
   "cell_type": "markdown",
   "id": "c7ab8225",
   "metadata": {},
   "source": [
    "## Ejercicio 6: Encriptación con desplazamientos circulares"
   ]
  },
  {
   "cell_type": "markdown",
   "id": "c63e8c06",
   "metadata": {},
   "source": [
    "Diseña un algoritmo de encriptación simple que utilice desplazamientos circulares de caracteres. La función `encriptar(cadena, desplazamiento)` debe mover los caracteres de la cadena hacia la derecha `desplazamiento` posiciones, de forma circular. También se debe implementar la función `desencriptar` para revertir el proceso.\n",
    "\n",
    "Utiliza la estructura `deque` para facilitar las operaciones circulares.\n",
    "\n",
    "**Ejemplo:**\n",
    "```python\n",
    "encriptado = encriptar(\"hola\", 2)\n",
    "print(encriptado)        # Salida esperada: \"laho\"\n",
    "print(desencriptar(encriptado, 2))  # Salida esperada: \"hola\"\n",
    "```"
   ]
  },
  {
   "cell_type": "code",
   "execution_count": null,
   "id": "7b517352",
   "metadata": {},
   "outputs": [],
   "source": []
  },
  {
   "cell_type": "markdown",
   "id": "66401f03",
   "metadata": {},
   "source": [
    "## Ejercicio 7: Evaluar expresión en notación postfija"
   ]
  },
  {
   "cell_type": "markdown",
   "id": "0d3b80cf",
   "metadata": {},
   "source": [
    "Implementa la función `evaluar_postfija(expr)` que reciba una expresión en notación postfija (postfix), separada por espacios, y devuelva el resultado de evaluarla. Utiliza una pila para ir almacenando los operandos y aplicar los operadores cuando corresponda.\n",
    "\n",
    "**Ejemplo:**\n",
    "```python\n",
    "print(evaluar_postfija(\"3 4 + 2 * 7 /\"))\n",
    "# Salida esperada: 2.0\n",
    "```"
   ]
  },
  {
   "cell_type": "code",
   "execution_count": null,
   "id": "560a4436",
   "metadata": {},
   "outputs": [],
   "source": []
  },
  {
   "cell_type": "markdown",
   "id": "fbf0ada1",
   "metadata": {},
   "source": [
    "## Ejercicio 8: Conversión y evaluación de expresiones infijas"
   ]
  },
  {
   "cell_type": "markdown",
   "id": "1930d1eb",
   "metadata": {},
   "source": [
    "Desarrolla una función `infija_a_postfija(expresion)` que convierta una expresión matemática en notación infija (como \"3 + 4 * 2 / ( 1 - 5 ) ^ 2 ^ 3\") a notación postfija (postfix). Usa el algoritmo del shunting yard de Dijkstra y respeta la precedencia de operadores.\n",
    "\n",
    "Opcionalmente, puedes implementar también una función para evaluar la expresión postfija resultante.\n",
    "\n",
    "**Ejemplo:**\n",
    "```python\n",
    "expr = \"3 + 4 * 2 / ( 1 - 5 ) ^ 2 ^ 3\"\n",
    "print(infija_a_postfija(expr))\n",
    "# Salida esperada: '3 4 2 * 1 5 - 2 3 ^ ^ / +'\n",
    "```"
   ]
  },
  {
   "cell_type": "code",
   "execution_count": null,
   "id": "a365db88",
   "metadata": {},
   "outputs": [],
   "source": []
  },
  {
   "cell_type": "markdown",
   "id": "5520e538",
   "metadata": {},
   "source": [
    "## Ejercicio 9: Validación extendida de expresiones infijas"
   ]
  },
  {
   "cell_type": "markdown",
   "id": "e4b35391",
   "metadata": {},
   "source": [
    "Crea una función `validar_expresion(expr)` que compruebe si una expresión infija es válida. La validación debe incluir:\n",
    "- Paréntesis correctamente balanceados.\n",
    "- Ausencia de operadores consecutivos.\n",
    "- No empezar ni terminar con un operador.\n",
    "- Funciones como `sin()`, `cos()`, `log()` deben tener sintaxis correcta.\n",
    "\n",
    "La función debe devolver una lista con los errores encontrados o indicar que la expresión es válida.\n",
    "\n",
    "**Ejemplo:**\n",
    "```python\n",
    "print(validar_expresion(\"3 + + 4 )\"))\n",
    "# Salida esperada: ['Paréntesis desbalanceados', 'Operadores consecutivos']\n",
    "\n",
    "print(validar_expresion(\"log(5) + sin(3 * (2 + 1))\"))\n",
    "# Salida esperada: ['Expresión válida']\n",
    "```"
   ]
  },
  {
   "cell_type": "code",
   "execution_count": null,
   "id": "5b9f66f7",
   "metadata": {},
   "outputs": [],
   "source": []
  }
 ],
 "metadata": {
  "kernelspec": {
   "display_name": "Python 3 (ipykernel)",
   "language": "python",
   "name": "python3"
  },
  "language_info": {
   "codemirror_mode": {
    "name": "ipython",
    "version": 3
   },
   "file_extension": ".py",
   "mimetype": "text/x-python",
   "name": "python",
   "nbconvert_exporter": "python",
   "pygments_lexer": "ipython3",
   "version": "3.9.12"
  }
 },
 "nbformat": 4,
 "nbformat_minor": 5
}
