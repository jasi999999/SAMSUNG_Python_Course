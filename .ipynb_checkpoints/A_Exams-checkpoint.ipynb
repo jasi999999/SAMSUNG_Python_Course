{
 "cells": [
  {
   "cell_type": "markdown",
   "id": "896102b1-7f4e-4a9c-92e5-772d65b54b50",
   "metadata": {},
   "source": [
    "# Python Introduction Course (Exams)"
   ]
  },
  {
   "cell_type": "markdown",
   "id": "926e2879-754e-46b0-b72b-48702e65c210",
   "metadata": {
    "jp-MarkdownHeadingCollapsed": true
   },
   "source": [
    "## Chapter 1"
   ]
  },
  {
   "cell_type": "markdown",
   "id": "4a4a5632-33a6-4bb5-a481-62161eb01b54",
   "metadata": {
    "jp-MarkdownHeadingCollapsed": true
   },
   "source": [
    "<center><h3>Control Unidad 1</h1></center>\n",
    "<center><h3>Samsung: Curso de Introducción a la Programación con Python</h3></center>\n",
    "<center><h3>23 de junio de 2025</h3></center>"
   ]
  },
  {
   "cell_type": "markdown",
   "id": "bb2a930f-02ab-45d0-b52e-07fba5497ca8",
   "metadata": {},
   "source": [
    "### 1. Desarrolla un programa que convierta temperaturas de Fahrenheit a Celsius.\n",
    "\n",
    "El programa pedirá al usuario una temperatura en Fahrenheit (número real, `float`) y se mostrará la conversión a Celsius\n",
    "\n",
    "La fórmula para convertir Fahrenheit a Celsius es la siguiente:\n",
    "\n",
    "$$\n",
    "    TempCelsius = \\frac{(TempFahrenheit - 32) * 5}{9}\n",
    "$$\n",
    "\n",
    "Consideraciones:\n",
    "\n",
    "- Se puede asumir que el usuario propociona un número real de forma correcta.\n",
    "- Utilizar la sentencia `round(x, 2)` para redondear a 2 decimales la conversión (`x` son los grados Celsius) a la hora de imprimirla (pero no a la hora de calcularla).\n",
    "\n",
    "Ejemplos de salida:\n",
    "\n",
    "- `1.0 grados Fahrenheit corresponden a -17.22 grados Celsius`\n",
    "\n",
    "- `30.0 grados Fahrenheit corresponden a -1.11 grados Celsius`\n",
    "\n",
    "- `102.5 grados Fahrenheit corresponden a 39.17 grados Celsius`"
   ]
  },
  {
   "cell_type": "code",
   "execution_count": 5,
   "id": "18737e9b-585c-4628-be84-530d62bdf245",
   "metadata": {},
   "outputs": [
    {
     "name": "stdin",
     "output_type": "stream",
     "text": [
      "Por favor, introduzca el número de Temperatura:  102.5\n"
     ]
    },
    {
     "name": "stdout",
     "output_type": "stream",
     "text": [
      "102.5 grados Fahrenheit corresponden a 39.17\n"
     ]
    }
   ],
   "source": [
    "# Precondición: el usuario introduce los números de forma correcta\n",
    "def fahrenheit_celsius():\n",
    "    temp_fahrenheit= float(input(\"Por favor, introduzca el número de Temperatura: \"))\n",
    "    \n",
    "    temp_celsius = (temp_fahrenheit - 32) * 5 / 9\n",
    "    temp_celsius = round(temp_celsius, 2)\n",
    "    \n",
    "    print(f\"{temp_fahrenheit:2} grados Fahrenheit corresponden a {temp_celsius}\")\n",
    "    \n",
    "fahrenheit_celsius()"
   ]
  },
  {
   "cell_type": "markdown",
   "id": "4d3ec5ed-7bc5-46b6-989c-47fac61b0561",
   "metadata": {},
   "source": [
    "### 2. Desarrolla un programa que pida dos números naturales (enteros positivos) al usuario (llamémoslos `x` e `y`), y que utilice únicamente sumas y restas para calcular el cociente y el resto de la división entera de `x` entre `y`. \n",
    "\n",
    "> **ATENCIÓN:** en este ejercicio **SOLAMENTE** se pueden usar **sumas y restas** como operaciones aritméticas aunque resulte ineficiente.\n",
    "\n",
    "Consideraciones:\n",
    "\n",
    "- Se pueden pedir los dos números a la vez o uno a uno\n",
    "- Se puede asumir que el usuario siempre proporciona 2 enteros positivos.\n",
    "\n",
    "Ejemplos de salida:\n",
    "\n",
    "- `5 dividido entre 2 >> cociente: 2, resto: 1`\n",
    "\n",
    "- `5 dividido entre 2 >> cociente: 0, resto: 1`\n",
    "\n",
    "- `50 dividido entre 10 >> cociente: 5, resto: 0`"
   ]
  },
  {
   "cell_type": "code",
   "execution_count": 6,
   "id": "403efd35-8637-48a8-a918-7b4d08126e18",
   "metadata": {},
   "outputs": [
    {
     "name": "stdin",
     "output_type": "stream",
     "text": [
      "Por favor, introduzca el primer número:  5\n",
      "Por favor, introduzca el segundo número:  3\n"
     ]
    },
    {
     "name": "stdout",
     "output_type": "stream",
     "text": [
      "5 dividido entre 3 >> cociente: 1, resto: 2\n"
     ]
    }
   ],
   "source": [
    "# Precondición: el usuario introduce los números de forma correcta\n",
    "def division():\n",
    "    num1 = int(input(\"Por favor, introduzca el primer número: \"))\n",
    "    num2 = int(input(\"Por favor, introduzca el segundo número: \"))\n",
    "    resto = num1\n",
    "    cociente = 0\n",
    "    \n",
    "    while resto >= num2:\n",
    "        cociente += 1\n",
    "        resto = resto - num2\n",
    "        \n",
    "    print(f\"{num1} dividido entre {num2} >> cociente: {cociente}, resto: {resto}\")\n",
    "    \n",
    "division()"
   ]
  },
  {
   "cell_type": "markdown",
   "id": "71017125-5a39-413e-9c09-fe82244ae2c0",
   "metadata": {},
   "source": [
    "### 3. Desarrollar un programa que dado un número `n` que muestre los divisores de `n` (incluidos 1 y él mismo), indicando si el número es primo.\n",
    "\n",
    "Consideraciones:\n",
    "\n",
    "- Recuerda que un número primo es aquel número mayor que 1 y que solo tiene como divisores 1 y él mismo.\n",
    "- Se puede asumir que el usuario pone un número entero positivo.\n",
    "\n",
    "\n",
    "Ejemplos de salida:\n",
    "\n",
    "- Con $n=8$\n",
    "```\n",
    "    Los divisores de 8 son: 1 2 4 8.\n",
    "    8 no es un número primo.\n",
    "```\n",
    "-  Con $n=5$\n",
    "```\n",
    "    Los divisores de 5 son: 1 5.\n",
    "    5 es un número primo.\n",
    "```\n",
    "- Con $n=1$\n",
    "```\n",
    "    Los divisores de 1 son: 1.\n",
    "    1 no es un número primo.\n",
    "```"
   ]
  },
  {
   "cell_type": "code",
   "execution_count": 11,
   "id": "9966c37e-0141-4240-8d2c-1967b93cd424",
   "metadata": {},
   "outputs": [
    {
     "name": "stdin",
     "output_type": "stream",
     "text": [
      "Por favor, introduzca el número:  8\n"
     ]
    },
    {
     "name": "stdout",
     "output_type": "stream",
     "text": [
      "Los divisores de 8 son:  1 2 4 8. \n",
      " 8 no es un número primo.\n"
     ]
    }
   ],
   "source": [
    "# Precondición: el usuario introduce los números de forma correcta\n",
    "def divisores():\n",
    "    num = int(input(\"Por favor, introduzca el número: \"))\n",
    "    divisores = \"\"\n",
    "    \n",
    "    for i in range(1, num + 1):\n",
    "        if num % i == 0:\n",
    "            divisores += \" \" + str(i)\n",
    "    divisores += \".\"\n",
    "    \n",
    "     # divisores_string = \" \".join(divisores)\n",
    "    if len(divisores) == 0 and num != 1:\n",
    "        print(\"Los divisores de\", num, \"son: 1\", num, \"\\n\",num, \"es un número primo.\")\n",
    "    else:\n",
    "        print(\"Los divisores de\", num, \"son:\", divisores, \"\\n\", num, \"no es un número primo.\")\n",
    "        \n",
    "divisores()"
   ]
  },
  {
   "cell_type": "markdown",
   "id": "8c9bbcc8-6034-4b2f-95c5-df4ea81982ee",
   "metadata": {},
   "source": [
    "### 4. Desarrolla un programa que dado un número `n`, imprima por pantalla una pirámide de _impares-pares_ con altura `n`.\n",
    "\n",
    "- La altura es un número entero que se pedirá al usuario.\n",
    "- Por ejemplo, con `n=5` la pirámide resultante sería:\n",
    "\n",
    "```\n",
    "Altura de la pirámide: 5\n",
    "\n",
    "1\n",
    "2 4\n",
    "1 3 5\n",
    "2 4 6 8\n",
    "1 3 5 7 9\n",
    "```\n",
    "\n",
    "Consideraciones:\n",
    "\n",
    "- Se puede asumir que el usuario introduce un entero correctamente\n",
    "- No te preocupes si para `n>5` aparecen números de más de una cifra que hacen la salida menos bonita. "
   ]
  },
  {
   "cell_type": "code",
   "execution_count": 1,
   "id": "0cd13b49-9bf9-474a-aceb-22223d09f674",
   "metadata": {},
   "outputs": [
    {
     "name": "stdin",
     "output_type": "stream",
     "text": [
      "Por favor, introduzca el número:  6\n"
     ]
    },
    {
     "name": "stdout",
     "output_type": "stream",
     "text": [
      "\n",
      "1 \n",
      "2 4 \n",
      "1 3 5 \n",
      "2 4 6 8 \n",
      "1 3 5 7 9 \n",
      "2 4 6 8 10 12 \n"
     ]
    }
   ],
   "source": [
    "# Precondición: el usuario introduce los números de forma correcta\n",
    "def escalera():\n",
    "    num = int(input(\"Por favor, introduzca el número: \"))\n",
    "    \n",
    "    # Primero hacemos dos listas, con los pares y los impares\n",
    "    lista_par = []\n",
    "    lista_impar = []\n",
    "    right = True          # Impar = True, Par = False\n",
    "    escalon = True\n",
    "    for i in range(1, 2 * num + 1):\n",
    "        if right:\n",
    "            lista_impar.append(i)\n",
    "            right = not right\n",
    "        else:\n",
    "            lista_par.append(i)\n",
    "            right = not right\n",
    "            \n",
    "    # Imprimir la lista\n",
    "    for i in range(num + 1):\n",
    "        j = 0\n",
    "        while j < i:\n",
    "            if i % 2 != 0:\n",
    "                print(lista_impar[j], end=\" \")\n",
    "                j += 1\n",
    "            else:\n",
    "                print(lista_par[j], end=\" \")\n",
    "                j += 1\n",
    "        print(\"\\n\", end=\"\")\n",
    "                \n",
    "escalera()"
   ]
  },
  {
   "cell_type": "markdown",
   "id": "468cf9a9-1ffe-4a78-8d8d-3a0662066342",
   "metadata": {
    "jp-MarkdownHeadingCollapsed": true
   },
   "source": [
    "## Chapter 2"
   ]
  },
  {
   "cell_type": "markdown",
   "id": "6a618c66-5f77-424b-8677-454678b62c87",
   "metadata": {},
   "source": [
    "<center><h3>Control Unidad 2</h1></center>\n",
    "<center><h3>Samsung: Curso de Introducción a la Programación con Python</h3></center>\n",
    "<center><h3>07 de julio de 2025</h3></center>"
   ]
  },
  {
   "cell_type": "markdown",
   "id": "68c91b17-2583-413b-a8f5-9e5beb16519b",
   "metadata": {},
   "source": [
    "### Ejercicio 1\n",
    "\n",
    "Dadas tres listas `l1`,`l2`y `l3`, nos piden obtener una lista en la que cada elemento sea la suma de los tres elementos situados en la misma posición en las listas originales, siempre y cuando la paridad entre los tres elementos coincida. Para el siguiente ejemplo:\n",
    "\n",
    "```\n",
    "l1 = [1, 2, 3, 4, 5, 6]\n",
    "l2 = [3, 3, 5, 6]\n",
    "l3 = [1, 1, 7, 2, 8, 7, 8, 9]\n",
    "```\n",
    "\n",
    "el resultado sería `[5, 15, 12]`, que corresponde a las sumas de:\n",
    "\n",
    "- `5 = 1+3+1` en la posición 0\n",
    "- `15 = 3+5+7` en la posición 2\n",
    "- `12 = 4+6+2` en la posición 3\n",
    "\n",
    "No se suman los valores 2+3+1 de la posición 1 porque 2 es par mientras que 3 y 1 son impares."
   ]
  },
  {
   "cell_type": "code",
   "execution_count": 3,
   "id": "a241dc36-a395-4dd8-879b-36e09bbe0aca",
   "metadata": {},
   "outputs": [
    {
     "name": "stdout",
     "output_type": "stream",
     "text": [
      "[5, 15, 12]\n"
     ]
    }
   ],
   "source": [
    "l1 = [1, 2, 3, 4, 5, 6]\n",
    "l2 = [3, 3, 5, 6]\n",
    "l3 = [1, 1, 7, 2, 8, 7, 8, 9]\n",
    "res = []\n",
    "\n",
    "# RESOLVER AQUÍ EL EJERCICIO 1\n",
    "res = [a + b + c for a, b, c in zip(l1, l2, l3) if a % 2 == b % 2 == c % 2]\n",
    "print(res)"
   ]
  },
  {
   "cell_type": "markdown",
   "id": "51829b4d-43f2-4747-80ce-f5ddafc56269",
   "metadata": {},
   "source": [
    "### Ejercicio 2\n",
    "\n",
    "Nos dan una lista de cadenas:\n",
    "\n",
    "```python\n",
    "ls = [\"El oso blanco\", \"Un día caluroso\", \"Blanco el oso\", \n",
    "      \"O blance loso\", \"No parece algo que tenga que aparecer\"]\n",
    "\n",
    "```\n",
    "\n",
    "Y nos piden devolver otra lista con todas las cadenas de la lista que tengan el mismo número de caracteres de cada tipo (mismo nº 'a', mismo nº de 'b',... incluidos espacios en blanco, comas etc...) que una cadena dada como clave.\n",
    "\n",
    "A la hora de contar el nº caracteres de cada tipo hay que ignorar que sean mayúsculas o minúsculas. Es decir, \"Aba\" y \"Baa\" se considera que cumplen la condición porque tienen 2 'a' y 1 'b', pero \"Aba\" y \"aBB\" no cumplen la condición.\n",
    "\n",
    "Para el ejemplo de la lista `ls` y la clave `\"El blanco oso\"` el resultado sería:\n",
    "\n",
    "```python\n",
    "['El oso blanco', 'Blanco el oso', 'O blance loso']\n",
    "```"
   ]
  },
  {
   "cell_type": "code",
   "execution_count": 4,
   "id": "3e49ad5f-a6d5-43aa-9a7d-3d66ba5e69f2",
   "metadata": {},
   "outputs": [
    {
     "name": "stdout",
     "output_type": "stream",
     "text": [
      "['El oso blanco', 'Blanco el oso', 'O blance loso']\n"
     ]
    }
   ],
   "source": [
    "ls = [\"El oso blanco\", \"Un día caluroso\", \"Blanco el oso\", \"O blance loso\", \"No parece algo que tenga que aparecer\"]\n",
    "clave = \"El blanco oso\"\n",
    "\n",
    "# RESOLVER AQUÍ EL EJERCICIO 2\n",
    "d = {}\n",
    "res = []\n",
    "for char in list(clave.lower()):\n",
    "    d[char] = d.get(char, 0) + 1\n",
    "\n",
    "for s in ls:\n",
    "    d2 = {}\n",
    "    for char2 in list(s.lower()):\n",
    "        d2[char2] = d2.get(char2, 0) + 1\n",
    "    if d == d2:\n",
    "        res.append(s)\n",
    "\n",
    "print(res)"
   ]
  },
  {
   "cell_type": "markdown",
   "id": "52928abf-67c2-4f07-9a73-05a7daf4ecfa",
   "metadata": {},
   "source": [
    "### Ejercicio 3\n",
    "\n",
    "Se pide realizar un programa que pida al usuario una serie de números enteros separados por coma.\n",
    "\n",
    "Puedes asumir que el usuario no se equivoca al introducir los números.\n",
    "\n",
    "A continuación, el programa consultará un conjunto `cjt` que contiene números enteros y\n",
    "mostrará uno de estos mensajes:\n",
    "\n",
    "- `Hay números repetidos` se mostrará cuando el usuario haya introducido más de una vez un mismo número. Mostrará los números repetidos y el nº repeticiones.\n",
    "- `Estan todos`si el usuario ha introducido, sin repetir, los números del cjt.\n",
    "- En otro caso:\n",
    "    - Si sobran sacará la cadena `Sobran` seguida del cjt de números que sobran.\n",
    "    - Si faltan sacará la cadena `Faltan` seguida del cjt de números que sobran.\n",
    "  Puede que solamente saque `Sobran` o `Faltan`, pero en algún caso pueden salir los dos.\n",
    "\n",
    "Veamos algunos ejemplos de ejecución suponiendo que la variable `cjt` contiene:\n",
    "\n",
    "```python\n",
    "cjt = {6, 3, 7, 12}\n",
    "```\n",
    "\n",
    "Primer ejemplo:\n",
    "\n",
    "```\n",
    "Introduce nº enteros separados por coma: 3,6,7,7,12,20,20,20\n",
    "Hay números repetidos: {20, 7}\n",
    "```\n",
    "\n",
    "Otro ejemplo:\n",
    "\n",
    "```\n",
    "Introduce nº enteros separados por coma: 3,12,7,6\n",
    "Estan todos\n",
    "```\n",
    "\n",
    "Otro ejemplo:\n",
    "\n",
    "```\n",
    "Introduce nº enteros separados por coma: 3,6\n",
    "Faltan: {12, 7}\n",
    "```\n",
    "\n",
    "Otro ejemplo:\n",
    "\n",
    "```\n",
    "Introduce nº enteros separados por coma: 1,2,3,6,7,12\n",
    "Sobran: {1, 2}\n",
    "```\n",
    "\n",
    "Otro ejemplo:\n",
    "\n",
    "```\n",
    "Introduce nº enteros separados por coma: 1,2,3,6\n",
    "Sobran: {1, 2}\n",
    "Faltan: {12, 7}\n",
    "```\n"
   ]
  },
  {
   "cell_type": "code",
   "execution_count": 6,
   "id": "e98eaa61-2537-4efc-8656-c89617ffdb66",
   "metadata": {},
   "outputs": [
    {
     "name": "stdin",
     "output_type": "stream",
     "text": [
      "Introduce nº enteros separados por coma:  6,3,7,8\n"
     ]
    },
    {
     "name": "stdout",
     "output_type": "stream",
     "text": [
      "Faltan: {12}\n",
      "Sobran: {8}\n"
     ]
    }
   ],
   "source": [
    "cjt = {6, 3, 7, 12}\n",
    "\n",
    "# RESOLVER AQUÍ EL EJERCICIO 3\n",
    "def ejer3( cjt ):\n",
    "    # COMPLETAR\n",
    "    nums = input(\"Introduce nº enteros separados por coma: \")\n",
    "    nums = nums.replace(\",\", \" \").split()\n",
    "    for i, j in enumerate(nums):\n",
    "        nums[i] = int(j)\n",
    "\n",
    "    set_nums = set(nums)\n",
    "    \n",
    "    if cjt.intersection(set_nums) == set_nums == cjt:\n",
    "        print(\"Estan todos\")\n",
    "    else:\n",
    "        if len(nums) == len(set_nums):\n",
    "            if cjt.difference(set_nums) != set():\n",
    "                print(\"Faltan:\", cjt.difference(set_nums))\n",
    "            if set_nums.difference(cjt) != set():\n",
    "                print(\"Sobran:\", set_nums.difference(cjt))\n",
    "        else:\n",
    "            d = {}\n",
    "            for num in nums:\n",
    "                d[num] = d.get(num, 0) + 1\n",
    "\n",
    "            res = [(num, times) for num, times in d.items() if times > 1]\n",
    "            for item in res:\n",
    "                print(f\"El número {item[0]:2} se repite {item[1]:2} veces\")\n",
    "\n",
    "ejer3(cjt)"
   ]
  },
  {
   "cell_type": "markdown",
   "id": "b1784ba4-df9f-40e2-85f2-8cebf16548b4",
   "metadata": {
    "jp-MarkdownHeadingCollapsed": true
   },
   "source": [
    "## Final"
   ]
  },
  {
   "cell_type": "markdown",
   "id": "be7e7f5a-ed8e-450b-ad84-77aaff15a03d",
   "metadata": {},
   "source": [
    "<center><h3>Examen Final</h1></center>\n",
    "<center><h3>Samsung: Curso de Introducción a la Programación con Python</h3></center>\n",
    "<center><h3>23 de julio de 2025</h3></center>"
   ]
  },
  {
   "cell_type": "markdown",
   "id": "502cb4b5-e087-4146-907c-4acb8271e374",
   "metadata": {},
   "source": [
    "### Ejercicio 1"
   ]
  },
  {
   "cell_type": "markdown",
   "id": "33999ce7-ba5e-410f-b8f0-079d6549fc92",
   "metadata": {},
   "source": [
    "Implementar una función llamada `eliminar_espacios(frase)` que tome como parámetro una **frase** en forma de cadena de caracteres y devuelva esa misma frase **sin los espacios** (si los hay) entre las palabras.\n",
    "\n",
    "Pruebas de verificación:\n",
    "```\n",
    "eliminar_espacios(\"Galicia es hermosa\")\n",
    "Galiciaeshermosa\n",
    "\n",
    "eliminar_espacios(\"Me llevaré mi bicicleta!\")\n",
    "Mellevarémibicicleta!\n",
    "```"
   ]
  },
  {
   "cell_type": "code",
   "execution_count": 10,
   "id": "9c4c8255-4a79-4737-b12b-71b034b970fb",
   "metadata": {},
   "outputs": [
    {
     "name": "stdout",
     "output_type": "stream",
     "text": [
      "Galiciaeshermosa\n",
      "Mellevarémibicicleta!\n"
     ]
    }
   ],
   "source": [
    "def eliminar_espacios(frase: str) -> str:\n",
    "    f = frase.split()\n",
    "    return ''.join(f)\n",
    "\n",
    "print(eliminar_espacios(\"Galicia es hermosa\"))\n",
    "print(eliminar_espacios(\"Me llevaré mi bicicleta!\"))"
   ]
  },
  {
   "cell_type": "markdown",
   "id": "558320ea-ce4f-40ec-8979-6898727a8267",
   "metadata": {},
   "source": [
    "### Ejercicio 2"
   ]
  },
  {
   "cell_type": "markdown",
   "id": "fa98c0b0-a9b8-4036-9a46-fc1274d25815",
   "metadata": {},
   "source": [
    "Escribir el código de la función `suma_sublista(L, i, j)` que toma tres parámetros: una **lista L** que contiene números, un **índice de inicio de cálculo i**, y un **índice de fin de cálculo j**. La función debe devolver la **suma de los números que se encuentran entre los índices i y j** de la lista, ambos inclusive. Puedes considerar que ```i``` y ```j``` son índices válidos para la lista ```L```.\n",
    "\n",
    "Pruebas de verificación:\n",
    "```\n",
    "suma_sublista([4, 10, 12, 16, 18], 2, 4)\n",
    "46\n",
    "\n",
    "suma_sublista([2, 4, 6, 8, 10, 12], 0, 2)\n",
    "12\n",
    "```"
   ]
  },
  {
   "cell_type": "code",
   "execution_count": 13,
   "id": "b0ca2356-953d-4947-a08b-1260d938bdb1",
   "metadata": {},
   "outputs": [
    {
     "name": "stdout",
     "output_type": "stream",
     "text": [
      "46\n",
      "12\n"
     ]
    }
   ],
   "source": [
    "def suma_sublista(L: list, i: int, j: int) -> int:\n",
    "    return sum(L[i: j + 1])\n",
    "\n",
    "print(suma_sublista([4, 10, 12, 16, 18], 2, 4))\n",
    "print(suma_sublista([2, 4, 6, 8, 10, 12], 0, 2))"
   ]
  },
  {
   "cell_type": "markdown",
   "id": "f5152ffd-1f01-478b-94ae-dc72b588b86d",
   "metadata": {},
   "source": [
    "### Ejercicio 3"
   ]
  },
  {
   "cell_type": "markdown",
   "id": "28fdc614-341e-402b-b9df-d47312537c35",
   "metadata": {},
   "source": [
    "Diseñar dos clases:\n",
    "\n",
    "* **Rectangulo**: Representa un rectángulo en un plano 2D.\n",
    "* **Paralelepipedo**: Representa un paralelepípedo (una figura 3D con seis caras rectangulares) que herede de la clase **Rectangulo**.\n",
    "\n",
    "Cada clase debe incluir los siguientes elementos:\n",
    "\n",
    "1. Constructores para inicializar los objetos.\n",
    "1. Métodos para calcular el **área**, y también el **volumen** en el caso del paralelepípedo. Recordatorio: el área ($A$) de un rectángulo es $A = a * b$. El área ($A$) de un paralelepípedo es $A=2(ab+ac+bc)$. El volumen ($V$) de un paralelepípedo es $V = a*b*c$\n",
    "1. Método `__str__` para imprimir correctamente las instancias.\n",
    "1. **Sobrecarga** de operadores para sumar áreas y volúmenes:\n",
    "    1. Sobrecargar el operador + para sumar las áreas de dos rectángulos.\n",
    "    1. Sobrecargar el operador - para restar las áreas de dos rectángulos.\n",
    "    1. Sobrecargar el operador + para sumar los volúmenes de dos paralelepípedos.\n",
    "    1. Sobrecargar el operador - para restar los volúmenes de dos paralelepípedos.\n",
    "\n",
    "*Pruebas de verificación*:\n",
    "\n",
    "```\n",
    "rect1 = Rectangulo(10, 15)\n",
    "rect1.area()\n",
    "150\n",
    "\n",
    "rect2 = Rectangulo(20, 4)\n",
    "rect2.area()\n",
    "80\n",
    "\n",
    "rect1-rect2\n",
    "70\n",
    "\n",
    "para1 = Paralelepipedo(9, 5, 2)\n",
    "para1.volumen()\n",
    "90\n",
    "\n",
    "para2 = Paralelepipedo(7, 3, 5)\n",
    "para2.volumen()\n",
    "105\n",
    "\n",
    "para1 + para2\n",
    "195\n",
    "\n",
    "print(rect1)\n",
    "Rectangulo(base=10, altura=15)\n",
    "\n",
    "print(para1)\n",
    "Paralelepipedo(base=9, altura=5, profundidad=2)\n",
    "```"
   ]
  },
  {
   "cell_type": "code",
   "execution_count": 14,
   "id": "db1a93c9-669a-4d60-ba0a-6681b7276487",
   "metadata": {},
   "outputs": [
    {
     "name": "stdout",
     "output_type": "stream",
     "text": [
      "150\n",
      "80\n",
      "70\n",
      "90\n",
      "105\n",
      "195\n",
      "Rectangulo(base=10, altura=15)\n",
      "Paralelepipedo(base=9, altura=5, profundidad=2)\n"
     ]
    }
   ],
   "source": [
    "class Rectangulo:\n",
    "    def __init__(self, base, altura):\n",
    "        self.base = base\n",
    "        self.altura = altura\n",
    "        \n",
    "    def area(self):\n",
    "        return self.base * self.altura\n",
    "        \n",
    "    def __str__(self):\n",
    "        return f'Rectangulo(base={self.base}, altura={self.altura})'\n",
    "\n",
    "    def __add__(self, otro):\n",
    "        return self.area() + otro.area()\n",
    "\n",
    "    def __sub__(self, otro):\n",
    "        return self.area() - otro.area()\n",
    "        \n",
    "class Paralelelipedo(Rectangulo):\n",
    "    def __init__(self, base, altura, profundidad):\n",
    "        Rectangulo.__init__(self, base, altura)\n",
    "        self.profundidad = profundidad\n",
    "        \n",
    "    def area(self):\n",
    "        return 2 * (self.base * self.altura + self.base * self.profundidad + self.altura * self.profundidad)\n",
    "        \n",
    "    def volumen(self):\n",
    "        return self.base * self.altura * self.profundidad\n",
    "        \n",
    "    def __str__(self):\n",
    "        return f'Paralelepipedo(base={self.base}, altura={self.altura}, profundidad={self.profundidad})'\n",
    "\n",
    "    def __add__(self, otro):\n",
    "        return self.volumen() + otro.volumen()\n",
    "\n",
    "    def __sub__(self, otro):\n",
    "        return self.volumen() - otro.volumen()\n",
    "\n",
    "rect1 = Rectangulo(10, 15)\n",
    "print(rect1.area())          # 150\n",
    "rect2 = Rectangulo(20, 4)\n",
    "print(rect2.area())          # 80\n",
    "print(rect1-rect2)           # 70\n",
    "para1 = Paralelelipedo(9, 5, 2)\n",
    "print(para1.volumen())       # 90\n",
    "para2 = Paralelelipedo(7, 3, 5)\n",
    "print(para2.volumen())       # 105\n",
    "print(para1 + para2)         # 195\n",
    "print(rect1)                 # Rectangulo(base=10, altura=15)\n",
    "print(para1)                 # Paralelepipedo(base=9, altura=5, profundidad=2)"
   ]
  },
  {
   "cell_type": "markdown",
   "id": "5c16e7fa-aa8b-4e05-8c9f-6cf1453b642f",
   "metadata": {},
   "source": [
    "### Ejercicio 4"
   ]
  },
  {
   "cell_type": "markdown",
   "id": "8d256a89-1c46-4c99-85cf-98969a9fb10f",
   "metadata": {},
   "source": [
    "Diseñar una función **recursiva** denominada ```suma_diccionario_anidado``` que recorra un diccionario anidado y calcule la suma de todos los valores numéricos presentes en él. La función:\n",
    "\n",
    "1. Inicialmente recibirá un diccionario como argumento.\n",
    "2. Debe recorrer el diccionario, sumando aquellos valores que sean enterios, así como todos los que haya en sus estructuras anidadas (que pueden ser listas u otros diccionarios). A su vez, cualquier lista o diccionario puede incluir otras listas o diccionarios entre sus valores.\n",
    "3. Es decir, debe recorrer todas las estructuras anidadas que encuentre (listas o diccionarios) y devolver la suma total de los números enteros que haya en ellas. En el caso de los diccionarios, sumará los valores, ignorando las claves.\n",
    "\n",
    "(**Pista:** el parámetro de la función recursiva puede ser de tipos distintos).\n",
    "\n",
    "\n",
    "*Pruebas de verificacion*:\n",
    "\n",
    "```\n",
    "dic1 = {\n",
    "    'a': 5,\n",
    "    'b': {\n",
    "        'c': 10,\n",
    "        'd': [1, 2, {'e': 3}, [2, 3]]\n",
    "    },\n",
    "    'f': 4\n",
    "}\n",
    "\n",
    "suma_diccionario_anidado(dic1)\n",
    "30\n",
    "```"
   ]
  },
  {
   "cell_type": "code",
   "execution_count": 15,
   "id": "91e6b0e8-23f5-41ce-881d-660c2d9cecbd",
   "metadata": {},
   "outputs": [
    {
     "name": "stdout",
     "output_type": "stream",
     "text": [
      "30\n"
     ]
    }
   ],
   "source": [
    "# Precondición: sólo puede haber diccionarios y listas anidadas\n",
    "def suma_diccionario_anidado(dic1) -> int:\n",
    "    res = 0\n",
    "    if type(dic1) == dict:\n",
    "        for clave, valor in dic1.items():\n",
    "            if type(valor) == dict or type(valor) == list:\n",
    "                res += suma_diccionario_anidado(valor)\n",
    "            else:\n",
    "                res += valor\n",
    "    elif type(dic1) == list:\n",
    "        for e in dic1:\n",
    "            if type(e) == int:\n",
    "                res += e\n",
    "            else:\n",
    "                res += suma_diccionario_anidado(e)\n",
    "    else:\n",
    "        res += dic1\n",
    "    return res\n",
    "            \n",
    "\n",
    "dic1 = {\n",
    "    'a': 5,\n",
    "    'b': {\n",
    "        'c': 10,\n",
    "        'd': [1, 2, {'e': 3}, [2, 3]]\n",
    "    },\n",
    "    'f': 4\n",
    "}\n",
    "\n",
    "print(suma_diccionario_anidado(dic1))       # 30"
   ]
  },
  {
   "cell_type": "markdown",
   "id": "40e5b315-b733-447e-bea9-06bc8a2e9445",
   "metadata": {},
   "source": [
    "## Ejercicio 1"
   ]
  },
  {
   "cell_type": "markdown",
   "id": "f29db142-1b99-4424-bb77-4e353968a9ee",
   "metadata": {},
   "source": [
    "Implementar una función llamada `eliminar_espacios(frase)` que tome como parámetro una **frase** en forma de cadena de caracteres y devuelva esa misma frase **sin los espacios** (si los hay) entre las palabras.\n",
    "\n",
    "Pruebas de verificación:\n",
    "```\n",
    "eliminar_espacios(\"Galicia es hermosa\")\n",
    "Galiciaeshermosa\n",
    "\n",
    "eliminar_espacios(\"Me llevaré mi bicicleta!\")\n",
    "Mellevarémibicicleta!\n",
    "```"
   ]
  },
  {
   "cell_type": "code",
   "execution_count": 1,
   "id": "831fbcea-8f76-48e0-b39c-380cb747ed70",
   "metadata": {},
   "outputs": [
    {
     "name": "stdout",
     "output_type": "stream",
     "text": [
      "Galiciaeshermosa\n",
      "Mellevarémibicicleta!\n"
     ]
    }
   ],
   "source": [
    "def eliminar_espacios(frase: str) -> str:\n",
    "    f = frase.split()\n",
    "    return ''.join(f)\n",
    "\n",
    "print(eliminar_espacios(\"Galicia es hermosa\"))\n",
    "print(eliminar_espacios(\"Me llevaré mi bicicleta!\"))"
   ]
  },
  {
   "cell_type": "markdown",
   "id": "efdd9dc7-6214-4c7c-8bed-01dc58f3a080",
   "metadata": {},
   "source": [
    "## Ejercicio 2"
   ]
  },
  {
   "cell_type": "markdown",
   "id": "adc71cf8-5361-4d00-a29f-7626bc5c89ec",
   "metadata": {},
   "source": [
    "Escribir el código de la función `suma_sublista(L, i, j)` que toma tres parámetros: una **lista L** que contiene números, un **índice de inicio de cálculo i**, y un **índice de fin de cálculo j**. La función debe devolver la **suma de los números que se encuentran entre los índices i y j** de la lista, ambos inclusive. Puedes considerar que ```i``` y ```j``` son índices válidos para la lista ```L```.\n",
    "\n",
    "Pruebas de verificación:\n",
    "```\n",
    "suma_sublista([4, 10, 12, 16, 18], 2, 4)\n",
    "46\n",
    "\n",
    "suma_sublista([2, 4, 6, 8, 10, 12], 0, 2)\n",
    "12\n",
    "```"
   ]
  },
  {
   "cell_type": "code",
   "execution_count": 2,
   "id": "919e0bdb-70d6-4dfc-aa2b-8bb10ed09855",
   "metadata": {},
   "outputs": [
    {
     "name": "stdout",
     "output_type": "stream",
     "text": [
      "46\n",
      "12\n"
     ]
    }
   ],
   "source": [
    "def suma_sublista(L: list, i: int, j: int) -> int:\n",
    "    return sum(L[i: j + 1])\n",
    "\n",
    "print(suma_sublista([4, 10, 12, 16, 18], 2, 4))\n",
    "print(suma_sublista([2, 4, 6, 8, 10, 12], 0, 2))"
   ]
  },
  {
   "cell_type": "markdown",
   "id": "8c0507dd-d332-470d-b15c-eef3aa85dbb1",
   "metadata": {},
   "source": [
    "## Ejercicio 3"
   ]
  },
  {
   "cell_type": "code",
   "execution_count": 5,
   "id": "d3ccbf7d-2a62-467d-aac3-5ed9198a2fb4",
   "metadata": {},
   "outputs": [
    {
     "name": "stdout",
     "output_type": "stream",
     "text": [
      "150\n",
      "80\n",
      "70\n",
      "90\n",
      "105\n",
      "195\n",
      "Rectangulo(base=10, altura=15)\n",
      "Paralelepipedo(base=9, altura=5, profundidad=2)\n"
     ]
    }
   ],
   "source": [
    "class Rectangulo:\n",
    "    def __init__(self, base, altura):\n",
    "        self.base = base\n",
    "        self.altura = altura\n",
    "        \n",
    "    def area(self):\n",
    "        return self.base * self.altura\n",
    "        \n",
    "    def __str__(self):\n",
    "        return f'Rectangulo(base={self.base}, altura={self.altura})'\n",
    "\n",
    "    def __add__(self, otro):\n",
    "        return self.area() + otro.area()\n",
    "\n",
    "    def __sub__(self, otro):\n",
    "        return self.area() - otro.area()\n",
    "        \n",
    "class Paralelelipedo(Rectangulo):\n",
    "    def __init__(self, base, altura, profundidad):\n",
    "        Rectangulo.__init__(self, base, altura)\n",
    "        self.profundidad = profundidad\n",
    "        \n",
    "    def area(self):\n",
    "        return 2 * (self.base * self.altura + self.base * self.profundidad + self.altura * self.profundidad)\n",
    "        \n",
    "    def volumen(self):\n",
    "        return self.base * self.altura * self.profundidad\n",
    "        \n",
    "    def __str__(self):\n",
    "        return f'Paralelepipedo(base={self.base}, altura={self.altura}, profundidad={self.profundidad})'\n",
    "\n",
    "    def __add__(self, otro):\n",
    "        return self.volumen() + otro.volumen()\n",
    "\n",
    "    def __sub__(self, otro):\n",
    "        return self.volumen() - otro.volumen()\n",
    "\n",
    "rect1 = Rectangulo(10, 15)\n",
    "print(rect1.area())          # 150\n",
    "rect2 = Rectangulo(20, 4)\n",
    "print(rect2.area())          # 80\n",
    "print(rect1-rect2)           # 70\n",
    "para1 = Paralelelipedo(9, 5, 2)\n",
    "print(para1.volumen())       # 90\n",
    "para2 = Paralelelipedo(7, 3, 5)\n",
    "print(para2.volumen())       # 105\n",
    "print(para1 + para2)         # 195\n",
    "print(rect1)                 # Rectangulo(base=10, altura=15)\n",
    "print(para1)                 # Paralelepipedo(base=9, altura=5, profundidad=2)"
   ]
  },
  {
   "cell_type": "markdown",
   "id": "2cbea421-b57b-4f2b-b29d-57b9d8eadfcd",
   "metadata": {},
   "source": [
    "Diseñar una función **recursiva** denominada ```suma_diccionario_anidado``` que recorra un diccionario anidado y calcule la suma de todos los valores numéricos presentes en él. La función:\n",
    "\n",
    "1. Inicialmente recibirá un diccionario como argumento.\n",
    "2. Debe recorrer el diccionario, sumando aquellos valores que sean enterios, así como todos los que haya en sus estructuras anidadas (que pueden ser listas u otros diccionarios). A su vez, cualquier lista o diccionario puede incluir otras listas o diccionarios entre sus valores.\n",
    "3. Es decir, debe recorrer todas las estructuras anidadas que encuentre (listas o diccionarios) y devolver la suma total de los números enteros que haya en ellas. En el caso de los diccionarios, sumará los valores, ignorando las claves.\n",
    "\n",
    "(**Pista:** el parámetro de la función recursiva puede ser de tipos distintos).\n",
    "\n",
    "\n",
    "*Pruebas de verificacion*:\n",
    "\n",
    "```\n",
    "dic1 = {\n",
    "    'a': 5,\n",
    "    'b': {\n",
    "        'c': 10,\n",
    "        'd': [1, 2, {'e': 3}, [2, 3]]\n",
    "    },\n",
    "    'f': 4\n",
    "}\n",
    "\n",
    "suma_diccionario_anidado(dic1)\n",
    "30\n",
    "```"
   ]
  },
  {
   "cell_type": "code",
   "execution_count": 9,
   "id": "83ce167a-00f1-4b8d-b113-2df28d8e24a9",
   "metadata": {},
   "outputs": [
    {
     "name": "stdout",
     "output_type": "stream",
     "text": [
      "30\n"
     ]
    }
   ],
   "source": [
    "# Precondición: sólo puede haber diccionarios y listas anidadas\n",
    "def suma_diccionario_anidado(dic1) -> int:\n",
    "    res = 0\n",
    "    if type(dic1) == dict:\n",
    "        for clave, valor in dic1.items():\n",
    "            if type(valor) == dict or type(valor) == list:\n",
    "                res += suma_diccionario_anidado(valor)\n",
    "            else:\n",
    "                res += valor\n",
    "    elif type(dic1) == list:\n",
    "        for e in dic1:\n",
    "            if type(e) == int:\n",
    "                res += e\n",
    "            else:\n",
    "                res += suma_diccionario_anidado(e)\n",
    "    else:\n",
    "        res += dic1\n",
    "    return res\n",
    "            \n",
    "\n",
    "dic1 = {\n",
    "    'a': 5,\n",
    "    'b': {\n",
    "        'c': 10,\n",
    "        'd': [1, 2, {'e': 3}, [2, 3]]\n",
    "    },\n",
    "    'f': 4\n",
    "}\n",
    "\n",
    "print(suma_diccionario_anidado(dic1))       # 30"
   ]
  },
  {
   "cell_type": "code",
   "execution_count": null,
   "id": "e3d146d4-08cc-4f1b-91ab-8c96293cf78b",
   "metadata": {},
   "outputs": [],
   "source": []
  }
 ],
 "metadata": {
  "kernelspec": {
   "display_name": "Python [conda env:base] *",
   "language": "python",
   "name": "conda-base-py"
  },
  "language_info": {
   "codemirror_mode": {
    "name": "ipython",
    "version": 3
   },
   "file_extension": ".py",
   "mimetype": "text/x-python",
   "name": "python",
   "nbconvert_exporter": "python",
   "pygments_lexer": "ipython3",
   "version": "3.12.7"
  }
 },
 "nbformat": 4,
 "nbformat_minor": 5
}
