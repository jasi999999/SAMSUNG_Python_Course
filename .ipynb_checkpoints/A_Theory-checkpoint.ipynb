{
 "cells": [
  {
   "cell_type": "markdown",
   "id": "d98dc9e3-182a-46c4-af2f-ade6187a58dc",
   "metadata": {},
   "source": [
    "# Python Introduction Course (Theory)\n",
    "- sespana@dsic.upv.es (Salvador España)\n",
    "- vahuir@dsic.upv.es (Vicent Ahuir)\n",
    "- jpalanca@dsic.upv.es (Javier Palanca)\n",
    "- aterrasa@dsic.upv.es (Andrés Martén Terrasa)\n",
    "- Elena Díaz-Alejo (Responsable de Samsung)\n",
    "\n",
    "#### Check function\n",
    "- **Shift + Tab**: shows function use cases\n",
    "- https://pythontutor.com/: to **see** compilation and object relationships, debugging.\n",
    "- https://docs.python.org/3/: Python documentation."
   ]
  },
  {
   "cell_type": "markdown",
   "id": "4a745993-36f8-41bf-921f-a5cd44e5400d",
   "metadata": {},
   "source": [
    "## Introduction"
   ]
  },
  {
   "cell_type": "markdown",
   "id": "c15cadfd-e18e-402b-a73c-67e46d22f5b7",
   "metadata": {
    "jp-MarkdownHeadingCollapsed": true
   },
   "source": [
    "### Libraries"
   ]
  },
  {
   "cell_type": "markdown",
   "id": "a597a388-6195-40c7-aee7-2593a2f9554c",
   "metadata": {},
   "source": [
    "Las libraries populares de Python e IA son:\n",
    "\n",
    "- pandas:\n",
    "- numpy:\n",
    "- tensorflow:\n",
    "- pytorch:\n",
    "- keras:\n",
    "- matplotlib:\n",
    "- scikit-learn:\n",
    "- theano:\n",
    "- orange3:\n",
    "- scipy:"
   ]
  },
  {
   "cell_type": "markdown",
   "id": "98ffccc1-b261-4ce6-bc8b-de09982f159f",
   "metadata": {
    "jp-MarkdownHeadingCollapsed": true
   },
   "source": [
    "## Chapter 1. Basic concepts and starting with Python"
   ]
  },
  {
   "cell_type": "markdown",
   "id": "08ad08cb-f882-4731-8550-d78b07dffad1",
   "metadata": {},
   "source": [
    "### Unit 1. Sequential programming"
   ]
  },
  {
   "cell_type": "markdown",
   "id": "b8c2a1a7-3fdb-4b83-8928-09722b85876e",
   "metadata": {},
   "source": [
    "- Terminology and glossary (**Python documentation**).\n",
    "- Expression: code fragment that produces a value (`3 + 4`, `x * 2`, `len(\"hola\")`, ...).\n",
    "- Statement (sentencia): instruction to be executed (`x = 2 * 3`).\n",
    "- Program: sequence of expressions to execute.\n",
    "- **Comments**:\n",
    "  - Line comments `#`.\n",
    "  - Multiline with `\"\"\" \"\"\"` or `''' '''`.\n",
    "- **Reserved** words:\n",
    "  - Typical: `False`, `None` (`Null`), `True`, `and`, `break`, `continue`, `def`, `elif`, `else`, `except` (`catch`), `finally`, `for`, `from`, `global`, `if`, `import`, `in`, `is`, `lambda`, `nonlocal`, `not`, `or`, `pass`, `return`, `try`, `while`, `with`.\n",
    "  - Atypical: `as`, `assert`, `class`, `del`, `raise`, `yield`.\n",
    "  - ***De facto*** reserved (can be used as a variable but will be `@Override`): `input`.\n",
    "- **Basics**:\n",
    "  - Function **`print()`**: normal, has a `\\n` at the end, `''' x '''` preserves the jump line and `\\` takes them off; with `,` puts together different data types and adds a space.  \n",
    "    With `*`, you can repeat n times the strings and print a function that returns the position of the memory in which the function is located (`print(input)`)."
   ]
  },
  {
   "cell_type": "code",
   "execution_count": 1,
   "id": "cc5d80a0-55be-4974-94fd-3e03f331ff8d",
   "metadata": {},
   "outputs": [
    {
     "name": "stdout",
     "output_type": "stream",
     "text": [
      "Hello Hello 10\n",
      "Hello\n",
      "Hello2Hello3\n",
      "600 HHHH\n",
      "Hello 50\n",
      "***************************\n",
      "Hello B Hell B Herawww\n",
      "---------------------------\n",
      "<bound method Kernel.raw_input of <ipykernel.ipkernel.IPythonKernel object at 0x0000019ED305F8F0>>\n",
      "Hola \"mundo\"\n",
      "Hola 'mundo'\n"
     ]
    }
   ],
   "source": [
    "print('Hello', \"Hello\", 10, )                               # \" \", ' '\n",
    "print('''Hello\n",
    "Hello2\\\n",
    "Hello3''')                                                  # Print Multilinea\n",
    "print(20 * 30, \"H\" * 4)                                     # Multiplicar string\n",
    "print(\"Hell\" + \"o\", 20 + 30)                                # Sumar string\n",
    "print(\"***************************\")                        # Decoration\n",
    "print(\"Hello\", \"Hell\", \"He\", sep = \" B \", end = \"rawww\\n\")  # Modificar separador, final\n",
    "print(\"---------------------------\")                        # Decoration\n",
    "print(input)                                                # Devuelve pos en memoria de función\n",
    "print(\"Hola \\\"mundo\\\"\")                                     # Uso de escape sequence \"\\\"\n",
    "print(\"Hola 'mundo'\")                                       # Uso de \"\" con ''"
   ]
  },
  {
   "cell_type": "markdown",
   "id": "8686798e-b671-4e42-b5f0-2ba669b95f17",
   "metadata": {},
   "source": [
    "- Pythonic Coding: **PEP 8** or *Google's Python Style Guide*.\n",
    "- Classic code layout with **indentation control** (`1 tab = 4 spaces`, **careful**).\n",
    "- Naming convention: variables with **snake** (`hello_world`), class with **Pascal** (`HelloWorld()`).\n",
    "- Identifiers: english chars, underscores (`_`), key word + other word.\n",
    "  - Double underscores to declare a non public variable, override, ... **careful**.\n",
    "- Differentiate between `' '` and `\" \"`.\n",
    "- Errors: typical. Resolution with: `try/except` (same as `try/catch`)."
   ]
  },
  {
   "cell_type": "markdown",
   "id": "5ec6465b-e96a-4cba-8b0d-4b8534c49aba",
   "metadata": {},
   "source": [
    "### Unit 2. Key Concept"
   ]
  },
  {
   "cell_type": "markdown",
   "id": "43f2e6b5-b5f0-4fae-a75d-939b8f01dfcf",
   "metadata": {},
   "source": [
    "- Algorithm definition\n",
    "- **Pseudocode**: definition, use cases and flowchart  \n",
    "  - Start/end, preparation, action/process, decision, input/output, document, on-page connector, flow arrow.\n",
    "- **Python Software Foundation**: to get great Python project examples, tutorial page and documentation.\n",
    "- `W3Schools`\n",
    "- `StackOverflow`"
   ]
  },
  {
   "cell_type": "markdown",
   "id": "e3feb4c3-2c84-4cf8-a1ba-65340613da86",
   "metadata": {},
   "source": [
    "### Unit 3. Basic Numeric Data Types and Arithmetic Operations"
   ]
  },
  {
   "cell_type": "markdown",
   "id": "3d6ace7e-b1da-4466-a72e-5b03b4319212",
   "metadata": {},
   "source": [
    "- **Operators**: `+`, `-`, `*`, `/`, `//`, `%`, `**`.\n",
    "- Typical **DataTypes**: `int`, `float`, `complex`, `str`, `bool`, `list`, `tuple`, `dict`, `NoneType`.\n",
    "  - Examples: `4 + 3j`, `[10, 20]`, `(10, 20)`, `{'name': 'D', 'age': 23}`, `a = None`\n",
    "- Function: `type()`\n",
    "- Normal operators preference: `*`, `/` over `+`, `-`\n",
    "  - Order: `()`, `**`, `~`, `+`, `-` (monadic), `*`, `/`, `%`, `//`, `+`, `-`, `>>`, `<<`, `&`, `^`, `|`, `<=`, `<`, `>`, `>=`, `==`, `!=`, `=`, `%=` , `/=`, `+=`, `*=`, *(nonexistent)* `++`, `is`, `is not`, `in`, `not in`, `not`, `or`, `and`\n",
    "  - Function: `str()`\n",
    "  - Function: `int()`\n",
    "  - Function: `input()`\n",
    "- String indexing: `my_string[0]`"
   ]
  },
  {
   "cell_type": "code",
   "execution_count": null,
   "id": "ce7e7ac8-aba2-498d-b019-c8cbe2f5b980",
   "metadata": {},
   "outputs": [],
   "source": [
    "print(10, int(\"10\"), str(10), type(10))\n",
    "print(\"hello\"[0], \"hello\"[1] ,\"hello\"[-1])"
   ]
  },
  {
   "cell_type": "markdown",
   "id": "f32afe67-aef9-497e-8937-66552cad87e2",
   "metadata": {},
   "source": [
    "### Unit 4. Variables and Input"
   ]
  },
  {
   "cell_type": "markdown",
   "id": "142e5c03-0c04-4bf8-8201-99547b1f17c7",
   "metadata": {},
   "source": [
    "- Variables save the reference to object in memory, therefore, `x = 5` and `y = x`, both point to the same object.\n",
    "- `import keyword; print(keyword.kwlist)`: prints keyword list.\n",
    "- Naming convention: use **describing names** for variables.\n",
    "- Simultaneous and multiple assignment: `x, y = 100, 200`\n",
    "- Compound Assignment Operators: `+=`, `-=`, ...\n",
    "- Arithmetic Operators: `+`, `-`, ...\n",
    "- `ZeroDivisionError`: `3 / 0`\n",
    "- Cannot assign to literal: `300 = 300`\n",
    "- `ValueError`: when user puts `\"two\"` on `input()`.\n",
    "- Function **`object.isdigit()`**: to check if all elements in string are numbers before conversion to int."
   ]
  },
  {
   "cell_type": "code",
   "execution_count": null,
   "id": "5c36653d-c95f-45a7-b2dc-3ee60c14c733",
   "metadata": {},
   "outputs": [],
   "source": [
    "import keyword\n",
    "\n",
    "print(keyword.kwlist.pop())\n",
    "x4, y4 = 100, 200\n",
    "z4 = a4 = b4 = i4 = 50\n",
    "i4 += 1\n",
    "print(x4, y4, z4, a4, b4, i4)"
   ]
  },
  {
   "cell_type": "markdown",
   "id": "46fcb8cb-75ae-46d8-8498-aab72f725e1c",
   "metadata": {},
   "source": [
    "### Unit 5. Boolean Datatypes, Comparison and Logical Operators"
   ]
  },
  {
   "cell_type": "markdown",
   "id": "dedc6991-434a-457b-819b-f15f327fe132",
   "metadata": {},
   "source": [
    "- **Bool** operator: `1 === True === 'h' === bool(-1)`, `0 === False === '' === None === []`.\n",
    "- Comparison operators: typical ones.\n",
    "- Function **`is`**: checks that both objects are the same value and the **same object**.\n",
    "- Function **`in`**: checks if `x` is in `y` (it's a more efficient for loop).\n",
    "- Classical `if` statement with `pass` when empty instruction wanted.\n",
    "- Changed Operators Error: `=<`\n",
    "- Logical operators: `and`, `or`, `not`.\n",
    "- Operation order: typical."
   ]
  },
  {
   "cell_type": "code",
   "execution_count": null,
   "id": "6f0cc9ef-5f4f-4699-b998-ce51978aae07",
   "metadata": {},
   "outputs": [],
   "source": [
    "print(bool(-1), bool(0), bool(True), bool(None), bool([10]), bool(\"h\"))\n",
    "a5 = 1\n",
    "b5 = 1.0\n",
    "c5 = 1\n",
    "d5 = False\n",
    "print(\"mmm\", a5 is b5, a5 is c5, a5 == b5)\n",
    "print('aa' in 'a-bb-aa', \"OK\")\n",
    "if (True):\n",
    "    pass\n",
    "if (not d5):\n",
    "    print(\"H\")"
   ]
  },
  {
   "cell_type": "markdown",
   "id": "56ef2cd9-e93c-4072-8751-43051f4fa970",
   "metadata": {},
   "source": [
    "### Unit 6. Conditional statements-1"
   ]
  },
  {
   "cell_type": "markdown",
   "id": "9cc68fa5-dfce-4aca-87a3-5c63b7fa3fa5",
   "metadata": {},
   "source": [
    "- **if** statement: typical flow control.\n",
    "- **elif** statement: typical else if.\n",
    "- **Attention to indentation**.\n",
    "- `IndentationError`: expects an instruction inside `if` (occurs when next instruction not indented, so it \"thinks\" the `if` is empty). Solve with a `pass`.\n",
    "- Wrong indentation: instead of 0/4 spaces, 3/2/5... Must be identical for the same block.\n",
    "- Indentation with **4 spaces**.\n",
    "- Function **`object.split()`**: divides string into list without the given `@param`. Default parameter (empty) is `\" \"`, but any `@param` can be given. It gives both sides of the given parameter. Attention to the exception shown."
   ]
  },
  {
   "cell_type": "code",
   "execution_count": null,
   "id": "b980f5d6-ad31-4aad-93fc-8773ca84a2d9",
   "metadata": {},
   "outputs": [],
   "source": [
    "string1 = \" skns sarf asrf la\"\n",
    "print(string1.split())\n",
    "print(string1.split(\"la\"))\n",
    "print(\" \".split())\n",
    "print(\"\".split(\" \"))\n",
    "print(\" \".split(\" \"))"
   ]
  },
  {
   "cell_type": "markdown",
   "id": "10419676-4523-424c-ac28-3d8abe03d99f",
   "metadata": {},
   "source": [
    "### Unit 7. Conditional statements-2"
   ]
  },
  {
   "cell_type": "markdown",
   "id": "44e220fb-67f2-4ddd-b6cf-bd5fdd8af541",
   "metadata": {},
   "source": [
    "- **`else`**: typical.\n",
    "- **Nested** `if/else`: typical.\n",
    "- **Comparison** and **logical** operators: typical.\n",
    "- **`random`** module: show `random` and `randint(range_start, range_end)`."
   ]
  },
  {
   "cell_type": "code",
   "execution_count": null,
   "id": "bb9ba3be-e4da-4942-b0d6-f282810468de",
   "metadata": {},
   "outputs": [],
   "source": [
    "# Small coin toss probability game (Law of Large numbers: more trials gets you closer to theoretical probability)\n",
    "import random\n",
    "\n",
    "count = [0, 0]\n",
    "for i in range (1, 100001):\n",
    "    number = random.randint(1,100)\n",
    "    even_odd = number % 2 == 0\n",
    "    if even_odd:\n",
    "        count[even_odd] += 1\n",
    "    else:\n",
    "        count[even_odd] += 1\n",
    "\n",
    "print(count[0] / 100000, count[1] / 100000)"
   ]
  },
  {
   "cell_type": "markdown",
   "id": "ef6557a6-b913-4c2c-91e6-ff441a55bfd8",
   "metadata": {},
   "source": [
    "### Unit 8. Loop-1"
   ]
  },
  {
   "cell_type": "markdown",
   "id": "65a999a4-ecbb-4c3c-baff-14ec55f6e61f",
   "metadata": {},
   "source": [
    "- **USE FOR LOOP WHEN REGULAR PASS THROUGH LOOP AND ALL ITERATIONS MUST GO THROUGH**.\n",
    "- `for(n)`: typical. `n` is the control variable, if not used, better use an underscore (`_`).\n",
    "- Function `range()`: explanation and use in loop. Use only for integers. For real numbers, better use `arange(wanted)` (in `numpy` module).\n",
    "- Function `sum()`: explained already (sumatory function). Careful not to `@Override` function, it's de facto reserved.\n",
    "- For loop with iteration on list.\n",
    "- Function `split(string)`: converts string to list. Default: takes spaces as separator. Different separator is taken as the introduced `@param`.\n",
    "- Iterate on string.\n",
    "- String **formatting**:\n",
    "  - Separate with commas (there are added spaces between the commas).\n",
    "  - C/C++ style, `%d` for example: defined as archaic by teacher.\n",
    "  - Use of `{}` and at the end of string add `.format(number)`.\n",
    "    - `{:*n*d}`: creates n spaces for the number.\n",
    "    - `{:*n.m*f}`: creates n spaces and prints m digits below the decimal point.\n",
    "  - Put *f* before start of string and add the numbers in brackets (`{}`)."
   ]
  },
  {
   "cell_type": "code",
   "execution_count": null,
   "id": "a33ee064-5326-4b40-b9bb-2f2d843edcbd",
   "metadata": {},
   "outputs": [],
   "source": [
    "for i in range(5):\n",
    "    print(\"H\")                             # Example loop with range\n",
    "\n",
    "words = ['a', 'b', 'c']\n",
    "for w in words:                            # Example loop with iterated list\n",
    "    print(w)\n",
    "\n",
    "words2 = 'asdfaf'                          # Convert to string\n",
    "print(list(words2))\n",
    "\n",
    "for i in 'Hello':\n",
    "    print(i, end = \" \")\n",
    "                                           # Show formatting example\n",
    "print(\"\\nThe number {:10d} is an integer and {:16.3f} is a float\".format(100, 5.42978364))\n",
    "print(f\"The number {100:10d} is an integer and {5.2321:16.3f} is a float\")"
   ]
  },
  {
   "cell_type": "markdown",
   "id": "760bf0da-0af6-4909-b429-1f057af640aa",
   "metadata": {},
   "source": [
    "### Unit 9. Loop-2"
   ]
  },
  {
   "cell_type": "markdown",
   "id": "46aee817-820c-4972-944f-641e1513ca28",
   "metadata": {},
   "source": [
    "- **USE A WHILE LOOP WHEN IRREGULAR PASS OR NOT ALL ITERATIONS IN LOOP**.\n",
    "- `while`: typical.\n",
    "- Module `random`:\n",
    "  - `random()`: Generates random number between 0 and 1.\n",
    "  - `randrange(a)`: Returns a random number in the range (excluded end).\n",
    "  - `randint(a, b)`: Returns a random integer between a and b (included end).\n",
    "  - `shuffle(seq)`: Shuffles the elements of the list.\n",
    "  - `choice(seq)`: Selects a random item in the list.\n",
    "  - `sample()`: Chooses a random number of elements from the list.\n",
    "- `break` and `continue` instructions: typical. Try to avoid.\n",
    "- Nested loop: typical."
   ]
  },
  {
   "cell_type": "code",
   "execution_count": null,
   "id": "386e0ae6-8e02-4129-82bd-b1cc4454bd9f",
   "metadata": {},
   "outputs": [],
   "source": [
    "import random\n",
    "\n",
    "numbers = [1, 2, 3, 4]\n",
    "random.shuffle(numbers)                                                               # Shuffling \n",
    "sub_numbers = random.sample(numbers, 2)                                               # Taking a sample put of the lsit\n",
    "print(f\"Random numbers {random.random():4.4f}, {random.randrange(3)},\"\n",
    "      f\"{random.randint(1, 10)}, {numbers}, {random.choice(numbers)}, {sub_numbers}\")"
   ]
  },
  {
   "cell_type": "markdown",
   "id": "57dab75a-ff33-4d22-b4b8-7b0e29f2cd82",
   "metadata": {
    "jp-MarkdownHeadingCollapsed": true
   },
   "source": [
    "## Chapter 2. Python basics and sequence Data Types"
   ]
  },
  {
   "cell_type": "markdown",
   "id": "19470144-2dec-4c57-b87d-4a36ecac17c9",
   "metadata": {},
   "source": [
    "### Unit 10. List and Tuple Data Types"
   ]
  },
  {
   "cell_type": "markdown",
   "id": "f8f59b5f-c3d1-4c76-a835-c585f29aba1d",
   "metadata": {},
   "source": [
    "- **List**: hybrid between Java List and array[], so you have all the versatility of the array, the list and the object multiplicity. Typical array indexing.\n",
    "- **Slicing** functions: `[start, end, step]`. Stepping positive and negative (backwards), careful out of bounds (max. indexing is `len(list) - 1`). Even if negative slicing, we go from left to right, so in `a = [1, 2, 3]`, `a[:] == a[-3:-1]`.\n",
    "- Very important to diferenciate between **copying** and **referencing** the same object, as the change in a 2 times referenced object will be shown in both references. Shown below.\n",
    "- Function `list(range(1, n))`: to create a list o n numbers, as `range()` does not return a list, returns a different object.\n",
    "- Function `len(list)`: returns length of the string.\n",
    "- Function `list.append()`: typical. If you append a list into another, you create a sublist in the appended list.\n",
    "- Function `list.extend()`: adds at the end of the list (like joining lists).\n",
    "- Function `\" \".join(list)`: applied to strings (only), puts `' '` between objects in a list.\n",
    "- Function `insert(index, item)`: adds item to desired index.\n",
    "- Function `del list[x:y:z]`: deletes elements from a list, slicing can be used.\n",
    "- Function `list.pop(index)`: returns and eliminates from list and returns popped object. Default: from the end, or given index item.\n",
    "- Function `list.remove(item)`: Deletes the item in list once only. Error if item not found in list.\n",
    "- Operator `obj in list`: returns true si finds obj in list.\n",
    "- **Tuple**: same as List but immutable. If tuple type is int, can only be int, can't assign new val, can't delete. Use when want to assure that the List remains unchanged.\n",
    "- Function `min(list)`: returns minimum value in list.\n",
    "- Function `max(list)`: returns maximum value in list.\n",
    "- Function `any(list)`: returns True if at least one object diferent to `' '` or `0`.\n",
    "- Function `list.sort()`: sorts on ascending value. If descending is wanted, `@param = reverse = True`. Returns `None`.\n",
    "- A `[[]]` multiplied share the same reference.\n",
    "- Function `list.index(item)`: finds the first place of element given.\n",
    "- Function `list.count(item)`: typical, counting elements in list.\n",
    "- Function `reverse()`: reverses the elements of a list. Returns `None`."
   ]
  },
  {
   "cell_type": "code",
   "execution_count": null,
   "id": "73ca1932-46ca-4be9-8abb-7769264c0287",
   "metadata": {},
   "outputs": [],
   "source": [
    "def person(num, name):\n",
    "    if num == 2 and name == 'jesus':\n",
    "        return True\n",
    "    return False\n",
    "\n",
    "list0 = ['hello', 1234, person(2, 'jesus')]          # List with string, number, function that return a boolean\n",
    "list1 = list0\n",
    "list2 = list0[:]\n",
    "print(list1[0:-1], list2)\n",
    "\n",
    "a = list(range(1, 5))                                # Use of list + range functions\n",
    "b = a                                                # a, b, reference the same object\n",
    "c = a.copy()                                         # Copy function\n",
    "b.append('a')                                        # Append function\n",
    "c.append(c.copy())                                   # Append a copy of the array (creates a sub array): [1, 2, 3, [1, 2, 3]]\n",
    "del c[1:3]                                           # Function del + slicing\n",
    "print(a, b, c)\n",
    "a.extend(b[::-1])                                    # Reverse string and concatenates\n",
    "b.extend('b')\n",
    "print(a, b, c)\n",
    "c.append(a[1:5:1])                                   # String from first to fifth, \n",
    "print(a[::-1], b, c)                                 # Reverse list a before printing.\n",
    "a.remove(4)                                          # Deletes a '4'\n",
    "f = list(range(1, 5))\n",
    "g = [1, 324, 24, 23, 56, 3]\n",
    "g.sort(reverse = True)                               # sort() returns None\n",
    "print(g, min(f), max(f), any([]))                    # Sort worked, Min, max, any functions\n",
    "h = [[]] * 10\n",
    "h[0].append('h')                                     # All the copies share the same reference\n",
    "print(h)\n",
    "numeros = []\n",
    "for i in range(10):\n",
    "    numeros.append([i])                              # Right way\n",
    "print(numeros)\n",
    "numeros.append([4])\n",
    "print(numeros)\n",
    "print(numeros.index([4]))                            # Returns the first appearing posiiton of item\n",
    "numeros.reverse()\n",
    "print(numeros)                                       # Reverses the list items, returns None"
   ]
  },
  {
   "cell_type": "markdown",
   "id": "76f07574-1223-43f9-af89-b6ad06958ffc",
   "metadata": {},
   "source": [
    "### Unit 11. Dictionary Data Type"
   ]
  },
  {
   "cell_type": "markdown",
   "id": "64aaf3e5-667d-4f1e-92ce-ac314ab4aa79",
   "metadata": {},
   "source": [
    "- **Dictionary**: like Map in Java, uses a pair key-value. Declaration with `{}`.\n",
    "- `x in dict`: returns bool if `x` is a key in dictionary.\n",
    "- Insertion, modification: `dict['key'] = 'value'`. If key not in dict, makes a new entre K-V.\n",
    "- Deletion: `del dict['key']`. Cannot delete key inexistent in dictionary. Cannot delete through iteration process (dictionary changed sizes).\n",
    "- Function `len(dict)`, `word in dict`, `word not in dict`, `d1 == d2`, `d1 != d2`: same as List. Cannot do `>` or `<`.\n",
    "- Convert .json to dictionary: shown below. Important: use of `\" \"` around K-V pairs, use `loads(string)` for strings and `load(object)` for objects.\n",
    "- Convert dictionary to .json:\n",
    "  - Function with `exp1 as exp2`: to simplify expression (`with open() as ln`). Closes the file itself and handles exceptions.\n",
    "  - Function `open('file_name.extension', 'rwx')`: opens or creates file in chosen mode.\n",
    "  - Function `json.dump(dictionary, f, indent='chosen')`: to convert and write.\n",
    "- Function `dic.pop(clave)`: same as List, it returns and eliminates the item from the list/dict.\n",
    "- Formatting:\n",
    "  - `\"wrsfwer {} wrwr\".format(value_of_{})`: indicates the value in between `{}` at the end.\n",
    "  - `{0:n.mf}`: indicates the number `n` of spaces and `m` decimals to `f` (float).\n",
    "- Function `dic.get(clave, arg)`: looks for clave in dic. If not, returns `a` (default is None).\n",
    "- Function `dic.setdefault(clave, arg)`: same as `dic.get()` but modifies the dictionary adding the element."
   ]
  },
  {
   "cell_type": "code",
   "execution_count": null,
   "id": "5efc14e8-c759-48dc-992e-98cee5f8ea73",
   "metadata": {},
   "outputs": [],
   "source": [
    "d = {'key1' : 'hello', 'key2' : 23, 'key3' : ['phone', 625246111]}\n",
    "print(d['key1'], d['key2'], d['key3'])\n",
    "\n",
    "import json\n",
    "\n",
    "data = '{\"key1\": \"hello\", \"key2\": 23, \"key3\": [\"phone\", 625246111], \"En\": \"En\", \"un\": \"un\", \"lugar\": \"lugar\", \"de\": \"de\", \"la\": \"la\"}'\n",
    "json_data = json.loads(data)                # Loads data into dictionary\n",
    "print(json_data)\n",
    "\n",
    "with open('file_name.json', 'w') as f:      # with(). creates the file in writing mode (w)\n",
    "    json.dump(json_data, f, indent='\\t')    # Records json_data in file (f)"
   ]
  },
  {
   "cell_type": "markdown",
   "id": "90b43123-eca1-46d9-a8c2-a248ba9d1b36",
   "metadata": {},
   "source": [
    "### Unit 12. Sequence Data Type"
   ]
  },
  {
   "cell_type": "markdown",
   "id": "81dc3b62-47ae-4143-beca-b1cf6f4061ee",
   "metadata": {},
   "source": [
    "- Sequence Data Types: `string`, `list/tuple`, `range`\n",
    "- Function `in / not in`: return boolean if object is in seq.\n",
    "- Sequence + Sequence: concatenates both. Uses always the same type of sequence.\n",
    "- Range + Range: Convert to List or Tuple before!\n",
    "- Sequence * n: concatenates Sequence n times. Careful! It's the same thing.\n",
    "- Range * n: convert first.\n",
    "- Function `seq.count(item)`: counts items in Sequence.\n",
    "- Function `range.count()`: make `ran = range()` and operate with ran.\n",
    "- Sequence index: known already. Make ran variable again.\n",
    "- Slicing: same as with index. Use of ran again.\n",
    "- Function `ord(string)`: converts string to ASCII number.\n",
    "- Tuple: immutable.\n",
    "  - Definition: `var_name = tuple()`, `var_name = items`, `var_name = (items)`, `var_name = tuple(list)`. Careful with one-element tuples!\n",
    "  - Packing and unpacking + swapping: shown below.\n",
    "  - Function `sort(list)`: convert to list first, then `list.sort()`.\n",
    "  - Function `sorted(tuple)`: like before but converts automatically. Can do `tuple(sorted(tuple))`.\n",
    "- Function `list(sequence)`: converts to list.\n"
   ]
  },
  {
   "cell_type": "code",
   "execution_count": null,
   "id": "8a15b210-2ad1-4a8e-bc34-a8a2dbb976eb",
   "metadata": {},
   "outputs": [],
   "source": [
    "list1 = [11, 22, 33, 44, 55]\n",
    "print(list1 * 3)\n",
    "list2 = [3, list1.copy(), list1]          # Careful\n",
    "list3 = 2 * list1\n",
    "list1.pop()\n",
    "list3.pop()\n",
    "print(list1)\n",
    "print(list2)\n",
    "print(list3)\n",
    "print(list2[2] is list1)                  # Function \n",
    "tup = ([2])                               # one-element tuple is not a tuple\n",
    "print(type(tup))\n",
    "\n",
    "list4 = list('ssrfsvr')                   # Function list\n",
    "list5 = list(range(8))\n",
    "print(list4, list5)\n",
    "\n",
    "a, b = 3, 5                               # Unpacking\n",
    "a, b = b, a                               # Swapping\n",
    "print(a, b)"
   ]
  },
  {
   "cell_type": "markdown",
   "id": "fc5ddd8f-6bb2-48e5-9366-c97312e1ffd5",
   "metadata": {},
   "source": [
    "### Unit 13. Two-Dimensional Lists"
   ]
  },
  {
   "cell_type": "markdown",
   "id": "fc30fde0-ae1f-42f9-9c38-8f2c556ad91b",
   "metadata": {},
   "source": [
    "- Two dimensional lists: typical.\n",
    "- Indexing: can be done as `list[m][n]`.\n",
    "  - Unpacking is fine, but all variables must receive a val at all times. Solvable with a double for loop using in or indexes.\n",
    "- Function `var_name = copy.deepcopy(object)`: in separate parts of memory.\n",
    "- Jagged list: elements of list have different \"weight\" (different number of items).\n",
    "- Introduction to comprehension lists: Mathematica code writing style.\n",
    "  - If the comprehension list is not in `[]`, it becomes a generator object, which means it will not evaluate the values until asked to (similar to `range()`).\n",
    "- Function `string.capitalize()` and `string.upper()`: capitalize puts the first letter of the string in capital letters, upper does the same to all of them.\n",
    "- Function `repr(string)`: prints same as how Python interpreter sees it (example: printing '' for empty string).\n",
    "- `list[:]`: works on the given list, not a new list.\n",
    "- Function `list[i].append(item)`: appends item to the sublist in i location.\n",
    "- Files:\n",
    "  - Function `f = open('filename.txt', 'rwx')`: opens the given file with the given mode (`r` = read, `w` = write (creates or overwrites), `x` = exclusive creates file and opens to write (if created already gives error), `a` = append at the end, `+` = read/write at the same time, `t` = creates/opens a txt file (default mode to create a file), `b` = creates/opens a file in binary format).\n",
    "  - Function `f.close()`: closes the file. Not closing consumes resources.\n",
    "  - Function `f.write()`: writes on file.\n",
    "  - Function `f.read(char_num)` and `f.readline()`: reads all char numbers from the pointer location or just a line. If default, reads the whole document.\n",
    "  - Function `with open(a, b) as f:`: assures that the opened file will be closed at the end."
   ]
  },
  {
   "cell_type": "code",
   "execution_count": null,
   "id": "ff1272fd-f7fe-4266-bcf5-a2c82458c6c6",
   "metadata": {},
   "outputs": [],
   "source": [
    "# Jagged list example\n",
    "list1 = [1, 2, 3, 4, 5]\n",
    "list2 = []\n",
    "\n",
    "for i in list1:\n",
    "    line = []\n",
    "    for j in range(i):\n",
    "        line.append(j)\n",
    "    list2.append(line)\n",
    "list2[0].append(['hello',[0, 0]])                          # Appends tu sublist in i position\n",
    "print(list2)\n",
    "\n",
    "list3 = [10, 2345, 325, 12, 4, 3, 5, 6]\n",
    "print(list3)\n",
    "list4 = [x for x in list3 if x % 2 == 0 and x > 4]         # Comprehension list example with even numbers\n",
    "print(list4)\n",
    "list3 = \" \".join([str(x) for x in list3])                  # Comprehension list example with conversion to string\n",
    "print(list3)\n",
    "  \n",
    "list5 = list4.copy()\n",
    "print(id(list5))\n",
    "list5 = [x for x in list5 if x % 2 == 0]                   # Creates a new var \"list5\"\n",
    "print(id(list5))\n",
    "list5[:] = [x for x in list5 if x % 2 == 0]                # Replaces all values (start:end) with new thing\n",
    "print(id(list5), \"\\n\")\n",
    "\n",
    "f = open('hello.txt', 'w')                                 # Opens file to write (creates or overwrittes)\n",
    "f.write('Hello this is a txt file.\\n')\n",
    "f.write('Hello2 this is a second line.\\n')\n",
    "f.close()                                                  # Close file\n",
    "with open('hello.txt', 'r') as f:                          # Opens file to read\n",
    "    s = f.read(4)                                          # Reads 5 char\n",
    "    print(s)\n",
    "    s = f.readline()                                       # Reads a line\n",
    "    print(s)\n",
    "    s = f.readline()                                       # Reads all (from last pointer location)\n",
    "    print(s)"
   ]
  },
  {
   "cell_type": "markdown",
   "id": "1fd2e583-50bc-469f-ad92-37acff212e21",
   "metadata": {},
   "source": [
    "### Unit 14. Dictionary Method-1"
   ]
  },
  {
   "cell_type": "markdown",
   "id": "074407e6-e997-45c9-bead-f29e43eef094",
   "metadata": {},
   "source": [
    "- Library `collections`: to count with a dictionary\n",
    "- Function `dic.setdefault(key, val_default)`: sets a default value on the given key if it does not exist.\n",
    "- Function `dic.update(key, val)`: if key in dic, updates value. If it does not exist, it adds the pair. The pair key-value can be inside a tuple or list.\n",
    "- Function `dic.pop(key)`: typical elimination and returns value.\n",
    "- Function `dic.popitem()`: deletes and returns the last item (beware that dictionaries are not sorted).\n",
    "- Function `dic.clear()`: typical.\n",
    "- Function `dic.get(key, set_default)`: gets element or sets to default.\n",
    "- Functions `dic.keys()`, `dic.values()`, `dic.items()`: gets keys, vals or pair val-keys.\n",
    "- Function `string.split(string)`: seen already, splits string in list where given char appears.\n",
    "- Function `string.strip()`, `s.lstrip()`, `s.rstrip()`: deletes spaces before and after string or only left or right.\n",
    "- Function `string.join(list)`: seen already, joins list in string with given char.\n",
    "- Functions `string.lower()`, `s.upper()`, `s.capitalize()`: seen already.\n",
    "- Function `string.startswith(search_string, start, end)`, `s.endswith(s)`: returns boolean if condition satisfied. Can also use start and end parameters as indexes of given string.\n",
    "- Function `string.replace(search, replace)`: seen already, replaces the searched string for the replacing one."
   ]
  },
  {
   "cell_type": "code",
   "execution_count": null,
   "id": "57703a70-e188-446b-afb0-e2e3d9151b6b",
   "metadata": {},
   "outputs": [],
   "source": [
    "dic = {'a': 1, 'b': 2, 'c': 3}\n",
    "dic.setdefault('c', 4)                  # As 'c' is already set NO UPDATES\n",
    "dic.setdefault('d', 4)                  # As 'c' is not inside, sets in\n",
    "print(dic)"
   ]
  },
  {
   "cell_type": "markdown",
   "id": "b833adf1-5267-40d9-b50d-4182e97ca4b7",
   "metadata": {},
   "source": [
    "#### Apuntes Salva"
   ]
  },
  {
   "cell_type": "code",
   "execution_count": null,
   "id": "f8f09ee5-b16f-4456-a843-5059b64deb1c",
   "metadata": {},
   "outputs": [],
   "source": [
    "import collections\n",
    "\n",
    "cadena = 'aaaababbbbaaaacccdddeeeeaaa'\n",
    "d1 = {}\n",
    "for ch in cadena:\n",
    "    d1[ch] = d1.get(ch, 0) + 1\n",
    "print(d1)\n",
    "\n",
    "d2 = collections.Counter(cadena)                          # Creates a Counter dictionary\n",
    "print(d2)\n",
    "\n",
    "d3 = collections.defaultdict(int)                         # Makes a setdefault para with the arg. given\n",
    "for ch in cadena:\n",
    "    d3[ch] += 1                                           # If ch not in g, introduces a 0\n",
    "print(d3)\n",
    "\n",
    "print(max((y,x) for x,y in d3.items())[0])                 # Print the maximum amount of times an only char appears in the string\n",
    "\n",
    "d4 = {1:2, 3:4}\n",
    "otro = {1:100, 5:500}\n",
    "d4.update(otro, azul='blue')                              # Updates only the values of the given keys\n",
    "print(d4)\n",
    "\n",
    "a = 5\n",
    "print(f'El resultado es {a = }')\n",
    "\n",
    "def h(*posicionales, **con_nombre):\n",
    "    print(f'{posicionales=}')\n",
    "    print(f'{con_nombre}')\n",
    "h(1, 2, 3, azul = 'blue', rojo = 'red', end = ' ')        # Mete los posicionales en una tupla y los demás en diccionario"
   ]
  },
  {
   "cell_type": "markdown",
   "id": "b4f28833-e14f-448d-bff1-d21f06385fa2",
   "metadata": {},
   "source": [
    "### Unit 15 Dictionary Method-2"
   ]
  },
  {
   "cell_type": "markdown",
   "id": "2c536025-2100-49e9-9ed0-0761f0a4ce58",
   "metadata": {},
   "source": [
    "- Import `from collections import defaultdict`.\n",
    "- Function `dict.fromkeys(list, default)`: creates an empty dictionary from the given list of keys and puts the default value or None.\n",
    "- Cannot access value if not a key in dictionary.\n",
    "- Function `defaultdict(object)`: creates a dictionary with default value 0.\n",
    "- Printing dictionary: typical.\n",
    "- Double dictionary: similar to 2D-arrays.\n",
    "- Function `obj1 is obj2` and `obj.copy()`: typical.\n",
    "- Function `obj.deepcopy()`: to copy a double dictionary. Use with nested objects.\n",
    "- Function `dic.items()`, `dic.keys()`, `dic.values()`: typical.\n",
    "- Imports: `import module.class.method` or `from module import *` (second one does not need to write the module when calling methods or classes).\n",
    "- Module `datetime`: all necessary clock mechanisms.\n",
    "- Function `dir(module)`: returns all information known from a given module or class (such as classes, attributes, methods...).\n",
    "- Function `replace()`: used on the datetime module with the keywords month and day, for example.\n",
    "- Function `module as md`: used to abbreviate module names.\n",
    "- Module `math`: `fabs(n)` returns absolute number, `ceil(n)` and `floor(n)` round up or down to next integer, `exp(n)` returns E^x, `log(x)` natural logarithm, `log(n, base)` logarithm with base, `sqrt(n)` returns the square root, `sin(n)`, `asin(n)`, `cos(n)`, `acos(x)`, `tan(n)` classic trigonometry functions in radians, `degrees(n)` turns n angle from radians into degrees, `radians(n)` turns n angle from degrees to radians."
   ]
  },
  {
   "cell_type": "code",
   "execution_count": null,
   "id": "2abfb190-5df1-4789-a835-f4f50cb2abc8",
   "metadata": {},
   "outputs": [],
   "source": [
    "from collections import defaultdict\n",
    "import datetime\n",
    "\n",
    "keys = ['a', 'b', 'c', 'd', 'e']\n",
    "y = dict.fromkeys(keys, 100)\n",
    "print(y)\n",
    "\n",
    "y = defaultdict(int)\n",
    "print(y)\n",
    "\n",
    "print(datetime.datetime.now())\n",
    "print(dir(datetime))"
   ]
  },
  {
   "cell_type": "markdown",
   "id": "c0305b0f-7d2a-494d-b438-8b4717fc731a",
   "metadata": {},
   "source": [
    "### Unit 16. Set Data Types"
   ]
  },
  {
   "cell_type": "markdown",
   "id": "4b75496a-9dcc-417a-be32-ab71321de75b",
   "metadata": {},
   "source": [
    "- Data Type `set`: satisfies mathematical criteria and operations (such as union, intersection, ...), does not have repeated elements, empty one is defined as `set()`. It is not ordered (same as with dictionary, never assume it's ordered), use `sorted()`.\n",
    "- Function `set.add(elem)`: typical (adding an already-in-set elem gives no problem).\n",
    "- Function `set.remove(elem)`: typical (check if element not in set before deleting, otherwise: error).\n",
    "- Function `set.discard(elem)`: same as `remove()` but does not give error if element not in set before deletion.\n",
    "- Operator `&` (`intersection()`): typical math.\n",
    "- Operator `|` (`union()`): typical math.\n",
    "- Operator `-` (`difference()`): typical math.\n",
    "- Operator `^` (`symmetric_difference()`): typical math.\n",
    "- Several math operations can be concatenated and written in the form of `s1.operation(s2)`.\n",
    "- Function `set1.isdisjoint(set2)`: returns True if both sets have nothing in common (coprime: nothing in common but number 1).\n",
    "- Function `<`, `issubset()`: finds if a set is subset of given set.\n",
    "- Function `>`, `issuperset()`: finds if given set is superset of set.\n",
    "- Cartesian product `A x B`: using sets as matrices and operate as typical.\n",
    "- Functions `len(s1)`, `max(s1)`, `min(s1)`, `sorted(s1)`, `max(s1)`: typical.\n",
    "- Functions `all(s1)`, `any(s1)`: returns boolean depending on whether elements are all True or any is True. All the best from lazy evaluation, as these functions receive an Iterable Data Type, which does barely use memory.\n",
    "- Function `zip(iterables)`: returns a new tuple with the iterable element in each iteration as shown below until one of the iterables is emptied. Beware of making `zip` to a list, as it will return tuples of it."
   ]
  },
  {
   "cell_type": "code",
   "execution_count": null,
   "id": "19579821-8c06-439e-8b14-d2b7cd25dafd",
   "metadata": {},
   "outputs": [],
   "source": [
    "set0 = set()\n",
    "set1 = {1, 2, 3, 4}\n",
    "n_tuple = (1, 2, 3, 4)\n",
    "set2 = set(n_tuple)\n",
    "n_list = [1, 2, 3, 4]\n",
    "set3 = set(n_list)\n",
    "print(f\"{set1} {set2} {set3}\")\n",
    "set4 = {1, 2, 3, 4, 6, 7, 8, 9, 5}\n",
    "for element in sorted(set4):\n",
    "    print(element, end=\" \")\n",
    "print()\n",
    "\n",
    "import random\n",
    "\n",
    "s1 = {random.randint(1, 10) for _ in range(5)}\n",
    "s2 = {random.randint(1, 10) for _ in range(5)}\n",
    "print(s1, s2)\n",
    "\n",
    "union = s1 | s2\n",
    "diff = s1 - s2\n",
    "intersect = s1 & s2\n",
    "simm_diff = s1 ^ s2\n",
    "print(union, diff, intersect, simm_diff)\n",
    "print(union.issuperset(intersect), union > intersect, intersect.issubset(s1), intersect < s1, union == s1|s2)\n",
    "s3 = {1, 2, 3}\n",
    "s4 = {10, 20, 30}\n",
    "print(s3.isdisjoint(s4), \"\\n\")\n",
    "\n",
    "def AxB(A, B):\n",
    "    # Precondition: both given elements are sets.\n",
    "    res = set()\n",
    "    for i in A:\n",
    "        for j in B:\n",
    "            res = res | {(i, j)}\n",
    "    return res\n",
    "    \n",
    "A = {1, 2}\n",
    "B = {3, 4}\n",
    "C = AxB(A, B)\n",
    "print(A, B, sorted(C), \"\\n\")\n",
    "\n",
    "# Functions all and any are used because of thir ITERABLE INPUT, which does not use memory (all the best from lazy evaluation)\n",
    "ages = set([20, 21, 32, 18, 19, 25])\n",
    "print(all(age < 30 for age in ages),\n",
    "        any(age == 18 for age in ages), \"\\n\")\n",
    "\n",
    "# Function zip()\n",
    "keys = ['a', 'b', 'c', 'd']\n",
    "values = [1, 2, 3]\n",
    "mult = [1, 2, 3, 5]\n",
    "for a, b, c in zip(keys, values, mult):\n",
    "    print(a, b, c)\n",
    "print()\n",
    "\n",
    "# Example of enumerate function\n",
    "elements = ['aa', 'ab', 'ba', 'bb']\n",
    "for i, elem in zip(range(len(elements)), elements):\n",
    "    print(i, elem)\n",
    "print()"
   ]
  },
  {
   "cell_type": "markdown",
   "id": "eb5cab0f-6859-440d-9223-15029a00e2bc",
   "metadata": {
    "jp-MarkdownHeadingCollapsed": true
   },
   "source": [
    "## Chapter 3. Function, closure and class"
   ]
  },
  {
   "cell_type": "markdown",
   "id": "fccace3c-ea32-43c9-9bdd-b35ccd7e305c",
   "metadata": {},
   "source": [
    "### Unit 17. Function"
   ]
  },
  {
   "cell_type": "markdown",
   "id": "4edfc8ff-0943-4c51-8b76-802e53efac59",
   "metadata": {},
   "source": [
    "- Function structure: `def` keyword, name, args, return, ...\n",
    "- Arbitrary parameters: `def func(*args)` takes as many args as wanted.\n",
    "- Keyword parameters: defined with a default value but can be modified or specified if wanted, with or without a keyword (`div(n, 2)` or `div(n, m)`).\n",
    "- Return with several arguments: can be unpacked.\n",
    "- Pass-by-value, but careful with mutable types, such as `list` that may give lateral effects.\n",
    "- The asterisk is used to unpack items in functions or list as positional (in a tuple) or keyword items (in a dictionary).\n",
    "- Directive `nonlocal`: to access a non local variable (out of the function) which is not global. Can happen in nested functions.\n",
    "- String processing:\n",
    "  - Function `max(string)`: returns char with highest Unicode.\n",
    "  - Function `min(s)`: returns char with smallest Unicode.\n",
    "  - Function `ord(char)`: returns char Unicode.\n",
    "  - Function `chr(num)`: return the char of the given Unicode number.\n",
    "  - Function `s.count(sub_string)`: returns the number of occurrences.\n",
    "  - Function `s.find(sub_s)`: returns index where `sub_s` is found.\n",
    "  - Function `s.index(sub_string)`: returns index place where `sub_s` can be found.\n",
    "  - Function `s.startswith(sub_s)`: returns boolean.\n",
    "  - Function `s.endswith(sub_s)`: returns boolean.\n",
    "  - Functions `s.upper()`, `s.lower()`, `s.istitle()`: typical, change to upper, lower or capital letters.\n",
    "  - Function `s.swapcase()`: changes uppers to lowers and vice versa.\n",
    "- Module `string`:\n",
    "  - `module.ascii_uppercase`: returns a string with all the upper letters.\n",
    "  - `m.ascii_lowercase`: returns all lower letters.\n",
    "- Directive `global`: allows an outside of function variable to be called and modified from inside the function.\n",
    "- Variable local: in function and available only to function. If defined in function with the same name as a global variable it is a different one.\n",
    "- Directive `nonlocal`: to call an outside of function variable which is not global (nested functions probably).\n",
    "- Constants: defined with uppercase.\n",
    "- Format: typical, seen already.\n",
    "- If a variable is modified in the function, it is a local of the function, which means that if it needs to be read before being created, it will give an error."
   ]
  },
  {
   "cell_type": "code",
   "execution_count": null,
   "id": "86e01739-2c56-4c09-b7d5-2603ea51cc35",
   "metadata": {},
   "outputs": [],
   "source": [
    "c = 6\n",
    "def g(lista):\n",
    "    lista.append('hola')\n",
    "    b = lista.copy()\n",
    "    b.pop()\n",
    "    b.pop()\n",
    "    b.pop()\n",
    "    print('Ha cambiado')\n",
    "    global c                       # Modifies a GLOBAL VALUE\n",
    "    print(c)                       # Prints a value even if it is global\n",
    "    c = 5                          # This assignation is a GLOBAL assignation\n",
    "    print(c)\n",
    "    return b\n",
    "    \n",
    "a =[20, 30, 40]\n",
    "g(a)\n",
    "g(a)\n",
    "b = g(a)\n",
    "print(f\"Tras llamada {a=} y {b=}\")\n",
    "print(c, end=\"\\n\\n\")\n",
    "\n",
    "def h(a, b, *c):\n",
    "    print(a)\n",
    "    print(b)\n",
    "    print(*c)\n",
    "    return a, b, *c\n",
    "\n",
    "lista = [10, 20, 30]\n",
    "otra_lista = [10, 20, 30, *lista, 40, 50]         # Use an ASTERISK to unpack items in list\n",
    "a, b, c, d, *e = h(*otra_lista)                   # Use an ASTERISK to unpack items in function call and in given param\n",
    "print(a, b, c, d, e, \"\\n\")\n",
    "class A:\n",
    "    def f(self):\n",
    "        print(\"Soy método de A\")\n",
    "\n",
    "class B:\n",
    "    def f(self):\n",
    "        print(\"Soy método de B\")\n",
    "\n",
    "a = A()\n",
    "b = B()\n",
    "\n",
    "for objeto in [a, b, a, b]:\n",
    "    objeto.f()\n",
    "\n",
    "b = 0\n",
    "def functionen():\n",
    "    b += 1\n",
    "    return b\n",
    "    \n",
    "# functionen() gives an error as lecture happens before variable is read\n",
    "\n",
    "def fun(a, *b, **c):\n",
    "    print(a, b, c)\n",
    "\n",
    "fun(1, 2, 3, c=4, d=5)                         # Valor inicial necesario, el resto en posicionales, los keywords van al diccionario"
   ]
  },
  {
   "cell_type": "code",
   "execution_count": null,
   "id": "41c6c583-c651-4c1a-9842-37111a0e7d83",
   "metadata": {},
   "outputs": [],
   "source": [
    "import random\n",
    "random.randint(10, 20)"
   ]
  },
  {
   "cell_type": "code",
   "execution_count": null,
   "id": "44ef1f6c-cb5a-40a0-a715-d80558ad450e",
   "metadata": {},
   "outputs": [],
   "source": [
    "from random import *\n",
    "randint(10, 20)"
   ]
  },
  {
   "cell_type": "markdown",
   "id": "fc3bc9d9-27df-4a64-9392-24f545a182a4",
   "metadata": {},
   "source": [
    "### Unit 18. Recursion Function Call"
   ]
  },
  {
   "cell_type": "markdown",
   "id": "077a1e2f-995b-4f9e-9f26-36bcb109bed9",
   "metadata": {},
   "source": [
    "- Typical recursion **Divide & Conquer** strategies (base case and problem reduction). Simple code that may be faster in recursive search (such as finding a number in an array, looking into the better halves).\n",
    "- Memoization with dictionaries: the already executed costly recursions are saved so there is no need to recalculate them. Has to be manually implemented.\n",
    "- Built-in functions (black boxes): some return something, others nothing (like `sort()`), ...\n",
    "  - `abs`, `dict`, `help`, `min`, `setattr`, `all`, `dir`, `hex`, `next`, `slice`, `any`, `divmod`, `id`, `object`, `sorted`, `ascii`, `enumerate`, `input`, `oct`, `staticmethod`, `bin`, `eval`, `int`, `open`, `str`, `bool`, `exec`, `isinstance`, `ord`, `sum`, `bytearray`, `filter`, `issubclass`, `pow`, `super`, `bytes`, `float`, `iter`, `print`, `tuple`, `callable`, `format`, `len`, `property`, `type`, `chr`, `frozenset`, `list`, `range`, `vars`, `classmethod`, `getattr`, `locals`, `repr`, `zip`, `compile`, `globals`, `map`, `reversed`, `__import__`, `complex`, `hasattr`, `max`, `round`, `delattr`, `hash`, `memoryview`, `set`."
   ]
  },
  {
   "cell_type": "code",
   "execution_count": null,
   "id": "cacdc54f-2d50-4a19-983d-c5394ecd5acf",
   "metadata": {},
   "outputs": [],
   "source": [
    "from timeit import *\n",
    "\n",
    "def fib(n):\n",
    "    if n == 0:\n",
    "        return 1\n",
    "    elif n == 1:\n",
    "        return 1\n",
    "    else: \n",
    "        return fib(n - 1) + fib(n - 2)\n",
    "\n",
    "d = {0: 1, 1: 1}\n",
    "def fib_memo(n):\n",
    "    if n in d:\n",
    "        return d[n]\n",
    "    \n",
    "    d[n] = fib_memo(n - 1) + fib_memo(n - 2)\n",
    "    return d[n]\n",
    "\n",
    "t1 = Timer('fib(35)', globals=globals())\n",
    "t2 = Timer('fib_memo(35)', globals=globals())\n",
    "\n",
    "print(\"fib con memo:\", t2.timeit(number=1), \"segundos\")\n",
    "print(\"fib sin memo:\", t1.timeit(number=1), \"segundos\")"
   ]
  },
  {
   "cell_type": "markdown",
   "id": "ab0dc2bd-1a8d-4457-af3f-793b7426229e",
   "metadata": {},
   "source": [
    "### Unit 19. Lambda"
   ]
  },
  {
   "cell_type": "markdown",
   "id": "e8def67b-de9a-4745-98a0-bfa7187de81d",
   "metadata": {},
   "source": [
    "- Function `lambda`: `(lambda param: function)(arguments)`. The lambda function can be evaluated immediately adding a parenthesis with the given values.\n",
    "- Function `filter(function, *iterable)`: applies a function to all elements and takes them out if they don't satisfy the function (bool return is False).\n",
    "- Function `map(f, *iterable)`: applies a function to all elements. If-else conditions can be applied.\n",
    "- Function `reduce(f, *iterable)`: applies a function repeatedly through the iterable. Get `from functools import reduce`.\n",
    "- Combinations of `map()` and `filter()` are possible.\n",
    "- Errors can be detected by a name and HIERARCHICALLY.\n",
    "- Iterator object: if you run through it a second time, it won't work as it is already at the end. It is what Python uses to run through an iterable object.\n",
    "- Function `iter(i)`: checks whether an object is iterable or not.\n",
    "- Function `next(iterator_reference or generator, default_val)`: will show the next object inside an iterable object or a default value if out of range.\n",
    "- Dunder methods `__next__()` (double underscore): are 'magical' methods inside the function. Can be called directly when doing `a = iter(); a.__next__()` but should be avoided. \n",
    "- Generator object: is an intentional list but instead of `[]` you use `()` and instead of generating a list, it generates an iterator, so after running through it will disappear. Also, it calculates every value at the time of calling `next()`!! Values are not precalculated.\n",
    "- Exception handling with try-except clauses: typical try-catch will handle the exception and return back to try code block. Except clauses can be concatenated and have an else (for all rest exceptions) like elif expressions to handle diverse types of exceptions. Directive `finally` will always be executed at the end of the try-except.\n",
    "- Directive `bar (/)`: all parameters before the bar must be positional.\n",
    "- Directive asterisk `(*)`: all parameters after asterisk must be keyword.\n",
    "- Optional arguments are keyword only (mostly, I guess).\n",
    "- Functions `all()`, `any()`: return bool if all or any elements are True."
   ]
  },
  {
   "cell_type": "code",
   "execution_count": null,
   "id": "d5515ec0-e3b4-4921-b58c-012c66319666",
   "metadata": {},
   "outputs": [],
   "source": [
    "sign = lambda x: 'positive' if x > 0 else ('zero' if x == 0 else 'negative')\n",
    "print(sign(-5), sign(10), sign(0), end='\\n\\n')\n",
    "\n",
    "lst = [(2, 10), (5, 10), (3, 9), (2, 4)]\n",
    "# Orders the tuples by the result of the given expression\n",
    "# key would be the first element of the tuple\n",
    "sorted_list = list(sorted(lst, key=lambda t: abs(t[0] - t[1])))\n",
    "print(lst)\n",
    "print(sorted_list, end=\"\\n\\n\")\n",
    "\n",
    "def suma(a, b, /, c, *, d, e):              # c can be passed by position or keyword\n",
    "    return print(a, b, c, d, e)\n",
    "\n",
    "suma(3, 4, 5, d=6, e=7)\n",
    "suma(3, 4, c=5, d=6, e=7)\n",
    "print()\n",
    "\n",
    "lst = [3, 2, 4, 5, 2, 8, 10]\n",
    "print(lst)\n",
    "lst2 = list(filter(lambda x: x < 5, lst))   # Remember to pass to list\n",
    "print(lst2, end=\"\\n\\n\")\n",
    "\n",
    "lst3 = [(1, 2), (3, 4), (2, 6), (1, 1)]\n",
    "print(dict(lst3))                           # Creates a dictionary from a list of 2-element tuples\n",
    "print(list(filter(lambda x: x[0] + x[1] > 3, lst3)))\n",
    "print(list(filter(lambda x: sum(x) > 3, lst3)), end=\"\\n\\n\")\n",
    "\n",
    "lst4 = [3, 2, 4, 5, 2, 8, 10]\n",
    "print(list(filter(lambda x: x > 10, map(lambda x: x**2 if x % 2 == 0 else x, lst4))), end=\"\\n\\n\")\n",
    "\n",
    "from functools import reduce as r\n",
    "lst5 = [3, 2, 4, 5, 2, 8, 10]\n",
    "print(r(lambda acc, x: acc + x, lst5), end=\"\\n\\n\")\n",
    "\n",
    "i = iter([10, 20, 30])\n",
    "for x in i:\n",
    "    print(x, end=' ')\n",
    "for x in i:                                 # Iterator has arrived to end so it does not print again.\n",
    "    print(x)\n",
    "print()\n",
    "    \n",
    "lista = [10, 20, 30]\n",
    "i1 = iter(lista)                            # i1 runs lista at a different pace than i2\n",
    "i2 = iter(lista)\n",
    "print(i1 is i2)\n",
    "next(i1)\n",
    "print(next(i1), end=' '); print(next(i2))\n",
    "print(next(i1), end=\"\\n\\n\")\n",
    "\n",
    "lista = ['esto', 'es', 'una', 'lista', 'a', 'b', 'c', 'd', 'e']\n",
    "print(lista)\n",
    "i = iter(lista)\n",
    "for veces in range(4):\n",
    "    print(next(i), end=' ')\n",
    "lista.reverse()\n",
    "print(); print(lista)\n",
    "for x in i:                                  # Iterator does not know that the list has changed!!\n",
    "    print(x, end=' ')\n",
    "print()\n",
    "\n",
    "l = [1, 2, 3, 4, 5, 6, 7]\n",
    "l1 = iter(l)\n",
    "# l1.next() gives an error, that is why we have to use the dunder method\n",
    "print(l1.__next__(), next(l1))"
   ]
  },
  {
   "cell_type": "markdown",
   "id": "a06f707e-9679-4ada-af6d-2d82a27d195e",
   "metadata": {},
   "source": [
    "### Unit 20. Closure and Regex"
   ]
  },
  {
   "cell_type": "markdown",
   "id": "e336346d-dfe7-4be5-b5e7-5efa45a3f5c7",
   "metadata": {},
   "source": [
    "#### Closure"
   ]
  },
  {
   "cell_type": "markdown",
   "id": "8c56fbb8-447e-4481-892f-3f0973e08e55",
   "metadata": {},
   "source": [
    "- Python has different variable scoping rules, defining `local` (within a function), `enclosing function call` (within an inner function), `global` (typical), `built-in`. If we have a global var `x` and we define another var `x` within a function, these are two different variables. If we want it to be the same, we have to write the directive `global`. If we want it to be a variable outside of a function, but not the global variable (if it is a 3 nested function call, let's say), you have to use the directive `nonlocal`. If a function accesses a variable not defined within the function, it will look up outside of the function.\n",
    "- Looks like it is better to use `lambda functions` for almost all of the small closure functions. Easier and cleaner.\n",
    "- Module `turtle`: to do graphics.\n",
    "  - Function `t.setup(width=x, height=y)`: to set up the window, using keyword arguments.\n",
    "  - Function `t.forward(x)`: cursor goes forward x pixels.\n",
    "  - Function `t.left(x)`: cursor turns left x degrees.\n",
    "  - Function `t.done()`: finishes.\n",
    "  - Functions `t.begin_fill(color)`, `t.end_fill(c)`: color the code area between begin and end.\n",
    "  - Function `t.fillcolor(c)`: sets the color used to fill shapes.\n",
    "  - Function `t.color(c)`: changes the color of the turtle.\n",
    "  - Function `t.shape(s)`: changes the shape of the turtle (values can be `arrow`, `turtle`, `circle`, `square`, `triangle`, `classic`).\n",
    "  - Functions `t.shapesize(s)`, `t.shapesize(w, h)`: changes the size of the turtle.\n",
    "  - Functions `t.pos()`, `t.position()`: returns the current position of turtle.\n",
    "  - Function `t.xcor()`: returns current coordinate x of turtle.\n",
    "  - Function `t.ycor()`: returns current coordinate y of turtle.\n",
    "  - Function `t.heading()`: returns current heading.\n",
    "  - Function `t.distance(x, y)`: computes distance between given and current positions.\n",
    "  - Functions `t.penup()`, `t.pu()`, `t.up()`: picks up the pen (stops drawing).\n",
    "  - Functions `t.pendown()`, `t.pd()`, `t.down()`: puts the pen down (starts drawing).\n",
    "  - Functions `t.pensize(w)`, `t.width(w)`: changes thickness of drawing.\n",
    "  - Function `t.circle(r)`: draws a circle of given radius r.\n",
    "  - Functions `t.goto(x, y)`, `t.setpos(x, y)`, `t.setposition(x, y)`: to send the cursor to a determined position.\n",
    "  - Function `t.stamp()`: shows size, color, shape of turtle in determined position.\n",
    "  - Function `t.home()`: initializes turtle position and direction.\n",
    "  - Function `t.textinput()`: displays chat window for input."
   ]
  },
  {
   "cell_type": "code",
   "execution_count": 11,
   "id": "b3a75690-e700-400a-a2bc-74d11fc8a140",
   "metadata": {},
   "outputs": [
    {
     "name": "stdout",
     "output_type": "stream",
     "text": [
      "-3 -5 3.0\n",
      "5 -5 3.0\n",
      "5 3 3.0\n"
     ]
    }
   ],
   "source": [
    "x = -3\n",
    "y = -5\n",
    "z = 3.0\n",
    "print(x, y, z)\n",
    "def foo():\n",
    "    x = 5                                                     # Define a DIFFERENT var with the SAME NAME than outside of function\n",
    "    y = 3                                                     # Define a DIFFERENT var with the SAME NAME than outside of function\n",
    "    def fooo():\n",
    "        nonlocal x                                            # Access variable outside of function but not global\n",
    "        global y                                              # Access global function\n",
    "        print(x, y, z)                                        # Access to var not defined inside function\n",
    "    fooo()\n",
    "    print(x, y, z)\n",
    "\n",
    "a = foo()                                                     # Asign function to variable\n",
    "\n",
    "# This code creates a window and draws in it\n",
    "import turtle as t\n",
    "\n",
    "# Configuración inicial\n",
    "t.setup(width=400, height=400)           # Ventana\n",
    "t.shape('turtle')                         # Forma de la tortuga\n",
    "t.shapesize(1.5, 1.5)                     # Tamaño\n",
    "t.color('darkgreen')                      # Color de línea\n",
    "t.fillcolor('blue')                       # Color de relleno\n",
    "t.pensize(2)                              # Grosor\n",
    "t.penup()                                 # Levantar lápiz para no dibujar\n",
    "t.goto(-50, -50)                          # Posición inicial\n",
    "t.pendown()                               # Comenzar a dibujar\n",
    "\n",
    "# Dibujo con relleno entre i = 30 y i = 100\n",
    "for i in range(100):\n",
    "    if i == 30:\n",
    "        t.begin_fill()\n",
    "    if i == 100:\n",
    "        t.end_fill()\n",
    "    t.forward(i)\n",
    "    t.left(93)\n",
    "\n",
    "# Mostrar posición y coordenadas\n",
    "pos = t.pos()\n",
    "x = t.xcor()\n",
    "y = t.ycor()\n",
    "heading = t.heading()\n",
    "\n",
    "# Usar estampado y círculo\n",
    "t.penup()\n",
    "t.goto(0, 0)\n",
    "t.color('red')\n",
    "t.shape('circle')\n",
    "t.shapesize(2)\n",
    "t.stamp()               # Estampa la forma en esa posición\n",
    "t.pendown()\n",
    "t.circle(30)            # Dibuja círculo\n",
    "\n",
    "# Calcular distancia a una coordenada\n",
    "dist = t.distance(100, 100)\n",
    "\n",
    "# Dibujar una línea hasta ese punto\n",
    "t.penup()\n",
    "t.goto(100, 100)\n",
    "t.pendown()\n",
    "t.color('blue')\n",
    "t.write(f\"Distancia: {round(dist)}\", font=(\"Arial\", 10, \"normal\"))\n",
    "t.dot(5)\n",
    "\n",
    "# Volver a home\n",
    "t.penup()\n",
    "t.home()\n",
    "\n",
    "# Entrada de texto\n",
    "nombre = t.textinput(\"Pregunta\", \"¿Cómo te llamas?\")\n",
    "t.write(f\"¡Hola, {nombre}!\", font=(\"Arial\", 12, \"bold\"))\n",
    "\n",
    "t.done()"
   ]
  },
  {
   "cell_type": "markdown",
   "id": "194c9704-8c8a-450b-bace-3091942245a2",
   "metadata": {},
   "source": [
    "#### Regular Expressions (regex)"
   ]
  },
  {
   "cell_type": "markdown",
   "id": "ffd14b0d-1558-488e-98ed-882c68ad9f20",
   "metadata": {},
   "source": [
    "- Function `re.search(pattern, string, flags)`: looks for first pattern in the string and returns a match object with the match and also with the positions where it is found.\n",
    "- Function `re.match(p, s, f)`: same as `search()` but only at the start.\n",
    "- Function `re.findall(p, s, f)`: same as `search()` but returns all the non-overlapped matches.\n",
    "- Function `re.split(p, s, f)`: same as `search()` but splits in a given pattern.\n",
    "- Function `re.sub(p, substitute, s, f)`: same as `search()` and substitutes the pattern for the substitute.\n",
    "- Pattern tools:\n",
    "  - `+`: previous char can appear 1 or more consecutive.\n",
    "  - `*`: following char can appear 0 or more consecutive times.\n",
    "  - `?`: previous char is optional, can appear or not appear.\n",
    "  - `.`: matches with whatever is next.\n",
    "  - `^`: matches on line start.\n",
    "  - `$`: matches on line end.\n",
    "  - `\\w`: alphanumeric chars and underscores.\n",
    "  - `\\d`: it's a digit.\n",
    "  - `\\s`: represents whatever blank space.\n",
    "  - `{}`: select a number, or a range. Example: `\\w{5,7}` words of 5 to 7 chars.\n",
    "  - `\\W`, `\\D`, `\\S`: the complementary group.\n",
    "  - `[set]`: represents a language set.\n",
    "  - `[^set]`: whatever that is not in that language set.\n",
    "- Escaped chars `(\\c)`: chars appearing with an inverted bar (`\\`) will have actions; if you want them to appear literally, you'll have to put them twice, also known as escaping.\n",
    "- Raw strings `r\"\"`: to write a raw string, so write down all chars in string literally.\n",
    "- Jupyter actions `%action`: things preceded by `%` will do actions on Jupyter, such as `%pprint`, which is a switch on-off to print last action in vertical (new line after comma) or horizontal (just a space).\n",
    "- Capturing `()` : parenthesis are used to capture. So, capture all elements where you have found a match (CAREFUL):\n",
    "  - Do not capture `(?:expression)`: an expression preceded by `?:` will not be captured.\n",
    "- Flags: at the end of the `findall()` function.\n",
    "  - `re.I` (`re.IGNORECASE`): ignores upper or lowercase. \n",
    "  - `re.M` (`re.MULTILINE`): `^` and `$` match start and end of line."
   ]
  },
  {
   "cell_type": "code",
   "execution_count": null,
   "id": "9e0ffe4f-4702-4e80-94e5-d9f89affa617",
   "metadata": {},
   "outputs": [],
   "source": [
    "import re\n",
    "import regex                                                  # Different thing\n",
    "\n",
    "txt1 = 'Life is too short Life'\n",
    "txt2 = 'the best moments of my life'\n",
    "match = re.search('Life', txt1)\n",
    "print(match)                                                  # Shows match object\n",
    "print(match.group())                                          # Returns objects in match\n",
    "print(re.match('Life', 'A Life is too short Life'))           # Returns match if first word is\n",
    "print(re.findall('Life', 'A Life is too short Life'))         # Returns all objects found in string.\n",
    "print(re.findall('sho+rt', 'short, shooort, shoort'))         # + finds with one ore more consecutive 'o's\n",
    "print(re.findall('casas?', 'casa, casas, casasss'))           # ? previous can appear or not (not greedy, but minimum answer)\n",
    "print(re.findall('casas*', 'casa, casas, casasss'))           # * previous can appear one or several times (greedy, full answer)\n",
    "print(re.findall('casa?s?', 'casaaa, cas, casaaasss'))        # Returns the longest string that complies with patter (greedy search)\n",
    "print('C:\\\\this\\\\is\\\\an\\\\escaped\\\\path')                      # Escaping example\n",
    "print(r'C:\\this\\is\\a\\raw\\string')                             # Chars can also be escaped\n",
    "print(re.findall(r'[0-9]+', 'tlf 1234 y dni 1232'))           # Looks for all consecutive difits in a list from 0 to 9\n",
    "print(re.findall(r'\\d+', 'telefono 1234 y dni 1232'))         # \\d+ looks for all consecutive numbers\n",
    "\n",
    "with open('menu.txt') as f:\n",
    "    txt = f.read()\n",
    "    lista = re.findall(r'\\d+', txt)\n",
    "    lista2 = re.findall(r'\\d\\d\\d', txt)\n",
    "    lista3 = re.findall(r'\\d\\d', txt)\n",
    "print(lista, lista2, lista3, sep=\"\\n\", end=\"\\n\\n\")\n",
    "\n",
    "print(re.findall(r'cama', 'escama camarero en la cama'))      # Careful with wrongful finds (words that contain 'cama')\n",
    "print(re.findall(r'\\bcama\\b', 'soy un camarero cama'))        # Boundary on left and right (words starting and ending with 'cama')\n",
    "print(re.findall(r'\\bcama', 'escama camarero cama'))          # Boundary only on left (words starting by 'cama')\n",
    "print(re.findall(r'\\bgato|pez', 'gato alegato pez Lopez'))    # Multiple search\n",
    "print(re.findall(r'(to)+do', 'tototodoo todo tototodo'))      # Mutiple arg repetition with parenthesis (captures only 'to' from matched)\n",
    "print(re.findall(r'(?:to)+do', 'tototodoo todo tototodo'))    # Mutiple arg repetition with parenthesis ('?.' means DON'T CAPTURE)\n",
    "print(re.findall(r'((to)+do)', 'totodoo todo totodo'), end='\\n\\n') # Mutiple arg repetition with parenthesis\n",
    "\n",
    "with open('menu.txt', 'r') as f:\n",
    "    txt = f.read()\n",
    "print(re.findall(r'o,(\\d+)', txt))                            # From matched, capture only the enum\n",
    "print(re.findall(r'o,(\\d+),(\\d+)', txt))                      # Returns the captured in a 2-element tuple\n",
    "print(re.findall(f'.*', txt))                                 # Returns whatever letter empty or not with followings\n",
    "print(re.findall(r'\\bp\\w*', txt, re.I)[:5])                   # Has to start with p, followed by alphanum, and flag of ignoring upper/lower)\n",
    "print(re.findall(r'\\w+', txt, re.M)[:5])                      # Returns all aphanumeric matches for every line (^ to $)\n",
    "print(re.findall(r'\\d+(?:\\.\\d+)?', txt))                      # Numbers and optionally the ones followed by dot and others (grouped, not captures)\n",
    "print(re.findall(r'\\b\\w{5}\\b', txt))                          # All words of length fifth (if not \\b, will add parts of bigger words) \n",
    "print(re.findall(r'-- .* --', txt))                           # Captures all '-- Title --' (\\w not used because it misses 2-word elements)\n",
    "print(re.split(r'-- .* --', txt))                             # Cut everyhting and return whatever is not the pattern\n",
    "print(re.split(r'(-- .* --)', txt))                           # Cut everything and return the result and the pattern\n",
    "\n",
    "# Careful with longest regex. It will capture the longest one with (*, +, ?) careful with them (GREEDY APPROACH)\n",
    "# Add a '?' after a (+, *, ?) to use a NON GREEDY APPROACH\n",
    "# Unlimited RECURSION inside a regex is not posible, has to be defined by GRAMATICAS"
   ]
  },
  {
   "cell_type": "markdown",
   "id": "6e474d85-8560-4623-9690-d9f56cf8e92f",
   "metadata": {},
   "source": [
    "### Unit 21. Class"
   ]
  },
  {
   "cell_type": "markdown",
   "id": "14c66239-bb7e-4e4f-96be-77efe6a80f6b",
   "metadata": {},
   "source": [
    "- Object-oriented programming (OOP): typical.\n",
    "- Object `Class`: is the abstract concept of an object (`class Cat`).\n",
    "  - Attributes: define characteristics of the object.\n",
    "  - Actions: define actions.\n",
    "- Instance: is an existing object (`c = Cat(color, size, ...)`).\n",
    "- Decorator `@staticmethod`: for methods that do not need to be instanced (DO NOT CREATE AN INSTANCE, DOES NOT USE `self`).\n",
    "- Naming conventions:\n",
    "  - `ThisIsAClassName`: class goes in PascalCase.\n",
    "  - `this_is_a_method()`: methods in snake_case.\n",
    "  - `_this_is_protected`: 'PROTECTED', should not be directly accessed from outer object. Not mangled.\n",
    "  - `_this_is_private`: 'PRIVATE', should not be directly accessed from outer object. Is mangled.\n",
    "  - `__special_thing__`: it's a dunder (double underscore), these are for internal use FOR SPECIAL DEFINED BEHAVIOR.\n",
    "- Encapsulation: to modify 'private' values within a fine range. Use a class function that changes the `__private_attribute` instead of accessing it yourself.\n",
    "- `obj.__dict__`: to find attributes, methods, ...\n",
    "- Name mangling: to avoid name clash with similar names, so `__attribute` is seen as `_ClassName__attribute`. Manipulation of a class object makes the object being manipulated to have its own manipulated variable 'hidden' underneath the new one. NAME MANGLED FOR ENCAPSULATION, INHERITANCE; USE ONLY FOR PROTECTION IN THESE CASES.\n",
    "- Overriding:\n",
    "  - `__str__(self)`: makes every class a personalized print.\n",
    "  - `__add__(self)`: lets us use `+` to add objects. Same with the rest of the operators (`add` (+), `sub` (-), `mul` (*), `truediv` (/), `mod` (%), `pow` (**), `floordiv` (//), `pos` (+x), `neg` (-x), `lt` (<), `le` (<=), `gt` (>), `ge` (>=), `eq` (==), `ne` (!=)).\n",
    "- Module `typing`: to support type hints.\n",
    "- Class `Self`: to reference yourself and be able to return an instance of own class.\n",
    "- Objects identity: if mutable, even if having the same values, will not be the same; if immutable, then yes.\n",
    "- Reference: seen already. If `n = 100`: `id(n)` == `id(100)`.\n",
    "- Inheritance: `class Manager(Person)`, class Manager inherits from class Person. In the `__init__()` method of class Manager we will make a `Person.__init__(*args)` call.\n"
   ]
  },
  {
   "cell_type": "code",
   "execution_count": 53,
   "id": "5370a4d8-b497-4734-a9d6-659b4416ca18",
   "metadata": {},
   "outputs": [
    {
     "name": "stdout",
     "output_type": "stream",
     "text": [
      "Pep black\n",
      "meow2\n",
      "Pep\n",
      "{'name': 'Pep', '_Gato__color': 'black', 'censo': 1, '_Gato__age': 0}\n",
      "black\n",
      "1\n",
      "True\n",
      "meow2\n",
      "\n",
      "Age modified succesfully to: 30\n",
      "Cat cannot 'grow backwards'\n",
      "\n",
      "{'x': 3, 'y': 2}\n",
      "{'x': 3, 'y': 2}\n",
      "3 2\n",
      "\n",
      "True False\n",
      "False\n",
      "\n",
      "140705944188440 140705944188440 True\n"
     ]
    }
   ],
   "source": [
    "class Gato():                             # Gato inherits from Gaton \n",
    "    # censo = 15                               # Class can have the same var name as instance (CAREFUL)\n",
    "    def __init__(self, nombre='Pep', color='black'):\n",
    "        print(nombre, color)\n",
    "        self.name = nombre\n",
    "        self.__color = color                   # Name mangling\n",
    "        self.censo = 1                         # Instance can have the same var name as class (CAREFUL)\n",
    "        self.__age = 0                         # 'Private' attribute\n",
    "        \n",
    "    def meow1(self, censo):\n",
    "        print('meow1 ' + str(censo))           # Python gets censo from father Gaton\n",
    "\n",
    "    @staticmethod\n",
    "    def meow2():                               # This method does not need to be instanced\n",
    "        print('meow2')\n",
    "\n",
    "    def modify_age(self, new_age):\n",
    "        if new_age > self.__age:\n",
    "            self.__age = new_age\n",
    "            print(f'Age modified succesfully to: {self.__age}')\n",
    "        else:\n",
    "            print(\"Cat cannot 'grow backwards'\")\n",
    "        \n",
    "class Gaton():\n",
    "    censo = 300\n",
    "\n",
    "g = Gato()\n",
    "Gato.meow2()\n",
    "print(g.name)\n",
    "print(g.__dict__)\n",
    "print(g._Gato__color)\n",
    "print(g.censo)                                 # Python gets censo from father Gaton\n",
    "print(isinstance(g, Gato))                     # Check inheritance\n",
    "Gato.meow2()                                   # This method is called through a class, not through an instance\n",
    "print()\n",
    "\n",
    "g.modify_age(30)\n",
    "g.modify_age(20)\n",
    "print()\n",
    "\n",
    "class Vector:\n",
    "    def __init__(self, x, y):\n",
    "        self.x = x\n",
    "        self.y = y\n",
    "\n",
    "    def to_dict(self):\n",
    "        return {'x': self.x, 'y': self.y}\n",
    "\n",
    "    def save(self, path):\n",
    "        with open(path, 'w', encoding='utf-8') as ofile:\n",
    "            json.dump(self.to_dict(), ofile)\n",
    "\n",
    "    @staticmethod\n",
    "    def load_file(path):\n",
    "        with open(path, 'r', encoding='utf-8') as ifile:\n",
    "            attr = json.load(ifile)\n",
    "            print(attr)\n",
    "        \n",
    "            return Vector(**attr)              # es igual a b = Vector(x=attr['x'], y=attr['y'])\n",
    "\n",
    "a = Vector(3, 2)\n",
    "print(a.to_dict())\n",
    "a.save('vector_file.json')\n",
    "b = a.load_file('vector_file.json')            # receives a Vector using an instance method\n",
    "print(b.x, b.y, end='\\n\\n')\n",
    "\n",
    "a = 'abc'\n",
    "b = 'abc'\n",
    "c = ('a', 1, True)\n",
    "d = ('a', 1, True)\n",
    "print(a is b, c is d)\n",
    "print(['a', 'b', 'c'] is ['a', 'b', 'c'], end='\\n\\n')\n",
    "\n",
    "n = 100\n",
    "print(id(n), id(100), id(n) == id(100))"
   ]
  },
  {
   "cell_type": "markdown",
   "id": "74f4dd9e-a4a3-4725-9b28-246ca94e7124",
   "metadata": {
    "jp-MarkdownHeadingCollapsed": true
   },
   "source": [
    "## Chapter 4. Algoritms 1 - Data Structures"
   ]
  },
  {
   "cell_type": "markdown",
   "id": "98d1d27b-022d-43a6-b40c-ca10aab21d8b",
   "metadata": {},
   "source": [
    "### Unit 22. Stack"
   ]
  },
  {
   "cell_type": "markdown",
   "id": "67a63cbd-d8de-4b67-b211-28883a955e5b",
   "metadata": {},
   "source": [
    "- DataType `Stack`: typical, append and get from the top/end (LIFO).\n",
    "- Function `st.push(e)`: adds item at the top of stack.\n",
    "- Function `st.pop()`: removes item from top. Careful not to `pop()` from an empty list (handle the exception).\n",
    "- Function `st.peek()`: permits to peek over the stack and see the last value (`stack_list[-1]`).\n",
    "- Function `st.is_empty()`: returns a bool checking if it is empty or not.\n",
    "- Function `st.to_string()`: returns a manual conversion to string.\n",
    "- Function `__str__()`: overrides how Python prints the stack to string."
   ]
  },
  {
   "cell_type": "code",
   "execution_count": 12,
   "id": "70bba49a-39da-4cda-8c6e-c50ca9f9bec5",
   "metadata": {},
   "outputs": [
    {
     "name": "stdout",
     "output_type": "stream",
     "text": [
      "¿La Pila está vacia?  True\n",
      "[100]\n",
      "[100, 30]\n",
      "[100, 30, 'Pep']\n",
      "¿La Pila está vacia?  False\n",
      "Pep\n",
      "[100, 30]\n",
      "30\n",
      "[100]\n",
      "100\n",
      "[]\n",
      "¿La Pila está vacia?  True\n",
      "[]{}()({[]})((())) is True\n",
      "([]{()[]{}}())[{}] is True\n",
      "([]{()[]){}}()[{}] is False\n",
      "((sf+sd)[sd(sad{ads})]) is True\n"
     ]
    }
   ],
   "source": [
    "class Stack:\n",
    "    def __init__(self):\n",
    "        self.stack = []\n",
    "        \n",
    "    def push(self, obj):\n",
    "        self.stack.append(obj)\n",
    "    \n",
    "    def pop(self):\n",
    "        return self.stack.pop() if not self.is_empty() else None\n",
    "    \n",
    "    def is_empty(self):\n",
    "        return len(self.stack) == 0\n",
    "\n",
    "    def to_string(self):\n",
    "        return [x for x in self.stack]\n",
    "\n",
    "stack = Stack()\n",
    "print('¿La Pila está vacia? ', stack.is_empty())\n",
    "stack.push(100)\n",
    "print(stack.to_string())\n",
    "stack.push(30)\n",
    "print(stack.to_string())\n",
    "stack.push('Pep')\n",
    "print(stack.to_string())\n",
    "print('¿La Pila está vacia? ', stack.is_empty())\n",
    "print(stack.pop())\n",
    "print(stack.to_string())\n",
    "print(stack.pop())\n",
    "print(stack.to_string())\n",
    "print(stack.pop())\n",
    "print(stack.to_string())\n",
    "print('¿La Pila está vacia? ', stack.is_empty())\n",
    "\n",
    "# Check parenthesis problem\n",
    "lst1 = '[]{}()({[]})((()))'      # True\n",
    "lst2 = '([]{()[]{}}())[{}]'      # True\n",
    "lst3 = '([]{()[]){}}()[{}]'      # False\n",
    "lst4 = '((sf+sd)[sd(sad{ads})])' # True\n",
    "def check_parentheses(expr) -> bool:\n",
    "    op = '[({'\n",
    "    cl = '])}'\n",
    "    s = Stack()\n",
    "\n",
    "    for c in expr:\n",
    "        if c in op:\n",
    "            s.push(c)\n",
    "        elif c in cl:\n",
    "            if s.is_empty():\n",
    "                return False\n",
    "            stacked = s.pop()\n",
    "            if op.index(stacked) != cl.index(c):\n",
    "                return False\n",
    "    return s.is_empty()\n",
    "\n",
    "print('[]{}()({[]})((())) is', check_parentheses(lst1))\n",
    "print('([]{()[]{}}())[{}] is', check_parentheses(lst2))\n",
    "print('([]{()[]){}}()[{}] is', check_parentheses(lst3))\n",
    "print('((sf+sd)[sd(sad{ads})]) is', check_parentheses(lst4))"
   ]
  },
  {
   "cell_type": "markdown",
   "id": "977283bb-ab1f-418b-9288-58852f025396",
   "metadata": {},
   "source": [
    "### Unit 23. Queue"
   ]
  },
  {
   "cell_type": "markdown",
   "id": "2a06165b-09d7-40a0-be05-7dd9f45111fa",
   "metadata": {},
   "source": [
    "- DataType `Queue`: typical, appends at end and gets from the front (FIFO).\n",
    "- Function `st.enqueue(e)`: adds item at the end of queue.\n",
    "- Function `st.dequeue()`: removes item from start.\n",
    "- Function `st.size()`: returns size of the queue.\n",
    "- Function `st.to_string()`: returns a manual conversion to string.\n",
    "- Function `__str__()`: overrides how Python prints the stack to string.\n",
    "- DataType `Dequeue`: similar to Queue but has the methods `dq.add_first(e)`, `dq.add_last(e)`, `remove_first(e)`, `remove_last(e)`."
   ]
  },
  {
   "cell_type": "code",
   "execution_count": 7,
   "id": "b7610bd4-1c8e-4785-b736-d2a8db472ef8",
   "metadata": {},
   "outputs": [
    {
     "name": "stdout",
     "output_type": "stream",
     "text": [
      "A B C D E F\n",
      "B C D E F G\n",
      "Hay 6 elementos en la cola.\n",
      "C D E F G\n",
      "Hay 5 elementos en la cola.\n",
      "D E F G\n",
      "Hay 4 elementos en la cola.\n",
      "The best Josephus position is 31.\n",
      "31\n",
      "[3, 6, 9, 12, 15, 18, 21, 24, 27, 30, 33, 36, 39, 1, 5, 10, 14, 19, 23, 28, 32, 37, 41, 7, 13, 20, 26, 34, 40, 8, 17, 29, 38, 11, 25, 2, 22, 4, 35, 16, 31]\n"
     ]
    }
   ],
   "source": [
    "class Queue:\n",
    "    def __init__(self):\n",
    "        self.queue = []\n",
    "        self.count = 0\n",
    "\n",
    "    def is_empty(self):\n",
    "        return self.count == 0\n",
    "    \n",
    "    def enqueue(self, item):\n",
    "        self.queue.append(item)\n",
    "        self.count += 1\n",
    "\n",
    "    def dequeue(self):\n",
    "        if self.count > 0:\n",
    "            self.count -= 1\n",
    "            return self.queue.pop(0)\n",
    "        return None\n",
    "\n",
    "    def to_string(self):\n",
    "        return ' '.join([str(x) for x in self.queue])\n",
    "\n",
    "    def size(self):\n",
    "        return self.count\n",
    "\n",
    "q = Queue()\n",
    "q.enqueue('A')\n",
    "q.enqueue('B')\n",
    "q.enqueue('C')\n",
    "q.enqueue('D')\n",
    "q.enqueue('E')\n",
    "q.enqueue('F')\n",
    "print(q.to_string())\n",
    "q.enqueue('G')\n",
    "q.dequeue()\n",
    "print(q.to_string())\n",
    "print(f'Hay {q.size()} elementos en la cola.')\n",
    "q.dequeue()\n",
    "print(q.to_string())\n",
    "print(f'Hay {q.size()} elementos en la cola.')\n",
    "q.dequeue()\n",
    "print(q.to_string())\n",
    "print(f'Hay {q.size()} elementos en la cola.')\n",
    "\n",
    "from random import randint\n",
    "\n",
    "def josephus(n, k):\n",
    "    q = Queue()\n",
    "\n",
    "    for i in range(1, n + 1):\n",
    "        q.enqueue(i)\n",
    "\n",
    "    res = []\n",
    "    while q.size() > 1:\n",
    "        for i in range(1, k + 1):\n",
    "            if q.size() > 1:\n",
    "                if i != k:\n",
    "                    q.enqueue(q.dequeue())\n",
    "                else:\n",
    "                    res.append(q.dequeue())\n",
    "\n",
    "    res.append(q.dequeue())\n",
    "    print(f'The best Josephus position is {res[-1]}.')\n",
    "    return res\n",
    "\n",
    "res = josephus(41, 3)\n",
    "print(res[-1])\n",
    "print(res)"
   ]
  },
  {
   "cell_type": "markdown",
   "id": "aa2f1a27-0e1a-4775-823c-9fa89ff770b6",
   "metadata": {},
   "source": [
    "### Unit 24. Sequential search"
   ]
  },
  {
   "cell_type": "markdown",
   "id": "9417552f-5039-4ac0-ad1f-17b7bbba2066",
   "metadata": {},
   "source": [
    "- Binary search usage when there is no order. It means exploring one by one all elements inside the search space until find it or empty of search space.\n",
    "- Big O notation (`O(n)`): seen already. Magnitude order definition of a given problem. So `O(n)` is a problem of cost defined by the size of the problem, whilst `O(1)` means a cost of 1.\n",
    "  - `n`, `n^2`, `n^x`: can be handled... Sequential is `O(n)`.\n",
    "  - `2^n` and `n!`: very hard to handle.\n",
    "- The cost of this search is `T(n) = O(n)`."
   ]
  },
  {
   "cell_type": "code",
   "execution_count": 41,
   "id": "b62629cf-e53f-41f7-ada6-fc4fec78c214",
   "metadata": {},
   "outputs": [
    {
     "name": "stdout",
     "output_type": "stream",
     "text": [
      "7\n",
      "7\n",
      "The largest element is 53 at index 7\n"
     ]
    },
    {
     "name": "stdin",
     "output_type": "stream",
     "text": [
      "Introduce los pisos en números interos:  1\n"
     ]
    },
    {
     "name": "stdout",
     "output_type": "stream",
     "text": [
      "The highest safe floor is 0, the breaking is 1 and max height is 1.\n"
     ]
    }
   ],
   "source": [
    "def seq_search(array, num):\n",
    "    for i, el in enumerate(array):\n",
    "        if el == num:\n",
    "            return i\n",
    "    return -1\n",
    "\n",
    "def seq_search2(array, num):\n",
    "    count = 0\n",
    "    while array[count] != num and count < len(array) - 1:\n",
    "        count += 1\n",
    "    return count if array[count] == num else -1\n",
    "\n",
    "S = [11, 37, 45, 26, 59, 28, 17, 53]\n",
    "x = 53\n",
    "print(seq_search(S, x))\n",
    "print(seq_search2(S, x))\n",
    "\n",
    "def find_largest(array):\n",
    "    prev = 0\n",
    "    if array == []:\n",
    "        index = -1\n",
    "        el = None\n",
    "    else:\n",
    "        for i, el in enumerate(array):\n",
    "            if el > prev:\n",
    "                index, res = i, el \n",
    "    return index, el \n",
    "\n",
    "index, el = find_largest(S)\n",
    "print(f'The largest element is {el} at index {index}')\n",
    "\n",
    "# Egg dropping exercise\n",
    "from random import randint\n",
    "\n",
    "def find_highest_safe_floor(height, breaking):\n",
    "    lista = list(range(1, height + 1))\n",
    "    i = 0\n",
    "    while lista[i] < breaking:\n",
    "        i += 1\n",
    "    return i\n",
    "\n",
    "height = int(input('Introduce los pisos en números interos: '))\n",
    "breaking = randint(1, height)\n",
    "floor = find_highest_safe_floor(height, breaking)\n",
    "print(f'The highest safe floor is {floor}, the breaking is {breaking} and max height is {height}.')"
   ]
  },
  {
   "cell_type": "markdown",
   "id": "9ae1ecd1-f139-414d-bb72-003993bef622",
   "metadata": {},
   "source": [
    "### Unit 25. Binary search"
   ]
  },
  {
   "cell_type": "markdown",
   "id": "877f067d-c2cc-4cd9-b207-dfb3c715a035",
   "metadata": {},
   "source": [
    "- **Binary Search**: used to **divide the search space in halves with every iteration**. **SEARCH SPACE MUST BE ORDERED**.\n",
    "- The cost of this search is **`T(n) = O(log n)`** (whis is the same as dividing the size in `2^n` every time)."
   ]
  },
  {
   "cell_type": "code",
   "execution_count": 1,
   "id": "48d52dba-ed66-4630-8dd8-9184db791c3b",
   "metadata": {},
   "outputs": [
    {
     "name": "stdin",
     "output_type": "stream",
     "text": [
      "Input the number to search: 45 45\n"
     ]
    },
    {
     "name": "stdout",
     "output_type": "stream",
     "text": [
      "In S, 45 is at position 6.\n",
      "\n"
     ]
    },
    {
     "name": "stdin",
     "output_type": "stream",
     "text": [
      "Input the number to search: 45 45\n"
     ]
    },
    {
     "name": "stdout",
     "output_type": "stream",
     "text": [
      "In S, 45 is at position 5.\n",
      "\n"
     ]
    }
   ],
   "source": [
    "def bin_search(S, x):\n",
    "    m = len(S) // 2\n",
    "    if m == 0:\n",
    "        return 1\n",
    "    if S[m] == x:\n",
    "        return m\n",
    "        \n",
    "    if S[m] > m and m + 1 < len(S):\n",
    "        return m + bin_search(S[m + 1:], x)\n",
    "    if S[m] < m and m - 1 > 0:\n",
    "        return bin_search(S[:m - 1], x)\n",
    "    return -1\n",
    "\n",
    "S = [11, 17, 26, 28, 37, 45, 53, 59]\n",
    "x = int(input('Input the number to search: 45'))\n",
    "pos = bin_search(S, x)\n",
    "print(f'In S, {x} is at position {pos}.', end='\\n\\n')\n",
    "\n",
    "def bin_search2(S, x):\n",
    "    i = 0\n",
    "    f = len(S) - 1\n",
    "\n",
    "    while i <= f:\n",
    "        m = (i + f) // 2\n",
    "        if x == S[m]:\n",
    "            return m\n",
    "        elif x < S[m]:\n",
    "            f = m - 1\n",
    "        else:\n",
    "            i = m + 1\n",
    "    return -1\n",
    "\n",
    "S = [11, 17, 26, 28, 37, 45, 53, 59]\n",
    "x = int(input('Input the number to search: 45'))\n",
    "pos = bin_search2(S, x)\n",
    "print(f'In S, {x} is at position {pos}.', end='\\n\\n')"
   ]
  },
  {
   "cell_type": "markdown",
   "id": "137516b2-274c-4ca7-8b95-cab0b7996ff0",
   "metadata": {},
   "source": [
    "### Unit 26. Hash Table"
   ]
  },
  {
   "cell_type": "markdown",
   "id": "4b5cfd6f-594f-4bd1-bc92-05a03a72d1a9",
   "metadata": {},
   "source": [
    "- DataType **HashMap**: typical mapping keys to values through **hashing**. In the example case you convert to ASCII and sum all the numbers. The hash value is the mod of the number, being added to the list if it ends with the same.\n",
    "- Function `put(key, val)`: puts val in hashed key value.\n",
    "- Function `get(key)`: gets val using key hashed value.\n",
    "- Function `hash(key)`: gets the hashed key."
   ]
  },
  {
   "cell_type": "code",
   "execution_count": 12,
   "id": "3b0ce449-abed-4b33-b691-9767eda703f0",
   "metadata": {},
   "outputs": [
    {
     "name": "stdout",
     "output_type": "stream",
     "text": [
      "1666\n"
     ]
    }
   ],
   "source": [
    "class HashTable:\n",
    "    def __init__(self, size):\n",
    "        self.size = size\n",
    "        self.table = {}\n",
    "        for i in range(size):\n",
    "            self.table[i] = []\n",
    "\n",
    "    def hash(self, key):\n",
    "        return key % self.size\n",
    "\n",
    "    def get(self, key):\n",
    "        return self.table[self.hash(key)]\n",
    "\n",
    "    def put(self, key, val):\n",
    "        bucket = self.table[self.hash(key)]\n",
    "        if val not in bucket:\n",
    "            bucket.append(val)\n",
    "\n",
    "table2 = {'I': 1, 'V': 5, 'X': 10, 'L': 50, 'C': 100, 'D': 500, 'M': 1000}\n",
    "def roman_to_int(str) -> int:\n",
    "    res = 0\n",
    "    for i in range(len(str) - 1 ):\n",
    "        if table2[str[i]] < table2[str[i + 1]]:\n",
    "            res -= table2[str[i]]\n",
    "        else:\n",
    "            res += table2[str[i]]\n",
    "    return res + table2[str[-1]]\n",
    "\n",
    "print(roman_to_int('MDCLXVI'))"
   ]
  },
  {
   "cell_type": "markdown",
   "id": "12e57288-25d2-4929-ba9b-f7f774c18bbb",
   "metadata": {},
   "source": [
    "## Chapter 5. Algoritms 2 - Sorting Algorithms"
   ]
  },
  {
   "cell_type": "markdown",
   "id": "89912ab0-89a1-434a-aebb-ee20e6b1358b",
   "metadata": {},
   "source": [
    "### Unit 27. Bubble, Selection and Insertion Sort"
   ]
  },
  {
   "cell_type": "markdown",
   "id": "f832ac47-f36c-4d9d-b27b-5d865fba3133",
   "metadata": {},
   "source": [
    "- **Bubble Sort**: compares two **adyacent** objects in the array and swaps them.\n",
    "- **Selection Sort**: compares two *non-adaycent* objects and swaps them.\n",
    "- **Insertion Sort**: takes one and compares to all the rest until finding the designated place (in an ordered array, so not all comparisons will be needed).\n",
    "- **Complexity**: `(N - 1)(N - 2)... =`**`N(N - 1)/2`**.\n",
    "- **Worst case**: array ordered in inverse order is `O(n^2)`.\n",
    "- **Best case**: ordered array is `O(n)`, except *Selection Sort* which is `O(n^2)`."
   ]
  },
  {
   "cell_type": "code",
   "execution_count": 26,
   "id": "ee87bc3f-a46d-423b-b674-bb599e685b87",
   "metadata": {},
   "outputs": [
    {
     "name": "stdout",
     "output_type": "stream",
     "text": [
      "[50, 30, 40, 10, 20]\n",
      "[30, 50, 40, 10, 20]\n",
      "[30, 40, 50, 10, 20]\n",
      "[30, 40, 10, 50, 20]\n",
      "[30, 40, 10, 20, 50]\n",
      "[30, 10, 40, 20, 50]\n",
      "[30, 10, 20, 40, 50]\n",
      "[10, 30, 20, 40, 50]\n",
      "\n",
      "[50, 30, 40, 10, 20]\n",
      "[10, 30, 40, 50, 20]\n",
      "[10, 20, 40, 50, 30]\n",
      "[10, 20, 30, 50, 40]\n",
      "[10, 20, 30, 40, 50]\n",
      "\n",
      "[30, 50, 40, 10, 20]\n",
      "[30, 40, 50, 10, 20]\n",
      "[10, 30, 40, 50, 20]\n",
      "[10, 20, 30, 40, 50]\n",
      "\n"
     ]
    }
   ],
   "source": [
    "def swap(S, x, y):\n",
    "    S[x], S[y] = S[y], S[x]\n",
    "\n",
    "def bubble_sort(S):\n",
    "    n = len(S)\n",
    "    for i in range(n):\n",
    "        for j in range(n - 1):\n",
    "            if S[j] > S[j + 1]:\n",
    "                print(S)\n",
    "                swap(S, j, j + 1)\n",
    "\n",
    "def selection_sort(S):\n",
    "    n = len(S)\n",
    "    for i in range(n - 1):\n",
    "        smallest = i\n",
    "        for j in range(i + 1, n):\n",
    "            if S[j] < S[smallest]:\n",
    "                smallest = j\n",
    "        print(S)\n",
    "        swap(S, i, smallest)\n",
    "    print(S)\n",
    "\n",
    "def insertion_sort(S):\n",
    "    n = len(S)\n",
    "    for i in range(1, n):\n",
    "        x = S[i]\n",
    "        j = i - 1\n",
    "        while j >= 0 and S[j] > x:\n",
    "            S[j + 1] = S[j]\n",
    "            j -= 1\n",
    "        S[j + 1] = x\n",
    "        print(S)\n",
    "\n",
    "S = [50, 30, 40, 10, 20]\n",
    "bubble_sort(S); print()\n",
    "S = [50, 30, 40, 10, 20]\n",
    "selection_sort(S); print()\n",
    "S = [50, 30, 40, 10, 20]\n",
    "insertion_sort(S); print()"
   ]
  },
  {
   "cell_type": "markdown",
   "id": "cbbff7b6-2679-40f2-bf32-a7fd0940af56",
   "metadata": {
    "jp-MarkdownHeadingCollapsed": true
   },
   "source": [
    "### Unit 28. Merge Sort"
   ]
  },
  {
   "cell_type": "markdown",
   "id": "42838269-c1f8-46f6-8763-061c3ff66d96",
   "metadata": {},
   "source": []
  },
  {
   "cell_type": "code",
   "execution_count": null,
   "id": "12f86d37-616f-4760-a9ed-e97484d8dbd1",
   "metadata": {},
   "outputs": [],
   "source": []
  },
  {
   "cell_type": "markdown",
   "id": "b8c29efd-2621-48d2-874b-eee213be7123",
   "metadata": {
    "jp-MarkdownHeadingCollapsed": true
   },
   "source": [
    "### Unit 29. Quick Sort"
   ]
  },
  {
   "cell_type": "markdown",
   "id": "c2b9ced1-801f-4ae3-875c-383b9d3d7139",
   "metadata": {},
   "source": []
  },
  {
   "cell_type": "code",
   "execution_count": null,
   "id": "c192f662-2d02-46ea-a405-7b7e2d5beb10",
   "metadata": {},
   "outputs": [],
   "source": []
  },
  {
   "cell_type": "markdown",
   "id": "0c7c44ce-1dc6-4f6c-82a2-e510eadd855f",
   "metadata": {
    "jp-MarkdownHeadingCollapsed": true
   },
   "source": [
    "## Chapter 6. A"
   ]
  },
  {
   "cell_type": "code",
   "execution_count": null,
   "id": "c547ebe1-9e47-4e76-ab04-595b3ff4b5fa",
   "metadata": {},
   "outputs": [],
   "source": []
  }
 ],
 "metadata": {
  "kernelspec": {
   "display_name": "Python [conda env:base] *",
   "language": "python",
   "name": "conda-base-py"
  },
  "language_info": {
   "codemirror_mode": {
    "name": "ipython",
    "version": 3
   },
   "file_extension": ".py",
   "mimetype": "text/x-python",
   "name": "python",
   "nbconvert_exporter": "python",
   "pygments_lexer": "ipython3",
   "version": "3.12.7"
  }
 },
 "nbformat": 4,
 "nbformat_minor": 5
}
