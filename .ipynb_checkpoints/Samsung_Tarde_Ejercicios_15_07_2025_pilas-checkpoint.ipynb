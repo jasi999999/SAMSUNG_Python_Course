{
 "cells": [
  {
   "cell_type": "markdown",
   "id": "c74d47c2",
   "metadata": {},
   "source": [
    "## Undiad 4. Ejercicios con Pilas\n",
    "\n",
    "\n",
    "Recordatorio:\n",
    "\n",
    "- La lista de Python se puede usar como una **Pila** (LIFO: Last In First Out). Para apilar elementos usamos `append(elemento)` y para desapilar un elemento usamos `pop()`."
   ]
  },
  {
   "cell_type": "code",
   "execution_count": 2,
   "id": "97c9073c-de42-422f-9b95-efc3b179af81",
   "metadata": {},
   "outputs": [],
   "source": [
    "class Stack:\n",
    "    def __init__(self):\n",
    "        self.stack = []\n",
    "        self.count = 0\n",
    "        \n",
    "    def push(self, obj):\n",
    "        self.stack.append(obj)\n",
    "        self.count += 1\n",
    "    \n",
    "    def pop(self):\n",
    "        if self.count > 0:\n",
    "            self.count -= 1\n",
    "            return self.stack.pop()\n",
    "        return None\n",
    "    \n",
    "    def is_empty(self):\n",
    "        return self.count == 0\n",
    "\n",
    "    def peek(self):\n",
    "        return None if self.is_empty() else self.stack[-1]\n",
    "\n",
    "    def to_string(self):\n",
    "        return [x for x in self.stack]\n",
    "\n",
    "    def size(self):\n",
    "        return self.count"
   ]
  },
  {
   "cell_type": "markdown",
   "id": "4c429af9",
   "metadata": {},
   "source": [
    "### Ejercicio 1. **Utilizando una Pila** crear la función `girar_cadena`, que dada una cadena, nos devuelva la cadena invertida.\n",
    "\n",
    "Ejemplo:\n",
    "\n",
    "`girar_cadena(\"casa\")` devolverá `\"asac\"`"
   ]
  },
  {
   "cell_type": "code",
   "execution_count": 3,
   "id": "b471c8a8",
   "metadata": {},
   "outputs": [
    {
     "data": {
      "text/plain": [
       "'asac'"
      ]
     },
     "execution_count": 3,
     "metadata": {},
     "output_type": "execute_result"
    }
   ],
   "source": [
    "def girar_cadena(s: str) -> str:\n",
    "    st = Stack()\n",
    "\n",
    "    for c in s:\n",
    "        st.push(c)\n",
    "\n",
    "    res = ''\n",
    "    while not st.is_empty():\n",
    "        res += st.pop()\n",
    "\n",
    "    return res\n",
    "\n",
    "girar_cadena(\"casa\")"
   ]
  },
  {
   "cell_type": "markdown",
   "id": "291356e4",
   "metadata": {},
   "source": [
    "### Ejercicio 2. **Utilizando una Pila** crear una función `binario_a_decimal` que obtenga el valor en decimal a partir de una cadena que expresa un número en binario. El número binario `1101` es el número `13` en decimal, puesto que `1*8 + 1*4 + 0*2 + 1*(2^0) = 13`"
   ]
  },
  {
   "cell_type": "code",
   "execution_count": 17,
   "id": "e4ffd7e5",
   "metadata": {},
   "outputs": [
    {
     "data": {
      "text/plain": [
       "13"
      ]
     },
     "execution_count": 17,
     "metadata": {},
     "output_type": "execute_result"
    }
   ],
   "source": [
    "# Preconidition: having earlier executed 'girar_cadena()'\n",
    "def binario_a_decimal(num: str) -> int:\n",
    "    st = Stack()\n",
    "\n",
    "    for c in girar_cadena(num):\n",
    "        st.push(int(c))\n",
    "\n",
    "    res = 0\n",
    "    while not st.is_empty():\n",
    "        res += st.pop() * 2**st.size()\n",
    "\n",
    "    return res\n",
    "\n",
    "binario_a_decimal('1101')"
   ]
  },
  {
   "cell_type": "markdown",
   "id": "a9b9ec48",
   "metadata": {},
   "source": [
    "### Ejercicio 3. **Utilizando una Pila** crear una función `quitar_duplicados_consecutivos` en la que dada una cadena, quitará las duplicidades de aquellos caracteres que aparezcan duplicados de forma consecutiva.\n",
    "\n",
    "**Ejemplo:**\n",
    "\n",
    "`quitar_duplicados_consecutivos(\"aabbbaccdeefefe\")` devolvería la cadena `\"abacdefefe\"`"
   ]
  },
  {
   "cell_type": "code",
   "execution_count": 4,
   "id": "58dad7c8",
   "metadata": {},
   "outputs": [
    {
     "data": {
      "text/plain": [
       "'abacdefefe'"
      ]
     },
     "execution_count": 4,
     "metadata": {},
     "output_type": "execute_result"
    }
   ],
   "source": [
    "# Preconidition: having earlier executed 'girar_cadena()'\n",
    "def quitar_duplicados_consecutivos(s: str) -> str:\n",
    "    st = Stack()\n",
    "\n",
    "    for c in girar_cadena(s):\n",
    "        st.push(c)\n",
    "    \n",
    "    res = ''\n",
    "    prev = ''\n",
    "    while not st.is_empty():\n",
    "        item = st.pop()\n",
    "        if item != prev:\n",
    "            res += prev\n",
    "            prev = item\n",
    "    res += prev\n",
    "    \n",
    "    return res\n",
    "\n",
    "quitar_duplicados_consecutivos(\"aabbbaccdeefefe\")"
   ]
  },
  {
   "cell_type": "markdown",
   "id": "3d305d45",
   "metadata": {},
   "source": [
    "### Ejercicio 4 NO SE HACE"
   ]
  },
  {
   "cell_type": "code",
   "execution_count": null,
   "id": "e1b42cc0",
   "metadata": {},
   "outputs": [],
   "source": []
  },
  {
   "cell_type": "markdown",
   "id": "9af57b80",
   "metadata": {},
   "source": [
    "### Ejercicio 5. **Utilizando una Pila** crear la función `esta_balanceado`, que dada una expresión de `()`, `[]` y `{}`, nos diga si para cada elemento abierto, se cierran de forma balanceada. \n",
    "\n",
    "**Ejemplo:**\n",
    "\n",
    "- `esta_balanceado(\"(()){}[[()]]\")` nos devolvería `True`\n",
    "- `esta_balanceado(\"(({}[[()]]\")` nos devolvería `False` (Los dos paréntesis del principio no se cierran)\n",
    "- `esta_balanceado(\"(()){}[[()]]]\")` nos devolvería `False` (Sobra el último `]`)"
   ]
  },
  {
   "cell_type": "code",
   "execution_count": 6,
   "id": "e64e75cc",
   "metadata": {},
   "outputs": [
    {
     "name": "stdout",
     "output_type": "stream",
     "text": [
      "True\n",
      "False\n",
      "False\n"
     ]
    }
   ],
   "source": [
    "def esta_balanceado(s: str) -> bool:\n",
    "    op = '[({'\n",
    "    cl = '])}'\n",
    "    st = Stack()\n",
    "\n",
    "    for c in s:\n",
    "        if c in op:\n",
    "            st.push(c)\n",
    "        elif c in cl:\n",
    "            if st.is_empty():\n",
    "                return False\n",
    "            stacked = st.pop()\n",
    "            if op.index(stacked) != cl.index(c):\n",
    "                return False\n",
    "    return st.is_empty()\n",
    "\n",
    "print(esta_balanceado(\"(()){}[[()]]\"))\n",
    "print(esta_balanceado(\"(({}[[()]]\"))\n",
    "print(esta_balanceado(\"(()){}[[()]]]\"))"
   ]
  },
  {
   "cell_type": "markdown",
   "id": "16115724",
   "metadata": {},
   "source": [
    "### Ejercicio 6. **Utilizando una Pila** crear la función `rpn_basic_calc`, donde dada una una expresión algebráica en notación RPN (Reverse Polish Notation), devuelva el resultado. Implementar `suma`, `resta`, `multiplicación` y `división`.\n",
    "\n",
    "**Consejo:** Tendrás una pila vacia en la que irás guardando los valores enteros que aparezcan en la expresión. Cuando veas una operación sacarás dos valores de la pila (ten en cuenta el orden), harás la operación y volverás a meter el resultado en la pila. Cuando termines la expresión, el elemento que esté encima de la pila, será el resultado.\n",
    "\n",
    "**Ejemplo:**\n",
    "\n",
    "- `rpn_basic_calc(\"1 2 +\")` devolverá `3`, puesto que `1 + 2 = 3`\n",
    "- `rpn_basic_calc(\"1 2 -\")` devolverá `-1`, puesto que `1 - 2 = -1`\n",
    "- `rpn_basic_calc(\"1 2 + 2 *\")` devolverá `6`, puesto que `(1 + 2) * 2 = 6`\n",
    "- `rpn_basic_calc(\"1 2 * 2 +\")` devolverá `4`, puesto que `(1 * 2) + 2 = 4`\n",
    "- `rpn_basic_calc(\"1 2 * 2 + 2 /\")` devolverá `2.0`, puesto que `((1 * 2) + 2) / 2 = 2.0`\n",
    "- `rpn_basic_calc(\"1 2 * 2 3 * + 2 /\")` devolverá `4.0`, puesto que `((1 * 2) + (2 * 3)) / 2 = 4.0`"
   ]
  },
  {
   "cell_type": "code",
   "execution_count": 33,
   "id": "4dd5aefd",
   "metadata": {},
   "outputs": [
    {
     "name": "stdout",
     "output_type": "stream",
     "text": [
      "[]\n",
      "['1']\n",
      "['1', '2']\n",
      "[2]\n",
      "[2, '2']\n",
      "[2, '2', '3']\n",
      "[2, 6]\n",
      "[2, 6, '+']\n",
      "[2, 6, '+', '2']\n"
     ]
    },
    {
     "ename": "ValueError",
     "evalue": "invalid literal for int() with base 10: '+'",
     "output_type": "error",
     "traceback": [
      "\u001b[1;31m---------------------------------------------------------------------------\u001b[0m",
      "\u001b[1;31mValueError\u001b[0m                                Traceback (most recent call last)",
      "Cell \u001b[1;32mIn[33], line 24\u001b[0m\n\u001b[0;32m     21\u001b[0m     \u001b[38;5;28mprint\u001b[39m(st\u001b[38;5;241m.\u001b[39mto_string())\n\u001b[0;32m     22\u001b[0m     \u001b[38;5;28;01mreturn\u001b[39;00m\n\u001b[1;32m---> 24\u001b[0m \u001b[38;5;28mprint\u001b[39m(rpn_basic_calc(\u001b[38;5;124m\"\u001b[39m\u001b[38;5;124m1 2 * 2 3 * + 2 /\u001b[39m\u001b[38;5;124m\"\u001b[39m))\n",
      "Cell \u001b[1;32mIn[33], line 12\u001b[0m, in \u001b[0;36mrpn_basic_calc\u001b[1;34m(s)\u001b[0m\n\u001b[0;32m     10\u001b[0m \u001b[38;5;28;01mif\u001b[39;00m c \u001b[38;5;241m==\u001b[39m \u001b[38;5;124m'\u001b[39m\u001b[38;5;124m*\u001b[39m\u001b[38;5;124m'\u001b[39m \u001b[38;5;129;01mor\u001b[39;00m c \u001b[38;5;241m==\u001b[39m \u001b[38;5;124m'\u001b[39m\u001b[38;5;124m/\u001b[39m\u001b[38;5;124m'\u001b[39m:\n\u001b[0;32m     11\u001b[0m     prev1 \u001b[38;5;241m=\u001b[39m \u001b[38;5;28mint\u001b[39m(st\u001b[38;5;241m.\u001b[39mpop())\n\u001b[1;32m---> 12\u001b[0m     prev2 \u001b[38;5;241m=\u001b[39m \u001b[38;5;28mint\u001b[39m(st\u001b[38;5;241m.\u001b[39mpop())\n\u001b[0;32m     13\u001b[0m     \u001b[38;5;28;01mif\u001b[39;00m c \u001b[38;5;241m==\u001b[39m \u001b[38;5;124m'\u001b[39m\u001b[38;5;124m*\u001b[39m\u001b[38;5;124m'\u001b[39m:\n\u001b[0;32m     14\u001b[0m         st\u001b[38;5;241m.\u001b[39mpush(prev1 \u001b[38;5;241m*\u001b[39m prev2)\n",
      "\u001b[1;31mValueError\u001b[0m: invalid literal for int() with base 10: '+'"
     ]
    }
   ],
   "source": [
    "# Preconidition: having earlier executed 'girar_cadena()'\n",
    "def rpn_basic_calc(s: str) -> int:\n",
    "    st = Stack()\n",
    "    op = list('+-/*')\n",
    "    \n",
    "    for c in list(s):\n",
    "        st.push(c)\n",
    "\n",
    "    while not st.is_empty():\n",
    "        e = st.pop()\n",
    "        if e in op:\n",
    "            prev1 = st.pop()\n",
    "            if prev1\n",
    "            prev2 = st.pop()\n",
    "            \n",
    "        \n",
    "    print(st.to_string())\n",
    "    return\n",
    "\n",
    "print(rpn_basic_calc(\"1 2 * 2 3 * + 2 /\"))"
   ]
  },
  {
   "cell_type": "code",
   "execution_count": null,
   "id": "f8079def-1d26-479f-83e0-496f334b42aa",
   "metadata": {},
   "outputs": [],
   "source": []
  }
 ],
 "metadata": {
  "kernelspec": {
   "display_name": "Python [conda env:base] *",
   "language": "python",
   "name": "conda-base-py"
  },
  "language_info": {
   "codemirror_mode": {
    "name": "ipython",
    "version": 3
   },
   "file_extension": ".py",
   "mimetype": "text/x-python",
   "name": "python",
   "nbconvert_exporter": "python",
   "pygments_lexer": "ipython3",
   "version": "3.12.7"
  }
 },
 "nbformat": 4,
 "nbformat_minor": 5
}
