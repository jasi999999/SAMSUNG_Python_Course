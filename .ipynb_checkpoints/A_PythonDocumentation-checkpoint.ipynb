{
 "cells": [
  {
   "cell_type": "markdown",
   "id": "a087b345-8313-4a87-95f4-eb07aca007de",
   "metadata": {},
   "source": [
    "## Python Documentation "
   ]
  },
  {
   "cell_type": "markdown",
   "id": "efaaf815-90a1-4a94-bb5d-0247e24a95b7",
   "metadata": {},
   "source": [
    "Current:\n",
    "- https://docs.python.org/3/tutorial/classes.html (at start)"
   ]
  },
  {
   "cell_type": "markdown",
   "id": "1c1f192c-fde7-4a09-812f-f4fc71292f66",
   "metadata": {
    "jp-MarkdownHeadingCollapsed": true
   },
   "source": [
    "# Done"
   ]
  },
  {
   "cell_type": "markdown",
   "id": "42086910-9c41-4021-9473-a578a63391f5",
   "metadata": {
    "jp-MarkdownHeadingCollapsed": true
   },
   "source": [
    "## Python Interpreter"
   ]
  },
  {
   "cell_type": "markdown",
   "id": "1d4fee54-1848-4bd5-b970-e62e3bdba3df",
   "metadata": {},
   "source": [
    "Add:\n",
    "- ```#!/usr/bin/env python3```: (shebang) to declare the file as an executable, ```./script.py```.\n",
    "- ```# -*- coding: cp1252 -*-```: to declare what ASCII encoding you are gona use in the file.\n",
    "- In Python interpreter, underscore is like the ANS calculator button."
   ]
  },
  {
   "cell_type": "code",
   "execution_count": 25,
   "id": "1601bbf7-f1e0-404f-816a-eed2b2ae7b4c",
   "metadata": {},
   "outputs": [],
   "source": [
    "#!/usr/bin/env python3\n",
    "# -*- coding: cp1252 -*"
   ]
  },
  {
   "cell_type": "markdown",
   "id": "2ba89b94-7807-4fbe-94ea-91749899d1c6",
   "metadata": {
    "jp-MarkdownHeadingCollapsed": true
   },
   "source": [
    "## Informal intro to Python"
   ]
  },
  {
   "cell_type": "markdown",
   "id": "059beaa5-7b14-4841-b3da-ac760a4e8e87",
   "metadata": {},
   "source": [
    "### Strings"
   ]
  },
  {
   "cell_type": "markdown",
   "id": "a5579923-7baf-4873-b71f-c78cea4c4275",
   "metadata": {},
   "source": [
    "- Function **round(num, digits)**: to round numbers to wanted digits.\n",
    "- Usage of **\\\\** (escape) to use special characters such us \".\n",
    "- Usage fo **raw strings** (**r**) in a print function to print it **raw** not caring about the escapes. Take into account that the backlashes number must be even. You can prevent it by duplicating them.\n",
    "- Multiline comments: preserve the *saltos de linea* ```\"\"\" \"\"\"``` y ```''' '''```. Use of **\\\\** to not preserve the *salto de linea*.\n",
    "- **String literals**: si juntos, se concatenan automaticamente (**only literals**, not variables). Use to break long strings.\n",
    "- Strings are **indexed**. Starting at 0 and going forwards with positive and backwards with negative (**careful with out of range errors**).\n",
    "- Strings can be sliced. **Slicing**: from start (**included**) to finish (**excluded**). Like: ```s[i, j)```.\n",
    "  - If *finish is out of range*, doesn't care, it' show what's got before.\n",
    "  - If *starting point is out of range*, gives empty.\n",
    "  - If no start or finish, it'll take the strings start and finish as a default.\n",
    "  - Rule ```s = s[:i] + s[i:]```.\n",
    "  - Strings are immutable, **no assigning possible**.\n",
    "- Function **len(string)**: return the length of the string.\n",
    "- Function **string.upper()**: returns a copy of string changed to upper case (**not the original**).\n",
    "\n",
    "#### Faltan:\n",
    "- https://docs.python.org/3/library/stdtypes.html#string-methods (**str methods**)\n",
    "- https://docs.python.org/3/reference/lexical_analysis.html#f-strings (**str formatting**)"
   ]
  },
  {
   "cell_type": "code",
   "execution_count": 4,
   "id": "6c16e140-b186-4111-9c8e-ccd8608d1891",
   "metadata": {},
   "outputs": [
    {
     "name": "stdout",
     "output_type": "stream",
     "text": [
      "5.23\n",
      "C:\\\\Users\\\\name\\\\jesus\n",
      "Python\n",
      "Pyyyyxyython\n",
      "P\n",
      "x\n",
      "Pyyyy\n",
      "\n",
      "yy\n",
      "Pyyyyxyy\n",
      "8\n",
      "PYYYYXYY Pyyyyxyy\n"
     ]
    }
   ],
   "source": [
    "print(round(5.23451, 2))                     # round(num, digits)\n",
    "print(r\"C:\\\\Users\\\\name\\\\jesus\")             # \"raw\" string\n",
    "print('Py' \n",
    "      'thon')                                # String literal authomatically concatenating\n",
    "prefix = 'Pyyyyxyy'\n",
    "print(prefix + 'thon')                       # Concatenation of strings\n",
    "print(prefix[0])                             # Indexed strings positive\n",
    "print(prefix[-3])                            # Indexed strings negative\n",
    "print(prefix[0:5])                           # Sliced string with ending out of range\n",
    "print(prefix[10:])                           # Sliced string with starting out of range\n",
    "print(prefix[-2:])                           # Sliced from -2 until the end\n",
    "print(prefix[:3] + prefix[3:])               # Rule s = s[:i] + s[i:]\n",
    "print(len(prefix))                           # len(string)\n",
    "print(prefix.upper(), prefix)                # upper(string)"
   ]
  },
  {
   "cell_type": "markdown",
   "id": "d618c562-8477-4273-9690-1ec282eaed74",
   "metadata": {},
   "source": [
    "### Lists"
   ]
  },
  {
   "cell_type": "markdown",
   "id": "0d647b68-aca5-4c34-a42d-7705f726a397",
   "metadata": {},
   "source": [
    "- Compound data types, to group together other values.\n",
    "- Can be indexed, sliced and concatenated.\n",
    "- They are mutable, **can be changed**.\n",
    "- Usage of **object.append(new_object)**: to add at the end of the list.\n",
    "- If there's 2 references to one list, **they're the same**.\n",
    "- Slicing can be used to replace values too.\n",
    "- Use of **len()** also possible.\n",
    "- Nesting lists is possible."
   ]
  },
  {
   "cell_type": "code",
   "execution_count": 27,
   "id": "01cd5ddc-21c5-4922-aae5-bff2dd12cf13",
   "metadata": {},
   "outputs": [
    {
     "name": "stdout",
     "output_type": "stream",
     "text": [
      "[0, 'hello', 5, 4, 5, 6]\n",
      "[0, 'hello', 5, 4, 5, 6, 3004]\n",
      "[0, 'hello', 5, 4, 5, 6, 3004]\n",
      "[0, 'hello']\n",
      "[0, 'hello', 'C', 7, 7, 7, 6, 3004]\n",
      "[0, 'hello', 7, 6, 3004]\n",
      "[]\n",
      "[[7, 8, 9], [2, 3, 4, 5, 6]]\n",
      "8\n"
     ]
    }
   ],
   "source": [
    "list1 = [0, \"hello\", 5, 4, 5, 6]\n",
    "list2 = list1\n",
    "list3 = [0, \"hello\"]\n",
    "\n",
    "print(list1)\n",
    "list1.append(3004)                  # object.append(new_val)\n",
    "print(list1)\n",
    "print(list2)                        # list2 referencia el mismo objeto (misma list)\n",
    "print(list3)\n",
    "list1[2:5] = ['C', 7, 7, 7]         # Slicing to replace values\n",
    "print(list1)\n",
    "list1[2:5] = []                     # Slicing to \"delete\" values\n",
    "print(list1)\n",
    "list1[:] = []                       # Clear list\n",
    "print(list1)\n",
    "list1[:] = [2, 3, 4, 5, 6]          # Add values to an empty list\n",
    "list1 = [7, 8, 9]                   # As I created a new list, list1 != list2\n",
    "list4 = [list1, list2]              # Nesting lists\n",
    "print(list4)\n",
    "print(list4[0][1])                  # Access to the 1 position of the 0 position in the list4"
   ]
  },
  {
   "cell_type": "markdown",
   "id": "6169ec92-94ae-44f9-a6c2-ec507f1e88da",
   "metadata": {},
   "source": [
    "### First steps towards programming"
   ]
  },
  {
   "cell_type": "markdown",
   "id": "cc4ecde2-516a-4cb7-8ce7-e9b601664234",
   "metadata": {},
   "source": [
    "Example has:\n",
    "- Multiple assignment.\n",
    "- While loop and indented body to keep repeating.\n",
    "- Usage of **end = \",\"** in the print function."
   ]
  },
  {
   "cell_type": "code",
   "execution_count": null,
   "id": "cc007e7e-7bfb-4c67-bedf-1a0bd6ae2ce1",
   "metadata": {},
   "outputs": [],
   "source": [
    "# Fibonacci series:\n",
    "# the sum of two elements defines the next\n",
    "a, b = 0, 1\n",
    "while a < 10:\n",
    "    print(a, end = \", \")\n",
    "    a, b = b, a + b"
   ]
  },
  {
   "cell_type": "markdown",
   "id": "e7467c64-23b2-4304-9d72-6845eb105845",
   "metadata": {
    "jp-MarkdownHeadingCollapsed": true
   },
   "source": [
    "## Control flow"
   ]
  },
  {
   "cell_type": "markdown",
   "id": "0f7d3b35-e5f8-44f8-ac08-ef47c0603c00",
   "metadata": {},
   "source": [
    "### **If** statements"
   ]
  },
  {
   "cell_type": "markdown",
   "id": "cf76ebbd-d6e7-4c32-8bf3-d4beae6a7c1c",
   "metadata": {},
   "source": [
    "- Typical if + ```elif``` statement"
   ]
  },
  {
   "cell_type": "markdown",
   "id": "5e3c2e48-b452-476f-8d07-f674eadf89d1",
   "metadata": {},
   "source": [
    "### **For** statements"
   ]
  },
  {
   "cell_type": "markdown",
   "id": "eb222819-cf7f-4c72-a291-2a7e45012e42",
   "metadata": {},
   "source": [
    "- Typical for statement\n",
    "- ```for x in list```: assigns to x every value in list through the loop.\n",
    "- Iteration thorugh the copy of a collection.\n",
    "- Function **object.copy()**: creates a copy of the object.\n",
    "- Function **object.items()**: accesses the items in the object (in this case, the pair Clave-Valor).\n",
    "- Multiple assignment in for: in this case for a collection.\n",
    "- Function **range(start, end, increment)**: to create a list of n numbers. **Excluded end** (from 0 to n - 1), **included start**. Range **does not return a list**. Only **for integers**, for real numbers (on step function, specially), use **arrange()** in *numpy* module.\n",
    "- Index can be using **range()** or **len()**.\n",
    "- The iterating variable can be anyone or **none (_)**.\n",
    "- Function **enumerate(lista)**: return a tuple (index, lista[index]). Can use a starting point for the index (start=num).\n",
    "- Function **sum()**: sumatory function (*de facto* reserved)."
   ]
  },
  {
   "cell_type": "code",
   "execution_count": 5,
   "id": "58095b3f-c2f4-4292-b8c3-612620d70be2",
   "metadata": {},
   "outputs": [
    {
     "name": "stdout",
     "output_type": "stream",
     "text": [
      "[0, 3, 6, 9] [10, 8, 6, 4, 2, 0, -2]\n",
      "H\n",
      "H\n",
      "H\n",
      "5050\n",
      "['as', 'we', 'we', 'we', 'd']\n",
      "[(2, 'as'), (3, 'we'), (4, 'we'), (5, 'we'), (6, 'd')]\n"
     ]
    }
   ],
   "source": [
    "users = {'Hans': 'active', 'Éléonore': 'inactive', '景太郎': 'active'}\n",
    "\n",
    "for user, status in users.copy().items():                # Multiple assignment, copy() and items()\n",
    "    # user = claves, status = valores\n",
    "    pass\n",
    "\n",
    "list1 = list(range(0, 10, 3))                            # Function range() positive increment\n",
    "list2 = list(range(10, -3, -2))                          # Function range() negative increment\n",
    "print(list1, list2)\n",
    "\n",
    "for _ in range(3):                                       # Does not use the iterating variable\n",
    "    print(\"H\")\n",
    "\n",
    "print(sum(range(1, 101)))                                # Function sum()\n",
    "list1 = ['as', 'we', 'we', 'we', 'd']\n",
    "list2 = list(enumerate(list1, start=5))                  # enumerate()\n",
    "print(list1)\n",
    "print(list2)"
   ]
  },
  {
   "cell_type": "markdown",
   "id": "11cb41f1-0732-4b10-b5c2-f0c0a31b505c",
   "metadata": {},
   "source": [
    "### **Break**,  **continue**, **else** and **pass** statements on loops"
   ]
  },
  {
   "cell_type": "markdown",
   "id": "9487329b-aac6-480d-8b25-e7a93bb3a74a",
   "metadata": {},
   "source": [
    "- **Break**: typical going to end of loop (exits it). Use as little as possible (**refactor code**).\n",
    "- **Continue**: typical going to next iteration. Use as little as possible (**refactor code**).\n",
    "- **else**: executes after finishing the loop.\n",
    "- **pass**: typical empty instruction."
   ]
  },
  {
   "cell_type": "markdown",
   "id": "0b2a3271-c3be-4685-8edc-7b0c4ab2c350",
   "metadata": {},
   "source": [
    "### **Match** (switch) statement"
   ]
  },
  {
   "cell_type": "markdown",
   "id": "1cc9ed47-9797-4054-8b20-060372694aef",
   "metadata": {},
   "source": [
    "- **Match**: typical *switch*/*case*.\n",
    "- **Underscore** (_): also works as *wildcard*.\n",
    "- Several options for a case scenario can be used.\n",
    "- Case scenario can be a tuple too.\n",
    "- Case scenario can have an **if()** statement.\n",
    "- **Classes** and **lists** and be used too in the case (not shown in the example).\n",
    "- Subpatterns with keyword **as** (also not shown)."
   ]
  },
  {
   "cell_type": "code",
   "execution_count": 58,
   "id": "942ccf48-b06d-43b0-bafc-c1a753df5857",
   "metadata": {},
   "outputs": [
    {
     "name": "stdout",
     "output_type": "stream",
     "text": [
      "G\n"
     ]
    }
   ],
   "source": [
    "status = (1, 1)\n",
    "\n",
    "match status:\n",
    "    case 1 | 5 | 7:                    # Several options in a case scenario\n",
    "        print(\"J\")\n",
    "    case (1, y) if (y > 0):            # Tuple and if use case\n",
    "        print(\"G\")\n",
    "    case _:                            # Underscore use as wildcard\n",
    "        print(\"H\")"
   ]
  },
  {
   "cell_type": "markdown",
   "id": "774f1a0a-3612-4d22-9cc6-3b7a32791e19",
   "metadata": {},
   "source": [
    "### Defining **Functions**"
   ]
  },
  {
   "cell_type": "markdown",
   "id": "97940fdd-13a2-49f6-bb6a-8b75917c61ad",
   "metadata": {},
   "source": [
    "- Keyword **def**: to define functions.\n",
    "- If function is printed, it'll show the location of the function.\n",
    "- Parameters are passed throught the  parenthesis.\n",
    "- Variables created inside the function are **local** unless named **global**.\n",
    "- **Optional parameters**: have a ```=``` with the default parameter selected.\n",
    "  - **Do not give a mutable object as default parameter**, beacuse of **referencing**.\n",
    "- Arguments in function can be passed: by **keyword=val** or **position**. Though duplicated arguments returns Error, same as putting a non-keyword argument behind a keyword one.\n",
    "- ***arg0**: receives a tuple.\n",
    "- ****arg1**: receives a dictionary.\n",
    "- Markers ```/``` and ```*```: restricts input to **positional** and **keyword-only** arguments respectively when appearing. It's good to prevent errors between arguments and following mutable objects."
   ]
  },
  {
   "cell_type": "code",
   "execution_count": 50,
   "id": "07460532-f4eb-429f-a4df-f59a10ca1b34",
   "metadata": {},
   "outputs": [
    {
     "name": "stdout",
     "output_type": "stream",
     "text": [
      "<function function1 at 0x0000025D83901300>\n",
      "(3, [3])\n",
      "(9, [3, 9])\n",
      "15 [564, 755, 15]\n",
      "[564, 755, 15, 3, '4', '5']\n",
      "0\n",
      "1\n",
      "sdac, asd, ased, ada : asdc, ajsd : 12, asd : ads23, \n",
      "4 5 6 7 m n 2 3 5\n"
     ]
    }
   ],
   "source": [
    "def function1(params, optional=1, L=[]):                            # Params is a LOCAL variable that receives whatever input.\n",
    "    \"\"\"Documentatio string (Docstring)\"\"\"\n",
    "    params += 1 + optional\n",
    "    L.append(params)\n",
    "    return params, L\n",
    "\n",
    "def function2(a, L=None):\n",
    "    if L is None:\n",
    "        L = []\n",
    "    L.append(a)\n",
    "\n",
    "print(function1)                                  # Prints location of the function\n",
    "print(function1(1))\n",
    "print(function1(1, 7))                            # Optional parameter usage\n",
    "p, l = function1(1, 13, [564, 755])                           # Default list is modified with every access\n",
    "print(p, l)\n",
    "\n",
    "function2('pepeeee')                              # L not passed as an argument\n",
    "function2(3, l)                                   # L passed as an argument\n",
    "function2('4', l)                                 # Arguments passed by position\n",
    "function2(a='5', L=l)                             # Arguments passed by keyword\n",
    "print(l)\n",
    "\n",
    "function1 = 0\n",
    "print(function1)                                  # Overrides the function\n",
    "\n",
    "def function3(a, *list1, **dict1):\n",
    "    print(a)\n",
    "    for i in list1:\n",
    "        print(i, end=\", \")\n",
    "    for i in dict1:\n",
    "        print(i, \":\", dict1[i], end=\", \")\n",
    "\n",
    "function3(1, 'sdac', 'asd', 'ased', ada='asdc', ajsd=12, asd='ads23')\n",
    "print()\n",
    "def function4(a, b, c, d, /, e, f='n', *, g=2, h=3, i=5):\n",
    "    print(a, b, c, d, e, f, g, h, i)\n",
    "\n",
    "# function4(4, 5, c=6, d=7) would return error as all arguments before \"/\" must be positional\n",
    "function4(4, 5, 6, 7, e='m')                      # This is fine, as arguments between \"/\" and \"*\" can be or not keyworded/positioned"
   ]
  },
  {
   "cell_type": "markdown",
   "id": "e4927ecf-777a-468d-830a-ca88ad7b520e",
   "metadata": {},
   "source": [
    "### Arbitrary and unpacking **argument** Lists and Dictionaries"
   ]
  },
  {
   "cell_type": "markdown",
   "id": "7c80d5e1-31fd-481a-8afa-a2bc4367c0b6",
   "metadata": {},
   "source": [
    "- **Unpacking** arguments with the **asterisc (*)**. Being one asterisc (*) for tuples or lists and two asteriscs (**) for dictionaries. Unpacking a dictionary means it's the **dictionary's keys** being unpacked."
   ]
  },
  {
   "cell_type": "code",
   "execution_count": 13,
   "id": "7e9dd7cf-bcc6-4842-9f6f-3048b16e0075",
   "metadata": {},
   "outputs": [
    {
     "name": "stdout",
     "output_type": "stream",
     "text": [
      "[3, 4, 5]\n",
      "hhe\n",
      "a\n",
      "12345678\n",
      "None hooooo None\n",
      "hola hello hallo\n"
     ]
    }
   ],
   "source": [
    "lista = [3, 6]\n",
    "lista2 = list(range(*lista))                # Unpacking elements\n",
    "print(lista2)\n",
    "\n",
    "def stringses(*args):                       # Arbitrary argument list\n",
    "    for i in args:\n",
    "        print(i, end=\"\")\n",
    "    print()\n",
    "\n",
    "stringses('h', 'h', 'e')\n",
    "stringses('a')\n",
    "stringses(1, 2, 3, 4, 5, 6, 7, 8)\n",
    "\n",
    "def piction(pal1=None, pal2='hooooo', pal3=None):\n",
    "    print(pal1, pal2, pal3)\n",
    "    \n",
    "d = {'pal1': 'hola', 'pal2': 'hello', 'pal3': 'hallo'}\n",
    "piction()\n",
    "piction(**d)                                # Unpacking dictionary's keys"
   ]
  },
  {
   "cell_type": "markdown",
   "id": "763b1d80-136a-4926-89c3-c642bc5763f8",
   "metadata": {},
   "source": [
    "### Lambda expressions"
   ]
  },
  {
   "cell_type": "markdown",
   "id": "51f80cc7-3d93-4332-9fd8-3e9e996b16cc",
   "metadata": {},
   "source": [
    "- They are used as anonymous, samll **inline functions**. So ```lambda arguments: expression``` means that is going to take the argumnets given and return the expression shown."
   ]
  },
  {
   "cell_type": "code",
   "execution_count": 53,
   "id": "37a71bf4-3cf0-45c4-99e3-5ecdbdaf5a33",
   "metadata": {},
   "outputs": [
    {
     "name": "stdout",
     "output_type": "stream",
     "text": [
      "43\n",
      "[(4, 'four'), (1, 'one'), (3, 'three'), (2, 'two')]\n"
     ]
    }
   ],
   "source": [
    "def function1(n):\n",
    "    return lambda x: x + n\n",
    "\n",
    "var = function1(42)                           # var gets assigned the function1 with an n-value of 42 \n",
    "var(3)                                        # var gets executes 42 with the new argument\n",
    "print(var(1))\n",
    "\n",
    "pairs = [(1, 'one'), (2, 'two'), (3, 'three'), (4, 'four')]\n",
    "pairs.sort(key=lambda pair: pair[1])          # Sorts by second element of the tuple, as pair selects and items and pair[1] returns the second item\n",
    "print(pairs)"
   ]
  },
  {
   "cell_type": "markdown",
   "id": "78b36f04-523c-4ca0-96fe-7bc4cc3da87e",
   "metadata": {},
   "source": [
    "### Documentation strings"
   ]
  },
  {
   "cell_type": "markdown",
   "id": "5e12c589-9225-459b-b28f-2893d4acf563",
   "metadata": {},
   "source": [
    "- These comments belong to the start of the function and define the work of it. They also remain indented and can be seen when calling ```function.__doc__```."
   ]
  },
  {
   "cell_type": "code",
   "execution_count": 38,
   "id": "846b5adf-df2a-4365-9636-38065dabaad2",
   "metadata": {},
   "outputs": [
    {
     "name": "stdout",
     "output_type": "stream",
     "text": [
      "\n",
      "    HElo\n",
      "    \n",
      "    \n",
      "    This is a documentated string and belogs to the start of the function to define it.\n",
      "    \n"
     ]
    }
   ],
   "source": [
    "def ff():\n",
    "    \"\"\"\n",
    "    HElo\n",
    "    \n",
    "    \n",
    "    This is a documentated string and belogs to the start of the function to define it.\n",
    "    \"\"\"\n",
    "    pass\n",
    "\n",
    "print(ff.__doc__)"
   ]
  },
  {
   "cell_type": "markdown",
   "id": "9b55b7fe-4801-422e-8ae6-a89e4da48335",
   "metadata": {},
   "source": [
    "### Function Annotations"
   ]
  },
  {
   "cell_type": "markdown",
   "id": "e41f9db4-b40b-4126-b4e7-c6a9bfb60f4e",
   "metadata": {},
   "source": [
    "- **Two-dots (:)**: followed by Data Type means that function expects THAT DataType.\n",
    "- **Arrow (-> DataType)**: indicates that the function will return that DataType.\n",
    "- **function_name.__annotations__**: returns the \"annotations\" of the functions, such as arguments and return **DataTypes that are predefined**."
   ]
  },
  {
   "cell_type": "code",
   "execution_count": 52,
   "id": "28ee6a6e-fc2c-4c09-ba95-4548df60790a",
   "metadata": {},
   "outputs": [
    {
     "name": "stdout",
     "output_type": "stream",
     "text": [
      "{'arg1': <class 'int'>, 'arg2': <class 'str'>, 'return': <class 'str'>}\n",
      "3hello\n"
     ]
    }
   ],
   "source": [
    "def functione(arg1:int, arg2:str, arg3, arg4=\"hello\") -> str:         # Returns a string\n",
    "    print(functione.__annotations__)             # Prints predefined dataTypes of args and return\n",
    "    return str(arg1) + arg2\n",
    "\n",
    "s = functione(3, 'hello', 5)\n",
    "print(s)"
   ]
  },
  {
   "cell_type": "markdown",
   "id": "6017c694-5fda-4b50-aca2-d3a03d9fdd2d",
   "metadata": {},
   "source": [
    "### Intermezzo: Coding Style"
   ]
  },
  {
   "cell_type": "markdown",
   "id": "bab7e694-1d67-418a-ab2e-02e71b50fc70",
   "metadata": {},
   "source": [
    "- 4 spaces indentation.\n",
    "- 79 characters per line.\n",
    "- Blank lines to separate functions and classes.\n",
    "- Comments on a line.\n",
    "- Use docstrings\n",
    "- Spaces around operators and after commas.\n",
    "- UpperCamelCase for classes and snake_style for functions and methods.\n",
    "- Prioritize ASCII chars."
   ]
  },
  {
   "cell_type": "markdown",
   "id": "f16125a4-22a5-40d9-9a80-b4fc1c7ab9c6",
   "metadata": {
    "jp-MarkdownHeadingCollapsed": true
   },
   "source": [
    "## Data Structures"
   ]
  },
  {
   "cell_type": "markdown",
   "id": "62919e44-30ea-4ad3-8441-96c1812a1038",
   "metadata": {},
   "source": [
    "- **List functions**: **lista.append(x)**, **l.extend(x)**, **l.insert(x, i)**, **l.remove(x)**, **l.pop(i)**, **l.clear()**, **l.index(x, start, end)**, **l.count(x)**, **l.sort()**, **l.reserve()**, **l.copy()**.\n",
    "- List as **stack**: adds and removes at the end with **stack.append(x)** and **s.pop()**.\n",
    "- List as **queues**: ```from collections import deque``` to have fast appends an pops from both ends, with the typical and **queue.popleft(x)** and **q.popleft()**.\n",
    "- **Comprehension lists**: normal and nested: seen already.\n",
    "- Function **zip(*args)**: treats arguments from different given iterable objects at the same time until one of then it's done. Seen below.\n",
    "- Statement **del obj**: typical.\n",
    "- **Tuple** and **Sequences**: immutable lists are created better with **seq()** and **var = ()**. Careful with one element tuples as they can induce to error (not evaluated as tuple but parenthesis). Behaviour of list, tuple and range may change depending on some actions, normally it's better to convert to lists.\n",
    "- **Sets**: mathematical, unordered, **unrepeated** groups of elements. Use **set()** to create them (empty set). Or a dicitonary with no values, such us. **Functions**: **s1 | s2**, **s1.union(s2)**, **s1 - s2**, **s1.difference(s2)**, **s1 & s2**, **s1.intersection(s2)**, **s1 ^ s2**, **s1.symmetric_difference(s2)**.\n",
    "- **Dictionaries**: known already.\n",
    "- Function **enumerate(lista)**: returns the index and the item in every iteration.\n",
    "- Conditions can be concatenated (but careful with what are you **actually concatenating, especially with or operators**). You can also compare lsits, tuple, dicts... Evaluates and compares item after items until ending the comparation."
   ]
  },
  {
   "cell_type": "code",
   "execution_count": 81,
   "id": "f02e312a-1d0b-41fd-b3e7-8e11d9f8e0ba",
   "metadata": {},
   "outputs": [
    {
     "name": "stdout",
     "output_type": "stream",
     "text": [
      "1 2 3 4 5 2\n",
      "2 3 4 5\n",
      "[4, 16, 36, 64]\n",
      "4 9 14 \n",
      "{1}\n",
      "True\n"
     ]
    }
   ],
   "source": [
    "from collections import deque\n",
    "\n",
    "q = deque([2, 3, 4, 5])                                      # Queues\n",
    "q.append(2)\n",
    "q.appendleft(1)\n",
    "print(*q)\n",
    "q.pop()\n",
    "q.popleft()\n",
    "print(*q)\n",
    "print([x**2 for x in range(1, 9) if x % 2 == 0])             # Comprehension lists\n",
    "\n",
    "l1 = [1, 2, 3, 4, 5]\n",
    "l2 = [1, 3, 5, 7]\n",
    "l3 = [2, 4, 6]\n",
    "for a, b, c in zip(l1, l2, l3):                              # Function zip()\n",
    "    print(a + b + c, end=\" \")\n",
    "print()\n",
    "\n",
    "print(set([1, 2]).symmetric_difference(set([2])))            # Symmetric difference\n",
    "\n",
    "print([1, 2, 3, 6, 5, 2] > [1, 2, 3, 5, 2])                  # Compare you iterables (no nesting)"
   ]
  },
  {
   "cell_type": "markdown",
   "id": "d546f861-1092-4528-8139-6b3b41569a20",
   "metadata": {
    "jp-MarkdownHeadingCollapsed": true
   },
   "source": [
    "## Modules"
   ]
  },
  {
   "cell_type": "markdown",
   "id": "b1e8a9fc-6bfb-41f0-9ae7-a96a581d1919",
   "metadata": {},
   "source": [
    "- To split your programme in different files, you will need to create *scripts* and *modules*.\n",
    "- **Module**: Python script that has definitions such us classes, methods, functions that **will be imported to a different script**.\n",
    "- **Script**: made to be **executed** instead of **imported**.\n",
    "- Calling: ```import module```.\n",
    "- Imported functions can be assigned to local variables for easier calling.\n",
    "- Modules can be imported entirely, ```from module import *```, or just certain defintions, ```from package import def1, def2```. If the whole module is imported, when calling it a definition from it, the module must be mentioned ```print(math.pi)```, whereas if a definition of the module is imported, there is no need to mention the module when calling the definition ```print(pi)```. Importing all ```*``` it's frowned upon.\n",
    "- Executing modules as scripts: adding the code below at the end of the script makes it \"callable\".\n",
    "  - If **file imported**, ```__name__``` is the name of the module.\n",
    "  - If **file executed**, ```__name__``` is set to ```__main__```.\n",
    "  - ```if __name__ == \"__main__\"``` checks if file is being passed as script.\n",
    "  - ```import sys``` to use command-line arguments.\n",
    "  - ```sys.argv[0]``` equals ```script_name.py```.\n",
    "  - ```fib(int(sys.argv[1]))``` is the first given argument (converted to integer) passed to function.\n",
    "- When importing, the Python interpreter looks for the module in it's built-in libraries, afterwards, in your directory files with ```sys.path``` search list.\n",
    "- **Compiling**: Python automatically compiles files and stores them in ```__pychache__``` with names such as ```name.cpython-version.pyc``` and updates them ath the moment. Optimization can be done by applying the following and resulting in smaller and ```opt-``` tagged files:\n",
    "  - ```-o``` removes **assert** statements.\n",
    "  - ```-oo``` removes **assert and docstrings**.\n",
    "- ```-pyc``` makes programms **load faster not run faster**.\n",
    "- ```compileall``` can be used to precompile the module.\n",
    "- **Standard modules**: are the modules built-in within Python, will be seen afterwards.\n",
    "- Function **dir(module)**: returns the names a module defines (returned as list of strings). ```dir()``` returns the list of names defined currently.\n",
    "- **```import builtins```**: used to see the **functions and methods** in module, ```dir(builtins)``` shows everything by default.\n",
    "- **Packages**: they have modules and other definitions. The only important thing is to know that, when importing an item, be careful to know if the items being imported are modules, classes, functions... The rest is just a typical import.\n",
    "- **Careful when using ```from package import *```**: ```__init__.py``` defines a list ```__all__``` with all the module names to import when the instruction is given. If it is not defined, it imports all the names defined in ```__init__.py```, but not submodules.\n",
    "- **Everything defined in the list ```__all__``` in ```__init__.py``` will be imported**, not mattering if it is a module, a function or whatever, as long as there is a definition of it, for example, a function inside a module can be in the list even if the module is not. If there are name collisiones, the later definition will overwrite the earlier one.\n",
    "- **Intra-package references**: similar to **directory navigation**. Example: ```from ..filter impor this_thing```, which means, in the father directory of this, there is the filter directory and from it import *this_thing*.\n",
    "- Packages in **different directories**: if the package is in a very different place, you can modify the variable ```__path__``` in the ```__init__py``` file doing as in this example: ```__path__.append(os.path.abspath(\"../extra_modules\"))```"
   ]
  },
  {
   "cell_type": "code",
   "execution_count": 21,
   "id": "928d5203-98e8-4e6d-9fe4-ade3a242ba5f",
   "metadata": {},
   "outputs": [
    {
     "name": "stdout",
     "output_type": "stream",
     "text": [
      "3.141592653589793\n",
      "['In', 'Out', '_', '_1', '_10', '_11', '_12', '_13', '_14']\n",
      "['ArithmeticError', 'AssertionError', 'AttributeError', 'BaseException', 'BaseExceptionGroup', 'BlockingIOError', 'BrokenPipeError', 'BufferError', 'BytesWarning']\n",
      "['C:\\\\Users\\\\Pablo\\\\anaconda3\\\\Lib\\\\site-packages\\\\numpy']\n"
     ]
    }
   ],
   "source": [
    "import math\n",
    "\n",
    "print(math.pi)             # As module is imported, you need to mention it when calling a definition\n",
    "\n",
    "if __name__ == \"__main__\": # Code to be added to make the script \"callable\"\n",
    "    import sys\n",
    "     # fib(int(sys.argv[1]))\n",
    "\n",
    "print(dir()[0:9])          # Names defined currently (only 10 firsts)\n",
    "import builtins as b\n",
    "print(dir(b)[0:9])         # Names defined currently (only 10 firsts)\n",
    "import numpy as np\n",
    "print(np.__path__)         # Shows the path to the module"
   ]
  },
  {
   "cell_type": "code",
   "execution_count": 3,
   "id": "ed1200e0-0875-47b2-8d23-9a31c5adfd96",
   "metadata": {},
   "outputs": [
    {
     "name": "stdout",
     "output_type": "stream",
     "text": [
      "3.141592653589793\n"
     ]
    }
   ],
   "source": [
    "from math import pi\n",
    "\n",
    "print(pi)                # As a definition is called, no need to mention the module in the call"
   ]
  },
  {
   "cell_type": "markdown",
   "id": "4d21c7c2-021b-40a4-a041-dd614d60cb3c",
   "metadata": {
    "jp-MarkdownHeadingCollapsed": true
   },
   "source": [
    "## Input and Output"
   ]
  },
  {
   "cell_type": "markdown",
   "id": "aebdf54d-7cad-4cb5-bd71-a1254d67480c",
   "metadata": {},
   "source": [
    "- **Fancier output formatting**: with **formatted string literals** or **str.format()**.\n",
    "- Function **str(element)**: converts to string the element.\n",
    "- Function **repr(element)**: converts to string and shows everything that the Python interpreter sees.\n",
    "- **Formatted string literals**: shown as ```f\"string {literal value}\"```.\n",
    "  - Passing with **two dots (:)**: ```{number:5.4f}``` is a float number with 5 spaces and 4 decimal points.\n",
    "    - ```f```: fixed.point decimal.\n",
    "    - ```e```: scientific notation lowercase.\n",
    "    - ```E```: scientific notation uppercase.\n",
    "    - ```g```: fixed or scientific notation, shortest one.\n",
    "    - ```G```: same as ```g``` but uses ```E``` if scientific is used.\n",
    "    - ```%```: percentages. Multiplies by 100 and adds the sign.\n",
    "  - Passing with **exclamation sign (!)**: ```{num!r}```, ```!a``` applies **ascii**, ```!r``` applies **repr()** and ```!s``` applies **str()**.\n",
    "  - Passing an **equal sign (num=)**: prints the number with the variable and name: ```var=```.\n",
    "- **String format method**: is mildly annoying.\n",
    "  - Similar to formatted string literal but the variables are defined at the end.\n",
    "- **Manual string formatting**: it's very annoying. Use the functions **string.rjust(n)**, **s.ljust(n)** or **s.center(n)** to **right-justify n spaces**, left-justify or center the text.\n",
    "- Function **s.zfill(n)**: fills with zeros on the left for a size n. Counts decimal, points and negative signs too.\n",
    "- **Old formatting**: similar to C, not needed. Form is: ```'string_with_%_nums' % (num1, num2, ...)```.\n",
    "- **Reading and writing files**: seen already. Give name with extension, operation, encoding and actions on file whenever you want.\n",
    "  - Function **```open('filename.extension', 'rwx', encoding='utf-8')```**: to be assign to a variable such us ```f``` for example.\n",
    "  - Function **f.read()** or **f.read(n)**: reads all file until the end or reads n char.\n",
    "  - Function **f.close()**: closes file. **Do not forget to close the file**.\n",
    "  - Function **with open() as f**: is the best way to work with files as with closes the file at the end.\n",
    "  - Methods: **f.read()** reads all, **f.readline()** reads a line (adds a ```\\n``` at he end of string), **f.write(s)** writes a string (adds a ```\\n``` at he end of string), **f.tell()** returns the integer number. which is the pointer position the file, **f.seek(n_offset, other_num)** goes to the n value. Can modify to seek from the start, current pos or finish (other_num being 0, 1 or 2 respectively), **list(f)** returns a list of all lines.\n",
    "- Module **json**: bring with ```import json```. **Must use ```encoding='utf-8'```**.\n",
    "  - Function **json.dumps(obj, file_optional)**: to dump into a JSON string representation.\n",
    "  - Function **json.load(f)**: bring info from JSON file."
   ]
  },
  {
   "cell_type": "code",
   "execution_count": 13,
   "id": "f5f90ad0-55a1-4b4b-9751-756a5c288ac1",
   "metadata": {},
   "outputs": [
    {
     "name": "stdout",
     "output_type": "stream",
     "text": [
      "'\\nHola, que tal\\nEstoy es lo que ve el interprete\\n'\n",
      "This number has 5 spaces and 4 decimal points:     5.0000, doesn't it?\n",
      "This is a fixed-decimal     5.0000, this is scientific lowercase   5.0000e+00\n",
      "This is a percentage      5.00%, this is scientific uppercase     5.0000E+00\n",
      "This is general-format    5.2e+09, this is general-format-upper      5.244E+05\n",
      "This is a string number: 5.\n",
      "Look at this number x=5.\n",
      "\n",
      "This 5 number is formated as 10.\n",
      "This 10 number is formated as 5.\n",
      "This 10 number is formated as 10.\n",
      "This is how I print a dictionary value:\n",
      "4127\n",
      "           This string must be centered           \n",
      "Fills with zeros the number -003.145\n",
      "The value of pi is approximately 3.142. Round number is 3\n"
     ]
    }
   ],
   "source": [
    "print(repr(\"\"\"\n",
    "Hola, que tal\n",
    "Estoy es lo que ve el interprete\n",
    "\"\"\"))\n",
    "print(f\"This number has 5 spaces and 4 decimal points: {5:10.4f}, doesn't it?\")\n",
    "print(f\"This is a fixed-decimal {5:10.4f}, this is scientific lowercase {5:12.4e}\")\n",
    "print(f\"This is a percentage {0.05:10.2%}, this is scientific uppercase {5:14.4E}\")\n",
    "print(f\"This is general-format {5231445234:10.2g}, this is general-format-upper {524352:14.4G}\")\n",
    "print(f\"This is a string number: {5!s}.\")\n",
    "x = 5\n",
    "print(f\"Look at this number {x=}.\", end=\"\\n\\n\")\n",
    "\n",
    "print(\"This {} number is formated as {}.\".format(5, 10))\n",
    "print(\"This {1} number is formated as {0}.\".format(5, 10))\n",
    "print(\"This {1} number is formated as {1}.\".format(5, 10))\n",
    "d = {'Sjoerd': 4127, 'Jack': 4098, 'Dcab': 8637678}\n",
    "print(\"This is how I print a dictionary value:\\n{Sjoerd:d}\".format(**d))\n",
    "print(\"This string must be centered\".center(50))\n",
    "print(f\"Fills with zeros the number {'-3.145'.zfill(8):}\")\n",
    "print('The value of pi is approximately %5.3f. Round number is %d' % (3.1415929556, 3))"
   ]
  },
  {
   "cell_type": "markdown",
   "id": "2863657b-cfed-4b39-98c9-a106aa0f6041",
   "metadata": {
    "jp-MarkdownHeadingCollapsed": true
   },
   "source": [
    "## Errors and Exceptions"
   ]
  },
  {
   "cell_type": "markdown",
   "id": "5e1efa5a-768a-4ece-985f-dd6a33492cc8",
   "metadata": {},
   "source": [
    "- **Syntax Error**: parsing typical error (compiling error).\n",
    "- **Exception**: code error (execution error, such us division by 0, input is a string instead of an integer, ...).\n",
    "- **Handling exceptions**: using a **try-except** cases. Typical, seen already. If exception described in **except** is found, executes except info and returns back to code in **try**. If it's during execution, Python provides a lot of info about the exception. You can nest try-except-except-except all at the same indentation level. There is an optional **else** clause for **all the rest except clauses**.\n",
    "- **raise exception_name(traceback_info)**: when arrives to raise instruction, stops execution and shows the exception and the info.\n",
    "- **User defined exceptions**: create a new class (usually inheriting from Exception), define **NewThingError** and handle them.\n",
    "- **finally**: is an **always executed instruction at the end** of the *try-except-else* to (it's a **defined clean-up action**). So, whatever happens at the end of a *try-except-else*, ath the end it will always do the **finally** instructions.\n",
    "- **pre-defined clean-up actions**: such as the **f.close()** automatic in the function **with(open())**. These actions are defined in methods called ```__enter__()``` and ```__exit__()``` inside the function.\n",
    "- **ExceptionGroup**: allows you to raise multiple exceptions at once.\n",
    "- **exception.add_note(string)**: to add a note in an Exception. Shown below."
   ]
  },
  {
   "cell_type": "code",
   "execution_count": 23,
   "id": "8e49c9c8-baf7-43bf-a55e-cfdb4aba8112",
   "metadata": {},
   "outputs": [
    {
     "name": "stdout",
     "output_type": "stream",
     "text": [
      "Done\n"
     ]
    },
    {
     "ename": "TypeError",
     "evalue": "Sheeeeesh",
     "output_type": "error",
     "traceback": [
      "\u001b[1;31m---------------------------------------------------------------------------\u001b[0m",
      "\u001b[1;31mTypeError\u001b[0m                                 Traceback (most recent call last)",
      "Cell \u001b[1;32mIn[23], line 2\u001b[0m\n\u001b[0;32m      1\u001b[0m \u001b[38;5;28;01mtry\u001b[39;00m:\n\u001b[1;32m----> 2\u001b[0m     \u001b[38;5;28;01mraise\u001b[39;00m \u001b[38;5;167;01mTypeError\u001b[39;00m(\u001b[38;5;124m'\u001b[39m\u001b[38;5;124mSheeeeesh\u001b[39m\u001b[38;5;124m'\u001b[39m)\n\u001b[0;32m      3\u001b[0m \u001b[38;5;28;01mexcept\u001b[39;00m \u001b[38;5;167;01mTypeError\u001b[39;00m \u001b[38;5;28;01mas\u001b[39;00m e:\n\u001b[0;32m      4\u001b[0m     e\u001b[38;5;241m.\u001b[39madd_note(\u001b[38;5;124m'\u001b[39m\u001b[38;5;124mNote 1\u001b[39m\u001b[38;5;124m'\u001b[39m)\n",
      "\u001b[1;31mTypeError\u001b[0m: Sheeeeesh",
      "\u001b[0mNote 1",
      "\u001b[0mAdd some more information"
     ]
    }
   ],
   "source": [
    "try:\n",
    "    raise TypeError('Sheeeeesh')\n",
    "except TypeError as e:\n",
    "    e.add_note('Note 1')\n",
    "    e.add_note('Add some more information')\n",
    "    raise\n",
    "except Exception as e:\n",
    "    raise\n",
    "finally:\n",
    "    print('Done')"
   ]
  },
  {
   "cell_type": "markdown",
   "id": "59d9c184-9902-4f15-b383-9a03fa9e81d9",
   "metadata": {},
   "source": [
    "# Curr"
   ]
  },
  {
   "cell_type": "markdown",
   "id": "8daa0b8e-1579-41e9-94d3-79095f00303e",
   "metadata": {},
   "source": [
    "## Classes"
   ]
  },
  {
   "cell_type": "markdown",
   "id": "48541f5c-7d8e-4985-b4c7-5c17bc618106",
   "metadata": {},
   "source": [
    "- "
   ]
  },
  {
   "cell_type": "code",
   "execution_count": null,
   "id": "236b71e7-5edc-4790-855c-65455283c640",
   "metadata": {},
   "outputs": [],
   "source": []
  },
  {
   "cell_type": "markdown",
   "id": "eb3c5bdf-df2f-4e4a-ad90-1aa34cffca0d",
   "metadata": {},
   "source": [
    "## Standard Library Part I"
   ]
  },
  {
   "cell_type": "markdown",
   "id": "d85544dc-57a0-4564-bc53-8209ce7c67e9",
   "metadata": {},
   "source": [
    "- "
   ]
  },
  {
   "cell_type": "code",
   "execution_count": null,
   "id": "03901c7a-8d81-4b0e-ab42-2527dfe57d59",
   "metadata": {},
   "outputs": [],
   "source": []
  },
  {
   "cell_type": "markdown",
   "id": "291c49bf-dbef-4cf9-a82a-2ec3fef738a3",
   "metadata": {},
   "source": [
    "## Standard Library Part II"
   ]
  },
  {
   "cell_type": "markdown",
   "id": "2711d172-2b47-48ea-aee8-63e995457c01",
   "metadata": {},
   "source": [
    "- "
   ]
  },
  {
   "cell_type": "code",
   "execution_count": null,
   "id": "26111d1b-1d4a-4db3-b843-075024db8693",
   "metadata": {},
   "outputs": [],
   "source": []
  },
  {
   "cell_type": "markdown",
   "id": "f4666f92-3956-4730-857a-b513af718626",
   "metadata": {},
   "source": [
    "## Virtual Enviroments and Packages"
   ]
  },
  {
   "cell_type": "code",
   "execution_count": null,
   "id": "59308d9e-0013-4eda-b8fe-224ceed9bee7",
   "metadata": {},
   "outputs": [],
   "source": []
  }
 ],
 "metadata": {
  "kernelspec": {
   "display_name": "Python [conda env:base] *",
   "language": "python",
   "name": "conda-base-py"
  },
  "language_info": {
   "codemirror_mode": {
    "name": "ipython",
    "version": 3
   },
   "file_extension": ".py",
   "mimetype": "text/x-python",
   "name": "python",
   "nbconvert_exporter": "python",
   "pygments_lexer": "ipython3",
   "version": "3.12.7"
  }
 },
 "nbformat": 4,
 "nbformat_minor": 5
}
