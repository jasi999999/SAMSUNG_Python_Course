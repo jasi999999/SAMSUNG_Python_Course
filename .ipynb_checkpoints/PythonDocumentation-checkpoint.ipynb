{
 "cells": [
  {
   "cell_type": "markdown",
   "id": "a087b345-8313-4a87-95f4-eb07aca007de",
   "metadata": {},
   "source": [
    "## Python Documentation "
   ]
  },
  {
   "cell_type": "markdown",
   "id": "efaaf815-90a1-4a94-bb5d-0247e24a95b7",
   "metadata": {},
   "source": [
    "Current:\n",
    "- https://docs.python.org/3/tutorial/controlflow.html (at \"Arbitrary argument Lists\")"
   ]
  },
  {
   "cell_type": "markdown",
   "id": "42086910-9c41-4021-9473-a578a63391f5",
   "metadata": {
    "jp-MarkdownHeadingCollapsed": true
   },
   "source": [
    "## Python Interpreter"
   ]
  },
  {
   "cell_type": "markdown",
   "id": "1d4fee54-1848-4bd5-b970-e62e3bdba3df",
   "metadata": {},
   "source": [
    "Add:\n",
    "- ```#!/usr/bin/env python3```: (shebang) to declare the file as an executable, ```./script.py```.\n",
    "- ```# -*- coding: cp1252 -*-```: to declare what ASCII encoding you are gona use in the file.\n",
    "- In Python interpreter, underscore is like the ANS calculator button."
   ]
  },
  {
   "cell_type": "code",
   "execution_count": 25,
   "id": "1601bbf7-f1e0-404f-816a-eed2b2ae7b4c",
   "metadata": {},
   "outputs": [],
   "source": [
    "#!/usr/bin/env python3\n",
    "# -*- coding: cp1252 -*"
   ]
  },
  {
   "cell_type": "markdown",
   "id": "2ba89b94-7807-4fbe-94ea-91749899d1c6",
   "metadata": {},
   "source": [
    "## Informal intro to Python"
   ]
  },
  {
   "cell_type": "markdown",
   "id": "059beaa5-7b14-4841-b3da-ac760a4e8e87",
   "metadata": {
    "jp-MarkdownHeadingCollapsed": true
   },
   "source": [
    "### Strings"
   ]
  },
  {
   "cell_type": "markdown",
   "id": "a5579923-7baf-4873-b71f-c78cea4c4275",
   "metadata": {},
   "source": [
    "- Function **round(num, digits)**: to round numbers to wanted digits.\n",
    "- Usage of **\\\\** (escape) to use special characters such us \".\n",
    "- Usage fo **raw strings** (**r**) in a print function to print it **raw** not caring about the escapes. Take into account that the backlashes number must be even. You can prevent it by duplicating them.\n",
    "- Multiline comments: preserve the *saltos de linea* ```\"\"\" \"\"\"``` y ```''' '''```. Use of **\\\\** to not preserve the *salto de linea*.\n",
    "- **String literals**: si juntos, se concatenan automaticamente (**only literals**, not variables). Use to break long strings.\n",
    "- Strings are **indexed**. Starting at 0 and going forwards with positive and backwards with negative (**careful with out of range errors**).\n",
    "- Strings can be sliced. **Slicing**: from start (**included**) to finish (**excluded**). Like: ```s[i, j)```.\n",
    "  - If *finish is out of range*, doesn't care, it' show what's got before.\n",
    "  - If *starting point is out of range*, gives empty.\n",
    "  - If no start or finish, it'll take the strings start and finish as a default.\n",
    "  - Rule ```s = s[:i] + s[i:]```.\n",
    "  - Strings are immutable, **no assigning possible**.\n",
    "- Function **len(string)**: return the length of the string.\n",
    "- Function **string.upper()**: returns a copy of string changed to upper case (**not the original**).\n",
    "\n",
    "#### Faltan:\n",
    "- https://docs.python.org/3/library/stdtypes.html#string-methods (**str methods**)\n",
    "- https://docs.python.org/3/reference/lexical_analysis.html#f-strings (**str formatting**)"
   ]
  },
  {
   "cell_type": "code",
   "execution_count": 4,
   "id": "6c16e140-b186-4111-9c8e-ccd8608d1891",
   "metadata": {},
   "outputs": [
    {
     "name": "stdout",
     "output_type": "stream",
     "text": [
      "5.23\n",
      "C:\\\\Users\\\\name\\\\jesus\n",
      "Python\n",
      "Pyyyyxyython\n",
      "P\n",
      "x\n",
      "Pyyyy\n",
      "\n",
      "yy\n",
      "Pyyyyxyy\n",
      "8\n",
      "PYYYYXYY Pyyyyxyy\n"
     ]
    }
   ],
   "source": [
    "print(round(5.23451, 2))                     # round(num, digits)\n",
    "print(r\"C:\\\\Users\\\\name\\\\jesus\")             # \"raw\" string\n",
    "print('Py' \n",
    "      'thon')                                # String literal authomatically concatenating\n",
    "prefix = 'Pyyyyxyy'\n",
    "print(prefix + 'thon')                       # Concatenation of strings\n",
    "print(prefix[0])                             # Indexed strings positive\n",
    "print(prefix[-3])                            # Indexed strings negative\n",
    "print(prefix[0:5])                           # Sliced string with ending out of range\n",
    "print(prefix[10:])                           # Sliced string with starting out of range\n",
    "print(prefix[-2:])                           # Sliced from -2 until the end\n",
    "print(prefix[:3] + prefix[3:])               # Rule s = s[:i] + s[i:]\n",
    "print(len(prefix))                           # len(string)\n",
    "print(prefix.upper(), prefix)                # upper(string)"
   ]
  },
  {
   "cell_type": "markdown",
   "id": "d618c562-8477-4273-9690-1ec282eaed74",
   "metadata": {
    "jp-MarkdownHeadingCollapsed": true
   },
   "source": [
    "### Lists"
   ]
  },
  {
   "cell_type": "markdown",
   "id": "0d647b68-aca5-4c34-a42d-7705f726a397",
   "metadata": {},
   "source": [
    "- Compound data types, to group together other values.\n",
    "- Can be indexed, sliced and concatenated.\n",
    "- They are mutable, **can be changed**.\n",
    "- Usage of **object.append(new_object)**: to add at the end of the list.\n",
    "- If there's 2 references to one list, **they're the same**.\n",
    "- Slicing can be used to replace values too.\n",
    "- Use of **len()** also possible.\n",
    "- Nesting lists is possible."
   ]
  },
  {
   "cell_type": "code",
   "execution_count": 27,
   "id": "01cd5ddc-21c5-4922-aae5-bff2dd12cf13",
   "metadata": {},
   "outputs": [
    {
     "name": "stdout",
     "output_type": "stream",
     "text": [
      "[0, 'hello', 5, 4, 5, 6]\n",
      "[0, 'hello', 5, 4, 5, 6, 3004]\n",
      "[0, 'hello', 5, 4, 5, 6, 3004]\n",
      "[0, 'hello']\n",
      "[0, 'hello', 'C', 7, 7, 7, 6, 3004]\n",
      "[0, 'hello', 7, 6, 3004]\n",
      "[]\n",
      "[[7, 8, 9], [2, 3, 4, 5, 6]]\n",
      "8\n"
     ]
    }
   ],
   "source": [
    "list1 = [0, \"hello\", 5, 4, 5, 6]\n",
    "list2 = list1\n",
    "list3 = [0, \"hello\"]\n",
    "\n",
    "print(list1)\n",
    "list1.append(3004)                  # object.append(new_val)\n",
    "print(list1)\n",
    "print(list2)                        # list2 referencia el mismo objeto (misma list)\n",
    "print(list3)\n",
    "list1[2:5] = ['C', 7, 7, 7]         # Slicing to replace values\n",
    "print(list1)\n",
    "list1[2:5] = []                     # Slicing to \"delete\" values\n",
    "print(list1)\n",
    "list1[:] = []                       # Clear list\n",
    "print(list1)\n",
    "list1[:] = [2, 3, 4, 5, 6]          # Add values to an empty list\n",
    "list1 = [7, 8, 9]                   # As I created a new list, list1 != list2\n",
    "list4 = [list1, list2]              # Nesting lists\n",
    "print(list4)\n",
    "print(list4[0][1])                  # Access to the 1 position of the 0 position in the list4"
   ]
  },
  {
   "cell_type": "markdown",
   "id": "6169ec92-94ae-44f9-a6c2-ec507f1e88da",
   "metadata": {
    "jp-MarkdownHeadingCollapsed": true
   },
   "source": [
    "### First steps towards programming"
   ]
  },
  {
   "cell_type": "markdown",
   "id": "cc4ecde2-516a-4cb7-8ce7-e9b601664234",
   "metadata": {},
   "source": [
    "Example has:\n",
    "- Multiple assignment.\n",
    "- While loop and indented body to keep repeating.\n",
    "- Usage of **end = \",\"** in the print function."
   ]
  },
  {
   "cell_type": "code",
   "execution_count": null,
   "id": "cc007e7e-7bfb-4c67-bedf-1a0bd6ae2ce1",
   "metadata": {},
   "outputs": [],
   "source": [
    "# Fibonacci series:\n",
    "# the sum of two elements defines the next\n",
    "a, b = 0, 1\n",
    "while a < 10:\n",
    "    print(a, end = \", \")\n",
    "    a, b = b, a + b"
   ]
  },
  {
   "cell_type": "markdown",
   "id": "e7467c64-23b2-4304-9d72-6845eb105845",
   "metadata": {},
   "source": [
    "## Control flow"
   ]
  },
  {
   "cell_type": "markdown",
   "id": "0f7d3b35-e5f8-44f8-ac08-ef47c0603c00",
   "metadata": {
    "jp-MarkdownHeadingCollapsed": true
   },
   "source": [
    "### **If** statements"
   ]
  },
  {
   "cell_type": "markdown",
   "id": "cf76ebbd-d6e7-4c32-8bf3-d4beae6a7c1c",
   "metadata": {},
   "source": [
    "- Typical if + ```elif``` statement"
   ]
  },
  {
   "cell_type": "markdown",
   "id": "5e3c2e48-b452-476f-8d07-f674eadf89d1",
   "metadata": {
    "jp-MarkdownHeadingCollapsed": true
   },
   "source": [
    "### **For** statements"
   ]
  },
  {
   "cell_type": "markdown",
   "id": "eb222819-cf7f-4c72-a291-2a7e45012e42",
   "metadata": {},
   "source": [
    "- Typical for statement\n",
    "- ```for x in list```: assigns to x every value in list through the loop.\n",
    "- Iteration thorugh the copy of a collection.\n",
    "- Function **object.copy()**: creates a copy of the object.\n",
    "- Function **object.items()**: accesses the items in the object (in this case, the pair Clave-Valor).\n",
    "- Multiple assignment in for: in this case for a collection.\n",
    "- Function **range(start, end, increment)**: to create a list of n numbers. **Excluded end** (from 0 to n - 1), **included start**. Range **does not return a list**. Only **for integers**, for real numbers (on step function, specially), use **arrange()** in *numpy* module.\n",
    "- Index can be using **range()** or **len()**.\n",
    "- The iterating variable can be anyone or **none (_)**.\n",
    "- Function **enumerate(lista)**: return a tuple (index, lista[index]). Can use a starting point for the index (start=num).\n",
    "- Function **sum()**: sumatory function (*de facto* reserved)."
   ]
  },
  {
   "cell_type": "code",
   "execution_count": 5,
   "id": "58095b3f-c2f4-4292-b8c3-612620d70be2",
   "metadata": {},
   "outputs": [
    {
     "name": "stdout",
     "output_type": "stream",
     "text": [
      "[0, 3, 6, 9] [10, 8, 6, 4, 2, 0, -2]\n",
      "H\n",
      "H\n",
      "H\n",
      "5050\n",
      "['as', 'we', 'we', 'we', 'd']\n",
      "[(2, 'as'), (3, 'we'), (4, 'we'), (5, 'we'), (6, 'd')]\n"
     ]
    }
   ],
   "source": [
    "users = {'Hans': 'active', 'Éléonore': 'inactive', '景太郎': 'active'}\n",
    "\n",
    "for user, status in users.copy().items():                # Multiple assignment, copy() and items()\n",
    "    # user = claves, status = valores\n",
    "    pass\n",
    "\n",
    "list1 = list(range(0, 10, 3))                            # Function range() positive increment\n",
    "list2 = list(range(10, -3, -2))                          # Function range() negative increment\n",
    "print(list1, list2)\n",
    "\n",
    "for _ in range(3):                                       # Does not use the iterating variable\n",
    "    print(\"H\")\n",
    "\n",
    "print(sum(range(1, 101)))                                # Function sum()\n",
    "list1 = ['as', 'we', 'we', 'we', 'd']\n",
    "list2 = list(enumerate(list1, start=5))                  # enumerate()\n",
    "print(list1)\n",
    "print(list2)"
   ]
  },
  {
   "cell_type": "markdown",
   "id": "11cb41f1-0732-4b10-b5c2-f0c0a31b505c",
   "metadata": {
    "jp-MarkdownHeadingCollapsed": true
   },
   "source": [
    "### **Break**,  **continue**, **else** and **pass** statements on loops"
   ]
  },
  {
   "cell_type": "markdown",
   "id": "9487329b-aac6-480d-8b25-e7a93bb3a74a",
   "metadata": {},
   "source": [
    "- **Break**: typical going to end of loop (exits it). Use as little as possible (**refactor code**).\n",
    "- **Continue**: typical going to next iteration. Use as little as possible (**refactor code**).\n",
    "- **else**: executes after finishing the loop.\n",
    "- **pass**: typical empty instruction."
   ]
  },
  {
   "cell_type": "markdown",
   "id": "0b2a3271-c3be-4685-8edc-7b0c4ab2c350",
   "metadata": {
    "jp-MarkdownHeadingCollapsed": true
   },
   "source": [
    "### **Match** (switch) statement"
   ]
  },
  {
   "cell_type": "markdown",
   "id": "1cc9ed47-9797-4054-8b20-060372694aef",
   "metadata": {},
   "source": [
    "- **Match**: typical *switch*/*case*.\n",
    "- **Underscore** (_): also works as *wildcard*.\n",
    "- Several options for a case scenario can be used.\n",
    "- Case scenario can be a tuple too.\n",
    "- Case scenario can have an **if()** statement.\n",
    "- **Classes** and **lists** and be used too in the case (not shown in the example).\n",
    "- Subpatterns with keyword **as** (also not shown)."
   ]
  },
  {
   "cell_type": "code",
   "execution_count": 58,
   "id": "942ccf48-b06d-43b0-bafc-c1a753df5857",
   "metadata": {},
   "outputs": [
    {
     "name": "stdout",
     "output_type": "stream",
     "text": [
      "G\n"
     ]
    }
   ],
   "source": [
    "status = (1, 1)\n",
    "\n",
    "match status:\n",
    "    case 1 | 5 | 7:                    # Several options in a case scenario\n",
    "        print(\"J\")\n",
    "    case (1, y) if (y > 0):            # Tuple and if use case\n",
    "        print(\"G\")\n",
    "    case _:                            # Underscore use as wildcard\n",
    "        print(\"H\")"
   ]
  },
  {
   "cell_type": "markdown",
   "id": "774f1a0a-3612-4d22-9cc6-3b7a32791e19",
   "metadata": {
    "jp-MarkdownHeadingCollapsed": true
   },
   "source": [
    "### Defining **Functions**"
   ]
  },
  {
   "cell_type": "markdown",
   "id": "97940fdd-13a2-49f6-bb6a-8b75917c61ad",
   "metadata": {},
   "source": [
    "- Keyword **def**: to define functions\n",
    "- If function is printed, it'll show the location of the fun.ction.\n",
    "- Parameters are passed throught the  parenthesis.\n",
    "- Variables created inside the function are **local** unless named **global**.\n",
    "- **Optional parameters**: have a ```=``` with the default parameter selected.\n",
    "  - **Do not give a mutable object as default parameter**, beacuse of **referencing**.\n",
    "- Arguments in function can be passed: by **keyword=val** or **position**. Though duplicated arguments returns Error, same as putting a non-keyword argument behind a keyword one.\n",
    "- ***arg0**: receives a tuple.\n",
    "- ****arg1**: receives a dictionary.\n",
    "- Markers ```/``` and ```*```: restricts input to **positional** and **keyword-only** arguments respectively when appearing. It's good to prevent errors between arguments and following mutable objects."
   ]
  },
  {
   "cell_type": "code",
   "execution_count": 50,
   "id": "07460532-f4eb-429f-a4df-f59a10ca1b34",
   "metadata": {},
   "outputs": [
    {
     "name": "stdout",
     "output_type": "stream",
     "text": [
      "<function function1 at 0x0000025D83901300>\n",
      "(3, [3])\n",
      "(9, [3, 9])\n",
      "15 [564, 755, 15]\n",
      "[564, 755, 15, 3, '4', '5']\n",
      "0\n",
      "1\n",
      "sdac, asd, ased, ada : asdc, ajsd : 12, asd : ads23, \n",
      "4 5 6 7 m n 2 3 5\n"
     ]
    }
   ],
   "source": [
    "def function1(params, optional=1, L=[]):                            # Params is a LOCAL variable that receives whatever input.\n",
    "    \"\"\"Documentatio string (Docstring)\"\"\"\n",
    "    params += 1 + optional\n",
    "    L.append(params)\n",
    "    return params, L\n",
    "\n",
    "def function2(a, L=None):\n",
    "    if L is None:\n",
    "        L = []\n",
    "    L.append(a)\n",
    "\n",
    "print(function1)                                  # Prints location of the function\n",
    "print(function1(1))\n",
    "print(function1(1, 7))                            # Optional parameter usage\n",
    "p, l = function1(1, 13, [564, 755])                           # Default list is modified with every access\n",
    "print(p, l)\n",
    "\n",
    "function2('pepeeee')                              # L not passed as an argument\n",
    "function2(3, l)                                   # L passed as an argument\n",
    "function2('4', l)                                 # Arguments passed by position\n",
    "function2(a='5', L=l)                             # Arguments passed by keyword\n",
    "print(l)\n",
    "\n",
    "function1 = 0\n",
    "print(function1)                                  # Overrides the function\n",
    "\n",
    "def function3(a, *list1, **dict1):\n",
    "    print(a)\n",
    "    for i in list1:\n",
    "        print(i, end=\", \")\n",
    "    for i in dict1:\n",
    "        print(i, \":\", dict1[i], end=\", \")\n",
    "\n",
    "function3(1, 'sdac', 'asd', 'ased', ada='asdc', ajsd=12, asd='ads23')\n",
    "print()\n",
    "def function4(a, b, c, d, /, e, f='n', *, g=2, h=3, i=5):\n",
    "    print(a, b, c, d, e, f, g, h, i)\n",
    "\n",
    "# function4(4, 5, c=6, d=7) would return error as all arguments before \"/\" must be positional\n",
    "function4(4, 5, 6, 7, e='m')                      # This is fine, as arguments between \"/\" and \"*\" can be or not keyworded/positioned"
   ]
  },
  {
   "cell_type": "markdown",
   "id": "e4927ecf-777a-468d-830a-ca88ad7b520e",
   "metadata": {},
   "source": [
    "### Arbitrary **argument** Lists"
   ]
  },
  {
   "cell_type": "code",
   "execution_count": null,
   "id": "fb9cbd55-ffe6-40d8-a151-7c677b9e54d3",
   "metadata": {},
   "outputs": [],
   "source": []
  }
 ],
 "metadata": {
  "kernelspec": {
   "display_name": "Python [conda env:base] *",
   "language": "python",
   "name": "conda-base-py"
  },
  "language_info": {
   "codemirror_mode": {
    "name": "ipython",
    "version": 3
   },
   "file_extension": ".py",
   "mimetype": "text/x-python",
   "name": "python",
   "nbconvert_exporter": "python",
   "pygments_lexer": "ipython3",
   "version": "3.12.7"
  }
 },
 "nbformat": 4,
 "nbformat_minor": 5
}
