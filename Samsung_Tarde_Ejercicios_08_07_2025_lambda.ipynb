{
 "cells": [
  {
   "cell_type": "code",
   "execution_count": 1,
   "id": "5bb50a19",
   "metadata": {},
   "outputs": [],
   "source": [
    "from functools import reduce"
   ]
  },
  {
   "cell_type": "markdown",
   "id": "bc632ce0",
   "metadata": {},
   "source": [
    "## Ejercicios con funciones lambda\n",
    "\n",
    "**TODOS** los ejercicios están pensados para ser utilizados con funciones lambda y alguna de las siguientes funciones:\n",
    "\n",
    "- `sorted`: utilizando el parámetro `key` podemos pasarle una función lambda para modificar el comportamiento de ordenación. La definición de la función es la siguiente `sorted(iterable, /, *, key=None, reverse=False)`\n",
    "\n",
    "- `min`: utilizando el parámetro `key` podemos pasarle una función lambda para modificar el para encontrar el mínimo. La definición dela función es la siguiente: `min(iterable, default=obj, key=func) -> value`\n",
    "\n",
    "- `max`: utilizando el parámetro `key` podemos pasarle una función lambda para modificar el para encontrar el máximo. La definición dela función es la siguiente: `max(iterable, default=obj, key=func) -> value`\n",
    "\n",
    "- `filter`: utilizando una función lambda, filtramos elementos de un iterable. La función se define de la siguiente forma `filter(function or None, iterable) --> filter object`\n",
    "\n",
    "- `map`: utilizando una función lambda, modificamos el valor de cada elemento del iterable. La función se define de la siguiente forma `map(func, *iterables) --> map object`\n",
    "\n",
    "- `reduce`: utilizando una función lambda, agregamos un iterable en un valor único. Aquí está la ayuda de la función `reduce`:\n",
    "\n",
    "    **Definición:** `reduce(function, iterable[, initial]) -> value`\n",
    "    \n",
    "    **Explicación:**\n",
    "    ```\n",
    "        Apply a function of two arguments cumulatively to the items of a sequence\n",
    "        or iterable, from left to right, so as to reduce the iterable to a single\n",
    "        value.  For example, reduce(lambda x, y: x+y, [1, 2, 3, 4, 5]) calculates\n",
    "        ((((1+2)+3)+4)+5).  If initial is present, it is placed before the items\n",
    "        of the iterable in the calculation, and serves as a default when the\n",
    "        iterable is empty.\n",
    "    ```"
   ]
  },
  {
   "cell_type": "markdown",
   "id": "2661ad9a",
   "metadata": {},
   "source": [
    "1. Dado un diccionario cuyos valores son enteros, imprimir por pantalla la clave y el valor ordenado por su valor de forma descendente.\n",
    "\n",
    "Por ejemplo, con el siguiente diccionario:\n",
    "\n",
    "```python\n",
    "d = {\"a\": 1, \"b\": 2, \"c\": 3}\n",
    "```\n",
    "\n",
    "Imprimiríamos:\n",
    "\n",
    "``` \n",
    "clave 'c' vale 3\n",
    "clave 'b' vale 2\n",
    "clave 'a' vale 1\n",
    "```"
   ]
  },
  {
   "cell_type": "code",
   "execution_count": 33,
   "id": "404cacf2",
   "metadata": {},
   "outputs": [
    {
     "name": "stdout",
     "output_type": "stream",
     "text": [
      "clave 'c' vale 3\n",
      "clave 'b' vale 2\n",
      "clave 'a' vale 1\n",
      "\n",
      "clave 'a' vale 1\n",
      "clave 'b' vale 2\n",
      "clave 'c' vale 3\n"
     ]
    }
   ],
   "source": [
    "d = {\"a\": 1, \"b\": 2, \"c\": 3}\n",
    "\n",
    "for a, b in sorted(d.items(), reverse=True):        # Ordena al revés\n",
    "    print(f\"clave '{a}' vale {b}\")\n",
    "print()\n",
    "\n",
    "for a, b in sorted(d.items(), key=lambda x: x[1]):  # Ordena por el valor\n",
    "    print(f\"clave '{a}' vale {b}\")"
   ]
  },
  {
   "cell_type": "markdown",
   "id": "736c4078",
   "metadata": {},
   "source": [
    "### 2. Dada una lista de enteros (positivos y negativos), ordenar la lista por su valor absoluto. En caso de empate, primero saldrá el valor negativo\n",
    "\n",
    "Por ejemplo:\n",
    "\n",
    "```python\n",
    "[1, -2, 3, 2, -1, 5]\n",
    "```\n",
    "\n",
    "Quedaría ordenada como:\n",
    "\n",
    "```python\n",
    "[-1, 1, -2, 2, 3, 5]\n",
    "```"
   ]
  },
  {
   "cell_type": "code",
   "execution_count": 129,
   "id": "3f8173ea",
   "metadata": {},
   "outputs": [
    {
     "name": "stdout",
     "output_type": "stream",
     "text": [
      "[-1, 1, -2, 2, 3, 5]\n",
      "[-1, 1, -2, 2, 3, 5]\n",
      "[-1, 1, -2, 2, 3, 5]\n"
     ]
    }
   ],
   "source": [
    "lst = [1, -2, 3, 2, -1, 5]\n",
    "\n",
    "res = sorted(sorted(lst), key=lambda x: x if x >= 0 else -x)\n",
    "print(res)\n",
    "res = sorted(sorted(lst), key=lambda x: abs(x))\n",
    "print(res)\n",
    "res = sorted(lst, key=lambda x: (abs(x), x))\n",
    "print(res)"
   ]
  },
  {
   "cell_type": "markdown",
   "id": "a1f19fec",
   "metadata": {},
   "source": [
    "### 3. Dada una lista de tuplas, devolver aquella tupla que tenga el valor máximo en la segunda componente. En caso de empate, devolverá la primera tupla que tenga el máximo.\n",
    "\n",
    "Por ejemplo, dadas las siguientes listas:\n",
    "\n",
    "```python\n",
    "l1 = [(3,2), (1, 3), (4, -1), (-1, 5)]\n",
    "l2 = [(-1, 5), (1, 3), (4, -1), (3, 5)]\n",
    "```\n",
    "\n",
    "- Para `l1` devolveríamos `(-1, 5)`\n",
    "\n",
    "- Para `l2` devolveríamos `(-1, 5)`"
   ]
  },
  {
   "cell_type": "code",
   "execution_count": 85,
   "id": "dec9f019",
   "metadata": {},
   "outputs": [
    {
     "name": "stdout",
     "output_type": "stream",
     "text": [
      "(-1, 5)\n",
      "(-1, 5)\n"
     ]
    }
   ],
   "source": [
    "l1 = [(3,2), (1, 3), (4, -1), (-1, 5)]\n",
    "l2 = [(-1, 5), (1, 3), (4, -1), (3, 5)]\n",
    "\n",
    "res1 = max(l1, key=lambda x: x[1])\n",
    "print(res1)\n",
    "res2 = max(l2, key=lambda x: x[1])\n",
    "print(res2)"
   ]
  },
  {
   "cell_type": "markdown",
   "id": "8e6ea781",
   "metadata": {},
   "source": [
    "### 4. Dada una lista de tuplas, devoler aquella tupla que tenga el valor máximo en la segunda componente. En caso de empate, se devolvería aquella tupla que tuviera los valores máximos en ambas componentes.\n",
    "\n",
    "Por ejemplo, dadas las siguientes listas:\n",
    "\n",
    "```python\n",
    "l1 = [(3,2), (1, 3), (4, -1), (-1, 5)]\n",
    "l2 = [(-1, 5), (1, 3), (4, -1), (3, 5)]\n",
    "```\n",
    "\n",
    "- Para `l1` devolveríamos `(-1, 5)`\n",
    "\n",
    "- Para `l2` devolveríamos `(3, 5)`"
   ]
  },
  {
   "cell_type": "code",
   "execution_count": 84,
   "id": "93f9a5b0",
   "metadata": {},
   "outputs": [
    {
     "name": "stdout",
     "output_type": "stream",
     "text": [
      "(-1, 5)\n",
      "(3, 5)\n"
     ]
    }
   ],
   "source": [
    "l1 = [(3,2), (1, 3), (4, -1), (-1, 5)]\n",
    "l2 = [(-1, 5), (1, 3), (4, -1), (3, 5)]\n",
    "\n",
    "res1 = max(sorted(l1, reverse=True), key=lambda x: x[1])\n",
    "print(res1)\n",
    "res2 = max(sorted(l2, reverse=True), key=lambda x: x[1])\n",
    "print(res2)"
   ]
  },
  {
   "cell_type": "markdown",
   "id": "6ca86591",
   "metadata": {},
   "source": [
    "### 5. Sacar la clave con valor mínimo de un diccionario:\n",
    "\n",
    "Por ejemplo, con el siguiente diccionario:\n",
    "\n",
    "```python\n",
    "d = {\"a\": 1, \"b\": 2, \"c\": 3}\n",
    "```\n",
    "\n",
    "Devolveríamos:\n",
    "\n",
    "``` \n",
    "('a', 1)\n",
    "```"
   ]
  },
  {
   "cell_type": "code",
   "execution_count": 83,
   "id": "7910797c",
   "metadata": {},
   "outputs": [
    {
     "name": "stdout",
     "output_type": "stream",
     "text": [
      "('a', 1)\n"
     ]
    }
   ],
   "source": [
    "d = {\"a\": 1, \"b\": 2, \"c\": 3}\n",
    "\n",
    "res = min(sorted(d.items(), key=lambda x: x[1]))\n",
    "print(res)"
   ]
  },
  {
   "cell_type": "markdown",
   "id": "78e140b0",
   "metadata": {},
   "source": [
    "### 6. Dada una lista de números, filtrar aquellos números impares, dejando **solo** los pares."
   ]
  },
  {
   "cell_type": "code",
   "execution_count": 82,
   "id": "963efe7b",
   "metadata": {},
   "outputs": [
    {
     "name": "stdout",
     "output_type": "stream",
     "text": [
      "[56, 32, 97, 31, 47, 58, 36, 65, 11, 50]\n",
      "[56, 32, 58, 36, 50]\n"
     ]
    }
   ],
   "source": [
    "from random import randint\n",
    "\n",
    "lst = [randint(0, 100) for i in range(10)]\n",
    "print(lst)\n",
    "res = list(filter(lambda x: x % 2 == 0, lst))\n",
    "print(res)"
   ]
  },
  {
   "cell_type": "markdown",
   "id": "850280ef",
   "metadata": {},
   "source": [
    "### 7. Dado un diccionario cuya clave es una palabra y su valor un número, filtrar las entradas que comiencen por vocal y que su valor sea mayor que 10. Las palabras estarán **siempre** en minúscula.\n",
    "\n",
    "Ejemplo:\n",
    "\n",
    "```python\n",
    "words = {\"acción\": 5, \"paso\": 10, \"doce\": 12, \"órgano\": 26, \"casa\": 2, \"once\": 11}\n",
    "```\n",
    "\n",
    "Al filtrar se quedaría el siguiente diccionario:\n",
    "\n",
    "```python\n",
    "{\"acción\": 5, \"paso\": 10, \"doce\": 12, \"casa\": 2}\n",
    "```\n"
   ]
  },
  {
   "cell_type": "code",
   "execution_count": 78,
   "id": "148bd058",
   "metadata": {},
   "outputs": [
    {
     "name": "stdout",
     "output_type": "stream",
     "text": [
      "{'acción': 5, 'paso': 10, 'doce': 12, 'casa': 2}\n"
     ]
    }
   ],
   "source": [
    "words = {\"acción\": 5, \"paso\": 10, \"doce\": 12, \"órgano\": 26, \"casa\": 2, \"once\": 11}\n",
    "vocales = 'aeiouáéíóúàèìòù'\n",
    " \n",
    "for w in list(filter(lambda w: words[w] > 10 and w[0] in vocales, words)):\n",
    "    del words[w]\n",
    "print(words)"
   ]
  },
  {
   "cell_type": "markdown",
   "id": "d12f4205",
   "metadata": {},
   "source": [
    "### 8. Dada una lista de enteros, devolver otra lista de cadenas indicando si el número en cada posición es `\"par\"` o `\"impar\"`.\n",
    "\n",
    "Dada la siguiente lista:\n",
    "\n",
    "```python\n",
    "lst = [1, 3, 4, 8, 23]\n",
    "```\n",
    "\n",
    "Devolvería la lista\n",
    "```python\n",
    "[\"impar\", \"impar\", \"par\", \"par\", \"impar\"]\n",
    "```"
   ]
  },
  {
   "cell_type": "code",
   "execution_count": 81,
   "id": "cd5a898f",
   "metadata": {},
   "outputs": [
    {
     "name": "stdout",
     "output_type": "stream",
     "text": [
      "['impar', 'impar', 'par', 'par', 'impar']\n"
     ]
    }
   ],
   "source": [
    "lst = [1, 3, 4, 8, 23]\n",
    "\n",
    "res= list(map(lambda x: 'par' if x % 2 == 0 else 'impar', lst))\n",
    "print(res)"
   ]
  },
  {
   "cell_type": "markdown",
   "id": "3bcf2502",
   "metadata": {},
   "source": [
    "### 9. Dado un diccionario cuya clave es una palabra y su valor un número, pasar el valor a negativo en las entradas que comiencen por consonante. Las palabras estarán **siempre** en minúscula.\n",
    "\n",
    "Ejemplo:\n",
    "\n",
    "```python\n",
    "words = {\"acción\": 5, \"paso\": 10, \"doce\": 12, \"órgano\": 26, \"casa\": 2, \"once\": 11}\n",
    "```\n",
    "\n",
    "Pasaría a ser:\n",
    "\n",
    "```python\n",
    "{\"acción\": 5, \"paso\": -10, \"doce\": -12, \"órgano\": 26, \"casa\": -2, \"once\": 11}\n",
    "```"
   ]
  },
  {
   "cell_type": "code",
   "execution_count": 119,
   "id": "ef5fa98e",
   "metadata": {},
   "outputs": [
    {
     "name": "stdout",
     "output_type": "stream",
     "text": [
      "{'acción': 5, 'paso': -10, 'doce': -12, 'órgano': 26, 'casa': -2, 'once': 11}\n"
     ]
    }
   ],
   "source": [
    "words = {\"acción\": 5, \"paso\": 10, \"doce\": -12, \"órgano\": 26, \"casa\": 2, \"once\": 11}\n",
    "\n",
    "for w in list(filter(lambda w:  w[0] not in vocales, words)):\n",
    "    words[w] = -abs(words[w])\n",
    "print(words)"
   ]
  },
  {
   "cell_type": "markdown",
   "id": "6b5b74d3",
   "metadata": {},
   "source": [
    "### 10. Multiplicar los números de una lista. Utiliza `reduce`."
   ]
  },
  {
   "cell_type": "code",
   "execution_count": 91,
   "id": "b19db343",
   "metadata": {},
   "outputs": [
    {
     "name": "stdout",
     "output_type": "stream",
     "text": [
      "[5, 1, 9]\n",
      "45\n"
     ]
    }
   ],
   "source": [
    "from random import randint\n",
    "\n",
    "lst = [randint(0, 10) for i in range(3)]\n",
    "print(lst)\n",
    "res = reduce(lambda acc, x: acc * x, lst)\n",
    "print(res)"
   ]
  },
  {
   "cell_type": "markdown",
   "id": "8c4afd73",
   "metadata": {},
   "source": [
    "### 11. Contar el número de números pares en una lista. Utiliza `reduce`."
   ]
  },
  {
   "cell_type": "code",
   "execution_count": 113,
   "id": "7fd4858c",
   "metadata": {},
   "outputs": [
    {
     "name": "stdout",
     "output_type": "stream",
     "text": [
      "[92, 77, 10, 73, 41]\n",
      "2\n"
     ]
    }
   ],
   "source": [
    "from random import randint\n",
    "\n",
    "lst = [randint(0, 100) for i in range(5)]\n",
    "print(lst)\n",
    "res = reduce(lambda acc, x: acc + 1 if x % 2 == 0 else acc, lst, 0)\n",
    "print(res)"
   ]
  },
  {
   "cell_type": "markdown",
   "id": "9601c5a7",
   "metadata": {},
   "source": [
    "### 12. Calcular la suma del cuadrado de los valores impares de una lista."
   ]
  },
  {
   "cell_type": "code",
   "execution_count": 117,
   "id": "92246e3c",
   "metadata": {},
   "outputs": [
    {
     "name": "stdout",
     "output_type": "stream",
     "text": [
      "[3, 2, 3, 3, 1]\n",
      "28\n"
     ]
    }
   ],
   "source": [
    "from random import randint\n",
    "\n",
    "lst = [randint(0, 4) for i in range(5)]\n",
    "print(lst)\n",
    "res = reduce(lambda acc, x: acc + x**2 if x % 2 != 0 else acc, lst, 0)\n",
    "print(res)"
   ]
  },
  {
   "cell_type": "code",
   "execution_count": null,
   "id": "ecd187e4-1f9e-4389-bcfc-cbee886450af",
   "metadata": {},
   "outputs": [],
   "source": []
  }
 ],
 "metadata": {
  "kernelspec": {
   "display_name": "Python [conda env:base] *",
   "language": "python",
   "name": "conda-base-py"
  },
  "language_info": {
   "codemirror_mode": {
    "name": "ipython",
    "version": 3
   },
   "file_extension": ".py",
   "mimetype": "text/x-python",
   "name": "python",
   "nbconvert_exporter": "python",
   "pygments_lexer": "ipython3",
   "version": "3.12.7"
  }
 },
 "nbformat": 4,
 "nbformat_minor": 5
}
