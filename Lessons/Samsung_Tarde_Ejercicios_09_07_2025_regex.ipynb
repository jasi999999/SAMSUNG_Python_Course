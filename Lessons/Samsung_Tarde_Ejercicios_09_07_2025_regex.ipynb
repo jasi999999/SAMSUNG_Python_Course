{
 "cells": [
  {
   "cell_type": "markdown",
   "metadata": {},
   "source": [
    "# Ejercicios de expresiones regulares"
   ]
  },
  {
   "cell_type": "markdown",
   "metadata": {},
   "source": [
    "## Actividad 1: Algunos ejercicios cortitos para romper mano\n",
    "\n",
    "En esta primera actividad vamos a ralizar diversos ejercicios sencillos para practicar los diversos puntos vistos en el boletín pdf adjunto. Lo primero es importar la biblioteca `re`:"
   ]
  },
  {
   "cell_type": "code",
   "execution_count": 57,
   "metadata": {},
   "outputs": [],
   "source": [
    "import re"
   ]
  },
  {
   "cell_type": "markdown",
   "metadata": {},
   "source": [
    "> **Atención, recuerda que:**\n",
    "> - Lo primero a considerar a la hora de realizar un ejercicio es qué tipo de operación hace falta realizar. Es decir, normalmente un problema que requiera utilizar `re.findall` no se podrá resolver con `re.split` o `re.sub` y viceversa.\n",
    "> - Es muy aconsejable poner las expresiones regulares en cadenas de tipo *raw*. Por ejemplo, la expresión regular `r'\\b\\w'` no funcionará si la escribes como `'\\b\\w'` a menos que dupliques el *backslash* poniendo `'\\\\b\\\\w'`. Obviamente es preferible poner `r'\\b\\w'`."
   ]
  },
  {
   "cell_type": "markdown",
   "metadata": {},
   "source": [
    "###  Actividad 1.1\n",
    "\n",
    "Dada una cadena que contiene palabras y números separados por varios espacios, como la siguiente:\n",
    "\n",
    "```python\n",
    "txt = \"hola 123  esto es una prueba   45678   un tercer fragmento    20304050   \"\n",
    "```\n",
    "\n",
    "Se pide, utilizando expresiones regulares:\n",
    "\n",
    "- Encuentra todas las secuencias de dígitos consecutivas.\n",
    "\n",
    "  Para el ejemplo anterior, la salida resultante sería:\n",
    "   \n",
    "  ```python\n",
    "  ['123', '45678', '20304050']\n",
    "  ```"
   ]
  },
  {
   "cell_type": "code",
   "execution_count": 58,
   "metadata": {},
   "outputs": [
    {
     "name": "stdout",
     "output_type": "stream",
     "text": [
      "['123', '45678', '20304050']\n"
     ]
    }
   ],
   "source": [
    "txt = \"hola 123  esto es una prueba   45678   un tercer fragmento    20304050   \"\n",
    "\n",
    "# completar\n",
    "res = re.findall(r'\\d+' , txt)\n",
    "print(res)"
   ]
  },
  {
   "cell_type": "markdown",
   "metadata": {},
   "source": [
    "- Separar todos los trozos de texto separados por una secuencia consecutiva de dígitos que puede estar **rodeado, opcionalmente, un número variable (de 0 o más) caracteres de tipo espacio**:\n",
    "\n",
    "  Para el ejemplo anterior, la salida resultante sería:\n",
    "   \n",
    "  ```python\n",
    "  ['hola', 'esto es una prueba', 'un tercer fragmento', '']\n",
    "  ```\n",
    "  \n",
    "  >**Nota:** Observa que hay una cadena vacía al final de la lista, esto indica que la cadena ha terminado con algo que hacía matching con el separador."
   ]
  },
  {
   "cell_type": "code",
   "execution_count": 59,
   "metadata": {},
   "outputs": [
    {
     "name": "stdout",
     "output_type": "stream",
     "text": [
      "['hola', 'esto es una prueba', 'un tercer fragmento', '']\n"
     ]
    }
   ],
   "source": [
    "txt = \"hola 123  esto es una prueba   45678   un tercer fragmento    20304050   \"\n",
    "\n",
    "# completar\n",
    "res = re.split(r'\\s*\\d+\\s*' , txt)\n",
    "print(res)"
   ]
  },
  {
   "cell_type": "markdown",
   "metadata": {},
   "source": [
    "- Separa los trozos de texto como en el punto anterior pero recopila también las secuencias de dígitos que los han separado.\n",
    "\n",
    "  Para el ejemplo anterior, la salida resultante sería:\n",
    "   \n",
    "  ```python\n",
    "  ['hola', '123', 'esto es una prueba', '45678', 'un tercer fragmento',\n",
    "  '20304050', '']\n",
    "  ```\n",
    "  \n",
    "  > **Pista:** Si estás utilizando `re.split` y agrupas con paréntesis parte de la expresión regular, esa parte se intercala con los trozos separados en la lista resultante.\n"
   ]
  },
  {
   "cell_type": "code",
   "execution_count": 60,
   "metadata": {},
   "outputs": [
    {
     "name": "stdout",
     "output_type": "stream",
     "text": [
      "['hola', '123', 'esto', 'es', 'una', 'prueba', '45678', 'un', 'tercer', 'fragmento', '20304050']\n",
      "['hola', '123', 'esto', 'es', 'una', 'prueba', '45678', 'un', 'tercer', 'fragmento', '20304050', '']\n"
     ]
    }
   ],
   "source": [
    "txt = \"hola 123  esto es una prueba   45678   un tercer fragmento    20304050   \"# completar\n",
    "\n",
    "res = re.findall(r'\\s*(\\w+)\\s*' , txt)\n",
    "print(res)\n",
    "res = re.split(r'\\s+', txt)\n",
    "print(res)"
   ]
  },
  {
   "cell_type": "markdown",
   "metadata": {},
   "source": [
    "### Actividad 1.2\n",
    "\n",
    "Obtén todas las **palabras** formadas por letras latinas en minúscula (es decir, entre la `a` y la `z`, inclusive) que tengan una longitud de 2 a 4 letras. Para el ejemplo anterior el resultado sería:\n",
    "\n",
    " \n",
    "```python\n",
    "['hola', 'esto', 'es', 'una', 'un']\n",
    "```\n",
    "\n",
    "> **Nota:** Recuerda que el metacarácter `\\b` representa un límite (inicio o final) de una palabra.\n"
   ]
  },
  {
   "cell_type": "code",
   "execution_count": 61,
   "metadata": {},
   "outputs": [
    {
     "name": "stdout",
     "output_type": "stream",
     "text": [
      "['hola', 'esto', 'es', 'una', 'un']\n"
     ]
    }
   ],
   "source": [
    "txt = \"hola 123  esto es una prueba   45678   un tercer fragmento    20304050   \"\n",
    "\n",
    "# completar\n",
    "res = re.findall(r'\\b[a-z]{2,4}+\\b', txt)\n",
    "print(res)"
   ]
  },
  {
   "cell_type": "markdown",
   "metadata": {},
   "source": [
    "### Actividad 1.3\n",
    "\n",
    "Dado el siguiente texto:\n",
    "\n",
    "```python\n",
    "txt = \"\"\"\n",
    "El Dr. Smith dijo a la Dra. Warren que indicase el número de recetas emitidas.\n",
    "Más tarde, la Dra Warren reenvió el pedido al Dr.   Thomson.\n",
    "El Dr. Thomson contestó directamente al Dr    Smith y puso en copia\n",
    "a la Dra Watson.\n",
    "\"\"\"\n",
    "```\n",
    "\n",
    "Obtén el nombre de todos los Dr. y Dra. del documento. Debemos suponer que \"Dr\" y \"Dra\" pueden llevar o no un punto (se permite no ponerlo) y que, tras algunos (al menos uno) espacios (o tabulador o enter,...), viene el nombre todo junto (no lleva espacios).\n",
    "\n",
    "Para el ejemplo anterior, el resultado sería:\n",
    "\n",
    " \n",
    "```python\n",
    "['Smith', 'Warren', 'Warren', 'Thomson', 'Thomson', 'Smith', 'Watson']\n",
    "```"
   ]
  },
  {
   "cell_type": "code",
   "execution_count": 62,
   "metadata": {},
   "outputs": [
    {
     "name": "stdout",
     "output_type": "stream",
     "text": [
      "['Smith', 'Warren', 'Warren', 'Thomson', 'Thomson', 'Smith', 'Watson']\n"
     ]
    }
   ],
   "source": [
    "txt = \"\"\"\n",
    "El Dr. Smith dijo a la Dra. Warren que indicase el número de recetas emitidas.\n",
    "Más tarde, la Dra Warren reenvió el pedido al Dr.   Thomson.\n",
    "El Dr. Thomson contestó directamente al Dr    Smith y puso en copia\n",
    "a la Dra Watson.\n",
    "\"\"\"\n",
    "\n",
    "# completar aquí la actividad 1.3\n",
    "res = re.findall(r'Dra?\\.?\\s+(\\w+)', txt)\n",
    "print(res)"
   ]
  },
  {
   "cell_type": "markdown",
   "metadata": {},
   "source": [
    "### Actividad 1.4\n",
    "\n",
    "La expresión *internationalization and localization* \n",
    "([ver enlace wikipedia](https://en.wikipedia.org/wiki/Internationalization_and_localization)) se suele abreviar como *i18n* y *l10n*. Ese tipo de abreviatura se aplica a palabras muy largas y lo que se hace es dejar la primera y la última letra de la palabra. Las letras internas se reemplazan por el nº de letras internas.\n",
    "\n",
    "Ese tipo de abreviatura se explica [en este enlace](https://es.wikipedia.org/wiki/Numer%C3%B3nimo).\n",
    "\n",
    "En el caso de *internationalization* se pone 18 porque `len('nternationalizatio')` es 18.\n",
    "\n",
    "Se pide:\n",
    "\n",
    "- Crea una función `numeronimo` que reciba una palabra (objeto de tipo `str` o cadena que puedes asumir que tiene longitud >2) y devuelva su abreviatura de tipo *numerónimo*.\n",
    "- Utiliza la biblioteca `re` para crear una expresión que reemplace todas las palabras (secuencias de `\\w` que en sus extremos no continuen con otras letras de tipo `'\\w'`) de longitud mayor o igual a 7 por su abreviatura.\n",
    "\n",
    "> **Sugerencias:** \n",
    "> - Mira en pdf de expresiones regulares el ejemplo de `re.sub` que hace uso de una función como segundo argumento.\n",
    "> - Necesitas utilizar una función que reciba un objeto de tipo `re.Match` en lugar de `str`, puedes utilizar otra función que llame a `numeronimo` pasándole `x.group()` siendo `x` el objeto `re.Match`. Una alternativa a crear otra función aparte es utilizar in situ una expresión lambda tipo `lambda x : numeronimo(x.group())`.\n",
    "\n",
    "El resultado para el texto\n",
    "\n",
    "```python\n",
    "texto = \"la internacionalización y la localización ganan relevancia cuando trabajamos con muchos idiomas\"\n",
    "```\n",
    "\n",
    "es\n",
    "\n",
    "```\n",
    "'la i18n y la l10n ganan r8a cuando t8s con muchos i5s'\n",
    "```\n"
   ]
  },
  {
   "cell_type": "code",
   "execution_count": 64,
   "metadata": {},
   "outputs": [
    {
     "name": "stdout",
     "output_type": "stream",
     "text": [
      "la i18n y la l10n ganan r8a cuando t8s con muchos i5s\n"
     ]
    }
   ],
   "source": [
    "texto = \"la internacionalización y la localización ganan relevancia cuando trabajamos con muchos idiomas\"\n",
    "    \n",
    "# completar\n",
    "def numeronimo(s: str) -> str:\n",
    "    return s[0] + str(len(s[1:-1])) + s[- 1]\n",
    "    \n",
    "res = re.sub(r'\\b\\w{7,}\\b', lambda x : numeronimo(x.group()), texto)\n",
    "print(res)"
   ]
  },
  {
   "cell_type": "markdown",
   "metadata": {},
   "source": [
    "<a id='act2'></a>\n",
    "## Actividad 2: Cargar un fichero (`quijote_latin1.txt`) proporcionando un *encoding*\n",
    "\n",
    "Junto a este Jupyter Notebook deberás haberte bajado el fichero `'quijote_latin1.txt'` que hemos dejado en la página de la práctica.\n",
    "\n",
    "Este fichero se encuentra guardado utilizando la codificación `'latin-1'`, también conocida como `'ISO 8859-1'` (ver el [siguiente enlace de Wikipedia](https://es.wikipedia.org/wiki/ISO/IEC_8859-1)).\n",
    "\n",
    "Debes leer dicho fichero en modo texto, guardando todo su contenido en una variable Python llamada `q`.\n",
    "\n",
    "Como `q` es una cadena **muy larga**, te aconsejamos imprimir, en su lugar, su longitud. Si todo ha ido bien, el comando:\n",
    "\n",
    "```\n",
    "len(q)\n",
    "```\n",
    "\n",
    "mostrará el valor 2117491\n",
    "\n",
    "> **Nota:** Si no te coincide el valor, puede que el fallo venga de bajarte el fichero y no del propio código. En particular, no abras el fichero con un editor que pueda cambiar la codificacion, etc."
   ]
  },
  {
   "cell_type": "code",
   "execution_count": 66,
   "metadata": {},
   "outputs": [
    {
     "data": {
      "text/plain": [
       "2117491"
      ]
     },
     "execution_count": 66,
     "metadata": {},
     "output_type": "execute_result"
    }
   ],
   "source": [
    "# completar\n",
    "with open('quijote_latin1.txt', 'r', encoding='latin-1') as f:\n",
    "    q = f.read()\n",
    "\n",
    "len(q)"
   ]
  },
  {
   "cell_type": "markdown",
   "metadata": {},
   "source": [
    "<a id='act3'></a>\n",
    "## Actividad 3: contar el número de adverbios acabados en -mente\n",
    "\n",
    "La siguiente actividad consiste en contar el número de palabras que aparecen en el texto del Quijote (variable `q`) que sean palabras que terminen en `mente` exceptuando la propia palabra `mente`. Para ello:\n",
    "\n",
    "- Consideraremos que las palabras contienen símbolos del metacarácter `\\w`.\n",
    "- Recuerda que el metacarácter `\\b` representa un límite (inicio o final) de una palabra.\n",
    "\n",
    "Más concretamente:\n",
    "\n",
    " - en la variable `adverbios_mente` debes dejar la lista de las palabras encontradas\n",
    " - en la variable `ocurrencias_mente` debes dejar el número total de palabras encontradas en la lista del apartado anterior.\n",
    " - en la variable `distintas_mente`debe contener el número de adverbios diferentes encontrados en la lista del primer apartado.\n",
    " \n",
    "> **Sugerencia:** Puedes utilizar un `set` para calcular el número de palabras diferentes.\n",
    " \n",
    "Si imprimes el valor de las 2 últimas variables podrías obtener un mensaje como el siguiente:\n",
    "\n",
    "```\n",
    "Hay 733 ocurrencias\n",
    "Hay 196 adverbios diferentes\n",
    "```"
   ]
  },
  {
   "cell_type": "code",
   "execution_count": 73,
   "metadata": {
    "scrolled": true
   },
   "outputs": [
    {
     "name": "stdout",
     "output_type": "stream",
     "text": [
      "hay 733 ocurrencias\n",
      "hay 196 adverbios diferentes\n"
     ]
    }
   ],
   "source": [
    "# completar\n",
    "with open('quijote_latin1.txt', 'r', encoding='latin-1') as f:\n",
    "    q = f.read()\n",
    "\n",
    "adverbios_mente = re.findall(r'\\w+mente\\b', q)\n",
    "ocurrencias_mente = len(adverbios_mente)\n",
    "distintas_mente = len(set(adverbios_mente))\n",
    "\n",
    "print(f'hay {ocurrencias_mente} ocurrencias')\n",
    "print(f'hay {distintas_mente} adverbios diferentes')"
   ]
  },
  {
   "cell_type": "markdown",
   "metadata": {},
   "source": [
    "<a id='act4'></a>\n",
    "## Actividad 4: localizar preposiciones\n",
    "\n",
    "La siguiente lista contiene las preposiciones del Castellano:"
   ]
  },
  {
   "cell_type": "code",
   "execution_count": 2,
   "metadata": {},
   "outputs": [],
   "source": [
    "preposiciones = ['a', 'ante', 'bajo', 'cabe', 'con', 'contra', 'de', 'desde', 'durante',\n",
    "                 'en', 'entre', 'hacia', 'hasta', 'mediante', 'para', 'por', 'según', \n",
    "                 'sin', 'so', 'sobre', 'tras', 'versus', 'vía']"
   ]
  },
  {
   "cell_type": "markdown",
   "metadata": {},
   "source": [
    "### Actividad 4.1\n",
    "\n",
    "Haz una expresión regular para localizar todas las ocurrencias de las preposiciones *a*, *ante* y *bajo*.\n",
    "\n",
    "**Importante:** debes crear una sola expresión regular que localize cualquiera de las tres preposiciones. Para ello se aconseja:\n",
    "\n",
    "- Utilizar la disyunción `|` para separar la lista de palabras a reconocer.\n",
    "- Detectar bien el inicio y fin de palabras para que, por ejemplo, la palabra `debajo` no cause una falsa aparición de la preposición `bajo`.\n",
    "- Pasarle a la función `re.findall` la opción `flags=re.IGNORECASE` (sirve también `re.I`) para que ignore las mayúsculas y minúsculas, ya que podría darse el caso de preposiciones en mayúscula. Ten en cuenta que utilizar este *flag* hará que se localicen ocurrencias como `Sin` y `sin`. Es decir, que se ignora mayúsculas/minúsculas durante el *matching* pero no al reportar los resultados.\n",
    "\n",
    "Si guardas la lista de todas las ocurrencias de estas tres primeras preposiciones en una lista `primeras_tres`, la longitud de la misma será 9957 (si olvidas el flag `re.I` solamente saldrán 9663)."
   ]
  },
  {
   "cell_type": "code",
   "execution_count": 6,
   "metadata": {},
   "outputs": [
    {
     "data": {
      "text/plain": [
       "9957"
      ]
     },
     "execution_count": 6,
     "metadata": {},
     "output_type": "execute_result"
    }
   ],
   "source": [
    "# completar aquí la actividad 4.1\n",
    "import re \n",
    "\n",
    "preposiciones = ['a', 'ante', 'bajo', 'cabe', 'con', 'contra', 'de', 'desde', 'durante',\n",
    "                 'en', 'entre', 'hacia', 'hasta', 'mediante', 'para', 'por', 'según', \n",
    "                 'sin', 'so', 'sobre', 'tras', 'versus', 'vía']\n",
    "\n",
    "with open('quijote_latin1.txt', 'r', encoding='latin-1') as f:\n",
    "    q = f.read()\n",
    "\n",
    "primeras_tres = re.findall(r'\\b(?:a|ante|bajo)\\b', q, flags=re.I)\n",
    "len(primeras_tres)"
   ]
  },
  {
   "cell_type": "markdown",
   "metadata": {},
   "source": [
    "### Actividad 4.2\n",
    "\n",
    "Vamos a buscar todas las ocurrencias de todas las preposiciones, pero vamos a crear la expresión regular **de manera programática**. ¿Qué significa esto? Pues que en lugar de escribir nosotros la expresión regular vamos a crear un código python que reciba la lista de preposiciones (variable `preposiciones`) y que nos devuelva la expresión regular requerida para reconocer cualquier palabra de la misma.\n",
    "\n",
    "Saber hacer esto es importante porque muchas veces la lista de palabras a capturar nos vendrá dada en tiempo de ejecución o será una demasiado larga para crear nosotros una expresión a mano.\n",
    "\n",
    "\n",
    "Es decir, en lugar de construir la expresión regular a mano, utiliza Python para crear esa expresión a partir de la lista `preposiciones` que os hemos proporcionado.\n",
    "\n",
    "Para ello, básate en la actividad anterior y en el resultado de la siguiente expresión:"
   ]
  },
  {
   "cell_type": "code",
   "execution_count": 22,
   "metadata": {},
   "outputs": [
    {
     "data": {
      "text/plain": [
       "'a|ante|bajo|cabe|con|contra|de|desde|durante|en|entre|hacia|hasta|mediante|para|por|según|sin|so|sobre|tras|versus|vía'"
      ]
     },
     "execution_count": 22,
     "metadata": {},
     "output_type": "execute_result"
    }
   ],
   "source": [
    "'|'.join(preposiciones)"
   ]
  },
  {
   "cell_type": "markdown",
   "metadata": {},
   "source": [
    "A continuación, crear la expresión regular en una variable `expresión`. La lista de preposiciones encontradas tendrá una longitud de 49027 ocurrencias:"
   ]
  },
  {
   "cell_type": "code",
   "execution_count": 7,
   "metadata": {},
   "outputs": [
    {
     "name": "stdout",
     "output_type": "stream",
     "text": [
      "49027\n"
     ]
    }
   ],
   "source": [
    "# COMPLETAR AQUÍ LA ACTIVIDAD 4.2\n",
    "\n",
    "import re \n",
    "\n",
    "preposiciones = ['a', 'ante', 'bajo', 'cabe', 'con', 'contra', 'de', 'desde', 'durante',\n",
    "                 'en', 'entre', 'hacia', 'hasta', 'mediante', 'para', 'por', 'según', \n",
    "                 'sin', 'so', 'sobre', 'tras', 'versus', 'vía']\n",
    "\n",
    "with open('quijote_latin1.txt', 'r', encoding='latin-1') as f:\n",
    "    q = f.read()\n",
    "\n",
    "expresion = rf\"\\b(?:{'|'.join(preposiciones)})\\b\"\n",
    "las_prep = re.findall(expresion, q, flags=re.I)\n",
    "print(len(las_prep))"
   ]
  },
  {
   "cell_type": "markdown",
   "metadata": {},
   "source": [
    "### Actividad 4.3\n",
    "\n",
    "Ahora queremos saber cuántas veces ha aparecido cada preposición ignorando si estaba en mayúscula o en minúscula. Es decir, que `sin` y `Sin` deben contar como la misma preposición. Para ello puedes utilizar un diccionario Python y el método `lower()` de la clase `str` (las cadenas).\n",
    "\n",
    "Nota: También es posible utilizar `Counter` del módulo `collections` en lugar de un diccionario estándar.\n",
    "\n",
    "\n",
    "A partir de ahí, debes ingeniártelas para mostrar la lista de preposiciones que hayan aparecido 1000 o más veces y cuántas veces han aparecido (el orden en que se muestren da igual):\n",
    "\n",
    "```\n",
    "Palabras que han aparecido más de 1000 veces:\n",
    "  - de    (18217 veces)\n",
    "  - en    ( 8242 veces)\n",
    "  - por   ( 3940 veces)\n",
    "  - a     ( 9882 veces)\n",
    "  - para  ( 1463 veces)\n",
    "  - sin   ( 1156 veces)\n",
    "  - con   ( 4202 veces)\n",
    "```"
   ]
  },
  {
   "cell_type": "code",
   "execution_count": 2,
   "metadata": {},
   "outputs": [
    {
     "name": "stdout",
     "output_type": "stream",
     "text": [
      "- de    (18217 veces)\n",
      "- en    ( 8242 veces)\n",
      "- por   ( 3940 veces)\n",
      "- a     ( 9882 veces)\n",
      "- para  ( 1463 veces)\n",
      "- sin   ( 1156 veces)\n",
      "- con   ( 4202 veces)\n"
     ]
    }
   ],
   "source": [
    "# completar\n",
    "import re \n",
    "\n",
    "preposiciones = ['a', 'ante', 'bajo', 'cabe', 'con', 'contra', 'de', 'desde', 'durante',\n",
    "                 'en', 'entre', 'hacia', 'hasta', 'mediante', 'para', 'por', 'según', \n",
    "                 'sin', 'so', 'sobre', 'tras', 'versus', 'vía']\n",
    "\n",
    "with open('quijote_latin1.txt', 'r', encoding='latin-1') as f:\n",
    "    q = f.read()\n",
    "\n",
    "expresion = rf\"\\b(?:{'|'.join(preposiciones)})\\b\"\n",
    "las_prep = re.findall(expresion, q, flags=re.I)\n",
    "\n",
    "las_prep = [x.lower() for x in las_prep]\n",
    "\n",
    "d = {}\n",
    "for prep in las_prep:\n",
    "    d[prep] = d.get(prep, 0) + 1\n",
    "\n",
    "for prep, val in d.items():\n",
    "    if val >= 1000:\n",
    "        print(f'- {prep:5} ({val:5} veces)')"
   ]
  },
  {
   "cell_type": "markdown",
   "metadata": {},
   "source": [
    "<a id='act5'></a>\n",
    "## Actividad 5: palabras por su longitud\n",
    "\n",
    "En esta actividad vamos a buscar todas las palabras de 7 letras que terminen **en vocal no acentuada**.\n",
    "\n",
    "- Se entiende por palabra aquella que esté formada por caracteres definidos en el metacarácter `\\w` y no sean partes de otra palabra (por ejemplo, en la cadena `\"una casa\"` la cadena `\"cas\"` está formada por caracteres de tipo `\\w` pero no es una palabra porque a la derecha de `\"s\"` tenemos `\"a\"`).\n",
    "- No repitas varias veces `\\w` en el patrón de la expresión regular, en su lugar utiliza el `{n}`. Si no recuerdas lo que es, mira en el boletín.\n",
    "- Para ver que terminan en vocal debes utilizar un grupo `[lista]`, recuerda que se piden vocales sin acentuar.\n",
    "- Deja el resultado de `findall` en una variable llamada `siete_no_vocal`.\n",
    "\n",
    "Hay un total de 19835 palabras que cumplen esta restricción. De ellas, la palabra más repetida es 'Quijote', que aparece 2167 veces. Si quieres calcular esto, puedes crear tú mismo una expresion que lo calcule o bien utilizar la siguiente expresión:\n",
    "\n",
    "```\n",
    "max((veces,palabra) for (palabra, veces) in c.items())\n",
    "```\n",
    "\n",
    "donde  deberás haber asignado a la variable `c` un `Counter` con la lista de palabras.\n",
    "\n",
    "> **Nota:** No te asustes si no conoces la sintaxis de arriba (utiliza cosas que a veces se explican en la asignatura PRG y a veces no, a lo largo de EDA se verá pero a estas alturas puede que no conozcas esta sintaxis).\n",
    ">\n",
    "> La función `max` recibe un *iterador* y en este caso le pasamos tuplas `(veces, palabra)`. Cuando se comparan tuplas, se compara primero por el 1er argumento, con lo que la tupla de mayor valor es la que corresponde al mayor número de repeticiones. Si hubiese un empate en dicho valor, devolvería la que tuviera la palabra lexicográficamente mayor."
   ]
  },
  {
   "cell_type": "code",
   "execution_count": 9,
   "metadata": {},
   "outputs": [
    {
     "data": {
      "text/plain": [
       "19835"
      ]
     },
     "execution_count": 9,
     "metadata": {},
     "output_type": "execute_result"
    }
   ],
   "source": [
    "# completar\n",
    "import re \n",
    "\n",
    "with open('quijote_latin1.txt', 'r', encoding='latin-1') as f:\n",
    "    q = f.read()\n",
    "\n",
    "siete_no_vocal = re.findall(r'\\b\\w{6}[aeiouAEIOU]\\b', q)\n",
    "\n",
    "len(siete_no_vocal)"
   ]
  },
  {
   "cell_type": "code",
   "execution_count": 10,
   "metadata": {},
   "outputs": [
    {
     "data": {
      "text/plain": [
       "(2167, 'Quijote')"
      ]
     },
     "execution_count": 10,
     "metadata": {},
     "output_type": "execute_result"
    }
   ],
   "source": [
    "from collections import Counter\n",
    "c = Counter(siete_no_vocal)\n",
    "max((veces,palabra) for (palabra, veces) in c.items())"
   ]
  },
  {
   "cell_type": "markdown",
   "metadata": {},
   "source": [
    "<a id='act6'></a>\n",
    "## Actividad 6: ¿Quién lo ha dicho?\n",
    "\n",
    "El Quijote está lleno de textos como éste:\n",
    "\n",
    "> -Este que viene -dijo el barbero- es Amadís de Grecia; y aun todos los deste lado, a lo que creo, son del mesmo linaje de Amadís.\n",
    "\n",
    "Observa que \"dijo el barbero\" aparece entre dos guiones. Vamos a localizar todas las veces que aparezca un patrón tipo `-dijo alguien-` donde `alguien` podrá ser cualquier texto.\n",
    "\n",
    "> **Curiosidad:** Cuando se permite al texto entre `-dijo` y `-` abarcar múltiples líneas aparecen resultados que claramente son un olvido o fallo al poner el guión de cierre, por ejemplo:\n",
    ">```\n",
    "> '-dijo don Quijote.\\n\\nY, sin esperar más respuesta, picó a Rocinante y, la lanza baja, arremetió\\ncontra el primero fraile,   ...   hablando con la señora del coche,\\ndiciéndole:\\n\\n-',\n",
    ">```\n",
    "\n",
    "Debes dejar el resultado de `findall` en una variable llamada `quien_dijo`. Se trata de una lista muy larga que empieza así:\n",
    "\n",
    "```\n",
    "['-dijo don Quijote-',\n",
    " '-dijo el muchacho-',\n",
    " '-dijo el muchacho-',\n",
    " '-dijo Andrés-',\n",
    " '-dijo don Quijote-',\n",
    " ```\n",
    " \n",
    "Debes:\n",
    "\n",
    "- Buscar `-dijo` seguido de un espacio (cualquier tipo de espacio).\n",
    "- Y después cualquier cosa que termine en guión `-`.\n",
    "- Puede ocupar más de una línea (el último guión no tiene por qué estar en la misma línea que el primero). Si utilizas el metacaracter `\".\"` hará *matching* con cualquier caracter excepto con el cambio de línea, a no ser que se ponga el flag `re.DOTALL`.\n",
    "\n",
    "Prueba a implementarlo de 2 maneras:\n",
    "\n",
    "1. Utiliza un grupo que sea cualquier caracter menos el guión.\n",
    "2. Utiliza el metacaracter `\".\"`. En este caso es necesario:\n",
    "\n",
    "   - utilizar el flag `re.DOTALL`\n",
    "   - que la repetición utilice `\"+?\"` en lugar de `\"+\"`, prueba a utilizar `\"+\"` y razona por qué aparecen más o menos resultados que de la otra forma.\n",
    " \n",
    "En ambos casos ha de dar 873 ocurrencias."
   ]
  },
  {
   "cell_type": "code",
   "execution_count": 81,
   "metadata": {},
   "outputs": [
    {
     "name": "stdout",
     "output_type": "stream",
     "text": [
      "873\n",
      "873\n"
     ]
    }
   ],
   "source": [
    "# completar\n",
    "import re \n",
    "\n",
    "with open('quijote_latin1.txt', 'r', encoding='latin-1') as f:\n",
    "    q = f.read()\n",
    "    \n",
    "quien_dijo = re.findall(r'-dijo\\s+.*', q)\n",
    "quien_dijo2 = re.findall(r'-dijo\\s+[^\\.]+?', q, flags=re.DOTALL)\n",
    "print(len(quien_dijo))\n",
    "print(len(quien_dijo2))"
   ]
  },
  {
   "cell_type": "markdown",
   "metadata": {},
   "source": [
    "<a id='act7'></a>\n",
    "## Actividad 7: Listar el número de los capítulos con sus títulos\n",
    "\n",
    "En esta actividad vamos a buscar todos los títulos del Quijote. Debemos buscar patrones como en este ejemplo:\n",
    "\n",
    "```\n",
    "\n",
    "Capítulo VIII. Del buen suceso que el valeroso don Quijote tuvo en la\n",
    "espantable y jamás imaginada aventura de los molinos de viento, con otros\n",
    "sucesos dignos de felice recordación\n",
    "\n",
    "\n",
    "En esto, descubrieron treinta o cuarenta molinos de viento que hay en aquel\n",
    "campo; y, así como don Quijote los vio, dijo a su escudero:\n",
    "```\n",
    "\n",
    "Es decir:\n",
    "\n",
    "- Un capítulo empieza por `Capítulo` **al inicio de una línea**, después viene uno o más espacios seguido del número (cualquier cosa que no sea un espacio) seguido de un punto (el punto debe escaparse `\\.` para distinguirlo del metacarácter correspondiente).\n",
    "- Para localizar el inicio de líneas a lo largo del texto debes utilizar `^` y aplicar el flag `re.M`\n",
    "- Después viene una o más líneas con el título. Atención que **hay títulos que ocupan varias líneas**, ejemplo:\n",
    "\n",
    "    `Que trata de la condición y ejercicio del famoso hidalgo\\ndon Quijote de la Mancha\\n'` \n",
    "\n",
    "    Por eso hay que encontrar cualquier secuencia de caracteres que termine con `\\n\\n`.\n",
    "    \n",
    "    Recuerda que el metacarácter `'.'` representa cualquier cosa que no sea un `\\n` salvo que apliques el flag `re.DOTALL`.\n",
    "    \n",
    "    Necesitarás que el metacaracter `'.'` se repita de manera **lazy** o perezosa para evitar que la expresión regular haga *matching* con todo el documento del Quijote hasta la última línea en blanco del documento.\n",
    "    \n",
    "- Si necesitas aplicar dos *flags* a una misma expresión regular hay que combinarlos utilizando la \"o lógica\", es decir, poner, por ejemplo `flags=re.M | re.DOTALL`, ver [el siguiente enlace](https://stackoverflow.com/questions/30651271/using-more-than-one-flag-in-python-re-findall).\n",
    "\n",
    "- Debes agrupar el número de capítulo y el título con un grupo (con nombres `numero` y `titulo`, respectivamente, puedes utilizar la sintaxis `(?P<etiqueta> ...)`). Recuerda que puedes utilizar el grupo de tipo `(?:)` para lo que necesites agrupar *por motivos sintácticos y que no quieras que se capture como grupo propio* (aunque no es necesario en este ejercicio).\n",
    "\n",
    "Si utilizas `findall`, como hay 2 grupos, el resultado es una lista de tuplas que empieza así:\n",
    "\n",
    "```\n",
    "[('I',\n",
    "  'Que trata de la condición y ejercicio del famoso hidalgo\\ndon Quijote de la Mancha\\n'),\n",
    " ('II',\n",
    "  'Que trata de la primera salida que de su tierra hizo el\\ningenioso don Quijote\\n'),\n",
    " ('III',\n",
    "  'Donde se cuenta la graciosa manera que tuvo don Quijote en\\narmarse caballero\\n'),\n",
    " ('IV',\n",
    "  'De lo que le sucedió a nuestro caballero cuando salió de la\\nventa\\n'),\n",
    "```\n",
    "\n",
    "Pero vamos a utilizar `finditer` que devuelve objetos de tipo `re.Match` a los que podemos preguntar por los grupos de nombre `numero` y `titulo` respectivamente:\n",
    "\n",
    "```python\n",
    "for m in re.finditer(expresion_regular, q, flags=re.M | re.DOTALL):\n",
    "    num = m.group('numero')\n",
    "    tit = m.group('titulo').replace('\\n',' ')\n",
    "    print(f'Cap. {num} \"{tit}\"')\n",
    "```\n",
    "\n",
    "que produce una salida que empieza así:\n",
    "\n",
    "```\n",
    "Cap. I \" Que trata de la condición y ejercicio del famoso hidalgo don Quijote de la Mancha\"\n",
    "Cap. II \" Que trata de la primera salida que de su tierra hizo el ingenioso don Quijote\"\n",
    "Cap. III \" Donde se cuenta la graciosa manera que tuvo don Quijote en armarse caballero\"\n",
    "Cap. IV \" De lo que le sucedió a nuestro caballero cuando salió de la venta\"\n",
    "```\n"
   ]
  },
  {
   "cell_type": "code",
   "execution_count": 6,
   "metadata": {},
   "outputs": [
    {
     "name": "stdout",
     "output_type": "stream",
     "text": [
      "Cap. I \"Que trata de la condición y ejercicio del famoso hidalgo don Quijote de la Mancha \"\n",
      "Cap. II \"Que trata de la primera salida que de su tierra hizo el ingenioso don Quijote \"\n",
      "Cap. III \"Donde se cuenta la graciosa manera que tuvo don Quijote en armarse caballero \"\n",
      "Cap. IV \"De lo que le sucedió a nuestro caballero cuando salió de la venta \"\n",
      "Cap. V \"Donde se prosigue la narración de la desgracia de nuestro caballero \"\n",
      "Cap. VI \"Del donoso y grande escrutinio que el cura y el barbero hicieron en la librería de nuestro ingenioso hidalgo \"\n",
      "Cap. VII \"De la segunda salida de nuestro buen caballero don Quijote de la Mancha \"\n",
      "Cap. VIII \"Del buen suceso que el valeroso don Quijote tuvo en la espantable y jamás imaginada aventura de los molinos de viento, con otros sucesos dignos de felice recordación \"\n",
      "Cap. IX \"Donde se concluye y da fin a la estupenda batalla que el gallardo vizcaíno y el valiente manchego tuvieron \"\n",
      "Cap. X \"De lo que más le avino a don Quijote con el vizcaíno, y del peligro en que se vio con una turba de yangüeses \"\n",
      "Cap. XI \"De lo que le sucedió a don Quijote con unos cabreros \"\n",
      "Cap. XII \"De lo que contó un cabrero a los que estaban con don Quijote \"\n",
      "Cap. XIII \"Donde se da fin al cuento de la pastora Marcela, con otros sucesos \"\n",
      "Cap. XIV \"Donde se ponen los versos desesperados del difunto pastor, con otros no esperados sucesos \"\n",
      "Cap. XV \"Donde se cuenta la desgraciada aventura que se topó don Quijote en topar con unos desalmados yangüeses \"\n",
      "Cap. XVI \"De lo que le sucedió al ingenioso hidalgo en la venta que él imaginaba ser castillo \"\n",
      "Cap. XVII \"Donde se prosiguen los innumerables trabajos que el bravo don Quijote y su buen escudero Sancho Panza pasaron en la venta que, por su mal, pensó que era castillo \"\n",
      "Cap. XVIII \"Donde se cuentan las razones que pasó Sancho Panza con su señor Don Quijote, con otras aventuras dignas de ser contadas \"\n",
      "Cap. XIX \"De las discretas razones que Sancho pasaba con su amo, y de la aventura que le sucedió con un cuerpo muerto, con otros acontecimientos famosos \"\n",
      "Cap. XX \"De la jamás vista ni oída aventura que con más poco peligro fue acabada de famoso caballero en el mundo, como la que acabó el valeroso don Quijote de la Mancha \"\n",
      "Cap. XXI \"Que trata de la alta aventura y rica ganancia del yelmo de Mambrino, con otras cosas sucedidas a nuestro invencible caballero \"\n",
      "Cap. XXII \"De la libertad que dio don Quijote a muchos desdichados que, mal de su grado, los llevaban donde no quisieran ir \"\n",
      "Cap. XXIII \"De lo que le aconteció al famoso don Quijote en Sierra Morena, que fue una de las más raras aventuras que en esta verdadera historia se cuentan \"\n",
      "Cap. XXIV \"Donde se prosigue la aventura de la Sierra Morena \"\n",
      "Cap. XXV \"Que trata de las estrañas cosas que en Sierra Morena sucedieron al valiente caballero de la Mancha, y de la imitación que hizo a la penitencia de Beltenebros \"\n",
      "Cap. XXVI \"Donde se prosiguen las finezas que de enamorado hizo don Quijote en Sierra Morena \"\n",
      "Cap. XXVII \"De cómo salieron con su intención el cura y el barbero, con otras cosas dignas de que se cuenten en esta grande historia \"\n",
      "Cap. XXVIII \"Que trata de la nueva y agradable aventura que al cura y barbero sucedió en la mesma sierra \"\n",
      "Cap. XXIX \"Que trata de la discreción de la hermosa Dorotea, con otras cosas de mucho gusto y pasatiempo \"\n",
      "Cap. XXX \"Que trata del gracioso artificio y orden que se tuvo en sacar a nuestro enamorado caballero de la asperísima penitencia en que se había puesto \"\n",
      "Cap. XXXI \"De los sabrosos razonamientos que pasaron entre don Quijote y Sancho Panza, su escudero, con otros sucesos \"\n",
      "Cap. XXXII \"Que trata de lo que sucedió en la venta a toda la cuadrilla de don Quijote \"\n",
      "Cap. XXXIII \"Donde se cuenta la novela del Curioso impertinente \"\n",
      "Cap. XXXIV \"Donde se prosigue la novela del Curioso impertinente \"\n",
      "Cap. XXXV \"Donde se da fin a la novela del Curioso impertinente \"\n",
      "Cap. XXXVI \"Que trata de la brava y descomunal batalla que don Quijote tuvo con unos cueros de vino tinto, con otros raros sucesos que en la venta le sucedieron \"\n",
      "Cap. XXXVII \"Que prosigue la historia de la famosa infanta Micomicona, con otras graciosas aventuras \"\n",
      "Cap. XXXVIII \"Que trata del curioso discurso que hizo don Quijote de las armas y las letras \"\n",
      "Cap. XXXIX \"Donde el cautivo cuenta su vida y sucesos \"\n",
      "Cap. XL \"Donde se prosigue la historia del cautivo \"\n",
      "Cap. XLI \"Donde todavía prosigue el cautivo su suceso \"\n",
      "Cap. XLII \"Que trata de lo que más sucedió en la venta y de otras muchas cosas dignas de saberse \"\n",
      "Cap. XLIII \"Donde se cuenta la agradable historia del mozo de mulas, con otros estraños acaecimientos en la venta sucedidos] \"\n",
      "Cap. XLIV \"Donde se prosiguen los inauditos sucesos de la venta \"\n",
      "Cap. XLV \"Donde se acaba de averiguar la duda del yelmo de Mambrino y de la albarda, y otras aventuras sucedidas, con toda verdad \"\n",
      "Cap. XLVI \"De la notable aventura de los cuadrilleros, y la gran ferocidad de nuestro buen caballero don Quijote \"\n",
      "Cap. XLVII \"Del estraño modo con que fue encantado don Quijote de la Mancha, con otros famosos sucesos \"\n",
      "Cap. XLVIII \"Donde prosigue el canónigo la materia de los libros de caballerías, con otras cosas dignas de su ingenio \"\n",
      "Cap. XLIX \"Donde se trata del discreto coloquio que Sancho Panza tuvo con su señor don Quijote \"\n",
      "Cap. L \"De las discretas altercaciones que don Quijote y el canónigo tuvieron, con otros sucesos \"\n",
      "Cap. LI \"Que trata de lo que contó el cabrero a todos los que llevaban a don Quijote \"\n",
      "Cap. LII \"De la pendencia que don Quijote tuvo con el cabrero, con la rara aventura de los deceplinantes, a quien dio felice fin a costa de su sudor \"\n",
      "Cap. Primero \"De lo que el cura y el barbero pasaron con don Quijote cerca de su enfermedad \"\n",
      "Cap. II \"Que trata de la notable pendencia que Sancho Panza tuvo con la sobrina y ama de don Quijote, con otros sujetos graciosos \"\n",
      "Cap. III \"Del ridículo razonamiento que pasó entre don Quijote, Sancho Panza y el bachiller Sansón Carrasco \"\n",
      "Cap. IV \"Donde Sancho Panza satisface al bachiller Sansón Carrasco de sus dudas y preguntas, con otros sucesos dignos de saberse y de contarse \"\n",
      "Cap. V \"De la discreta y graciosa plática que pasó entre Sancho Panza y su mujer Teresa Panza, y otros sucesos dignos de felice recordación \"\n",
      "Cap. VI \"De lo que le pasó a Don Quijote con su sobrina y con su ama, y es uno de los importantes capítulos de toda la historia \"\n",
      "Cap. VII \"De lo que pasó don Quijote con su escudero, con otros sucesos famosísimos \"\n",
      "Cap. VIII \"Donde se cuenta lo que le sucedió a don Quijote, yendo a ver su señora Dulcinea del Toboso \"\n",
      "Cap. IX \"Donde se cuenta lo que en él se verá \"\n",
      "Cap. X \"Donde se cuenta la industria que Sancho tuvo para encantar a la señora Dulcinea, y de otros sucesos tan ridículos como verdaderos \"\n",
      "Cap. XI \"De la estraña aventura que le sucedió al valeroso don Quijote con el carro, o carreta, de Las Cortes de la Muerte \"\n",
      "Cap. XII \"De la estraña aventura que le sucedió al valeroso don Quijote con el bravo Caballero de los Espejos \"\n",
      "Cap. XIII \"Donde se prosigue la aventura del Caballero del Bosque, con el discreto, nuevo y suave coloquio que pasó entre los dos escuderos \"\n",
      "Cap. XIV \"Donde se prosigue la aventura del Caballero del Bosque \"\n",
      "Cap. XV \"Donde se cuenta y da noticia de quién era el Caballero de los Espejos y su escudero \"\n",
      "Cap. XVI \"De lo que sucedió a don Quijote con un discreto caballero de la Mancha \"\n",
      "Cap. XVII \"De donde se declaró el último punto y estremo adonde llegó y pudo llegar el inaudito ánimo de don Quijote, con la felicemente acabada aventura de los leones \"\n",
      "Cap. XVIII \"De lo que sucedió a don Quijote en el castillo o casa del Caballero del Verde Gabán, con otras cosas extravagantes \"\n",
      "Cap. XIX \"Donde se cuenta la aventura del pastor enamorado, con otros en verdad graciosos sucesos \"\n",
      "Cap. XX \"Donde se cuentan las bodas de Camacho el rico, con el suceso de Basilio el pobre \"\n",
      "Cap. XXI \"Donde se prosiguen las bodas de Camacho, con otros gustosos sucesos \"\n",
      "Cap. XXII \"Donde se da cuenta de la grande aventura de la cueva de Montesinos, que está en el corazón de la Mancha, a quien dio felice cima el valeroso don Quijote de la Mancha \"\n",
      "Cap. XXIII \"De las admirables cosas que el estremado don Quijote contó que había visto en la profunda cueva de Montesinos, cuya imposibilidad y grandeza hace que se tenga esta aventura por apócrifa \"\n",
      "Cap. XXIV \"Donde se cuentan mil zarandajas tan impertinentes como necesarias al verdadero entendimiento desta grande historia \"\n",
      "Cap. XXV \"Donde se apunta la aventura del rebuzno y la graciosa del titerero, con las memorables adivinanzas del mono adivino \"\n",
      "Cap. XXVI \"Donde se prosigue la graciosa aventura del titerero, con otras cosas en verdad harto buenas \"\n",
      "Cap. XXVII \"Donde se da cuenta quiénes eran maese Pedro y su mono, con el mal suceso que don Quijote tuvo en la aventura del rebuzno, que no la acabó como él quisiera y como lo tenía pensado \"\n",
      "Cap. XXVIII \"De cosas que dice Benengeli que las sabrá quien le leyere, si las lee con atención \"\n",
      "Cap. XXIX \"De la famosa aventura del barco encantado \"\n",
      "Cap. XXX \"De lo que le avino a don Quijote con una bella cazadora \"\n",
      "Cap. XXXI \"Que trata de muchas y grandes cosas \"\n",
      "Cap. XXXII \"De la respuesta que dio don Quijote a su reprehensor, con otros graves y graciosos sucesos \"\n",
      "Cap. XXXIII \"De la sabrosa plática que la duquesa y sus doncellas pasaron con Sancho Panza, digna de que se lea y de que se note \"\n",
      "Cap. XXXIV \"Que cuenta de la noticia que se tuvo de cómo se había de desencantar la sin par Dulcinea del Toboso, que es una de las aventuras más famosas deste libro \"\n",
      "Cap. XXXV \"Donde se prosigue la noticia que tuvo don Quijote del desencanto de Dulcinea, con otros admirables sucesos \"\n",
      "Cap. XXXVI \"Donde se cuenta la estraña y jamás imaginada aventura de la dueña Dolorida, alias de la condesa Trifaldi, con una carta que Sancho Panza escribió a su mujer Teresa Panza \"\n",
      "Cap. XXXVII \"Donde se prosigue la famosa aventura de la dueña Dolorida \"\n",
      "Cap. XXXVIII \"Donde se cuenta la que dio de su mala andanza la dueña Dolorida \"\n",
      "Cap. XXXIX \"Donde la Trifaldi prosigue su estupenda y memorable historia \"\n",
      "Cap. XL \"De cosas que atañen y tocan a esta aventura y a esta memorable historia \"\n",
      "Cap. XLI \"De la venida de Clavileño, con el fin desta dilatada aventura \"\n",
      "Cap. XLII \"De los consejos que dio don Quijote a Sancho Panza antes que fuese a gobernar la ínsula, con otras cosas bien consideradas \"\n",
      "Cap. XLIII \"De los consejos segundos que dio don Quijote a Sancho Panza \"\n",
      "Cap. XLIV \"Cómo Sancho Panza fue llevado al gobierno, y de la estraña aventura que en el castillo sucedió a don Quijote \"\n",
      "Cap. XLV \"De cómo el gran Sancho Panza tomó la posesión de su ínsula, y del modo que comenzó a gobernar \"\n",
      "Cap. XLVI \"Del temeroso espanto cencerril y gatuno que recibió don Quijote en el discurso de los amores de la enamorada Altisidora \"\n",
      "Cap. XLVII \"Donde se prosigue cómo se portaba Sancho Panza en su gobierno \"\n",
      "Cap. XLVIII \"De lo que le sucedió a don Quijote con doña Rodríguez, la dueña de la duquesa, con otros acontecimientos dignos de escritura y de memoria eterna \"\n",
      "Cap. XLIX \"De lo que le sucedió a Sancho Panza rondando su ínsula \"\n",
      "Cap. L \"Donde se declara quién fueron los encantadores y verdugos que azotaron a la dueña y pellizcaron y arañaron a don Quijote, con el suceso que tuvo el paje que llevó la carta a Teresa Sancha, mujer de Sancho Panza \"\n",
      "Cap. LI \"Del progreso del gobierno de Sancho Panza, con otros sucesos tales como buenos \"\n",
      "Cap. LII \"Donde se cuenta la aventura de la segunda dueña Dolorida, o Angustiada, llamada por otro nombre doña Rodríguez \"\n",
      "Cap. LIII \"Del fatigado fin y remate que tuvo el gobierno de Sancho Panza \"\n",
      "Cap. LIV \"Que trata de cosas tocantes a esta historia, y no a otra alguna \"\n",
      "Cap. LV \"De cosas sucedidas a Sancho en el camino, y otras que no hay más que ver \"\n",
      "Cap. LVI \"De la descomunal y nunca vista batalla que pasó entre don Quijote de la Mancha y el lacayo Tosilos, en la defensa de la hija de la dueña doña Rodríguez \"\n",
      "Cap. LVII \"Que trata de cómo don Quijote se despidió del duque, y de lo que le sucedió con la discreta y desenvuelta Altisidora, doncella de la duquesa \"\n",
      "Cap. LVIII \"Que trata de cómo menudearon sobre don Quijote aventuras tantas, que no se daban vagar unas a otras \"\n",
      "Cap. LIX \"Donde se cuenta del extraordinario suceso, que se puede tener por aventura, que le sucedió a don Quijote \"\n",
      "Cap. LX \"De lo que sucedió a don Quijote yendo a Barcelona \"\n",
      "Cap. LXI \"De lo que le sucedió a don Quijote en la entrada de Barcelona, con otras cosas que tienen más de lo verdadero que de lo discreto \"\n",
      "Cap. LXII \"Que trata de la aventura de la cabeza encantada, con otras niñerías que no pueden dejar de contarse \"\n",
      "Cap. LXIII \"De lo mal que le avino a Sancho Panza con la visita de las galeras, y la nueva aventura de la hermosa morisca \"\n",
      "Cap. LXIV \"Que trata de la aventura que más pesadumbre dio a don Quijote de cuantas hasta entonces le habían sucedido \"\n",
      "Cap. LXV \"Donde se da noticia quién era el de la Blanca Luna, con la libertad de Don Gregorio, y de otros sucesos \"\n",
      "Cap. LXVI \"Que trata de lo que verá el que lo leyere, o lo oirá el que lo escuchare leer \"\n",
      "Cap. LXVII \"De la resolución que tomó don Quijote de hacerse pastor y seguir la vida del campo, en tanto que se pasaba el año de su promesa, con otros sucesos en verdad gustosos y buenos \"\n",
      "Cap. LXVIII \"De la cerdosa aventura que le aconteció a don Quijote \"\n",
      "Cap. LXIX \"Del más raro y más nuevo suceso que en todo el discurso desta grande historia avino a don Quijote \"\n",
      "Cap. LXX \"Que sigue al de sesenta y nueve, y trata de cosas no escusadas para la claridad desta historia \"\n",
      "Cap. LXXI \"De lo que a don Quijote le sucedió con su escudero Sancho yendo a su aldea \"\n",
      "Cap. LXXII \"De cómo don Quijote y Sancho llegaron a su aldea \"\n",
      "Cap. LXXIII \"De los agüeros que tuvo don Quijote al entrar de su aldea, con otros sucesos que adornan y acreditan esta grande historia \"\n",
      "Cap. LXXIV \"De cómo don Quijote cayó malo, y del testamento que hizo, y su muerte \"\n"
     ]
    }
   ],
   "source": [
    "# completar\n",
    "import re \n",
    "\n",
    "with open('quijote_latin1.txt', 'r', encoding='latin-1') as f:\n",
    "    q = f.read()\n",
    "\n",
    "for m in re.finditer(r'^Capítulo\\s+(?P<numero>[^\\s]+)\\.\\s*(?P<titulo>.*?\\n(?:.*?\\n)*?)\\n', q, flags=re.M | re.DOTALL):\n",
    "    num = m.group('numero')\n",
    "    tit = m.group('titulo').replace('\\n',' ')\n",
    "    print(f'Cap. {num} \"{tit}\"')"
   ]
  },
  {
   "cell_type": "code",
   "execution_count": null,
   "metadata": {},
   "outputs": [],
   "source": []
  }
 ],
 "metadata": {
  "kernelspec": {
   "display_name": "Python [conda env:base] *",
   "language": "python",
   "name": "conda-base-py"
  },
  "language_info": {
   "codemirror_mode": {
    "name": "ipython",
    "version": 3
   },
   "file_extension": ".py",
   "mimetype": "text/x-python",
   "name": "python",
   "nbconvert_exporter": "python",
   "pygments_lexer": "ipython3",
   "version": "3.12.7"
  }
 },
 "nbformat": 4,
 "nbformat_minor": 4
}
