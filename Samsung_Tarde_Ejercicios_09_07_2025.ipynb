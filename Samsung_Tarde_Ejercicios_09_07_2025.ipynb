{
 "cells": [
  {
   "cell_type": "markdown",
   "id": "3a35f304-a15b-44b2-8288-0239e27c216c",
   "metadata": {},
   "source": [
    "## Ejercicios extra para 9 de julio 2025"
   ]
  },
  {
   "cell_type": "markdown",
   "id": "438bfb83-c19e-4564-ad42-b63e90d66a49",
   "metadata": {},
   "source": [
    "### Dado un diccionario imprime todas las claves cuyos valores sean números enteros\n",
    "\n",
    "Por ejemplo, para el siguiente diccionario:\n",
    "\n",
    "```python\n",
    "d = {'casa':5, 'gato':3.5, 'perro':3.2, 'coche':'hola', 'bici':3 }\n",
    "```\n",
    "\n",
    "Imprimiría:\n",
    "\n",
    "```\n",
    "'casa'\n",
    "'bici'\n",
    "```"
   ]
  },
  {
   "cell_type": "code",
   "execution_count": 5,
   "id": "b60b5e6d-ca76-4594-83f6-ee3d1fe0a7aa",
   "metadata": {},
   "outputs": [
    {
     "name": "stdout",
     "output_type": "stream",
     "text": [
      "casa\n",
      "bici\n"
     ]
    },
    {
     "data": {
      "text/plain": [
       "[None, None]"
      ]
     },
     "execution_count": 5,
     "metadata": {},
     "output_type": "execute_result"
    }
   ],
   "source": [
    "d = {'casa':5, 'gato':2.2, 'perro':3.2, 'coche':'hola', 'bici':3 }\n",
    "\n",
    "[print(key) for key, val in d.items() if isinstance(val, int)]"
   ]
  },
  {
   "cell_type": "code",
   "execution_count": 138,
   "id": "ed949be1-dde2-4b5f-a063-a467b84bdcb6",
   "metadata": {},
   "outputs": [
    {
     "data": {
      "text/plain": [
       "False"
      ]
     },
     "execution_count": 138,
     "metadata": {},
     "output_type": "execute_result"
    }
   ],
   "source": [
    "isinstance('hola', int)"
   ]
  },
  {
   "cell_type": "code",
   "execution_count": 3,
   "id": "e6ce5fcd-10fa-40c5-bcb6-b7f85097ffd0",
   "metadata": {},
   "outputs": [
    {
     "data": {
      "text/plain": [
       "True"
      ]
     },
     "execution_count": 3,
     "metadata": {},
     "output_type": "execute_result"
    }
   ],
   "source": [
    "isinstance(True, int)"
   ]
  },
  {
   "cell_type": "code",
   "execution_count": 4,
   "id": "3652e836-8536-4f7f-a21b-f063f2aeb0c0",
   "metadata": {},
   "outputs": [
    {
     "data": {
      "text/plain": [
       "False"
      ]
     },
     "execution_count": 4,
     "metadata": {},
     "output_type": "execute_result"
    }
   ],
   "source": [
    "type(True) == int"
   ]
  },
  {
   "cell_type": "code",
   "execution_count": 2,
   "id": "2dda3753-1fc8-4086-b688-40eb3a0d1864",
   "metadata": {},
   "outputs": [
    {
     "data": {
      "text/plain": [
       "True"
      ]
     },
     "execution_count": 2,
     "metadata": {},
     "output_type": "execute_result"
    }
   ],
   "source": [
    "type(3) == int"
   ]
  },
  {
   "cell_type": "code",
   "execution_count": 1,
   "id": "e5a54b5e-1fad-43d7-bab3-36df44455b7e",
   "metadata": {},
   "outputs": [
    {
     "data": {
      "text/plain": [
       "True"
      ]
     },
     "execution_count": 1,
     "metadata": {},
     "output_type": "execute_result"
    }
   ],
   "source": [
    "issubclass(bool,int)"
   ]
  },
  {
   "cell_type": "markdown",
   "id": "502a7e0f-efd0-4c29-a444-7c3c9315876a",
   "metadata": {},
   "source": [
    "### Ejercicio\n",
    "\n",
    "Dada una lista de tuplas (producto,precio)\n",
    "Obtener un diccionario con el precio más alto para cada producto.\n",
    "\n",
    "Ejemplo:\n",
    "\n",
    "```python\n",
    "lista = [('queso',15.4),('jamon',17),('queso',11),\n",
    "         ('aceite',8.7),('jamon',24),('aceite',12.5),('atun',3.9)]\n",
    "```\n",
    "\n",
    "El resultado sería:\n",
    "\n",
    "```python\n",
    "{'queso':15.4, 'aceite':12.5, 'jamon':24, 'atun':3.9 }\n",
    "```"
   ]
  },
  {
   "cell_type": "code",
   "execution_count": 12,
   "id": "bcd81e04-aa6e-4c55-a75d-d219d7bf5df4",
   "metadata": {},
   "outputs": [
    {
     "name": "stdout",
     "output_type": "stream",
     "text": [
      "{'atun': 3.9, 'aceite': 12.5, 'queso': 15.4, 'jamon': 24}\n"
     ]
    }
   ],
   "source": [
    "lista = [('queso',15.4),('jamon',17),('queso',11),\n",
    "         ('aceite',8.7),('jamon',24),('aceite',12.5),('atun',3.9)]\n",
    "\n",
    "aux = sorted(lista, key = lambda x: x[1])\n",
    "res = dict(aux)\n",
    "print(res)"
   ]
  },
  {
   "cell_type": "markdown",
   "id": "ed653d0a-cba9-4e87-9915-9abdc8413bf1",
   "metadata": {},
   "source": [
    "### Ejercicio\n",
    "\n",
    "Toma la lista del ejercicio anterior y calcula el precio medio de cada producto en lugar del precio máximo."
   ]
  },
  {
   "cell_type": "code",
   "execution_count": 22,
   "id": "5115bf6a-12bf-40ac-9328-c4128d6363aa",
   "metadata": {},
   "outputs": [
    {
     "name": "stdout",
     "output_type": "stream",
     "text": [
      "defaultdict(<class 'list'>, {'queso': 13.2, 'jamon': 20.5, 'aceite': 10.6, 'atun': 3.9})\n"
     ]
    }
   ],
   "source": [
    "from collections import defaultdict\n",
    "\n",
    "lista = [('queso',15.4),('jamon',17),('queso',11),\n",
    "         ('aceite',8.7),('jamon',24),('aceite',12.5),('atun',3.9)]\n",
    "\n",
    "res = defaultdict(list)\n",
    "\n",
    "for key, val in lista:\n",
    "    res[key].append(val)\n",
    "\n",
    "for key, val in res.items():\n",
    "    res[key] = sum(val) / len(val)\n",
    "\n",
    "print(res)"
   ]
  },
  {
   "cell_type": "markdown",
   "id": "b3fb3c78-8221-47d5-920e-7463f10cea9c",
   "metadata": {},
   "source": [
    "### Ejercicio\n",
    "\n",
    "Dado un fichero `'frases.txt'` con palabras (sin signos de puntuación), se pide:\n",
    "\n",
    "Saca el conjunto de palabras que aparezcan en 3 o más líneas distintas.\n",
    "\n",
    "Ejemplo de frases.txt:\n",
    "\n",
    "```\n",
    "hola\n",
    "gato hola casa casa casa casa\n",
    "hola bici\n",
    "gato casa\n",
    "bici\n",
    "bici boli\n",
    "```\n",
    "\n",
    "Resultado: `{ 'hola', 'bici' }`"
   ]
  },
  {
   "cell_type": "code",
   "execution_count": 31,
   "id": "4aadeb84",
   "metadata": {
    "scrolled": true
   },
   "outputs": [
    {
     "name": "stdout",
     "output_type": "stream",
     "text": [
      "{'hola', 'bici'}\n"
     ]
    }
   ],
   "source": [
    "import re\n",
    "\n",
    "aux = {}\n",
    "res = set()\n",
    "          \n",
    "with open('frases.txt', 'r') as f:\n",
    "    for line in f:\n",
    "        for word in set(line.split()):\n",
    "            aux[word] = aux.get(word, 0) + 1\n",
    "\n",
    "[res.add(key) for key, val in aux.items() if val >= 3]\n",
    "\n",
    "print(res)"
   ]
  },
  {
   "cell_type": "markdown",
   "id": "2fad9d01-9ecc-4c3d-a633-48e9e08bc4e9",
   "metadata": {},
   "source": [
    "### Ejercicio\n",
    "\n",
    "Crea una lista de listas rellena con la cadena `'.'` (punto).\n",
    "\n",
    "El nº filas es 5, el nº columnas es 5.\n",
    "\n",
    "```python\n",
    "[['.','.','.','.','.'], \n",
    " ['.','.','.','.','.'], \n",
    " ['.','.','.','.','.'], \n",
    " ['.','.','.','.','.'], \n",
    " ['.','.','.','.','.']]\n",
    "```\n",
    "\n",
    "A continuación lee una lista de tripletas (fila,col,letra) y pon la letra en la posición correspondiente.\n",
    "\n",
    "Ejemplo:\n",
    "\n",
    "```python\n",
    "dibujar = [(0,0,'A'),(0,1,'A'),(2,2,'X'),(3,2,'*')]\n",
    "```\n",
    "\n",
    "Resultado:\n",
    "\n",
    "```\n",
    "AA...\n",
    ".....\n",
    "..X..\n",
    "..*..\n",
    ".....\n",
    "```"
   ]
  },
  {
   "cell_type": "code",
   "execution_count": 45,
   "id": "bfab17e5-5d91-4596-a658-891067286d82",
   "metadata": {},
   "outputs": [
    {
     "name": "stdout",
     "output_type": "stream",
     "text": [
      "AA...\n",
      ".....\n",
      "..X..\n",
      "..*..\n",
      ".....\n"
     ]
    }
   ],
   "source": [
    "dibujar = [(0,0,'A'),(0,1,'A'),(2,2,'X'),(3,2,'*')]\n",
    "\n",
    "sub_lista = ['.' for i in range(5)]\n",
    "lista = [sub_lista.copy() for i in range(5)]\n",
    "\n",
    "for fil, col, letra in dibujar:\n",
    "    lista[fil][col] = letra\n",
    "    \n",
    "for fila in lista:\n",
    "    for item in fila:\n",
    "        print(item, sep='', end='')\n",
    "    print()"
   ]
  },
  {
   "cell_type": "markdown",
   "id": "b73e17a7-aa1c-4a56-9d84-630447951a2f",
   "metadata": {},
   "source": [
    "### Ejercicio\n",
    "\n",
    "Dada la matriz del ejercicio anterior, obtener la lista `dibujar`"
   ]
  },
  {
   "cell_type": "code",
   "execution_count": 52,
   "id": "839ff3fd-a5d4-4d37-a0b9-fc0da9c810ca",
   "metadata": {},
   "outputs": [
    {
     "name": "stdout",
     "output_type": "stream",
     "text": [
      "[(0, 0, 'A'), (0, 1, 'A'), (2, 2, 'X'), (3, 2, '*')]\n"
     ]
    }
   ],
   "source": [
    "res = []\n",
    "\n",
    "with open('matriz.txt', 'r') as f:\n",
    "    fil = 0\n",
    "    for line in f:\n",
    "        col = 0\n",
    "        for word in list(line.strip()):\n",
    "            if word != '.':\n",
    "                res.append((fil, col, word))\n",
    "            col += 1\n",
    "        fil += 1\n",
    "\n",
    "print(res)"
   ]
  },
  {
   "cell_type": "code",
   "execution_count": null,
   "id": "72e90265-1950-4c8f-9007-e7ae51366bb8",
   "metadata": {},
   "outputs": [],
   "source": []
  }
 ],
 "metadata": {
  "kernelspec": {
   "display_name": "Python [conda env:base] *",
   "language": "python",
   "name": "conda-base-py"
  },
  "language_info": {
   "codemirror_mode": {
    "name": "ipython",
    "version": 3
   },
   "file_extension": ".py",
   "mimetype": "text/x-python",
   "name": "python",
   "nbconvert_exporter": "python",
   "pygments_lexer": "ipython3",
   "version": "3.12.7"
  }
 },
 "nbformat": 4,
 "nbformat_minor": 5
}
