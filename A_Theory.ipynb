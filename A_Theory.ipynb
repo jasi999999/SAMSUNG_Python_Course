{
 "cells": [
  {
   "cell_type": "markdown",
   "id": "d98dc9e3-182a-46c4-af2f-ade6187a58dc",
   "metadata": {},
   "source": [
    "# Python Introduction Course (Theory)\n",
    "- sespana@dsic.upv.es (Salvador España)\n",
    "- vahuir@dsic.upv.es (Vicent Ahuir)\n",
    "- Elena Díaz-Alejo (Responsable de Samsung)\n",
    "\n",
    "#### Check function\n",
    "- **Shift + Tab**: shows function use cases"
   ]
  },
  {
   "cell_type": "markdown",
   "id": "4a745993-36f8-41bf-921f-a5cd44e5400d",
   "metadata": {
    "jp-MarkdownHeadingCollapsed": true
   },
   "source": [
    "## Introduction"
   ]
  },
  {
   "cell_type": "markdown",
   "id": "c15cadfd-e18e-402b-a73c-67e46d22f5b7",
   "metadata": {},
   "source": [
    "### Libraries"
   ]
  },
  {
   "cell_type": "markdown",
   "id": "a597a388-6195-40c7-aee7-2593a2f9554c",
   "metadata": {},
   "source": [
    "Las libraries populares de Python e IA son:\n",
    "\n",
    "- pandas:\n",
    "- numpy:\n",
    "- tensorflow:\n",
    "- pytorch:\n",
    "- keras:\n",
    "- matplotlib:\n",
    "- scikit-learn:\n",
    "- theano:\n",
    "- orange3:\n",
    "- scipy:"
   ]
  },
  {
   "cell_type": "markdown",
   "id": "98ffccc1-b261-4ce6-bc8b-de09982f159f",
   "metadata": {
    "jp-MarkdownHeadingCollapsed": true
   },
   "source": [
    "## Chapter 1. Basic concepts and starting with Python"
   ]
  },
  {
   "cell_type": "markdown",
   "id": "08ad08cb-f882-4731-8550-d78b07dffad1",
   "metadata": {},
   "source": [
    "### Unit 1. Sequential programming"
   ]
  },
  {
   "cell_type": "markdown",
   "id": "b8c2a1a7-3fdb-4b83-8928-09722b85876e",
   "metadata": {},
   "source": [
    "- Terminology and glossary (**Python documentation**).\n",
    "- Expression: code fragment that produces a value (3 + 4, x * 2, len(\"hola\"), ...).\n",
    "- Statement (sentencia): instruction to be executed (x = 2 * 3).\n",
    "- Program: sequence of expressions to execute.\n",
    "- **Comments**:\n",
    "  - Line comments \"#\".\n",
    "  - Multiline with \"\"\" \"\"\" or ''' '''.\n",
    "- **Reserved** words:\n",
    "  - Typical: False, None (Null), True, and, break, continue, def, elif, else, except (catch), finally, for, from, global, if, import, in, is, lambda, nonlocal, not, or, pass, return, try, while, with.\n",
    "  - Atypical: as, assert, class, del, raise, yield.\n",
    "  - ***De facto*** reserved (can be used as a variable but will be @Override): input.\n",
    "- **Basics**:\n",
    "  - Function **print()**: normal, has a ```\\n``` at the end, ''' x ''' preserves the jump line and  ```\\``` takes them of; with \",\" puts toghether different data types and adds a space.With \"*\", you can repeat n times the strings and print a function that returns the position of the memory in which the function is located (```print(input)```)."
   ]
  },
  {
   "cell_type": "code",
   "execution_count": 3,
   "id": "cc5d80a0-55be-4974-94fd-3e03f331ff8d",
   "metadata": {},
   "outputs": [
    {
     "name": "stdout",
     "output_type": "stream",
     "text": [
      "Hello Hello 10\n",
      "Hello\n",
      "Hello2Hello3\n",
      "600 HHHH\n",
      "Hello 50\n",
      "***************************\n",
      "Hello B Hell B Herawww\n",
      "---------------------------\n",
      "<bound method Kernel.raw_input of <ipykernel.ipkernel.IPythonKernel object at 0x000001447396BFE0>>\n",
      "Hola \"mundo\"\n",
      "Hola 'mundo'\n"
     ]
    }
   ],
   "source": [
    "print('Hello', \"Hello\", 10, )                               # \" \", ' '\n",
    "print('''Hello\n",
    "Hello2\\\n",
    "Hello3''')                                                  # Print Multilinea\n",
    "print(20 * 30, \"H\" * 4)                                     # Multiplicar string\n",
    "print(\"Hell\" + \"o\", 20 + 30)                                # Sumar string\n",
    "print(\"***************************\")                        # Decoration\n",
    "print(\"Hello\", \"Hell\", \"He\", sep = \" B \", end = \"rawww\\n\")  # Modificar separador, final\n",
    "print(\"---------------------------\")                        # Decoration\n",
    "print(input)                                                # Devuelve pos en memoria de función\n",
    "print(\"Hola \\\"mundo\\\"\")                                     # Uso de escape sequence \"\\\"\n",
    "print(\"Hola 'mundo'\")                                       # Uso de \"\" con ''"
   ]
  },
  {
   "cell_type": "markdown",
   "id": "8686798e-b671-4e42-b5f0-2ba669b95f17",
   "metadata": {},
   "source": [
    "- Pythonic Coding: **PEP 8** or *Google's Python Style Guide*.\n",
    "- Classic code layout with **indentation control** (1 tab = 4 spaces, **careful**).\n",
    "- Naming convention: variables with **snake** (hello_world), class with **Pascal** (HelloWorld()).\n",
    "- Identifiers: english chars, underscores (_), key word + other word.\n",
    "  - Double underscores to declare a non public variable, override, ... **careful**.\n",
    "- Differentiate between ' ' and \" \".\n",
    "- Errors: typical. Resolution with: ```try/except``` (same as try/catch)."
   ]
  },
  {
   "cell_type": "markdown",
   "id": "5ec6465b-e96a-4cba-8b0d-4b8534c49aba",
   "metadata": {},
   "source": [
    "### Unit 2. Key Concept"
   ]
  },
  {
   "cell_type": "markdown",
   "id": "43f2e6b5-b5f0-4fae-a75d-939b8f01dfcf",
   "metadata": {},
   "source": [
    "- Algorithm definition\n",
    "- **Pseudocode**: definition, use cases and flowchart\n",
    "  - Start/end (square rounded borders), preparation (hexagon, initialize data), action/process (square), decision (rombo), input/output (romboide), document (square w/ curve on btm line), on-pageConnector(circle, represent junctions), flowArrow.\n",
    "- Python Software Foundation: to get great Python project examples, Tutorial page and documentation, W3Schools to learn more extensively, StackOverflow (known already)."
   ]
  },
  {
   "cell_type": "markdown",
   "id": "e3feb4c3-2c84-4cf8-a1ba-65340613da86",
   "metadata": {},
   "source": [
    "### Unit 3. Basic Numeric Data Types and Arithmetic Operations"
   ]
  },
  {
   "cell_type": "markdown",
   "id": "3d6ace7e-b1da-4466-a72e-5b03b4319212",
   "metadata": {},
   "source": [
    "- **Operators**: +, -, *, /, // (/ but discards all decimal), %, **.\n",
    "- Typical **DataTypes**: integers, float, complex (4 + 3j), string, bool, list ([10, 20]), tuple ((10, 20)), dictionary(ex: {'name': 'D', 'age' : 23}), NoneType (a = None).\n",
    "- Function **type()**: gets the DataType.\n",
    "- Normal operators preference: *, / over +, - and so on.\n",
    "  - Order: (), **,  ~ + -(monadic), * / % //, + -, >> << (bitwise), & (bitwise), ^| (bitwise), <= < > >=, == !=, = %= /= += *= ... (non exist ++), is is not, in, not in, not or and.\n",
    "  - Function **str()**: converts to string.\n",
    "  - Function **int()**: converts to int.\n",
    "  - Function **input()**: gets input from user **as a string**, if number, cast to int.\n",
    "- String indexing: treats string as an array."
   ]
  },
  {
   "cell_type": "code",
   "execution_count": 4,
   "id": "ce7e7ac8-aba2-498d-b019-c8cbe2f5b980",
   "metadata": {},
   "outputs": [
    {
     "name": "stdout",
     "output_type": "stream",
     "text": [
      "10 10 10 <class 'int'>\n",
      "h e o\n"
     ]
    }
   ],
   "source": [
    "print(10, int(\"10\"), str(10), type(10))\n",
    "print(\"hello\"[0], \"hello\"[1] ,\"hello\"[-1])"
   ]
  },
  {
   "cell_type": "markdown",
   "id": "f32afe67-aef9-497e-8937-66552cad87e2",
   "metadata": {},
   "source": [
    "### Unit 4. Variables and Input"
   ]
  },
  {
   "cell_type": "markdown",
   "id": "142e5c03-0c04-4bf8-8201-99547b1f17c7",
   "metadata": {},
   "source": [
    "- Variables save the reference to object in memory, therefore, x = 5 and y = x, both point to the same object.\n",
    "- import keyword; print(keyword.kwlist): prints keyword list.\n",
    "- Naming convention: use **describing names** for variables.\n",
    "- Simultaneous and multiple assignement: x, y = 100, 200\n",
    "- Compound Assignement Operators: +=, -=, ...\n",
    "- Arithmetic Operators: +, -, ...\n",
    "- ZeroDivisionError: 3 / 0\n",
    "- Cannot assign to literal, when 300 = 300\n",
    "- ValueError: when user puts \"two\" on input().\n",
    "- Function **object.isdigit()**: to check if all elements in string are number before conversion to int."
   ]
  },
  {
   "cell_type": "code",
   "execution_count": 5,
   "id": "5c36653d-c95f-45a7-b2dc-3ee60c14c733",
   "metadata": {},
   "outputs": [
    {
     "name": "stdout",
     "output_type": "stream",
     "text": [
      "yield\n",
      "100 200 50 50 50 51\n"
     ]
    }
   ],
   "source": [
    "import keyword\n",
    "\n",
    "print(keyword.kwlist.pop())\n",
    "x4, y4 = 100, 200\n",
    "z4 = a4 = b4 = i4 = 50\n",
    "i4 += 1\n",
    "print(x4, y4, z4, a4, b4, i4)"
   ]
  },
  {
   "cell_type": "markdown",
   "id": "46fcb8cb-75ae-46d8-8498-aab72f725e1c",
   "metadata": {},
   "source": [
    "### Unit 5. Boolean Datatypes, Comparison and Logical Operators"
   ]
  },
  {
   "cell_type": "markdown",
   "id": "dedc6991-434a-457b-819b-f15f327fe132",
   "metadata": {},
   "source": [
    "-**Bool** operator: 1 === True === 'h' === bool(-1), 0 === False === '' === None === [].\n",
    "- Comparison operators: typical ones.\n",
    "- Function **is**: checks that both objects are the same value and the **same object**...\n",
    "- Function **in**: checks if x is in y (it's a more efficient for loop).\n",
    "- Classical if statement with **pass** when empty instruction wanted.\n",
    "- Changed Operators Error: =<.\n",
    "- Logical operators: **and**, **or**, **not**.\n",
    "- Operation order : typical."
   ]
  },
  {
   "cell_type": "code",
   "execution_count": 6,
   "id": "6f0cc9ef-5f4f-4699-b998-ce51978aae07",
   "metadata": {},
   "outputs": [
    {
     "name": "stdout",
     "output_type": "stream",
     "text": [
      "True False True False True True\n",
      "mmm False True True\n",
      "True OK\n",
      "H\n"
     ]
    }
   ],
   "source": [
    "print(bool(-1), bool(0), bool(True), bool(None), bool([10]), bool(\"h\"))\n",
    "a5 = 1\n",
    "b5 = 1.0\n",
    "c5 = 1\n",
    "d5 = False\n",
    "print(\"mmm\", a5 is b5, a5 is c5, a5 == b5)\n",
    "print('aa' in 'a-bb-aa', \"OK\")\n",
    "if (True):\n",
    "    pass\n",
    "if (not d5):\n",
    "    print(\"H\")"
   ]
  },
  {
   "cell_type": "markdown",
   "id": "56ef2cd9-e93c-4072-8751-43051f4fa970",
   "metadata": {},
   "source": [
    "### Unit 6. Conditional statements-1"
   ]
  },
  {
   "cell_type": "markdown",
   "id": "9cc68fa5-dfce-4aca-87a3-5c63b7fa3fa5",
   "metadata": {},
   "source": [
    "- **if** statement: typical flow control.\n",
    "- **elif** statement: typical else if.\n",
    "- **Atention to indentation**.\n",
    "- Indentation Error: expects an instruction inside if (ocurrs when next instruction not indented, so it \"thinks\" the if it's empty). Solve with a **pass**.\n",
    "- Wrong indentation: instead of 0/4 spaces, 3/2/5... Must be identical for the same block.\n",
    "- Identation with **4 spaces**.\n",
    "- Function **object.split()**: divides string into list without the given @param. Default param (empty) is \" \", but any @param can be given. It gives both sides of the given parameter. Attention to the exception shown."
   ]
  },
  {
   "cell_type": "code",
   "execution_count": 7,
   "id": "b980f5d6-ad31-4aad-93fc-8773ca84a2d9",
   "metadata": {},
   "outputs": [
    {
     "name": "stdout",
     "output_type": "stream",
     "text": [
      "['skns', 'sarf', 'asrf', 'la']\n",
      "[' skns sarf asrf ', '']\n",
      "[]\n",
      "['']\n",
      "['', '']\n"
     ]
    }
   ],
   "source": [
    "string1 = \" skns sarf asrf la\"\n",
    "print(string1.split())\n",
    "print(string1.split(\"la\"))\n",
    "print(\" \".split())\n",
    "print(\"\".split(\" \"))\n",
    "print(\" \".split(\" \"))"
   ]
  },
  {
   "cell_type": "markdown",
   "id": "10419676-4523-424c-ac28-3d8abe03d99f",
   "metadata": {},
   "source": [
    "### Unit 7. Conditional statements-2"
   ]
  },
  {
   "cell_type": "markdown",
   "id": "44e220fb-67f2-4ddd-b6cf-bd5fdd8af541",
   "metadata": {},
   "source": [
    "- **else**: typical.\n",
    "- **Nested** if/else: typical.\n",
    "- **Comparison** and **logical** operators: typical.\n",
    "- **random** module: show random and **randint(range_start, range_end)**."
   ]
  },
  {
   "cell_type": "code",
   "execution_count": 8,
   "id": "bb9ba3be-e4da-4942-b0d6-f282810468de",
   "metadata": {},
   "outputs": [
    {
     "name": "stdout",
     "output_type": "stream",
     "text": [
      "0.49969 0.50031\n"
     ]
    }
   ],
   "source": [
    "# Small coin toss probability game (Law of Large numbers: more trials gets you closer to theoretical probability)\n",
    "import random\n",
    "\n",
    "count = [0, 0]\n",
    "for i in range (1, 100001):\n",
    "    number = random.randint(1,100)\n",
    "    even_odd = number % 2 == 0\n",
    "    if even_odd:\n",
    "        count[even_odd] += 1\n",
    "    else:\n",
    "        count[even_odd] += 1\n",
    "\n",
    "print(count[0] / 100000, count[1] / 100000)"
   ]
  },
  {
   "cell_type": "markdown",
   "id": "ef6557a6-b913-4c2c-91e6-ff441a55bfd8",
   "metadata": {},
   "source": [
    "### Unit 8. Loop-1"
   ]
  },
  {
   "cell_type": "markdown",
   "id": "65a999a4-ecbb-4c3c-baff-14ec55f6e61f",
   "metadata": {},
   "source": [
    "- **for(n)**: typical. **n** is the control variable, if not used, better use an **underscore (_)**.\n",
    "- Function **range()**: explanation and use in loop. Use **only for integers**. For real numbers, better use **arange(wanted)** (in *numpy* module).\n",
    "- Function **sum()**: explained already (sumatory function). Careful not to **@Override** function, it's *de facto* reserved.\n",
    "- For loop with iteration on list.\n",
    "- Function **split(string)**: converts string to list. Default: takes spaces as separator. Different separator is taken as the introduced @param.\n",
    "- Iterate on string.\n",
    "- String **formatting**:\n",
    "  - Separate with comas (there are added spaces between the comas).\n",
    "  - C/C++ style, %d for example: defined as *arcaic* by teacher.\n",
    "  - Use of {} and at the end of string add ```.format(number)```.\n",
    "    - **{:*n*d}**: creates n spaces for the number.\n",
    "    - **{:*n.m*f}**: creates n spaces and prints m digits below the decimal point.\n",
    "  - Put *f* before start of string and add the numbers in brackets (*{}*)."
   ]
  },
  {
   "cell_type": "code",
   "execution_count": 9,
   "id": "a33ee064-5326-4b40-b9bb-2f2d843edcbd",
   "metadata": {},
   "outputs": [
    {
     "name": "stdout",
     "output_type": "stream",
     "text": [
      "H\n",
      "H\n",
      "H\n",
      "H\n",
      "H\n",
      "a\n",
      "b\n",
      "c\n",
      "['a', 's', 'd', 'f', 'a', 'f']\n",
      "H e l l o \n",
      "The number        100 is an integer and            5.430 is a float\n",
      "The number        100 is an integer and            5.232 is a float\n"
     ]
    }
   ],
   "source": [
    "for i in range(5):\n",
    "    print(\"H\")                             # Example loop with range\n",
    "\n",
    "words = ['a', 'b', 'c']\n",
    "for w in words:                            # Example loop with iterated list\n",
    "    print(w)\n",
    "\n",
    "words2 = 'asdfaf'                          # Convert to string\n",
    "print(list(words2))\n",
    "\n",
    "for i in 'Hello':\n",
    "    print(i, end = \" \")\n",
    "                                           # Show formatting example\n",
    "print(\"\\nThe number {:10d} is an integer and {:16.3f} is a float\".format(100, 5.42978364))\n",
    "print(f\"The number {100:10d} is an integer and {5.2321:16.3f} is a float\")"
   ]
  },
  {
   "cell_type": "markdown",
   "id": "760bf0da-0af6-4909-b429-1f057af640aa",
   "metadata": {},
   "source": [
    "### Unit 9. Loop-2"
   ]
  },
  {
   "cell_type": "markdown",
   "id": "46aee817-820c-4972-944f-641e1513ca28",
   "metadata": {},
   "source": [
    "- **while**: typical.\n",
    "- Module **random**:\n",
    "  - **random()**: Generates random number between 0 and 1.\n",
    "  - **randrange(a)**: Returns a random number in the range (**excluded end**).\n",
    "  - **randint(a, b)**: Returns a random integer between a and b (**included end**).\n",
    "  - **shuffle(seq)**: Shuffles the elements of the list.\n",
    "  - **choice(seq)**: Selects a random item in the list.\n",
    "  - **sample()**: Chooses a random number of elements from the list.\n",
    "- **break** and **continue** instructions: typical. Try to **avoid**\n",
    "- **Nested loop**: typical."
   ]
  },
  {
   "cell_type": "code",
   "execution_count": 10,
   "id": "386e0ae6-8e02-4129-82bd-b1cc4454bd9f",
   "metadata": {},
   "outputs": [
    {
     "name": "stdout",
     "output_type": "stream",
     "text": [
      "Random numbers 0.9020, 0,4, [1, 3, 4, 2], 1, [4, 1]\n"
     ]
    }
   ],
   "source": [
    "import random\n",
    "\n",
    "numbers = [1, 2, 3, 4]\n",
    "random.shuffle(numbers)                                                               # Shuffling \n",
    "sub_numbers = random.sample(numbers, 2)                                               # Taking a sample put of the lsit\n",
    "print(f\"Random numbers {random.random():4.4f}, {random.randrange(3)},\"\n",
    "      f\"{random.randint(1, 10)}, {numbers}, {random.choice(numbers)}, {sub_numbers}\")"
   ]
  },
  {
   "cell_type": "markdown",
   "id": "57dab75a-ff33-4d22-b4b8-7b0e29f2cd82",
   "metadata": {
    "jp-MarkdownHeadingCollapsed": true
   },
   "source": [
    "## Chapter 2. Python basics and sequence Data Types"
   ]
  },
  {
   "cell_type": "markdown",
   "id": "19470144-2dec-4c57-b87d-4a36ecac17c9",
   "metadata": {},
   "source": [
    "### Unit 10. List and Tuple Data Types"
   ]
  },
  {
   "cell_type": "markdown",
   "id": "f8f59b5f-c3d1-4c76-a835-c585f29aba1d",
   "metadata": {},
   "source": [
    "- **List**: hybrid between Java List and array[], so you have all the versatility of the array, the list and the object multiplicity. Typical array indexing.\n",
    "- **Slicing** functions: **[start, end, step]**. Stepping positive and negative (backwards), **careful out of bounds** (max. indexing is *len(list) - 1*). Even if negative slicing, we go from left to right, so in ```a = [1, 2, 3]```, ```a[:] == a[-3:-1]```.\n",
    "- Very important to diferenciate between **copying** and **referencing** the same object, as the change in a 2 times referenced object will be shown in both references. Shown below.\n",
    "- Function **lista(range(1, n))**: to create a list o n numbers, as *range()* does not return a list, returns a different object.\n",
    "- Function **len(lista)**: returns length of the string.\n",
    "- Function **lista.append()**: typical. If you append a list into another, you create a sublist in the appended list.\n",
    "- Function **lista.extend()**: adds at the end of the list (like joining lists).\n",
    "- Function **\" \".join(lista)**: applied to **strings (only)**, puts ' ' between objects in a list.\n",
    "- Function **insert(index, item)**: adds item to desired index.\n",
    "- Function **del lista[x:y:z]**: deletes elements from a list, slicing can be used.\n",
    "- Function **lista.pop(index)**: returns and eliminates from list and returns popped object. Default: **from the end**, or given index item.\n",
    "- Function **lista.remove(item)**: Deletes the item in list **once only**. Error if item not found in list.\n",
    "- Operator *obj **in** lista*: returns true si finds obj in list.\n",
    "- **Tuple**: same as List but **immutable**. If tuple type os int, can only be int, can't assign new val, can' delete. *Use when want to assure that the List remains unchanged*.\n",
    "- Function **min(lista)**: returns minimum value in list.\n",
    "- Function **max(lista)**: returns maximum value in list.\n",
    "- Function **any(lista)**: returns **True** if at list one object diferent to ' ' or 0.\n",
    "- Function **lista.sort()**: sorts on ascending value. If  descending is wanted, *@param* = reverse = True. Returns None.\n",
    "- A ```[[]]``` multiplied **share the same reference**.\n",
    "- Function **lista.index(item)**: finds the first place of element given.\n",
    "- Function **lista.count(item)**: typical, counting elements in list.\n",
    "- Function **reverse()**: reverses the elements of  a list. Returns None."
   ]
  },
  {
   "cell_type": "code",
   "execution_count": 11,
   "id": "73ca1932-46ca-4be9-8abb-7769264c0287",
   "metadata": {},
   "outputs": [
    {
     "name": "stdout",
     "output_type": "stream",
     "text": [
      "['hello', 1234] ['hello', 1234, True]\n",
      "[1, 2, 3, 4, 'a'] [1, 2, 3, 4, 'a'] [1, 4, [1, 2, 3, 4]]\n",
      "[1, 2, 3, 4, 'a', 'a', 4, 3, 2, 1, 'b'] [1, 2, 3, 4, 'a', 'a', 4, 3, 2, 1, 'b'] [1, 4, [1, 2, 3, 4]]\n",
      "['b', 1, 2, 3, 4, 'a', 'a', 4, 3, 2, 1] [1, 2, 3, 4, 'a', 'a', 4, 3, 2, 1, 'b'] [1, 4, [1, 2, 3, 4], [2, 3, 4, 'a']]\n",
      "[324, 56, 24, 23, 3, 1] 1 4 False\n",
      "[['h'], ['h'], ['h'], ['h'], ['h'], ['h'], ['h'], ['h'], ['h'], ['h']]\n",
      "[[0], [1], [2], [3], [4], [5], [6], [7], [8], [9]]\n",
      "[[0], [1], [2], [3], [4], [5], [6], [7], [8], [9], [4]]\n",
      "4\n",
      "[[4], [9], [8], [7], [6], [5], [4], [3], [2], [1], [0]]\n"
     ]
    }
   ],
   "source": [
    "def person(num, name):\n",
    "    if num == 2 and name == 'jesus':\n",
    "        return True\n",
    "    return False\n",
    "\n",
    "list0 = ['hello', 1234, person(2, 'jesus')]          # List with string, number, function that return a boolean\n",
    "list1 = list0\n",
    "list2 = list0[:]\n",
    "print(list1[0:-1], list2)\n",
    "\n",
    "a = list(range(1, 5))                                # Use of list + range functions\n",
    "b = a                                                # a, b, reference the same object\n",
    "c = a.copy()                                         # Copy function\n",
    "b.append('a')                                        # Append function\n",
    "c.append(c.copy())                                   # Append a copy of the array (creates a sub array): [1, 2, 3, [1, 2, 3]]\n",
    "del c[1:3]                                           # Function del + slicing\n",
    "print(a, b, c)\n",
    "a.extend(b[::-1])                                    # Reverse string and concatenates\n",
    "b.extend('b')\n",
    "print(a, b, c)\n",
    "c.append(a[1:5:1])                                   # String from first to fifth, \n",
    "print(a[::-1], b, c)                                 # Reverse list a before printing.\n",
    "a.remove(4)                                          # Deletes a '4'\n",
    "f = list(range(1, 5))\n",
    "g = [1, 324, 24, 23, 56, 3]\n",
    "g.sort(reverse = True)                               # sort() returns None\n",
    "print(g, min(f), max(f), any([]))                    # Sort worked, Min, max, any functions\n",
    "h = [[]] * 10\n",
    "h[0].append('h')                                     # All the copies share the same reference\n",
    "print(h)\n",
    "numeros = []\n",
    "for i in range(10):\n",
    "    numeros.append([i])                              # Right way\n",
    "print(numeros)\n",
    "numeros.append([4])\n",
    "print(numeros)\n",
    "print(numeros.index([4]))                            # Returns the first appearing posiiton of item\n",
    "numeros.reverse()\n",
    "print(numeros)                                       # Reverses the list items, returns None"
   ]
  },
  {
   "cell_type": "markdown",
   "id": "76f07574-1223-43f9-af89-b6ad06958ffc",
   "metadata": {},
   "source": [
    "### Unit 11. Dictionary Data Type"
   ]
  },
  {
   "cell_type": "markdown",
   "id": "64aaf3e5-667d-4f1e-92ce-ac314ab4aa79",
   "metadata": {},
   "source": [
    "- **Dictionary**: like Map in Java, uses a pair *key*-*value*. Declaration with **{}**.\n",
    "- **x in dict**: returns bool if x is a key in dictionary.\n",
    "- **Insertion**, **modification**: ```dict['key'] = 'value'```. If key not in dict, makes a new entre K-V.\n",
    "- **Deletion**: ```del dict['key']```. Cannot delete key inexistent in dictionary. Cannor delete through iteration process (**dictionary changed sizes**).\n",
    "- Funtion **len(dict)**, **word in dict**, **word not in dict**, **d1 == d2**, **d1 != d2**: same as List. Cannot do **>** or **<**.\n",
    "- Convert **.json to dictionary**: shown below. **Important**: use of ```\" \"``` around K-V pairs, use **loads(string)** for strings and **load(object)** for objects.\n",
    "- Convert **dictionary to .json**:\n",
    "  - Function **with exp1 as exp2**: to simplifly expression (```with long_name as ln```). **Closes the file itself and handles exceptions**.\n",
    "  - Function **open('file_name.extension', 'rwx')**: opens or creates file in chosen mode.\n",
    "  - Function **json.dump(dictionary, f, indent='chosen')**: to convert and write.\n",
    "- Function **dic.pop(clave)**: same as List, it returns and eliminates the item from the list/dict.\n",
    "- Formatting:\n",
    "  - **```\"wrsfwer {} wrwr\".format(value_of_{})```**: indicates the value in between **{}** at the end.\n",
    "  - **{0:n.mf}**: indicates the number **n** of spaces and **m** decimals to **f** (float).\n",
    "- Function **dic.get(clave, arg)**: looks for clave in dic. If not, returns **a** (default is none).\n",
    "- Function **dic.setdefault(clave, arg)**: same as **dic.get()** but modifies the dictionary adding the element."
   ]
  },
  {
   "cell_type": "code",
   "execution_count": 12,
   "id": "5efc14e8-c759-48dc-992e-98cee5f8ea73",
   "metadata": {},
   "outputs": [
    {
     "name": "stdout",
     "output_type": "stream",
     "text": [
      "hello 23 ['phone', 625246111]\n",
      "{'key1': 'hello', 'key2': 23, 'key3': ['phone', 625246111], 'En': 'En', 'un': 'un', 'lugar': 'lugar', 'de': 'de', 'la': 'la'}\n"
     ]
    }
   ],
   "source": [
    "d = {'key1' : 'hello', 'key2' : 23, 'key3' : ['phone', 625246111]}\n",
    "print(d['key1'], d['key2'], d['key3'])\n",
    "\n",
    "import json\n",
    "\n",
    "data = '{\"key1\": \"hello\", \"key2\": 23, \"key3\": [\"phone\", 625246111], \"En\": \"En\", \"un\": \"un\", \"lugar\": \"lugar\", \"de\": \"de\", \"la\": \"la\"}'\n",
    "json_data = json.loads(data)                # Loads data into dictionary\n",
    "print(json_data)\n",
    "\n",
    "with open('file_name.json', 'w') as f:      # with(). creates the file in writing mode (w)\n",
    "    json.dump(json_data, f, indent='\\t')    # Records json_data in file (f)"
   ]
  },
  {
   "cell_type": "markdown",
   "id": "90b43123-eca1-46d9-a8c2-a248ba9d1b36",
   "metadata": {},
   "source": [
    "### Unit 12. Sequence Data Type"
   ]
  },
  {
   "cell_type": "markdown",
   "id": "81dc3b62-47ae-4143-beca-b1cf6f4061ee",
   "metadata": {},
   "source": [
    "- Sequence Data Types: **string**, **list/tuple**, **range**\n",
    "- Function **in / in not**: return boolean if **object** is in seq.\n",
    "- **Sequence + Sequence**: **concatenates** both. Uses always the same type of sequence.\n",
    "- **Range + Range**: Convert to List or Tuple before!\n",
    "- **Sequence * n**: concatenates Sequence **n** times. **¡Careful! It's the same thing**.\n",
    "- **Range * n**: convert first.\n",
    "- Function **seq.count(item)**: counts items in Sequence.\n",
    "- Function **range.count()**: make ```ran = range()``` and operate with **ran**.\n",
    "- Sequence **index**: knwon already. Make **ran** variable again.\n",
    "- **Slicing**: same as with index. Use of **ran** again.\n",
    "- Function **ord(string)**: converts string to ASCII number.\n",
    "- **Tuple**: immutable.\n",
    "  - Definition: ```var_name = tuple()```, ```var_name = items```, ```var_name = (items)```, ```var_name = tuple(lista)```. **¡Careful with one-element tuples!**\n",
    "  - Packing and **unpacking** + **swapping**: shown below.\n",
    "  - Function **sort(lista)**: **convert to list first**, then ```lista.sort()```.\n",
    "  - Function **sorted(tupla)**: like before but converts authomatically. Can do ```tuple(sorted(tupla))```.\n",
    "- Function **list(sequence)**: converts to list.\n",
    "\n"
   ]
  },
  {
   "cell_type": "code",
   "execution_count": 13,
   "id": "8a15b210-2ad1-4a8e-bc34-a8a2dbb976eb",
   "metadata": {},
   "outputs": [
    {
     "name": "stdout",
     "output_type": "stream",
     "text": [
      "[11, 22, 33, 44, 55, 11, 22, 33, 44, 55, 11, 22, 33, 44, 55]\n",
      "[11, 22, 33, 44]\n",
      "[3, [11, 22, 33, 44, 55], [11, 22, 33, 44]]\n",
      "[11, 22, 33, 44, 55, 11, 22, 33, 44]\n",
      "True\n",
      "<class 'list'>\n",
      "['s', 's', 'r', 'f', 's', 'v', 'r'] [0, 1, 2, 3, 4, 5, 6, 7]\n",
      "5 3\n"
     ]
    }
   ],
   "source": [
    "list1 = [11, 22, 33, 44, 55]\n",
    "print(list1 * 3)\n",
    "list2 = [3, list1.copy(), list1]          # Careful\n",
    "list3 = 2 * list1\n",
    "list1.pop()\n",
    "list3.pop()\n",
    "print(list1)\n",
    "print(list2)\n",
    "print(list3)\n",
    "print(list2[2] is list1)                  # Function \n",
    "tup = ([2])                               # one-element tuple is not a tuple\n",
    "print(type(tup))\n",
    "\n",
    "list4 = list('ssrfsvr')                   # Function list\n",
    "list5 = list(range(8))\n",
    "print(list4, list5)\n",
    "\n",
    "a, b = 3, 5                               # Unpacking\n",
    "a, b = b, a                               # Swapping\n",
    "print(a, b)"
   ]
  },
  {
   "cell_type": "markdown",
   "id": "fc5ddd8f-6bb2-48e5-9366-c97312e1ffd5",
   "metadata": {},
   "source": [
    "### Unit 13. Two-Dimensional Lists"
   ]
  },
  {
   "cell_type": "markdown",
   "id": "fc30fde0-ae1f-42f9-9c38-8f2c556ad91b",
   "metadata": {},
   "source": [
    "- **Two dimensional** lists: typical.\n",
    "- **Indexing**: can be done as ```lista[m][n]```.\n",
    "  - Unpacking is fine, but **all variables must receive a val at all times**. Solvable with a double for loop using **in** or **indexes**.\n",
    "- Function **var_name = copy.deepcopy(object)**: in separate parts of memory.\n",
    "- **Jagged list**: elements of list have different \"weight\" (different number of items).\n",
    "- Introduction to **comprehension lists**: Mathematica code writing style.\n",
    "  - If the comprehension list is not in **[]**, it becomes a **generator object**, which means it **will note evaluate the values until asked to** (similar to **range()**).\n",
    "- Function **string.capitalize()** and **string.upper()**: capitalize puts the first letter of the string in **capital letters**, upper does the same to all of them.\n",
    "- Function **repr(string)**: prints same as how Python interpreter sees it (example: printing '' fro empty string).\n",
    "- **lista[:]**: works on the **given list**, not a new list.\n",
    "- Function **lista[i].append(item)**: appends **item** to the sublist in **i** location.\n",
    "- Files:\n",
    "  - Function **f = open('filename.txt', 'rwx')**: opens the given file with the given mode (**r** = read, **w** = write (creates or **overwrites**), **x** = exclusive creates file and opens to write (if created already gives error), **a** = append at the end, **+** = read/write at the same time, **t** = creates/opens a txt file (default model to create a file), **b** = creates/opens a file in binary format).\n",
    "  - Function **f.close()**: closes the file. **Not closing consumes resources**.\n",
    "  - Function **f.write()**: writes on file.\n",
    "  - Function **f.read(char_num)** and **f.readline()**: reads all char numbers from the pointer location or just a line. If default, reads the whole document.\n",
    "  - Function **with open(a, b) as f:**: assures that the opened file will be closed at the end."
   ]
  },
  {
   "cell_type": "code",
   "execution_count": 14,
   "id": "ff1272fd-f7fe-4266-bcf5-a2c82458c6c6",
   "metadata": {},
   "outputs": [
    {
     "name": "stdout",
     "output_type": "stream",
     "text": [
      "[[0, ['hello', [0, 0]]], [0, 1], [0, 1, 2], [0, 1, 2, 3], [0, 1, 2, 3, 4]]\n",
      "[10, 2345, 325, 12, 4, 3, 5, 6]\n",
      "[10, 12, 6]\n",
      "10 2345 325 12 4 3 5 6\n",
      "1393588547072\n",
      "1393588542144\n",
      "1393588542144 \n",
      "\n",
      "Hell\n",
      "o this is a txt file.\n",
      "\n",
      "Hello2 this is a second line.\n",
      "\n"
     ]
    }
   ],
   "source": [
    "# Jagged list example\n",
    "list1 = [1, 2, 3, 4, 5]\n",
    "list2 = []\n",
    "\n",
    "for i in list1:\n",
    "    line = []\n",
    "    for j in range(i):\n",
    "        line.append(j)\n",
    "    list2.append(line)\n",
    "list2[0].append(['hello',[0, 0]])                          # Appends tu sublist in i position\n",
    "print(list2)\n",
    "\n",
    "list3 = [10, 2345, 325, 12, 4, 3, 5, 6]\n",
    "print(list3)\n",
    "list4 = [x for x in list3 if x % 2 == 0 and x > 4]         # Comprehension list example with even numbers\n",
    "print(list4)\n",
    "list3 = \" \".join([str(x) for x in list3])                  # Comprehension list example with conversion to string\n",
    "print(list3)\n",
    "  \n",
    "list5 = list4.copy()\n",
    "print(id(list5))\n",
    "list5 = [x for x in list5 if x % 2 == 0]                   # Creates a new var \"list5\"\n",
    "print(id(list5))\n",
    "list5[:] = [x for x in list5 if x % 2 == 0]                # Replaces all values (start:end) with new thing\n",
    "print(id(list5), \"\\n\")\n",
    "\n",
    "f = open('hello.txt', 'w')                                 # Opens file to write (creates or overwrittes)\n",
    "f.write('Hello this is a txt file.\\n')\n",
    "f.write('Hello2 this is a second line.\\n')\n",
    "f.close()                                                  # Close file\n",
    "with open('hello.txt', 'r') as f:                          # Opens file to read\n",
    "    s = f.read(4)                                          # Reads 5 char\n",
    "    print(s)\n",
    "    s = f.readline()                                       # Reads a line\n",
    "    print(s)\n",
    "    s = f.readline()                                       # Reads all (from last pointer location)\n",
    "    print(s)\n",
    "    f.close()                                              # Close file"
   ]
  },
  {
   "cell_type": "markdown",
   "id": "1fd2e583-50bc-469f-ad92-37acff212e21",
   "metadata": {},
   "source": [
    "### Unit 14. Dictionary Method-1"
   ]
  },
  {
   "cell_type": "markdown",
   "id": "074407e6-e997-45c9-bead-f29e43eef094",
   "metadata": {},
   "source": [
    "- Library **collections**: to count with a dictionary\n",
    "- Function **dic.setdefault(key, val_default)**: sets a default value on the given key **if it does not exist**.\n",
    "- Function **dic.update(key, val)**: if key in dic, updates value. If it does not exist, it adds the pair. The pair key-value can be inside a tuple or list.\n",
    "- Function **dic.pop(key)**: typical elimination and returns value.\n",
    "- Function **dic.popitem()**: deletes and returns the last item (beware that dictionaries are **not sorted**).\n",
    "- Function **dic.clear()**: typical.\n",
    "- Function **dic.get(key, set_default)**:gets element or sets to default.\n",
    "- Functions **dickeys()**, **dic.values()**, **dic.items()**: gets keys, vals or pair val-keys.\n",
    "- Function **string.split(string)**: seen already, splits string in list where given char appears.\n",
    "- Function **string.strip()**, **s.lstrip()**, **s.rstrip()**: deletes spaces before and after string or only left or right ).\n",
    "- Function **string.join(lista)**: seen already, joins list in string with given char.\n",
    "- Functions **string.lower()**, **s.upper()**, **s.capitalize()**: seen already.\n",
    "- Function **string.startswith(search string,*start string*, *end string*)**, **s.endswith(s)**: returns boolean if condition satisfied. Can also use start and end parameters as **indexes** of given string.\n",
    "- Function **string.replace(s search, s replace)**: seen already, replaces the searched srtring for the replacing one."
   ]
  },
  {
   "cell_type": "code",
   "execution_count": 15,
   "id": "57703a70-e188-446b-afb0-e2e3d9151b6b",
   "metadata": {},
   "outputs": [
    {
     "name": "stdout",
     "output_type": "stream",
     "text": [
      "{'a': 1, 'b': 2, 'c': 3, 'd': 4}\n"
     ]
    }
   ],
   "source": [
    "dic = {'a': 1, 'b': 2, 'c': 3}\n",
    "dic.setdefault('c', 4)                  # As 'c' is already set NO UPDATES\n",
    "dic.setdefault('d', 4)                  # As 'c' is not inside, sets in\n",
    "print(dic)"
   ]
  },
  {
   "cell_type": "markdown",
   "id": "b833adf1-5267-40d9-b50d-4182e97ca4b7",
   "metadata": {},
   "source": [
    "#### Apuntes Salva"
   ]
  },
  {
   "cell_type": "code",
   "execution_count": 16,
   "id": "f8f09ee5-b16f-4456-a843-5059b64deb1c",
   "metadata": {},
   "outputs": [
    {
     "name": "stdout",
     "output_type": "stream",
     "text": [
      "{'a': 12, 'b': 5, 'c': 3, 'd': 3, 'e': 4}\n",
      "Counter({'a': 12, 'b': 5, 'e': 4, 'c': 3, 'd': 3})\n",
      "defaultdict(<class 'int'>, {'a': 12, 'b': 5, 'c': 3, 'd': 3, 'e': 4})\n",
      "12\n",
      "{1: 100, 3: 4, 5: 500, 'azul': 'blue'}\n",
      "El resultado es a = 5\n",
      "posicionales=(1, 2, 3)\n",
      "{'azul': 'blue', 'rojo': 'red', 'end': ' '}\n"
     ]
    }
   ],
   "source": [
    "import collections\n",
    "\n",
    "cadena = 'aaaababbbbaaaacccdddeeeeaaa'\n",
    "d1 = {}\n",
    "for ch in cadena:\n",
    "    d1[ch] = d1.get(ch, 0) + 1\n",
    "print(d1)\n",
    "\n",
    "d2 = collections.Counter(cadena)                          # Creates a Counter dictionary\n",
    "print(d2)\n",
    "\n",
    "d3 = collections.defaultdict(int)                         # Makes a setdefault para with the arg. given\n",
    "for ch in cadena:\n",
    "    d3[ch] += 1                                           # If ch not in g, introduces a 0\n",
    "print(d3)\n",
    "\n",
    "print(max((y,x) for x,y in d3.items())[0])                 # Print the maximum amount of times an only char appears in the string\n",
    "\n",
    "d4 = {1:2, 3:4}\n",
    "otro = {1:100, 5:500}\n",
    "d4.update(otro, azul='blue')                              # Updates only the values of the given keys\n",
    "print(d4)\n",
    "\n",
    "a = 5\n",
    "print(f'El resultado es {a = }')\n",
    "\n",
    "def h(*posicionales, **con_nombre):\n",
    "    print(f'{posicionales=}')\n",
    "    print(f'{con_nombre}')\n",
    "h(1, 2, 3, azul = 'blue', rojo = 'red', end = ' ')        # Mete los posicionales en una tupla y los demás en diccionario"
   ]
  },
  {
   "cell_type": "markdown",
   "id": "b4f28833-e14f-448d-bff1-d21f06385fa2",
   "metadata": {},
   "source": [
    "### Unit 15 Dictionary Method-2"
   ]
  },
  {
   "cell_type": "markdown",
   "id": "2c536025-2100-49e9-9ed0-0761f0a4ce58",
   "metadata": {},
   "source": [
    "- Import **from collections import defaultdict**.\n",
    "- Function **dict.fromkeys(lista, default)**: creates an empty dictionary from the given list of keys and puts the default value or None.\n",
    "- Cannot access value if not a key in dictionary.\n",
    "- Function **defaultdict(object)**: creates a dictionary with defautl value 0.\n",
    "- Printing dictionary: typical.\n",
    "- Double dictionary: similar to 2D-arrays.\n",
    "- Function **obj1 is obj2** and **obj.copy()**: typical.\n",
    "- Function **obj.deepcopy()**: to copy a double dictionary. Use with **nested objects**.\n",
    "- Function **dic.items()**, **d.keys()**, **dic.values()**: typical.\n",
    "- **Imports**: ```import module.class.method``` or ```from module import *``` (second one does not need to write the module when calling mehotds or classes.).\n",
    "- Module **datetime**: all necessaries clock mechanisms.\n",
    "- Function **dir(module)**: returns all information known froma  given module or class (such as classes, atributes, methods...).\n",
    "- Function **replace()**: used on the datetime module with the keywords *month* and *day*, for example.\n",
    "- Function **module as md**: used to abreviate modules names.\n",
    "- Module **math**: **fabs(n)** returns absolute number, **ceil(n)** and **floor(n)** round up or down to next integer, **exp(n)** returns E^x, **log(x)** natural logarithm, **log(n, base)** logarithm with base, **sqrt(n)** returns the squared root, **sin(n)**, **asin(n)**, **cos(n)**, **acos(x)**, **tan(n)** classic trigonometry functions in radians, **degrees(n)** turns n angle from radians into degrees, **radians(n)** turns n angle from degrees to radians. "
   ]
  },
  {
   "cell_type": "code",
   "execution_count": 33,
   "id": "2abfb190-5df1-4789-a835-f4f50cb2abc8",
   "metadata": {},
   "outputs": [
    {
     "name": "stdout",
     "output_type": "stream",
     "text": [
      "{'a': 100, 'b': 100, 'c': 100, 'd': 100, 'e': 100}\n",
      "defaultdict(<class 'int'>, {})\n",
      "2025-07-07 11:28:00.111752\n",
      "['MAXYEAR', 'MINYEAR', 'UTC', '__all__', '__builtins__', '__cached__', '__doc__', '__file__', '__loader__', '__name__', '__package__', '__spec__', 'date', 'datetime', 'datetime_CAPI', 'time', 'timedelta', 'timezone', 'tzinfo']\n"
     ]
    }
   ],
   "source": [
    "from collections import defaultdict\n",
    "import datetime\n",
    "\n",
    "keys = ['a', 'b', 'c', 'd', 'e']\n",
    "y = dict.fromkeys(keys, 100)\n",
    "print(y)\n",
    "\n",
    "y = defaultdict(int)\n",
    "print(y)\n",
    "\n",
    "print(datetime.datetime.now())\n",
    "print(dir(datetime))"
   ]
  },
  {
   "cell_type": "markdown",
   "id": "c0305b0f-7d2a-494d-b438-8b4717fc731a",
   "metadata": {},
   "source": [
    "### Unit 16. Set Data Types"
   ]
  },
  {
   "cell_type": "markdown",
   "id": "4b75496a-9dcc-417a-be32-ab71321de75b",
   "metadata": {},
   "source": [
    "- Data Type **set**: satisfies mathematical criteria and **operations** (such as union, intersection, ...), does not have repeated elements, , empty one is defeined as **set()**. **It is not ordered** (same as with dictionary, never assume it's ordered), use **sorted()**.\n",
    "- Function **set.add(elem)**: typical (adding an already-in-set elem gives no problem).\n",
    "- Function **set.remove(elem)**: typical (check if element not in set before deleting, otherwise: error).\n",
    "- Function **set.discard(elem)**: same as remove() but **does not give error** if element not in set before deletion.\n",
    "- Operator **& (intersection())**: typical math.\n",
    "- Operator **| (union())**: typical math.\n",
    "- Operator **- (difference())**: typical math.\n",
    "- Operator **^ (simmetric_difference())**: typical math.\n",
    "- Several math operations can be concatenated and written in the for of **s1.operation(s2)**.\n",
    "- Function **set1.isdisjoint(set2)**: returns True if both sets have nothing in common (**coprime**: nothing in common but number 1).\n",
    "- Function **<, issubset()**: finds if a set is subset of given set.\n",
    "- Function **>, issuperset()**: finds if given set is superset of set.\n",
    "- Cartesian product **A x B**: using sets as matrixes and operate as typical.\n",
    "- Functions **len(s1)**, **max(s1)**, **min(s1)**, **sorted(s1)**, **max(s1)**: typical.\n",
    "- Functions **all(s1)**, **any(s1)**: returns **boolean** depending on whether elements are **all True** or **any is True**. **All the best from lazy evaluation, as these functiosn receive an Iterable Data Type, which does barely use memory**.\n",
    "- Function **zip(iterables)**: returns a new tuple with the iterable element in each iteration as shown below until one of the iterables is emptied. Beware of making zip to a lsit, as it will return tuples of it."
   ]
  },
  {
   "cell_type": "code",
   "execution_count": 18,
   "id": "19579821-8c06-439e-8b14-d2b7cd25dafd",
   "metadata": {},
   "outputs": [
    {
     "name": "stdout",
     "output_type": "stream",
     "text": [
      "{1, 2, 3, 4} {1, 2, 3, 4} {1, 2, 3, 4}\n",
      "1 2 3 4 5 6 7 8 9 \n",
      "{1, 2, 3, 6, 9} {1, 3, 4, 6}\n",
      "{1, 2, 3, 4, 6, 9} {9, 2} {1, 3, 6} {2, 4, 9}\n",
      "True True True True True\n",
      "True \n",
      "\n",
      "{1, 2} {3, 4} [(1, 3), (1, 4), (2, 3), (2, 4)] \n",
      "\n",
      "False True \n",
      "\n",
      "a 1 1\n",
      "b 2 2\n",
      "c 3 3\n",
      "\n",
      "0 aa\n",
      "1 ab\n",
      "2 ba\n",
      "3 bb\n",
      "\n"
     ]
    }
   ],
   "source": [
    "set0 = set()\n",
    "set1 = {1, 2, 3, 4}\n",
    "n_tuple = (1, 2, 3, 4)\n",
    "set2 = set(n_tuple)\n",
    "n_list = [1, 2, 3, 4]\n",
    "set3 = set(n_list)\n",
    "print(f\"{set1} {set2} {set3}\")\n",
    "set4 = {1, 2, 3, 4, 6, 7, 8, 9, 5}\n",
    "for element in sorted(set4):\n",
    "    print(element, end=\" \")\n",
    "print()\n",
    "\n",
    "import random\n",
    "\n",
    "s1 = {random.randint(1, 10) for _ in range(5)}\n",
    "s2 = {random.randint(1, 10) for _ in range(5)}\n",
    "print(s1, s2)\n",
    "\n",
    "union = s1 | s2\n",
    "diff = s1 - s2\n",
    "intersect = s1 & s2\n",
    "simm_diff = s1 ^ s2\n",
    "print(union, diff, intersect, simm_diff)\n",
    "print(union.issuperset(intersect), union > intersect, intersect.issubset(s1), intersect < s1, union == s1|s2)\n",
    "s3 = {1, 2, 3}\n",
    "s4 = {10, 20, 30}\n",
    "print(s3.isdisjoint(s4), \"\\n\")\n",
    "\n",
    "def AxB(A, B):\n",
    "    # Precondition: both given elements are sets.\n",
    "    res = set()\n",
    "    for i in A:\n",
    "        for j in B:\n",
    "            res = res | {(i, j)}\n",
    "    return res\n",
    "    \n",
    "A = {1, 2}\n",
    "B = {3, 4}\n",
    "C = AxB(A, B)\n",
    "print(A, B, sorted(C), \"\\n\")\n",
    "\n",
    "# Functions all and any are used because of thir ITERABLE INPUT, which does not use memory (all the best from lazy evaluation)\n",
    "ages = set([20, 21, 32, 18, 19, 25])\n",
    "print(all(age < 30 for age in ages),\n",
    "        any(age == 18 for age in ages), \"\\n\")\n",
    "\n",
    "# Function zip()\n",
    "keys = ['a', 'b', 'c', 'd']\n",
    "values = [1, 2, 3]\n",
    "mult = [1, 2, 3, 5]\n",
    "for a, b, c in zip(keys, values, mult):\n",
    "    print(a, b, c)\n",
    "print()\n",
    "\n",
    "# Example of enumerate function\n",
    "elements = ['aa', 'ab', 'ba', 'bb']\n",
    "for i, elem in zip(range(len(elements)), elements):\n",
    "    print(i, elem)\n",
    "print()"
   ]
  },
  {
   "cell_type": "markdown",
   "id": "eb5cab0f-6859-440d-9223-15029a00e2bc",
   "metadata": {},
   "source": [
    "## Chapter 3. Function, closure and class"
   ]
  },
  {
   "cell_type": "markdown",
   "id": "fccace3c-ea32-43c9-9bdd-b35ccd7e305c",
   "metadata": {
    "jp-MarkdownHeadingCollapsed": true
   },
   "source": [
    "### Unit 17. Function"
   ]
  },
  {
   "cell_type": "markdown",
   "id": "4edfc8ff-0943-4c51-8b76-802e53efac59",
   "metadata": {},
   "source": [
    "- Function structure: **def** keyword, name, args, return, ...\n",
    "- **Arbitrary parameters**: ```def func(*args)``` takes as many args as wanted.\n",
    "- **Keyword parameters**: defined with a default value but can be modified or specified if wanted, with or without a keyword (```div(n, 2)``` or ```div(n, m)```).\n",
    "- **Return** with several arguments: can be unpacked.\n",
    "- **Pass-by-value**, but careful with mutable types, such us **lista** that may give **lateral effects**.\n",
    "- The **asterisk** is used to **unpack** items in functions or list.\n",
    "- Directive **nonlocal**: to access a non local variable (out of the function) which is not global. Can happen in nested functions.\n",
    "- **String processing**:\n",
    "  - Function **max(string)**: returns char with highest Unicode.\n",
    "  - Function **min(s)**: returns char with smallest Unicode.\n",
    "  - Function **ord(char)**: returns char Unicode.\n",
    "  - Function **chr(num)**: return the char of the given Unicode number.\n",
    "  - Function **s.count(sub_string)**: returns the number of ocurrences.\n",
    "  - Function **s.find(sub_s)**: returns index where subs_s is found.\n",
    "  - Function **s.index(sub_string)**: returns index place where sub_S can be found.\n",
    "  - Function **s.startswith(sub_s)**: returns boolean.\n",
    "  - Function **s.endswith(sub_s)**: returns boolean.\n",
    "  - Functions **s.upper()**, **s.lower()**, **s.istitle()**: typical, change to upper, lower or capital letters.\n",
    "  - Function **s.swapcase()**: changes uppers to lowers and viceversa.\n",
    "- Module **string**:\n",
    "  - **module.ascii_uppercase**: returns a string with all the upper letters.\n",
    "  - **m.ascii_lowercase**: returns all lower letters.\n",
    "- Directive **global**: allows an outside of function variable to be called and modified from inside the function.\n",
    "- Variable **local**: in function and available only to function. If defined in function with the same of a global variable it is a different one.\n",
    "- Directive **nonlocal**: to call an outside of function variable which is not global (nested functions probably).\n",
    "- **Constants**: defined with uppercase.\n",
    "- Format: typical, seen already."
   ]
  },
  {
   "cell_type": "code",
   "execution_count": 26,
   "id": "86e01739-2c56-4c09-b7d5-2603ea51cc35",
   "metadata": {},
   "outputs": [
    {
     "name": "stdout",
     "output_type": "stream",
     "text": [
      "Ha cambiado\n",
      "6\n",
      "5\n",
      "Ha cambiado\n",
      "5\n",
      "5\n",
      "Ha cambiado\n",
      "5\n",
      "5\n",
      "Tras llamada a=[20, 30, 40, 'hola', 'hola', 'hola'] y b=[20, 30, 40]\n",
      "5\n",
      "\n",
      "10\n",
      "20\n",
      "30 10 20 30 40 50\n",
      "10 20 30 10 [20, 30, 40, 50] \n",
      "\n",
      "Soy método de A\n",
      "Soy método de B\n",
      "Soy método de A\n",
      "Soy método de B\n"
     ]
    }
   ],
   "source": [
    "c = 6\n",
    "def g(lista):\n",
    "    lista.append('hola')\n",
    "    b = lista.copy()\n",
    "    b.pop()\n",
    "    b.pop()\n",
    "    b.pop()\n",
    "    print('Ha cambiado')\n",
    "    global c                       # Modifies a GLOBAL VALUE\n",
    "    print(c)                       # Prints a value even if it is global\n",
    "    c = 5                          # This assignation is a GLOBAL assignation\n",
    "    print(c)\n",
    "    return b\n",
    "    \n",
    "a =[20, 30, 40]\n",
    "g(a)\n",
    "g(a)\n",
    "b = g(a)\n",
    "print(f\"Tras llamada {a=} y {b=}\")\n",
    "print(c, end=\"\\n\\n\")\n",
    "\n",
    "def h(a, b, *c):\n",
    "    print(a)\n",
    "    print(b)\n",
    "    print(*c)\n",
    "    return a, b, *c\n",
    "\n",
    "lista = [10, 20, 30]\n",
    "otra_lista = [10, 20, 30, *lista, 40, 50]         # Use an ASTERISK to unpack items in list\n",
    "a, b, c, d, *e = h(*otra_lista)                   # Use an ASTERISK to unpack items in function call and in given param\n",
    "print(a, b, c, d, e, \"\\n\")\n",
    "class A:\n",
    "    def f(self):\n",
    "        print(\"Soy método de A\")\n",
    "\n",
    "class B:\n",
    "    def f(self):\n",
    "        print(\"Soy método de B\")\n",
    "\n",
    "a = A()\n",
    "b = B()\n",
    "\n",
    "for objeto in [a, b, a, b]:\n",
    "    objeto.f()"
   ]
  },
  {
   "cell_type": "code",
   "execution_count": 20,
   "id": "41c6c583-c651-4c1a-9842-37111a0e7d83",
   "metadata": {},
   "outputs": [
    {
     "data": {
      "text/plain": [
       "13"
      ]
     },
     "execution_count": 20,
     "metadata": {},
     "output_type": "execute_result"
    }
   ],
   "source": [
    "import random\n",
    "random.randint(10, 20)"
   ]
  },
  {
   "cell_type": "code",
   "execution_count": 21,
   "id": "44ef1f6c-cb5a-40a0-a715-d80558ad450e",
   "metadata": {},
   "outputs": [
    {
     "data": {
      "text/plain": [
       "15"
      ]
     },
     "execution_count": 21,
     "metadata": {},
     "output_type": "execute_result"
    }
   ],
   "source": [
    "from random import *\n",
    "randint(10, 20)"
   ]
  },
  {
   "cell_type": "markdown",
   "id": "fc3bc9d9-27df-4a64-9392-24f545a182a4",
   "metadata": {},
   "source": [
    "### Unit 18. Recursion Function Call"
   ]
  },
  {
   "cell_type": "code",
   "execution_count": null,
   "id": "416b32e5-f692-4469-8a3e-5d733ae83449",
   "metadata": {},
   "outputs": [],
   "source": []
  },
  {
   "cell_type": "markdown",
   "id": "ab0dc2bd-1a8d-4457-af3f-793b7426229e",
   "metadata": {},
   "source": [
    "### Unit 19. Function"
   ]
  },
  {
   "cell_type": "code",
   "execution_count": null,
   "id": "c391d67b-5117-409f-a1cb-df254a942378",
   "metadata": {},
   "outputs": [],
   "source": []
  }
 ],
 "metadata": {
  "kernelspec": {
   "display_name": "Python [conda env:base] *",
   "language": "python",
   "name": "conda-base-py"
  },
  "language_info": {
   "codemirror_mode": {
    "name": "ipython",
    "version": 3
   },
   "file_extension": ".py",
   "mimetype": "text/x-python",
   "name": "python",
   "nbconvert_exporter": "python",
   "pygments_lexer": "ipython3",
   "version": "3.12.7"
  }
 },
 "nbformat": 4,
 "nbformat_minor": 5
}
