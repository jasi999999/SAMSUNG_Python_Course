{
 "cells": [
  {
   "cell_type": "markdown",
   "id": "4341a89f",
   "metadata": {},
   "source": [
    "# Ejercicios programación orientada a objetos\n",
    "## Julio 2025"
   ]
  },
  {
   "cell_type": "markdown",
   "id": "db0304c6",
   "metadata": {},
   "source": [
    "### Ejercicio\n",
    "\n",
    "Dada la siguiente clase:"
   ]
  },
  {
   "cell_type": "code",
   "execution_count": 12,
   "id": "4f59f425",
   "metadata": {},
   "outputs": [],
   "source": [
    "import math\n",
    "\n",
    "class Point2D:\n",
    "    def __init__(self, x, y):\n",
    "        self.x = x\n",
    "        self.y = y\n",
    "\n",
    "    def distOrigin(self):\n",
    "        return math.sqrt(self.x**2 + self.y**2)\n",
    "\n",
    "    def distPoint(self, other):\n",
    "        return math.sqrt((self.x - other.x)**2 + (self.y - other.y)**2)"
   ]
  },
  {
   "cell_type": "markdown",
   "id": "a9975dae",
   "metadata": {},
   "source": [
    "- El código anterior tiene un fallo de sintaxis, indentifícalo y corrígelo.\n",
    "- Identifica sus atributos, su constructor y sus métodos.\n",
    "- Escribe un programa que cree un objeto de tipo `Point2D`\n",
    "  de nombre `p1` con coordenadas `(3,2)` y muestre su distancia al origen.\n",
    "- Escribe un método `distPoint` que reciba como parámetro otro punto\n",
    "  y devuelva la distancia del punto actual (`self`) al punto recibido.\n",
    "- Escribe un programa que cree un punto `p2` con coordenadas `(6,6)` y\n",
    "  muestre por pantalla la distancia entre `p1` y `p2`.\n"
   ]
  },
  {
   "cell_type": "code",
   "execution_count": 13,
   "id": "252dfb5d",
   "metadata": {},
   "outputs": [
    {
     "name": "stdout",
     "output_type": "stream",
     "text": [
      "Ditacia al origen: 3.605551275463989\n",
      "Distancia entre ambos puntos: 5.0\n"
     ]
    }
   ],
   "source": [
    "p1 = Point2D(3, 2)\n",
    "print(f'Ditacia al origen: {p1.distOrigin()}')\n",
    "p2 = Point2D(6, 6)\n",
    "print(f'Distancia entre ambos puntos: {p1.distPoint(p2)}')"
   ]
  },
  {
   "cell_type": "markdown",
   "id": "4ce32d2a",
   "metadata": {},
   "source": [
    "### Ejercicio\n",
    "\n",
    "Dada la clase `Rectangle` siguiente, y teniendo en cuenta la definición de la clase `Point2D` del ejercicio anterior:"
   ]
  },
  {
   "cell_type": "code",
   "execution_count": 77,
   "id": "a5efe6d2",
   "metadata": {},
   "outputs": [],
   "source": [
    "class Rectangle():\n",
    "    def __init__(self, x0, y0, x1, y1):\n",
    "        self.p0 = Point2D(x0, y0)\n",
    "        self.p1 = Point2D(x1, y1)\n",
    "    \n",
    "    def l_diag(self):\n",
    "        return self.p0.distPoint(self.p1)\n",
    "\n",
    "    def altura(self):\n",
    "        return abs(self.p0.y - self.p1.y)\n",
    "    \n",
    "    def base(self):\n",
    "        return abs(self.p0.x - self.p1.x)\n",
    "\n",
    "    def area(self):\n",
    "        return self.base() * self.altura()\n",
    "\n",
    "    def escalar(self, factor):\n",
    "        self.p1.x += self.base() * factor - self.base()\n",
    "        self.p1.y += self.altura() * factor - self.altura()\n",
    "\n",
    "    def punto_in(self, point : Point2D) -> bool:\n",
    "        p_menor_x = min(self.p0.x, self.p1.x)\n",
    "        p_menor_y = min(self.p0.y, self.p1.y)\n",
    "        p_mayor_x = max(self.p0.x, self.p1.x)\n",
    "        p_mayor_y = max(self.p0.y, self.p1.y)\n",
    "        return p_menor_x <= point.x <= p_mayor_x and p_menor_y <= point.y <= p_mayor_y"
   ]
  },
  {
   "cell_type": "markdown",
   "id": "f630db7e",
   "metadata": {},
   "source": [
    "-  Escribe un método que devuelva la longitud de la diagonal.\n",
    "-  Escribe un método que devuelva la altura.\n",
    "-  Escribe un método que devuelva el ancho.\n",
    "-  Escribe un método que devuelva el área.\n",
    "-  Escribe un método que reciba un factor de escala y escale el rectángulo por dicho factor (manteniendo el punto `p0` en su lugar y desplazando `p1` lo que sea necesario para que el ancho y el alto se multipliquen por dicho factor). Por ejemplo, si el rectángulo está definido entre los puntos (10,10) y (20,30),  y lo escalamos por un factor igual a 2, entonces los puntos del rectánulo pasarán a ser (10,10) y (30,50).\n",
    "-  Escribe un método que reciba un punto `p` de tipo `Point2D` y devuelva `True` si `p` se encuentra dentro del rectángulo o `False` en caso contrario.\n",
    "-  Escribe un programa que cree un rectángulo en (10,10) (25,40) y a continuación:\n",
    "\n",
    "    -  Muestre el ancho, altura, área y la longitud de la diagonal.\n",
    "    -  Lo escale por un factor de 2 y muestre de nuevo el área.\n"
   ]
  },
  {
   "cell_type": "code",
   "execution_count": 78,
   "id": "eb62ee8c",
   "metadata": {},
   "outputs": [
    {
     "name": "stdout",
     "output_type": "stream",
     "text": [
      "La diagonal es 33.54.\n",
      "El ancho es 15.\n",
      "La altura es 30.\n",
      "El area es 450\n",
      "El nuevo area tras escalar por 2 es 1800\n",
      "¿El punto (11, 25) se encuentra dentro del Rectangle? True\n"
     ]
    }
   ],
   "source": [
    "r = Rectangle(10, 10, 25, 40)\n",
    "print(f'''La diagonal es {r.l_diag():.2f}.\n",
    "El ancho es {r.base()}.\n",
    "La altura es {r.altura()}.\n",
    "El area es {r.area()}''')\n",
    "r.escalar(2)\n",
    "print(f'El nuevo area tras escalar por 2 es {r.area()}')\n",
    "p = Point2D(11, 25)\n",
    "print(f'¿El punto ({p.x}, {p.y}) se encuentra dentro del Rectangle? {r.punto_in(p)}')"
   ]
  },
  {
   "cell_type": "markdown",
   "id": "42b44d6a",
   "metadata": {},
   "source": [
    "### Ejercicio\n",
    "\n",
    "Escribe una clase `Hora` con atributos `h`, `m` y `s` que representen las horas, minutos y segundos de una hora del día. Escribe:\n",
    "\n",
    "1. Un constructor que reciba las horas, minutos y segundos e inicialice los atributos. El argumento de los segundos tendrá valor por defecto igual a cero.\n",
    "2. Un método `__repr__` que devuelva un string de la forma `hh:mm:ss`. Para ello, puedes probar en Python el resultado de la expresión `f'{h:02}` siendo `h` una variable con el valor entero 5.\n",
    "3. Un método `totalSeg` que devuelva el número total de segundos ($h*3600 + m*60 + s$).\n",
    "4. Un método `__sub__` que permita obtener la diferencia (en valor absoluto) entre dos horas. Para calcular la hora resultante se sugiere obtener en primer lugar la diferencia (en valor absoluto) de los segundos totales de cada hora. A continuación obtendremos las horas, minutos y segundos a los que corresponde dicha cantidad de segundos totales. Este cálculo se puede realizar haciendo uso de los operadores `%` (resto de la división entera o módulo) y `//` (división entera). Finalmente, devolveremos un objeto de tipo `Hora` con las horas, minutos y segundos obtenidos.\n",
    "5. Escribe un programa que cree dos objetos hora inicializados a las 9:45:00 y a las 13:30:30, obtenga la diferencia entre ambas horas, y muestre por pantalla tanto las dos horas iniciales como la diferencia.\n"
   ]
  },
  {
   "cell_type": "code",
   "execution_count": 79,
   "id": "988034a2",
   "metadata": {},
   "outputs": [
    {
     "name": "stdout",
     "output_type": "stream",
     "text": [
      "La hora 1 es: 09:45:00.\n",
      "La hora 2 es: 13:30:30.\n",
      "La resta es : 03:45:30.\n",
      "La resta es : 03:45:30.\n"
     ]
    }
   ],
   "source": [
    "class Hora:\n",
    "    def __init__(self, h, m, s = 0):\n",
    "        self.h = h\n",
    "        self.m = m\n",
    "        self.s = s\n",
    "\n",
    "    def __repr__(self):\n",
    "        return f'{self.h:02}:{self.m:02}:{self.s:02}'\n",
    "\n",
    "    def total_seg(self):\n",
    "        return self.h * 3600 + self.m * 60 + self.s\n",
    "\n",
    "    def __sub__(self, hora : Hora) -> Hora:\n",
    "        diff = abs(hora.total_seg() - self.total_seg())\n",
    "        new_h = diff // 3600\n",
    "        new_m = (diff % 3600) // 60\n",
    "        new_s = (diff % 3600) % 60\n",
    "        return Hora(new_h, new_m, new_s)\n",
    "\n",
    "h1 = Hora(9, 45)\n",
    "h2 = Hora(13, 30, 30)\n",
    "\n",
    "print(f'''La hora 1 es: {h1}.\n",
    "La hora 2 es: {h2}.\n",
    "La resta es : {h1.__sub__(h2)}.\n",
    "La resta es : {h1 - h2}.''')"
   ]
  },
  {
   "cell_type": "markdown",
   "id": "195e5147",
   "metadata": {},
   "source": [
    "### Ejercicio \n",
    "\n",
    "Se quiere implementar un nuevo tipo de dato que modele las operaciones básicas de una caja registradora (ingresar y sacar dinero, y llevar un registro de las operaciones realizadas y del operario que las ha realizado). Para ello se pide implementar una clase `CajaRegistradora` que deberá contener:\n",
    "- **Atributos** (todos ellos deberán ser privados):\n",
    "  -  `dinero`: cantidad de dinero que hay almacenado actualmente en la caja.\n",
    "    - `bloqueada`: valdrá `True` si la caja está bloqueda y `False` si no lo está. \n",
    "    - `operario`: nombre del operario que está actualmente usando la caja. Tendrá valor `None` si la caja está bloqueada.\n",
    "     - `registro`: lista en la que se irán anotando las distintas operaciones realizadas.\n",
    "- **Métodos:**\n",
    "  -  Constructor: inicializa `dinero` a 0, `bloqueada` a `True`, `operario` a `None` y `registro` a una lista vacía. \n",
    "  - `desbloquear`: recibe el nombre del operario y su *password*. Si el *password* es correcto, se almacena el nombre del operario en el atributo correspondiente, se pone `bloqueada` a `False` y se muestra el mensaje `'Caja desbloqueada'`. Para simplificar, consideraremos que el *password* es correcto si contiene el nombre del operario seguido de `00`.\n",
    "\n",
    "  - `bloquear`: pone el nombre del operario a `None`, `bloqueada` a `True` y se muestra el mensaje `'Caja bloqueada'`.\n",
    "  \n",
    "  - `ingresar`: recibe la cantidad de dinero a ingresar. Si la caja está bloqueada o la cantidad es negativa o cero, muestra el mensaje  `'Operación no permitida'` y no hace nada más. Si no, incrementa el dinero almacenado en la cantidad especificada y añade al registro de operaciones la cadena `'nombre_operario`: Ingreso cantidad `euros'` con los valores `nombre_operario` y `cantidad` adecuados.\n",
    "\n",
    "  - `retirar`: recibe la cantidad de dinero a retirar. Si la caja está bloqueada o la cantidad es negativa o mayor que el dinero disponible, muestra el mensaje  `'Operación no permitida'` y no hace nada más. Si no, decrementa el dinero almacenado en la cantidad especificada y añade al registro de operaciones la cadena `'nombre_operario`: Abono cantidad `euros'` con los valores `nombre_operario` y `cantidad` adecuados.\n",
    "    \n",
    "  - `disponible`: devuelve el dinero disponible.\n",
    "\n",
    "  - `ver_registro`: si la caja está bloqueda, muestra el texto `'Caja bloqueada'`. Si no, muestra todas las operaciones registradas así como el dinero actualmente almacenado.\n",
    "\n",
    "  - `transferir`: recibe como parámetro otra caja registradora (`other`) y una cantidad de dinero a transferir. Si alguna de las cajas está bloqueada, la cantidad es negativa o el dinero disponible en `self` es menor que la cantidad a transferir, se muestra el mensaje `'Operación no permitida'`. En caso contrario, se transfiere la cantidad especificada de `self` a `other` (debiéndose actualizar el dinero de cada una de ellas y anotar las operaciones en los registros correspondientes).\n"
   ]
  },
  {
   "cell_type": "code",
   "execution_count": 121,
   "id": "37e50566",
   "metadata": {},
   "outputs": [
    {
     "name": "stdout",
     "output_type": "stream",
     "text": [
      "Caja bloqueada\n",
      "Caja desbloqueada\n",
      "El dinero almacenado es: 1000\n",
      "Ninguna\n",
      "\n",
      "El dinero almacenado es: 500\n",
      "Ninguna\n",
      "Pep: Abono 500 euros\n",
      "El dinero almacenado es: 2500\n",
      "Ninguna\n",
      "Manolo: Ingreso 500 euros\n"
     ]
    }
   ],
   "source": [
    "class CajaRegistradora:\n",
    "    def __init__(self, dinero = 0, bloqueada = True, operario = None, registro = None):\n",
    "        self.__dinero = dinero\n",
    "        self.__bloqueada = bloqueada\n",
    "        self.__operario = None if bloqueada else operario\n",
    "        self.__registro = [] if registro is None else registro\n",
    "\n",
    "    def desbloquear(self, operario_n, password):\n",
    "        if password == str(operario_n) + '00':\n",
    "            self.__bloqueada = False\n",
    "            self.__operario = operario_n\n",
    "            print('Caja desbloqueada')\n",
    "\n",
    "    def bloquear(self):\n",
    "        self.__operario = None\n",
    "        self.__bloqueada = True\n",
    "        print('Caja bloqueada')\n",
    "\n",
    "    def ingresar(self, dinero_in):\n",
    "        if dinero_in <= 0 or self.__bloqueada:\n",
    "            print('Operación no permitida')\n",
    "        else:\n",
    "            self.__dinero += dinero_in\n",
    "            self.__registro.append(f'{self.__operario}: Ingreso {dinero_in} euros')\n",
    "        \n",
    "    def retirar(self, dinero_in):\n",
    "        if dinero_in > self.__dinero or self.__bloqueada or dinero_in <= 0:\n",
    "            print('Operación no permitida')\n",
    "        else:\n",
    "            self.__dinero -= dinero_in\n",
    "            self.__registro.append(f'{self.__operario}: Abono {dinero_in} euros')\n",
    "    \n",
    "    def disponible(self):\n",
    "            return self.__dinero\n",
    "\n",
    "    def ver_registro(self):\n",
    "        if self.__bloqueada:\n",
    "            print('Caja bloqueada')\n",
    "        else:\n",
    "            print(f'El dinero almacenado es: {self.disponible()}')\n",
    "            for op in self.__registro:\n",
    "                print(op)\n",
    "\n",
    "    def transferir(self, other, dinero_trans):\n",
    "        if self.__bloqueada or other._CajaRegistradora__bloqueada or dinero_trans > self.__dinero or dinero_trans <= 0:\n",
    "            print('Operación no permitida')\n",
    "        else:\n",
    "            self.retirar(dinero_trans)\n",
    "            other.ingresar(dinero_trans)\n",
    "\n",
    "c1 = CajaRegistradora(1000, False, 'Pep', ['Ninguna'])\n",
    "c1.bloquear()\n",
    "c1.desbloquear('Pep', 'Pep00')\n",
    "c1.ver_registro(); print()\n",
    "c2 = CajaRegistradora(2000, False, 'Manolo', ['Ninguna'])\n",
    "c1.transferir(c2, 500)\n",
    "c1.ver_registro()\n",
    "c2.ver_registro()"
   ]
  },
  {
   "cell_type": "code",
   "execution_count": null,
   "id": "def755a6-2440-41ad-8d51-048597c41421",
   "metadata": {},
   "outputs": [],
   "source": []
  }
 ],
 "metadata": {
  "kernelspec": {
   "display_name": "Python [conda env:base] *",
   "language": "python",
   "name": "conda-base-py"
  },
  "language_info": {
   "codemirror_mode": {
    "name": "ipython",
    "version": 3
   },
   "file_extension": ".py",
   "mimetype": "text/x-python",
   "name": "python",
   "nbconvert_exporter": "python",
   "pygments_lexer": "ipython3",
   "version": "3.12.7"
  }
 },
 "nbformat": 4,
 "nbformat_minor": 5
}
